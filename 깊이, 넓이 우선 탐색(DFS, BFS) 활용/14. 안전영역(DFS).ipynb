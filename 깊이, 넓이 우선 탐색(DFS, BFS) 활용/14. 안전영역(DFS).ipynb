{
 "cells": [
  {
   "cell_type": "markdown",
   "metadata": {},
   "source": [
    "재난방재청에서는 많은 비가 내리는 장마철에 대비해서 다음과 같은 일을 계획하고 있다.<BR>\n",
    "먼저 어떤 지역의 높이 정보를 파악한다. <BR>\n",
    "그 다음에 그 지역에 많은 비가 내렸을 때 물에 잠기지 않는 안전한 영역이 최대로 몇 개가 만들어 지는 지를 조사하려고 한다. <BR>\n",
    "이때, 문제를 간단하게 하기 위하여, 장마철에 내리는 비의 양에 따라 일정한 높이 이하의 모든 지점은 물에 잠긴다고 가정한다.<BR>\n",
    "어떤 지역의 높이 정보는 행과 열의 크기가 각각 N인 2차원 배열 형태로 주어지며 배열의 각 원소는 해당 지점의 높이를 표시하는 자연수이다. <BR>\n",
    "예를 들어, 다음은 N=5인 지역의 높이 정보이다.<BR> <BR>\n",
    "이제 위와 같은 지역에 많은 비가 내려서 높이가 4 이하인 모든 지점이 물에 잠겼다고 하자.<BR>\n",
    "이 경우에 물에 잠기는 지점을 회색으로 표시하면 다음과 같다.<BR> <BR>\n",
    "물에 잠기지 않는 안전한 영역이라 함은 물에 잠기지 않는 지점들이 위, 아래, 오른쪽 혹은 왼쪽으로 인접해 있으며 그 크기가 최대인 영역을 말한다. <BR>\n",
    "위의 경우에서 물에 잠기지않는 안전한 영역은 5개가 된다(꼭지점으로만 붙어 있는 두 지점은 인접하지 않는다고 취급한다.<BR>\n",
    "또한 위와 같은 지역에서 높이가 6이하인 지점을 모두 잠기게 만드는 많은 비가 내리면 물에 잠기지 않는 안전한 영역은 아래 그림에서와 같이 네 개가 됨을 확인할 수 있다.<BR>\n",
    "이와 같이 장마철에 내리는 비의 양에 따라서 물에 잠기지 않는 안전한 영역의 개수는 다르게된다. <BR>\n",
    "위의 예와 같은 지역에서 내리는 비의 양에 따른 모든 경우를 다 조사해 보면 물에 잠기지 않는 안전한 영역의 개수 중에서 최대인 경우는 5임을 알 수 있다.<BR>\n",
    "어떤 지역의 높이 정보가 주어졌을 때, 장마철에 물에 잠기지 않는 안전한 영역의 최대 개수를 계산하는 프로그램을 작성하라."
   ]
  },
  {
   "cell_type": "markdown",
   "metadata": {},
   "source": [
    "▣ 입력설명<BR>\n",
    "첫째 줄에는 어떤 지역을 나타내는 2차원 배열의 행과 열의 개수를 나타내는 수 N이 입력된다. <BR>\n",
    "N은 2 이상 100 이하의 정수이다. <BR>\n",
    "둘째 줄부터 N 개의 각 줄에는 2차원 배열의 첫 번째 행부터 N번째 행까지 순서대로 한 행씩 높이 정보가 입력된다. <BR>\n",
    "각 줄에는 각 행의 첫 번째 열부터 N번째 열까지 N 개의 높이 정보를 나타내는 자연수가 빈 칸을 사이에 두고 입력된다. <BR>\n",
    "높이는 1이상 100 이하의 정수이다.\n"
   ]
  },
  {
   "cell_type": "markdown",
   "metadata": {},
   "source": [
    "▣ 출력설명<BR>\n",
    "첫째 줄에 장마철에 물에 잠기지 않는 안전한영역의 최대 개수를 출력한다.\n"
   ]
  },
  {
   "cell_type": "markdown",
   "metadata": {},
   "source": [
    "▣ 입력예제 1<BR>\n",
    "5<BR>\n",
    "6 8 2 6 2<BR>\n",
    "3 2 3 4 6<BR>\n",
    "6 7 3 3 2<BR>\n",
    "7 2 5 3 6<BR>\n",
    "8 9 5 2 7<BR>\n"
   ]
  },
  {
   "cell_type": "markdown",
   "metadata": {},
   "source": [
    "▣ 출력예제 1<BR>\n",
    "5"
   ]
  },
  {
   "cell_type": "code",
   "execution_count": 1,
   "metadata": {},
   "outputs": [
    {
     "name": "stdout",
     "output_type": "stream",
     "text": [
      "5\n",
      "6 8 2 6 2\n",
      "3 2 3 4 6\n",
      "6 7 3 3 2\n",
      "7 2 5 3 6\n",
      "8 9 5 2 7\n",
      "5\n"
     ]
    }
   ],
   "source": [
    "# 4방향 탐색\n",
    "dx=[-1, 0, 1, 0]\n",
    "dy=[0, 1, 0, -1]\n",
    "\n",
    "def DFS(x, y, h):\n",
    "    ch[x][y]=1 # DFS에서 넘어온 좌표 방문했다고 1로 표시\n",
    "    \n",
    "    for i in range(4): # 4방향 탐색\n",
    "        xx=x+dx[i]\n",
    "        yy=y+dy[i]\n",
    "        \n",
    "        if 0<=xx<n and 0<=yy<n and ch[xx][yy]==0 and board[xx][yy]>h: # x, y경계선 설정, 방문하지 않은 0인 곳, h보다 큰곳이어야 함\n",
    "            DFS(xx, yy, h)\n",
    "\n",
    "            \n",
    "            \n",
    "if __name__==\"__main__\":\n",
    "    n = int(input()) # 지도의 정보 5로 격자의 크기\n",
    "    cnt = 0 # 높이를 정한 상태에서 안전영역 몇개인지, \n",
    "    res = 0 # 최종 답인 최대 개수\n",
    "    board=[list(map(int, input().split())) for _ in range(n)] # 지도정보 입력, 띄어쓰기 있으니 input.split\n",
    "    \n",
    "    \n",
    "    ## 높이 정함\n",
    "    for h in range(100): # 100이 포함되면 100이하가 물에 잠기면 안전영역은 0임 \n",
    "        ch=[[0]*n for _ in range(n)] # 0으로 된 2차원 체크리스트 \n",
    "        cnt=0  # 높이가 바뀌면 cnt도 초기화되도록\n",
    "        \n",
    "        \n",
    "        ## 높이가 정해진 후, 2차원 배열 탐색하기 위한 이중 for문으로 행 탐색\n",
    "        for i in range(n):\n",
    "            for j in range(n):\n",
    "                if ch[i][j]==0 and board[i][j]>h: # 0인 방문안한 곳과 h보다 커야 물에 잠기지않은 육지이므로 가지 뻗을 수 있음 \n",
    "                    cnt+=1 # count\n",
    "                    DFS(i, j, h) # 가지 뻗기위한 DFS호출\n",
    "                    \n",
    "        res=max(res, cnt) # res는 res와 cnt중 큰 것\n",
    "        \n",
    "        if cnt==0: # 안전영역이 0이면 높이 구하는 이중 for문 종료\n",
    "            break\n",
    "            \n",
    "    print(res)\n"
   ]
  },
  {
   "cell_type": "code",
   "execution_count": null,
   "metadata": {},
   "outputs": [],
   "source": []
  }
 ],
 "metadata": {
  "kernelspec": {
   "display_name": "Python 3",
   "language": "python",
   "name": "python3"
  },
  "language_info": {
   "codemirror_mode": {
    "name": "ipython",
    "version": 3
   },
   "file_extension": ".py",
   "mimetype": "text/x-python",
   "name": "python",
   "nbconvert_exporter": "python",
   "pygments_lexer": "ipython3",
   "version": "3.7.4"
  }
 },
 "nbformat": 4,
 "nbformat_minor": 2
}
