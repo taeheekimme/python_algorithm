{
 "cells": [
  {
   "cell_type": "markdown",
   "metadata": {},
   "source": [
    "이번 정보올림피아드대회에서 좋은 성적을 내기 위하여 현수는 선생님이 주신 N개의 문제를 풀려고 합니다. <br>\n",
    "각 문제는 그것을 풀었을 때 얻는 점수와 푸는데 걸리는 시간이 주어지게 됩니다. <br>\n",
    "제한시간 M안에 N개의 문제 중 최대점수를 얻을 수 있도록 해야 합니다. <br>\n",
    "(해당문제는 해당시간이 걸리면 푸는 걸로 간주한다, 한 유형당 한개만 풀 수 있습니다.)\n"
   ]
  },
  {
   "cell_type": "markdown",
   "metadata": {},
   "source": [
    "▣ 입력설명<br>\n",
    "첫 번째 줄에 문제의 개수N(1<=N<=20)과 제한 시간 M(10<=M<=300)이 주어집니다.<br>\n",
    "두 번째 줄부터 N줄에 걸쳐 문제를 풀었을 때의 점수와 푸는데 걸리는 시간이 주어집니다.\n"
   ]
  },
  {
   "cell_type": "markdown",
   "metadata": {},
   "source": [
    "▣ 출력설명<br>\n",
    "첫 번째 줄에 제한 시간안에 얻을 수 있는 최대 점수를 출력합니다.<br>\n"
   ]
  },
  {
   "cell_type": "markdown",
   "metadata": {},
   "source": [
    "▣ 입력예제 1<br>\n",
    "5 20<br><br>\n",
    "10 5<br>\n",
    "25 12<br>\n",
    "15 8<br>\n",
    "6 3<br>\n",
    "7 4<br>\n",
    "\n",
    "- 5개 문제, 주어진 시간은 20시간\n",
    "  - 10 : 해당 문제를 풀었을 때 얻는 점수, 5 : 해당 문제를 풀기위해 걸리는 시간\n",
    "- 20시간 동안 많은 점수를 얻도록 문제를 선택해서 풀어야 함\n",
    "- 1,2,3,4,5번 문제를 각각 풀건지 말건지 결정해야 함\n",
    "   - {1,2,3} : 3가지 문제를 풀겠다고 부분집합을 만듬"
   ]
  },
  {
   "cell_type": "markdown",
   "metadata": {},
   "source": [
    "▣ 출력예제 1\n",
    "41"
   ]
  },
  {
   "cell_type": "code",
   "execution_count": 1,
   "metadata": {},
   "outputs": [
    {
     "name": "stdout",
     "output_type": "stream",
     "text": [
      "5 20\n",
      "10 5\n",
      "25 12\n",
      "15 8\n",
      "6 3\n",
      "7 4\n",
      "41\n"
     ]
    }
   ],
   "source": [
    "def DFS(L, sum, time):  # 문제, 얻는 점수, 사용한 시간\n",
    "    global res  # res는 아래서 값을 바꾸니 전역변수로 변환\n",
    "    \n",
    "    if time>m: # 시간이 제한시간을 넘어가면 종료\n",
    "        return\n",
    "    \n",
    "    if L==n:  # 종착지점 (0번이 첫번째문제임->인덱스라서)\n",
    "        if sum>res:  # 문제를 풀었을 때 얻는 점수가 > res이면 \n",
    "            res=sum  # res는 sum이 됨\n",
    "            \n",
    "    else:     # L번째 문제를 푸느나, 풀지않느냐\n",
    "        DFS(L+1, sum+pv[L], time+pt[L])  # 풀경우(다음문제, 푼문제점수 더함, 소요한 시간 더함) \n",
    "        DFS(L+1, sum, time) # 풀지않는경우(다음문제, 문제안풀었으므로 점수와 시간 그대로)\n",
    "\n",
    "if __name__==\"__main__\":\n",
    "    n, m=map(int, input().split()) # 문제개수, 제한시간\n",
    "    pv=list()  # problem value로 문제점수\n",
    "    pt=list()  # problem time은 문제푸는데 걸리는 시간\n",
    "    \n",
    "    for i in range(n):\n",
    "        a, b=map(int, input().split())  # a는 점수, b는 시간 (한줄씩 줄바꿔서 문제와 시간이 입력됨)\n",
    "        pv.append(a)  # 점수는 pv리스트에 입력\n",
    "        pt.append(b)  # 시간은 pt리스트에 입력\n",
    "    res=-2147000000   # 가장 작은 숫자로 설정\n",
    "    DFS(0, 0, 0)  # 레벨(문제), 얻는 점수, 사용한 시간\n",
    "    print(res)\n"
   ]
  },
  {
   "cell_type": "code",
   "execution_count": null,
   "metadata": {},
   "outputs": [],
   "source": []
  }
 ],
 "metadata": {
  "kernelspec": {
   "display_name": "Python 3",
   "language": "python",
   "name": "python3"
  },
  "language_info": {
   "codemirror_mode": {
    "name": "ipython",
    "version": 3
   },
   "file_extension": ".py",
   "mimetype": "text/x-python",
   "name": "python",
   "nbconvert_exporter": "python",
   "pygments_lexer": "ipython3",
   "version": "3.7.4"
  }
 },
 "nbformat": 4,
 "nbformat_minor": 2
}
