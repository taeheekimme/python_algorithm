{
 "cells": [
  {
   "cell_type": "markdown",
   "metadata": {},
   "source": [
    "그림1과 같이 정사각형 모양의 지도가 있다. <br>\n",
    "1은 집이 있는 곳을, 0은 집이 없는 곳을 나타낸다.<br>\n",
    "철수는 이 지도를 가지고 연결된 집들의 모임인 단지를 정의하고, 단지에 번호를 붙이려 한다. <br>\n",
    "여기서 연결되었다는 것은 어떤 집이 좌우, 혹은 아래위로 다른 집이 있는 경우를 말한다.<br>\n",
    "대각선상에 집이 있는 경우는 연결된 것이 아니다.<br>\n",
    "그림2는 그림1을 단지별로 번호를 붙인 것이다. <br>\n",
    "지도를 입력하여 단지수를 출력하고, 각 단지에 속하는 집의 수를 오름차순으로 정렬하여 출력하는 프로그램을 작성하시오."
   ]
  },
  {
   "cell_type": "markdown",
   "metadata": {},
   "source": [
    "▣ 입력설명<br>\n",
    "첫 번째줄에는 지도의 크기 N(정사각형이므로 가로와 세로의 크기는 같으며 5≤N≤25)이 입력되고 그 다음 N줄에는 각각 N개의 자료(0 혹은 1)가 입력된다.\n"
   ]
  },
  {
   "cell_type": "markdown",
   "metadata": {},
   "source": [
    "▣ 출력설명<br>\n",
    "첫 번째줄에는 총 단지수를 출력하시오. <br>\n",
    "그리고 각 단지내의 집의 수를 오름차순으로 정렬하여 한줄에 하나씩 출력하시오\n"
   ]
  },
  {
   "cell_type": "markdown",
   "metadata": {},
   "source": [
    "▣ 입력예제 1<br>\n",
    "7<br>\n",
    "0110100<br>\n",
    "0110101<br>\n",
    "1110101<br>\n",
    "0000111<br>\n",
    "0100000<br>\n",
    "0111110<br>\n",
    "0111000<br>\n",
    "- 7*7격자판에 숫자 입력\n",
    "- 이중 for문이 돌면서 2차원 리스트 행과 열 탐색\n",
    "- 탐색하다가 1이 발견되면 그 자리에서 DFS호출해 상하좌우로 호출\n",
    "- 지나간 자리는 0으로 바꾼 후 count함"
   ]
  },
  {
   "cell_type": "markdown",
   "metadata": {},
   "source": [
    "▣ 출력예제 1<br>\n",
    "3<br>\n",
    "7<br>\n",
    "8<br>\n",
    "9<br>"
   ]
  },
  {
   "cell_type": "code",
   "execution_count": 1,
   "metadata": {},
   "outputs": [
    {
     "name": "stdout",
     "output_type": "stream",
     "text": [
      "7\n",
      "0110100\n",
      "0110101\n",
      "1110101\n",
      "0000111\n",
      "0100000\n",
      "0111110\n",
      "0111000\n",
      "3\n",
      "7\n",
      "8\n",
      "9\n"
     ]
    }
   ],
   "source": [
    "dx=[-1, 0, 1, 0]\n",
    "dy=[0, 1, 0, -1]\n",
    "\n",
    "def DFS(x, y): # 집 좌표 넘어오면 \n",
    "    global cnt\n",
    "    cnt+=1     # count\n",
    "    board[x][y]=0 # 집의 좌표를 0으로 변경(방문했으므로)\n",
    "    \n",
    "    for i in range(4): # 4방향으로 반복\n",
    "        xx=x+dx[i]\n",
    "        yy=y+dy[i]\n",
    "        \n",
    "        if 0<=xx<n and 0<=yy<n and board[xx][yy]==1: # x와 y경계선 설정, 1이여야 집으로 확인되어 뻗어갈 수 있음\n",
    "            DFS(xx, yy)\n",
    "            \n",
    "\n",
    "if __name__==\"__main__\":\n",
    "    n=int(input()) # 7입력\n",
    "    board=[list(map(int, input())) for _ in range(n)] # 입력할 숫자들이 띄어쓰기가 안되어있으므로 input.split안해도 됨\n",
    "    res=[] # 한 단지에 있는 집의 개수\n",
    "    \n",
    "    # board탐색\n",
    "    for i in range(n): \n",
    "        for j in range(n):  \n",
    "            if board[i][j]==1: # board의 i와 j가 1이면 집을 발견한 것이므로 이걸 기준으로 뻗어나가면 됨\n",
    "                cnt=0  # 현재 발견된 집의 개수, 단지가 발견될 때마다 cnt는 0으로 최기화한 후 DFS호출해야 함(매 단지마다 집의 개수이므로)\n",
    "                DFS(i, j)\n",
    "                res.append(cnt)\n",
    "    print(len(res))\n",
    "    res.sort()\n",
    "    for x in res:\n",
    "        print(x)\n",
    "\n"
   ]
  },
  {
   "cell_type": "code",
   "execution_count": null,
   "metadata": {},
   "outputs": [],
   "source": []
  }
 ],
 "metadata": {
  "kernelspec": {
   "display_name": "Python 3",
   "language": "python",
   "name": "python3"
  },
  "language_info": {
   "codemirror_mode": {
    "name": "ipython",
    "version": 3
   },
   "file_extension": ".py",
   "mimetype": "text/x-python",
   "name": "python",
   "nbconvert_exporter": "python",
   "pygments_lexer": "ipython3",
   "version": "3.7.4"
  }
 },
 "nbformat": 4,
 "nbformat_minor": 2
}
