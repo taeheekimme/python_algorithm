{
 "cells": [
  {
   "cell_type": "markdown",
   "metadata": {},
   "source": [
    "**BFS**\n",
    "- 넓이 우선 탐색으로 레벨 탐색을 함\n",
    "- 이러한 자료구조는 큐(먼저 들어간 게 먼저 나옴)\n",
    "  - 0레벨(0)\n",
    "  - 1레벨(1,2)\n",
    "  - 2레벨(3,4,5,6)\n",
    "    - 0입력 후 pop하면서 0과 연결된 1,2입력 \n",
    "    - 1 pop하면서 1과 연결된 2레벨의 3,4 입력\n",
    "    - 2 pop하면서 2와 연결된 2레벨의 5,6 입력\n",
    "    - 3 pop"
   ]
  },
  {
   "cell_type": "markdown",
   "metadata": {},
   "source": [
    "현수는 송아지를 잃어버렸다. 다행히 송아지에는 위치추적기가 달려 있다. <BR>\n",
    "현수의 위치와 송아지의 위치가 직선상의 좌표 점으로 주어지면 현수는 현재 위치에서 송아지의 위치까지 다음과 같은 방법으로 이동한다.<BR>\n",
    "현수는 스카이 콩콩을 타고 가는데 한 번의 점프로 앞으로 1, 뒤로 1, 앞으로 5를 이동할 수 있다. <BR>\n",
    "최소 몇 번의 점프로 현수가 송아지의 위치까지 갈 수 있는지 구하는 프로그램을 작성하세요.\n"
   ]
  },
  {
   "cell_type": "markdown",
   "metadata": {},
   "source": [
    "▣ 입력설명<BR>\n",
    "첫 번째 줄에 현수의 위치 S와 송아지의 위치 E가 주어진다. 직선의 좌표 점은 1부터 10,000까지이다.<BR>\n"
   ]
  },
  {
   "cell_type": "markdown",
   "metadata": {},
   "source": [
    "▣ 출력설명<BR>\n",
    "점프의 최소횟수를 구한다.<BR>\n"
   ]
  },
  {
   "cell_type": "markdown",
   "metadata": {},
   "source": [
    "▣ 입력예제 1<BR>\n",
    "5 14\n",
    "- 5에서 출발해서 14까지 앞으로 1하면 +1, 뒤로 1하면 -1, 앞으로 5하면 +5\n",
    "   - dis라는 거리 리스트 생성(출발해서 해당 지점에 몇번만에 갈 수 있는지), 인덱스 번호는 수직선 상의 지표\n",
    "   - 5에서 출발하므로 5번 인덱스에 체크\n",
    "     - 5에서 -1하면 4, +1하면 6, +5하면 10 3가지 경우 -> 5에서 한 번만에 갈 수 있는 경우의 수는 4,6,10 3가지\n",
    "     - 5가 pop되면 4,6,10을 큐에 입력\n",
    "     - 4,6,10은 한번 만에 도착했으므로 1로 체크\n",
    "   - 4에서 한번만에 갈 수 있는 것(5는 두번만에 갈 수 있는 것)\n",
    "     4에서 -1해서 3, +1해서 5(이미 방문했으므로 갈 필요 없으니 체크 리스트 만들어 체크), +5해서 9로 3,5,9 3가지\n",
    "     - 3,5,9는 +1씩 해 줌(누적해나가야 5에서 몇 번만에 갔는지 체크할 수 있음)"
   ]
  },
  {
   "cell_type": "markdown",
   "metadata": {},
   "source": [
    "▣ 출력예제 1<BR>\n",
    "3"
   ]
  },
  {
   "cell_type": "code",
   "execution_count": 3,
   "metadata": {},
   "outputs": [
    {
     "name": "stdout",
     "output_type": "stream",
     "text": [
      "5 14\n",
      "3\n"
     ]
    }
   ],
   "source": [
    "from collections import deque\n",
    "\n",
    "MAX = 10000          # 좌표의 최대치는 10000\n",
    "\n",
    "ch = [0] * (MAX+1)   # 중복 체크 리스트 (0번부터 생기니까 MAX+1)\n",
    "dis = [0] * (MAX+1)  # 해당 지점에 몇번만에 갈수 있는지 거리 리스트 (0번부터 생기니까 MAX+1)\n",
    "\n",
    "n,m = map(int,input().split()) # 출발점 5, 도착점 14\n",
    "\n",
    "ch[n] = 1  # n에서 출발하니까 1로 체크\n",
    "dis[n] = 0 # n은 출발점으로 거리는 0\n",
    "\n",
    "dQ = deque()\n",
    "dQ.append(n) # 출발점 n을 추가\n",
    "\n",
    "\n",
    "while dQ:\n",
    "    now = dQ.popleft() # 현재지점에서 pop\n",
    "    \n",
    "    if now==m: # 종료 지점\n",
    "        break\n",
    "        \n",
    "    for next in (now-1, now+1, now+5): # next가 순서대로 3개를 돔\n",
    "        \n",
    "        if 0 <= next <= MAX:  # 음수좌표는 없으므로 0보다 커야 함, 10000보다는 작아야 함\n",
    "            \n",
    "            if ch[next]==0:   # 방문한 것은 큐에 넣고 탐색하면 안되므로 0일 때만(방문안했을 때만) 큐에다 넣고 탐색\n",
    "                dQ.append(next) \n",
    "                ch[next] = 1  # 방문한 것은 1로 체크\n",
    "                dis[next] = dis[now]+1 # 자기 부모값 now에서 +1해나감\n",
    "                \n",
    "print(dis[m]) # m은 출발에서 도착까지 몇번 만에 갔는지 출력"
   ]
  },
  {
   "cell_type": "code",
   "execution_count": null,
   "metadata": {},
   "outputs": [],
   "source": []
  }
 ],
 "metadata": {
  "kernelspec": {
   "display_name": "Python 3",
   "language": "python",
   "name": "python3"
  },
  "language_info": {
   "codemirror_mode": {
    "name": "ipython",
    "version": 3
   },
   "file_extension": ".py",
   "mimetype": "text/x-python",
   "name": "python",
   "nbconvert_exporter": "python",
   "pygments_lexer": "ipython3",
   "version": "3.7.4"
  }
 },
 "nbformat": 4,
 "nbformat_minor": 2
}
