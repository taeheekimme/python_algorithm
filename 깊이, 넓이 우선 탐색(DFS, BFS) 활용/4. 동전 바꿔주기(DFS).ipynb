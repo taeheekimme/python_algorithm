{
 "cells": [
  {
   "cell_type": "markdown",
   "metadata": {},
   "source": [
    "명보네 동네 가게의 현금 출납기에는 k가지 동전이 각각n1, n2, ... , nk개 씩 들어있다.<br>\n",
    "가게 주인은 명보에게 T원의 지폐를 동전으로 바꿔 주려고한다. <br>\n",
    "이때, 동전 교환 방법은 여러가지가 있을 수 있다.<br>\n",
    "예를 들어, 10원 짜리, 5원 짜리, 1원 짜리 동전이 각각2개, 3개, 5개씩 있을 때, 20원 짜리 지폐를 다음과 같은4가지 방법으로 교환할 수 있다.<br>\n",
    "20 = 10×2<br>\n",
    "20 = 10×1+5×2<br>\n",
    "20 = 10×1+5×1+1×5<br>\n",
    "20 = 5×3+1×5<br>\n",
    "입력으로 지폐의 금액 T, 동전의 가지수 k, 각 동전 하나의금액 pi와 개수 ni가 주어질 때(i=1,2,...,k) 지폐를 동전으로 교환하는 방법의 가지 수<를 계산하는프로그램을 작성하시오. <br>\n",
    "방법의 수는 231을 초과하지않는 것으로 가정한다.<br>\n"
   ]
  },
  {
   "cell_type": "markdown",
   "metadata": {},
   "source": [
    "▣ 입력설명<br>\n",
    "첫째 줄에는지폐의 금액 T(0<T≤10,000), 둘째 줄에는 동전의 가지 수k(0<k≤10), 셋째 줄부터 마지막 줄까지는 각 줄에 동전의금액 pi(0<pi≤T)와 개수 ni(0<ni≤10)가 주어진다. <br>\n",
    "pi와 ni 사이에는 빈 칸이 하나씩 있다.\n"
   ]
  },
  {
   "cell_type": "markdown",
   "metadata": {},
   "source": [
    "▣ 출력설명<br>\n",
    "첫 번째 줄에 동전 교환 방법의 가지 수를 출력한다.(교환할 수 없는 경우는 존재하지 않는다.)\n"
   ]
  },
  {
   "cell_type": "markdown",
   "metadata": {},
   "source": [
    "▣ 입력예제 1<br>\n",
    "20<br>\n",
    "3<br>\n",
    "5 3<br>\n",
    "10 2<br>\n",
    "1 5\n",
    "- 지폐금액 20\n",
    "- 동전의 종류는 3가지\n",
    "- 5원짜리 3개, 10원짜리 2개, 1원짜리 5개를 가지고 20원을 만들 수 있는 방법 찾기"
   ]
  },
  {
   "cell_type": "markdown",
   "metadata": {},
   "source": [
    "▣ 출력예제 1<br>\n",
    "4"
   ]
  },
  {
   "cell_type": "code",
   "execution_count": 1,
   "metadata": {},
   "outputs": [
    {
     "name": "stdout",
     "output_type": "stream",
     "text": [
      "20\n",
      "3\n",
      "5 3\n",
      "10 2\n",
      "1 5\n",
      "4\n"
     ]
    }
   ],
   "source": [
    "def DFS(L, sum):\n",
    "    global cnt\n",
    "    \n",
    "    if sum>m: # 합이 20보다 클 경우 종료\n",
    "        return\n",
    "    \n",
    "    if L==n:  # L이 동전개수와 같아질 때\n",
    "        if sum==m: # 동전 합이 20이 되면\n",
    "            cnt+=1 # 경우의 수 1 증가\n",
    "            \n",
    "    else:     # 가지 뻗어나감\n",
    "        for i in range(cn[L]+1):    # 동전개수만큼 가지 뻗음(0~cn의 L까지 반복해야 하므로 +1)\n",
    "            DFS(L+1, sum+(cv[L]*i)) # 다음 동전으로 넘어감, 동전 합 + (현재동전금액*i) i로 반복해야 0,1,2~로 0일때는 동전 사용안함\n",
    "\n",
    "            \n",
    "m=int(input())  # 금액 합 20원\n",
    "n=int(input())  # 동전 종류 3개\n",
    "cv=list() # 동전의 금액 coin value\n",
    "cn=list() # 동전의 개수 coin number\n",
    "\n",
    "for i in range(n):\n",
    "    a, b=map(int, input().split())  # a는 금액, b는 개수\n",
    "    cv.append(a)  # cv에 금액 넣고\n",
    "    cn.append(b)  # cn에 개수 넣음\n",
    "cnt=0  # count\n",
    "DFS(0, 0)\n",
    "print(cnt)\n",
    "\n",
    "# D(L,sum)에서 L은 인덱스로 5원, 10원, 1원을 나타냄 / sum은 금액 함\n",
    "\n",
    "## 5원\n",
    "# 5원짜리 3개 이므로 0,1,2,3으로 가지 뽑음\n",
    "# 0은 동전을 사용하지 않겠다, 1은 5원 동전 1개 사용, 2는 5원동전 2개 사용, 3은 5원 동전 3개 사용\n",
    "# 0, 5*1, 5*2, 5*3\n",
    "\n",
    "## 10원\n",
    "# 0, 5, 10, 15에서 10원짜리 동전을 사용할 것임\n",
    "# 0과 10에서 각각 가지를 뻗음\n",
    "# 0,1,2 3가지로(10원은 2개만 주어졌으므로)\n",
    "\n",
    "## 이렇게 이어나가 20원이 만들어지면 종료"
   ]
  },
  {
   "cell_type": "code",
   "execution_count": null,
   "metadata": {},
   "outputs": [],
   "source": []
  }
 ],
 "metadata": {
  "kernelspec": {
   "display_name": "Python 3",
   "language": "python",
   "name": "python3"
  },
  "language_info": {
   "codemirror_mode": {
    "name": "ipython",
    "version": 3
   },
   "file_extension": ".py",
   "mimetype": "text/x-python",
   "name": "python",
   "nbconvert_exporter": "python",
   "pygments_lexer": "ipython3",
   "version": "3.7.4"
  }
 },
 "nbformat": 4,
 "nbformat_minor": 2
}
