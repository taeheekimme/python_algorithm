{
 "cells": [
  {
   "cell_type": "markdown",
   "metadata": {},
   "source": [
    "7*7 격자판 미로를 탈출하는 최단경로의 경로수를 출력하는 프로그램을 작성하세요. <br>\n",
    "경로수는 출발점에서 도착점까지 가는데 이동한 횟수를 의미한다. <br>\n",
    "출발점은 격자의 (1, 1) 좌표이고, 탈출 도착점은 (7, 7)좌표이다. <br>\n",
    "격자판의 1은 벽이고, 0은 도로이다.<br>\n",
    "격자판의 움직임은 상하좌우로만 움직인다. <br>\n",
    "미로가 다음과 같다면 위와 같은 경로가 최단 경로이며 경로수는 12이다.\n"
   ]
  },
  {
   "cell_type": "markdown",
   "metadata": {},
   "source": [
    "▣ 입력설명<br>\n",
    "7*7 격자판의 정보가 주어집니다.\n"
   ]
  },
  {
   "cell_type": "markdown",
   "metadata": {},
   "source": [
    "▣ 출력설명<br>\n",
    "첫 번째 줄에 최단으로 움직인 칸의 수를 출력한다. <br>\n",
    "도착할 수 없으면 -1를 출력한다.\n"
   ]
  },
  {
   "cell_type": "markdown",
   "metadata": {},
   "source": [
    "▣ 입력예제 1<br>\n",
    "0 0 0 0 0 0 0<br>\n",
    "0 1 1 1 1 1 0<br>\n",
    "0 0 0 1 0 0 0<br>\n",
    "1 1 0 1 0 1 1<br>\n",
    "1 1 0 1 0 0 0<br>\n",
    "1 0 0 0 1 0 0<br>\n",
    "1 0 1 0 0 0 0<br>\n"
   ]
  },
  {
   "cell_type": "markdown",
   "metadata": {},
   "source": [
    "▣ 출력예제 1<br>\n",
    "12"
   ]
  },
  {
   "cell_type": "code",
   "execution_count": 1,
   "metadata": {},
   "outputs": [
    {
     "name": "stdout",
     "output_type": "stream",
     "text": [
      "0 0 0 0 0 0 0\n",
      "0 1 1 1 1 1 0\n",
      "0 0 0 1 0 0 0\n",
      "1 1 0 1 0 1 1\n",
      "1 1 0 1 0 0 0\n",
      "1 0 0 0 1 0 0\n",
      "1 0 1 0 0 0 0\n",
      "12\n"
     ]
    }
   ],
   "source": [
    "from collections import deque\n",
    "\n",
    "# 방향 탐색 [12시방향, 3시방향, 6시방향, 9시방향]\n",
    "dx=[-1, 0, 1, 0]  \n",
    "dy=[0, 1, 0, -1]\n",
    "\n",
    "board=[list(map(int, input().split())) for _ in range(7)] # board리스트에 7*7 입력\n",
    "dis=[[0]*7 for _ in range(7)] # dis리스트 0으로 초기화\n",
    "\n",
    "Q=deque()\n",
    "Q.append((0, 0)) # 출발점\n",
    "board[0][0]=1    # 출발점 방문했으므로 1로 체크\n",
    "\n",
    "while Q: # Q가 비어있으면 거짓, 비어있지 않으면 참\n",
    "    tmp=Q.popleft() # (0,0)좌표 pop\n",
    "    \n",
    "    for i in range(4): # pop할 때 4방향 탐색\n",
    "        x=tmp[0]+dx[i] # tmp[0]은 x값 12시 방향\n",
    "        y=tmp[1]+dy[i] # tmp[1]은 y값 3시 방향\n",
    "        \n",
    "        \n",
    "        if 0<=x<=6 and 0<=y<=6 and board[x][y]==0: # x와 y가 경계넘지 않도록 조건설정, board도 xy가 0이어야 통로가 되어 지나갈 수 있음\n",
    "            board[x][y]=1 # 1로 체크해서 벽으로 만들어버려 못가게 함\n",
    "            dis[x][y]=dis[tmp[0]][tmp[1]]+1 # dis의 x와 y는 tmp0과 tmp1의 +1한 지점\n",
    "            Q.append((x, y)) # x,y입력\n",
    "            \n",
    "if dis[6][6]==0: # dis의 (6,6)이 초기화 값 0과 같다는 얘기는 벽에 막혀 못왔다는 의미\n",
    "    print(-1)    # -1 출력\n",
    "    \n",
    "else:  # 그게 아니면\n",
    "    print(dis[6][6])  # dis의 (6,6)출력"
   ]
  },
  {
   "cell_type": "code",
   "execution_count": null,
   "metadata": {},
   "outputs": [],
   "source": []
  }
 ],
 "metadata": {
  "kernelspec": {
   "display_name": "Python 3",
   "language": "python",
   "name": "python3"
  },
  "language_info": {
   "codemirror_mode": {
    "name": "ipython",
    "version": 3
   },
   "file_extension": ".py",
   "mimetype": "text/x-python",
   "name": "python",
   "nbconvert_exporter": "python",
   "pygments_lexer": "ipython3",
   "version": "3.7.4"
  }
 },
 "nbformat": 4,
 "nbformat_minor": 2
}
