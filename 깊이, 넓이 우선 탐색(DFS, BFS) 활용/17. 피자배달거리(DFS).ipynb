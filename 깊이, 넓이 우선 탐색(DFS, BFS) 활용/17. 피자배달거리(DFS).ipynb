{
 "cells": [
  {
   "cell_type": "markdown",
   "metadata": {},
   "source": [
    "N×N 크기의 도시지도가 있습니다. 도시지도는 1×1크기의 격자칸으로 이루어져 있습니다. <br>\n",
    "각 격자칸에는 0은 빈칸, 1은 집, 2는 피자집으로 표현됩니다. <br>\n",
    "각 격자칸은 좌표(행번호, 열 번호)로 표현됩니다. 행번호는 1번부터 N번까지이고, 열 번호도 1부터 N까지입니다.<br>\n",
    "도시에는 각 집마다 “피자배달거리”가 았는데 각 집의 피자배달거리는 해당 집과 도시의 존재하는 피자집들과의 거리 중 최소값을 해당 집의 “피자배달거리”라고 한다.<br>\n",
    "집과 피자집의 피자배달거리는 |x1-x2|+|y1-y2| 이다.최근 도시가 불경기에 접어들어 우후죽순 생겼던 피자집들이 파산하고 있습니다. <br>\n",
    "도시 시장은 도시에 있는 피자집 중 M개만 살리고 나머지는 보조금을 주고 폐업시키려고 합니다.<br>\n",
    "시장은 살리고자 하는 피자집 M개를 선택하는 기준으로 도시의 피자배달거리가 최소가 되는 M개의 피자집을 선택하려고 합니다.<br>\n",
    "도시의 피자 배달 거리는 각 집들의 피자 배달 거리를 합한 것을 말합니다.\n"
   ]
  },
  {
   "cell_type": "markdown",
   "metadata": {},
   "source": [
    "▣ 입력설명<br>\n",
    "첫째 줄에 N(2 ≤ N ≤ 50)과 M(1 ≤ M ≤ 12)이 주어진다.<br>\n",
    "둘째 줄부터 도시 정보가 입력된다.\n"
   ]
  },
  {
   "cell_type": "markdown",
   "metadata": {},
   "source": [
    "▣ 출력설명<br>\n",
    "첫째 줄에 M개의 피자집이 선택되었을 때 도시의 최소 피자배달거리를 출력한다.\n"
   ]
  },
  {
   "cell_type": "markdown",
   "metadata": {},
   "source": [
    "▣ 입력예제 1<br>\n",
    "4 4<br>\n",
    "0 1 2 0<br>\n",
    "1 0 2 1<br>\n",
    "0 2 1 2<br>\n",
    "2 0 1 2<br>\n",
    "- 행과 열 모두 0번 인덱스부터 시작해서 숫자 입력\n",
    "   - 문제에서는 1번 인덱스부터 시작했지만, 빼기로 거리를 구하므로 똑같음\n",
    "- 이중 for문으로 2차원 리스트 탐색\n",
    "   - 1을 만나면 hs리스트에 좌표 입력\n",
    "   - 2를 만남녀 pz리스트에 좌표 입력\n",
    "- 2가 총 6개로 6개의 피자집 중 4개를 뽑음\n",
    "   - 6c4의 DFS를 호출하면 됨\n",
    "- pz리스트에 들어간 6개 중 4개를 뽑으면 됨\n",
    "   - 레벨 순으로 뿌리 탐색하며 순환 -> 4개 뽑으니 4레벨까지 내려감"
   ]
  },
  {
   "cell_type": "markdown",
   "metadata": {},
   "source": [
    "▣ 출력예제 1<br>\n",
    "6"
   ]
  },
  {
   "cell_type": "code",
   "execution_count": 2,
   "metadata": {},
   "outputs": [
    {
     "name": "stdout",
     "output_type": "stream",
     "text": [
      "4 4\n",
      "0 1 2 0\n",
      "1 0 2 1\n",
      "0 2 1 2\n",
      "2 0 1 2\n",
      "6\n"
     ]
    }
   ],
   "source": [
    "def DFS(L, s):\n",
    "    global res\n",
    "    \n",
    "    if L==m:  # 종착점 도달\n",
    "        sum=0 # 도시의 피자거리\n",
    "        \n",
    "        ## 집 탐색\n",
    "        for j in range(len(hs)): # 집의 개수만큼 반복해야 하므로 len(hs)\n",
    "            x1=hs[j][0]  # 집 좌표 튜플 중 첫번째 값\n",
    "            y1=hs[j][1]  # 집 좌표 튜플 중 두번째 값\n",
    "            dis=2147000000   # 각 집의 피자 배달 거리 초기화 \n",
    "    \n",
    "            ## 피자집 탐색\n",
    "            for x in cb: # cb에 저장된 피자집의 인덱스를 순환\n",
    "                x2=pz[x][0] # 피자 좌표 튜플 중 첫번째 값\n",
    "                y2=pz[x][1] # 피자 좌표 튜플 중 두번째 값\n",
    "                dis=min(dis, abs(x1-x2)+abs(y1-y2))  # 거리 구하기\n",
    "                \n",
    "            sum+=dis # 각 집들의 총 합이고 도시 피자 배달 거리\n",
    "            \n",
    "        ## 답 출력     \n",
    "        if sum<res: # sum이 res보다 작으면\n",
    "            res=sum # res가 답\n",
    "            \n",
    "    else:\n",
    "        for i in range(s, len(pz)): # len(pz)는 6이므로 0~5인덱스 까지 6개 반복\n",
    "            cb[L]=i       # cb의 L번째에 i입력\n",
    "            DFS(L+1, i+1) # 인덱스 증가, s는 현재 가지보다 큰거 i+1\n",
    "       \n",
    "    \n",
    "    \n",
    "if __name__==\"__main__\":\n",
    "    n, m=map(int, input().split())  # 도시 지도정보(격자크기), 살아남을 피자집 개수\n",
    "    board=[list(map(int, input().split())) for _ in range(n)]  # 집인지 피자집인지 정보 입력\n",
    "    hs=[]    # 0인 집 정보 입력\n",
    "    pz=[]    # 1인 피자집 정보 입력\n",
    "    cb=[0]*m # 콤비네이션으로 조합의 경우의 수 저장하는 리스트\n",
    "    res=2147000000 \n",
    "    \n",
    "    \n",
    "    \n",
    "    for i in range(n):\n",
    "        for j in range(n):\n",
    "            \n",
    "            if board[i][j]==1:     # 0인 집을 발견하면\n",
    "                hs.append((i, j))  # hs리스트에 입력\n",
    "                \n",
    "            elif board[i][j]==2:  # 1인 피자집을 발견하면 \n",
    "                pz.append((i, j))  # pz리스트에 입력\n",
    "                \n",
    "                \n",
    "    DFS(0, 0)\n",
    "    print(res)\n"
   ]
  },
  {
   "cell_type": "code",
   "execution_count": null,
   "metadata": {},
   "outputs": [],
   "source": []
  }
 ],
 "metadata": {
  "kernelspec": {
   "display_name": "Python 3",
   "language": "python",
   "name": "python3"
  },
  "language_info": {
   "codemirror_mode": {
    "name": "ipython",
    "version": 3
   },
   "file_extension": ".py",
   "mimetype": "text/x-python",
   "name": "python",
   "nbconvert_exporter": "python",
   "pygments_lexer": "ipython3",
   "version": "3.7.4"
  }
 },
 "nbformat": 4,
 "nbformat_minor": 2
}
