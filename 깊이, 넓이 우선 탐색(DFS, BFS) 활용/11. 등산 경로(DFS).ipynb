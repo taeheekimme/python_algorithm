{
 "cells": [
  {
   "cell_type": "markdown",
   "metadata": {},
   "source": [
    "등산을 매우 좋아하는 철수는 마을에 있는 뒷산에 등산경로를 만들 계획을 세우고 있습니다.<BR>\n",
    "마을 뒷산의 형태를 나타낸 지도는 N*N 구역으로 나뉘어져 있으며, 각 구역에는 높이가 함께 나타나 있습니다.<BR>\n",
    "N=5이면 아래와 같이 표현됩니다.<BR>\n",
    "어떤 구역에서 다른 구역으로 등산을 할 때는 그 구역의 위, 아래, 왼쪽, 오른쪽 중 더 높은 구역으로만 이동할 수 있도록 등산로를 설계하려고 합니다. <BR>\n",
    "등산로의 출발지는 전체 영역에서 가장 낮은 곳이고, 목적지는 가장 높은 곳입니다. <BR>\n",
    "출발지와 목적지는 유일합니다.<BR>\n",
    "지도가 주어지면 출발지에서 도착지로 갈 수 있는 등산 경로가 몇 가지 인지 구하는 프로그램을 작성하세요.<BR>\n"
   ]
  },
  {
   "cell_type": "raw",
   "metadata": {},
   "source": [
    "▣ 입력설명<BR>\n",
    "첫 번째 줄에 N(5<=N<=13)주어지고, N*N의 지도정보가 N줄에 걸쳐 주어진다.\n"
   ]
  },
  {
   "cell_type": "markdown",
   "metadata": {},
   "source": [
    "▣ 출력설명<BR>\n",
    "등산경로의 가지수를 출력한다.\n"
   ]
  },
  {
   "cell_type": "markdown",
   "metadata": {},
   "source": [
    "▣ 입력예제 1<BR>\n",
    "5<BR>\n",
    "2 23 92 78 93<BR>\n",
    "59 50 48 90 80<BR>\n",
    "30 53 70 75 96<BR>\n",
    "94 91 82 89 93<BR>\n",
    "97 98 95 96 100<BR>\n",
    "- 10번 문제와 다르게 출발점과 도착점이 입력에 따라 달라짐"
   ]
  },
  {
   "cell_type": "markdown",
   "metadata": {},
   "source": [
    "▣ 출력예제 1<BR>\n",
    "5"
   ]
  },
  {
   "cell_type": "code",
   "execution_count": 2,
   "metadata": {},
   "outputs": [
    {
     "name": "stdout",
     "output_type": "stream",
     "text": [
      "5\n",
      "2 23 92 78 93\n",
      "59 50 48 90 80\n",
      "30 53 70 75 96\n",
      "94 91 82 89 93\n",
      "97 98 95 96 100\n",
      "5\n"
     ]
    }
   ],
   "source": [
    "dx=[-1, 0, 1, 0]\n",
    "dy=[0, 1, 0, -1]\n",
    "\n",
    "def DFS(x, y):\n",
    "    global cnt\n",
    "    \n",
    "    if x==ex and y==ey: # 도착지점에 오면\n",
    "        cnt+=1 # count\n",
    "        \n",
    "    else:\n",
    "        for k in range(4): \n",
    "            xx=x+dx[k] # 방향별로 확인\n",
    "            yy=y+dy[k] # 방향별로 확인\n",
    "            \n",
    "            if 0<=xx<n and 0<=yy<n and ch[xx][yy]==0 and board[xx][yy]>board[x][y]: # 경계선 확인, 0으로 체크한 방문하지 않은곳인지 확인,board[xx][yy]가려고 하는 지점이 board[x][y]현재지점보다 큰지 확인(커야 이동 가능)\n",
    "                ch[xx][yy]=1 # 체크\n",
    "                DFS(xx, yy)  # 가지 뻗어나감\n",
    "                ch[xx][yy]=0 # back할 때는 다시 0으로 \n",
    "\n",
    "                \n",
    "if __name__==\"__main__\":\n",
    "    n=int(input()) # 지도 크기(격자판 크기)\n",
    "    board=[[0]*n for _ in range(n)] # 지도 정보 입력\n",
    "    ch=[[0]*n for _ in range(n)] # 체크 리스트\n",
    "    max=-2147000000\n",
    "    min=2147000000\n",
    "    \n",
    "    for i in range(n): \n",
    "        tmp=list(map(int, input().split())) # 격자의 1행을 읽음\n",
    "        \n",
    "        for j in range(n): # 읽어들인 1행의 tmp 값에 하나씩 접근\n",
    "            if tmp[j]<min: # 1행에서 최소값이 발견되면\n",
    "                min=tmp[j] # min값 교체\n",
    "                sx=i # start x는 i인 시작지점의 행 번호\n",
    "                sy=j # start y는 j인 시작지점의 열 번호\n",
    "                \n",
    "            if tmp[j]>max: # 1행에서 최대값이 발견되면\n",
    "                max=tmp[j] # max값 교체\n",
    "                ex=i  # end x는 i인 도착지점의 행 번호\n",
    "                ey=j  # end x는 i인 도착지점의 열 번호\n",
    "                \n",
    "            board[i][j]=tmp[j] # tmp의 1줄을 board에 입력\n",
    "            \n",
    "    ch[sx][sy]=1 # 시작지점과 도착지점의 좌표를 찾았으니 1로 체크\n",
    "    cnt=0 # count\n",
    "    DFS(sx, sy)  # DFS 시작지점으로 입력\n",
    "    print(cnt)"
   ]
  },
  {
   "cell_type": "code",
   "execution_count": null,
   "metadata": {},
   "outputs": [],
   "source": []
  }
 ],
 "metadata": {
  "kernelspec": {
   "display_name": "Python 3",
   "language": "python",
   "name": "python3"
  },
  "language_info": {
   "codemirror_mode": {
    "name": "ipython",
    "version": 3
   },
   "file_extension": ".py",
   "mimetype": "text/x-python",
   "name": "python",
   "nbconvert_exporter": "python",
   "pygments_lexer": "ipython3",
   "version": "3.7.4"
  }
 },
 "nbformat": 4,
 "nbformat_minor": 2
}
