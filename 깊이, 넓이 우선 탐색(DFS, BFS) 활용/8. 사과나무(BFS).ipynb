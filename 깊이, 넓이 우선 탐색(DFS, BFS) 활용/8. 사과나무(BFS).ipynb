{
 "cells": [
  {
   "cell_type": "markdown",
   "metadata": {},
   "source": [
    "현수의 농장은 N*N 격자판으로 이루어져 있으며, 각 격자안에는 한 그루의 사과나무가 심어저 있다. <br>\n",
    "N의 크기는 항상 홀수이다.  <br>\n",
    "가을이 되어 사과를 수확해야 하는데 현수는 격자판안의 사과를 수확할 때 다이아몬드 모양의 격자판만 수확하고 나머지 격자안의 사과는 새들을 위해서 남겨놓는다. <br>\n",
    "만약 N이 5이면 아래 그림과 같이 진한 부분의 사과를 수확한다. <br>\n",
    "현수과 수확하는 사과의 총 개수를 출력하세요. <br>"
   ]
  },
  {
   "cell_type": "markdown",
   "metadata": {},
   "source": [
    "▣ 입력설명 <br>\n",
    "첫 줄에 자연수 N(홀수)이 주어진다. <br>\n",
    "(3<=N<=20) 두 번째 줄부터 N줄에 걸쳐 각 줄에 N개의 자연수가 주어진다. <br>\n",
    "이 자연수는 각 격자안에 있는 사과나무에 열린 사과의 개수이다. <br>\n",
    "각 격자안의 사과의 개수는 100을 넘지 않는다.\n"
   ]
  },
  {
   "cell_type": "markdown",
   "metadata": {},
   "source": [
    "▣ 출력설명 <br>\n",
    "수확한 사과의 총 개수를 출력합니다.\n"
   ]
  },
  {
   "cell_type": "markdown",
   "metadata": {},
   "source": [
    "▣ 입력예제 1 <br>\n",
    "5 <br>\n",
    "10 13 10 12 15 <br>\n",
    "12 39 30 23 11 <br>\n",
    "11 25 50 53 15 <br>\n",
    "19 27 29 37 27 <br>\n",
    "19 13 30 13 19 <br>\n",
    "- (n//2, n//2)로 n을 2로 나눈 몫을 중심 좌표로 큐에 입력 -> 이걸 기준으로 상태트리 분리\n",
    "\n",
    "- 0레벨\n",
    "  - n이 5라면 0레벨일 때 (2,2)에서 출발\n",
    "  - (2,2)의 상하좌우로 (1,2), (2,3), (3,2), (2,1) 4가지로 뻗음\n",
    "  - 탐색한 곳은 체크\n",
    "- 1레벨\n",
    "  - (1,2)를 중심으로 상하좌우\n",
    "  - 방문한 것은 체크하지 않고 더해 감\n",
    "      \n",
    "  - (2,3)의 상하좌우\n",
    "  - (3,2)의 상하좌우\n",
    "  - (2,1)의 상하좌우"
   ]
  },
  {
   "cell_type": "markdown",
   "metadata": {},
   "source": [
    "▣ 출력예제 1 <br>\n",
    "379"
   ]
  },
  {
   "cell_type": "code",
   "execution_count": 1,
   "metadata": {},
   "outputs": [
    {
     "name": "stdout",
     "output_type": "stream",
     "text": [
      "5\n",
      "10 13 10 12 15\n",
      "12 39 30 23 11\n",
      "11 25 50 53 15\n",
      "19 27 29 37 27\n",
      "19 13 30 13 19\n",
      "379\n"
     ]
    }
   ],
   "source": [
    "from collections import deque\n",
    "\n",
    "# 방향 탐색 [12시방향, 3시방향, 6시방향, 9시방향]\n",
    "dx=[-1, 0, 1, 0]  \n",
    "dy=[0, 1, 0, -1]\n",
    "\n",
    "n=int(input())  # 홀수인 숫자 5 5*5표\n",
    "a=[list(map(int, input().split())) for _ in range(n)]  # 숫자 입력받음\n",
    "ch=[[0]*n for _ in range(n)]  # 방문 체크 리스트\n",
    "sum=0  # 답 출력위한 sum\n",
    "Q=deque()\n",
    "ch[n//2][n//2]=1       # 중앙지점 방문한 것 1로 체크(5일 때 (2,2)방문한 것 체크)\n",
    "sum+=a[n//2][n//2]     # 방문한 것(체크한 것) 누적해 나감\n",
    "Q.append((n//2, n//2)) # 큐에 (2, 2) 입력\n",
    "L=0  # 레벨 0으로 시작\n",
    "\n",
    "\n",
    "while True:\n",
    "    if L==n//2: # 목표지점 도달\n",
    "        break\n",
    "        \n",
    "    size=len(Q) # 레벨 0일 때 큐에 (2,2)입력되있으므로 size는 1 / 레벨 1일 때는 size가 4\n",
    "    \n",
    "    for i in range(size): # size만큼 반복함\n",
    "        tmp=Q.popleft()   # tmp에 (2, 2)를 pop함\n",
    "        \n",
    "        for j in range(4): # pop한 (2,2)기준 상하좌우 4가지 반복\n",
    "            x=tmp[0]+dx[j] # tmp[0]은 (2,2)에서 x값\n",
    "            y=tmp[1]+dy[j] # tmp[1]은 (2,2)에서 y값\n",
    "            \n",
    "            if ch[x][y]==0:  # 탐색할 지점이 0일 때(방문하지 않았을 때)\n",
    "                sum+=a[x][y] # a리스트에 x,y값으로 누적해나감\n",
    "                ch[x][y]=1   # 방문했다고 1로 체크\n",
    "                Q.append((x, y)) # 큐에 누적한 x, y 튜플 형태로 입력\n",
    "                \n",
    "    L+=1 # 레벨 증가\n",
    "    \n",
    "print(sum)\n",
    "    "
   ]
  },
  {
   "cell_type": "code",
   "execution_count": null,
   "metadata": {},
   "outputs": [],
   "source": []
  }
 ],
 "metadata": {
  "kernelspec": {
   "display_name": "Python 3",
   "language": "python",
   "name": "python3"
  },
  "language_info": {
   "codemirror_mode": {
    "name": "ipython",
    "version": 3
   },
   "file_extension": ".py",
   "mimetype": "text/x-python",
   "name": "python",
   "nbconvert_exporter": "python",
   "pygments_lexer": "ipython3",
   "version": "3.7.4"
  }
 },
 "nbformat": 4,
 "nbformat_minor": 2
}
