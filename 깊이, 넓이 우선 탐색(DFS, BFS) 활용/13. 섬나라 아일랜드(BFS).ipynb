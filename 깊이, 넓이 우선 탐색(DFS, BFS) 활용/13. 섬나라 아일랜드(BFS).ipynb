{
 "cells": [
  {
   "cell_type": "markdown",
   "metadata": {},
   "source": [
    "섬나라 아일랜드의 지도가 격자판의 정보로 주어집니다. <br>\n",
    "각 섬은 1로 표시되어 상하좌우와 대각선으로 연결되어 있으며, 0은 바다입니다. <br>\n",
    "섬나라 아일랜드에 몇 개의 섬이 있는지 구하는 프로그램을 작성하세요.<br>"
   ]
  },
  {
   "cell_type": "markdown",
   "metadata": {},
   "source": [
    "▣ 입력설명<br>\n",
    "첫 번째 줄에 자연수 N(3<=N<=20)이 주어집니다.<br>\n",
    "두 번째 줄부터 격자판 정보가 주어진다.\n"
   ]
  },
  {
   "cell_type": "markdown",
   "metadata": {},
   "source": [
    "▣ 출력설명<br>\n",
    "첫 번째 줄에 섬의 개수를 출력한다.\n"
   ]
  },
  {
   "cell_type": "markdown",
   "metadata": {},
   "source": [
    "▣ 입력예제 1<br>\n",
    "7<br>\n",
    "1 1 0 0 0 1 0<br>\n",
    "0 1 1 0 1 1 0<br>\n",
    "0 1 0 0 0 0 0<br>\n",
    "0 0 0 1 0 1 1<br>\n",
    "1 1 0 1 1 0 0<br>\n",
    "1 0 0 0 1 0 0<br>\n",
    "1 0 1 0 1 0 0<br>\n"
   ]
  },
  {
   "cell_type": "markdown",
   "metadata": {},
   "source": [
    "▣ 출력예제 1<br>\n",
    "5"
   ]
  },
  {
   "cell_type": "code",
   "execution_count": 1,
   "metadata": {},
   "outputs": [
    {
     "name": "stdout",
     "output_type": "stream",
     "text": [
      "7\n",
      "1 1 0 0 0 1 0\n",
      "0 1 1 0 1 1 0\n",
      "0 1 0 0 0 0 0\n",
      "0 0 0 1 0 1 1\n",
      "1 1 0 1 1 0 0\n",
      "1 0 0 0 1 0 0\n",
      "1 0 1 0 1 0 0\n",
      "5\n"
     ]
    }
   ],
   "source": [
    "from collections import deque\n",
    "\n",
    "# 12시, 1시, 3시, 4시, 5시 ~ 8가지 방향\n",
    "dx=[-1, -1, 0, 1, 1, 1, 0, -1]\n",
    "dy=[0, 1, 1, 1, 0, -1, -1, -1]\n",
    "\n",
    "n=int(input()) # 격자 크기 7\n",
    "board=[list(map(int, input().split())) for _ in range(n)] # 격자에 입력되는 숫자 입력, 숫자들이 띄어쓰기 되어 있으므로 input.split\n",
    "cnt=0 # 섬의 개수 count\n",
    "Q=deque() # 큐라는 자료구조 만듬\n",
    "\n",
    "for i in range(n):\n",
    "    for j in range(n):\n",
    "        if board[i][j]==1: # 1이므로 하나의 섬이 발견됬을 때\n",
    "            board[i][j]=0  # 방문한 지점은 0으로 초기화\n",
    "            Q.append((i, j)) # 튜플 자료구조로 좌표 입력\n",
    "            \n",
    "            while Q: # 큐 순환 시작\n",
    "                tmp=Q.popleft() # 큐에서 좌표 꺼내 tmp에 입력\n",
    "                \n",
    "                for k in range(8): # 8가지 방향으로 가기위한 좌표 설정\n",
    "                    x=tmp[0]+dx[k] # tmp[0]은 tmp의 행좌표에 더함\n",
    "                    y=tmp[1]+dy[k] \n",
    "                    \n",
    "                    if 0<=x<n and 0<=y<n and board[x][y]==1: # x와 y의 경계선 설정, 1이어야 퍼져나갈 수 있음\n",
    "                        board[x][y]=0 # 방문한 뒤 0으로 초기화\n",
    "                        Q.append((x, y)) # 튜플 자료구조로 입력\n",
    "                        \n",
    "            cnt+=1 # while문 종료 후 sum의 개수 count\n",
    "            \n",
    "print(cnt)\n"
   ]
  },
  {
   "cell_type": "code",
   "execution_count": null,
   "metadata": {},
   "outputs": [],
   "source": []
  }
 ],
 "metadata": {
  "kernelspec": {
   "display_name": "Python 3",
   "language": "python",
   "name": "python3"
  },
  "language_info": {
   "codemirror_mode": {
    "name": "ipython",
    "version": 3
   },
   "file_extension": ".py",
   "mimetype": "text/x-python",
   "name": "python",
   "nbconvert_exporter": "python",
   "pygments_lexer": "ipython3",
   "version": "3.7.4"
  }
 },
 "nbformat": 4,
 "nbformat_minor": 2
}
