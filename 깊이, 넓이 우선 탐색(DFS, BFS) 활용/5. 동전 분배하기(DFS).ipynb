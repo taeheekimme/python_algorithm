{
 "cells": [
  {
   "cell_type": "markdown",
   "metadata": {},
   "source": [
    "N개의 동전을 A, B, C 세명에게 나누어 주려고 합니다.<br>\n",
    "세 명에게 동전을 적절히 나누어 주어, 세 명이 받은 각각의 총액을 계산해, 총액이 가장 큰 사람과 가장 작은 사람의 차가 최소가 되도록 해보세요.<br>\n",
    "단 세 사람의 총액은 서로 달라야 합니다.\n"
   ]
  },
  {
   "cell_type": "markdown",
   "metadata": {},
   "source": [
    "▣ 입력설명<br>\n",
    "첫째 줄에는 동전의 개수 N(3<=N<=12)이 주어집니다.<br>\n",
    "그 다음 N줄에 걸쳐 각 동전의 금액이 주어집니다.\n"
   ]
  },
  {
   "cell_type": "markdown",
   "metadata": {},
   "source": [
    "▣ 출력설명<br>\n",
    "총액이 가장 큰 사람과 가장 작은 사람의 최소차를 출력하세요.\n"
   ]
  },
  {
   "cell_type": "markdown",
   "metadata": {},
   "source": [
    "▣ 입력예제 1<br>\n",
    "7<br>\n",
    "8<br>\n",
    "9<br>\n",
    "11<br>\n",
    "12<br>\n",
    "23<br>\n",
    "15<br>\n",
    "17<br>\n",
    "- 7개 동전 주어짐\n",
    "- 7개의 동전을 3명에게 나눠줌\n",
    "- 3명 중 가장 많이 받은 사람과 적게 받은 사람의 금액 차이"
   ]
  },
  {
   "cell_type": "markdown",
   "metadata": {},
   "source": [
    "▣ 출력예제 1<br>\n",
    "5"
   ]
  },
  {
   "cell_type": "code",
   "execution_count": 1,
   "metadata": {
    "scrolled": true
   },
   "outputs": [
    {
     "name": "stdout",
     "output_type": "stream",
     "text": [
      "7\n",
      "8\n",
      "9\n",
      "11\n",
      "12\n",
      "23\n",
      "15\n",
      "17\n",
      "5\n"
     ]
    }
   ],
   "source": [
    "def DFS(L):\n",
    "    global res\n",
    "    \n",
    "    ## 종료지점\n",
    "    if L==n:  \n",
    "        cha=max(money)-min(money) # 최대값 - 최소값\n",
    "        \n",
    "        ### 3사람 금액이 다른지 확인\n",
    "        if cha<res:   # 최대값 - 최소값이 res보다 작을 때 답이 됨\n",
    "            tmp=set() # 3사람의 금액이 다 달라야 함(중복을 허락하지 않는 set자료구조로 tmp변수 만듬) -> 길이가 3이 되는지 확인\n",
    "            \n",
    "            for x in money: # 3사람 금액을 x에 넣어 반복\n",
    "                tmp.add(x)  # tmp에 3사람 금액을 저장 -> 금액 x값이 다 다르면 tmp길이는 3이 될 것\n",
    "     \n",
    "            if len(tmp)==3: # tmp길이가 3이면 3사람의 금액이 다 다른 것임\n",
    "                res=cha     # res에 차이값을 넣어줌(답이 됨)\n",
    "    \n",
    "    ## 가지 뻗음\n",
    "    else:    \n",
    "        for i in range(3):     # 0,1,2 3명\n",
    "            money[i]+=coin[L]  # L번째 있는 돈을 i번째 사람에게 줌\n",
    "            DFS(L+1)           # 다음 동전으로 감\n",
    "            money[i]-=coin[L]  # back할 때 위에서 실행한 코드를 취소함\n",
    "            \n",
    "\n",
    "if __name__==\"__main__\":\n",
    "    n=int(input()) # 동전 개수 7개\n",
    "    coin=[]        # 동전 7개 \n",
    "    tmp=[]\n",
    "    money=[0]*3    # 0,1,2번 사람의 각 금액\n",
    "    res=2147000000\n",
    "    \n",
    "    for _ in range(n):\n",
    "        coin.append(int(input())) # coin리스트에 동전 하나씩 추가\n",
    "    DFS(0)\n",
    "    print(res)\n",
    "    \n",
    "    \n",
    "# D(L)는 0,1,2로 가지 뻗음\n",
    "\n",
    "## 8원\n",
    "# 8원을 0,1,2번 사람 중 누구에게 줄 것인가\n",
    "# 0번 사람에게 줌\n",
    "\n",
    "## 9원\n",
    "# 0번 사람에게 8원 중 상태에서 0,1,2로 가지 뻗음\n",
    "# 9원을 0,1,2중 누구에게 줄 것인가\n",
    "# 9원은 1번 사람에게 줌\n",
    "\n",
    "## 10원\n",
    "# 1번 사람에게 9원 중 상태에서 0,1,2로 가지 뻗음\n",
    "# 11원을 0,1,2중 누구에게 줄 것인가\n",
    "# 11원은 0번 사람에게 줌 -> 0번은 8원 + 11원"
   ]
  },
  {
   "cell_type": "code",
   "execution_count": null,
   "metadata": {},
   "outputs": [],
   "source": []
  }
 ],
 "metadata": {
  "kernelspec": {
   "display_name": "Python 3",
   "language": "python",
   "name": "python3"
  },
  "language_info": {
   "codemirror_mode": {
    "name": "ipython",
    "version": 3
   },
   "file_extension": ".py",
   "mimetype": "text/x-python",
   "name": "python",
   "nbconvert_exporter": "python",
   "pygments_lexer": "ipython3",
   "version": "3.7.4"
  }
 },
 "nbformat": 4,
 "nbformat_minor": 2
}
