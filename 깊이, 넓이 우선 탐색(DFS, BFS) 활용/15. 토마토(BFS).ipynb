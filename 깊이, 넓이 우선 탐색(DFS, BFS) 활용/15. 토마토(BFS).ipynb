{
 "cells": [
  {
   "cell_type": "markdown",
   "metadata": {},
   "source": [
    "현수의 토마토 농장에서는 토마토를 보관하는 큰 창고를 가지고 있다. <br>\n",
    "토마토는 아래의 그림과 같이 격자 모양 상자의 칸에 하나씩 넣어서 창고에 보관한다.창고에 보관되는 토마토들 중에는 잘 익은 것도 있지만, 아직 익지 않은 토마토들도 있을 수 있다.  <br>\n",
    "보관 후 하루가 지나면, 익은 토마토들의 인접한 곳에 있는 익지 않은 토마토들은 익은 토마토의 영향을 받아 익게 된다.  <br>\n",
    "하나의 토마토의 인접한 곳은 왼쪽, 오른쪽, 앞, 뒤 네 방향에 있는 토마토를 의미한다.  <br>\n",
    "대각선 방향에 있는 토마토들에게는 영향을 주지 못하며, 토마토가 혼자 저절로 익는 경우는 없다고 가정한다.   <br>\n",
    "현수는 창고에 보관된 토마토들이 며칠이 지나면 다 익게 되는지, 그 최소 일수를 알고 싶어 한다. <br>\n",
    "토마토를 창고에 보관하는 격자모양의 상자들의 크기와 익은 토마토들과 익지 않은 토마토들의 정보가 주어졌을 때, 며칠이 지나면 토마토들이 모두 익는지, 그 최소 일수를 구하는 프로그램을 작성하라.  <br>\n",
    "단, 상자의 일부 칸에는 토마토가 들어있지 않을 수도 있다.\n"
   ]
  },
  {
   "cell_type": "markdown",
   "metadata": {},
   "source": [
    "▣ 입력설명 <br>\n",
    "첫 줄에는 상자의 크기를 나타내는 두 정수 M, N이 주어진다.  <br>\n",
    "M은 상자의 가로 칸의 수, N은 상자의 세로 칸의 수를 나타낸다.  <br>\n",
    "단, 2 ≤ M, N ≤ 1,000 이다. <br>\n",
    "둘째 줄부터는 하나의 상자에 저장된 토마토들의 정보가 주어진다.  <br>\n",
    "즉, 둘째 줄부터 N개의 줄에는 상자에 담긴 토마토의 정보가 주어진다.  <br>\n",
    "하나의 줄에는 상자 가로줄에 들어있는 토마토의 상태가 M개의 정수로 주어진다.  <br>\n",
    "정수 1은 익은 토마토, 정수 0은 익지 않은 토마토, 정수-1은 토마토가 들어있지 않은 칸을 나타낸다.\n"
   ]
  },
  {
   "cell_type": "markdown",
   "metadata": {},
   "source": [
    "▣ 출력설명 <br>\n",
    "여러분은 토마토가 모두 익을 때까지의 최소 날짜를 출력해야 한다.  <br>\n",
    "만약, 저장될 때부터 모든 토마토가 익어있는 상태이면 0을 출력해야 하고, 토마토가 모두 익지는 못하는 상황이면 -1을 출력해야 한다.\n"
   ]
  },
  {
   "cell_type": "markdown",
   "metadata": {},
   "source": [
    "▣ 입력예제 1 <br>\n",
    "6 4 <br>\n",
    "0 0 -1 0 0 0 <br>\n",
    "0 0 1 0 -1 0 <br>\n",
    "0 0 -1 0 0 0 <br>\n",
    "0 0 0 0 -1 1 <br>\n",
    "- 6은 열의 크기, 4는 행의 크기\n",
    "- 1은 익음, 0은 익지 않음, -1은 빈 칸\n",
    "- board에 토마토 정보 입력\n",
    "   - 이중 for문으로 2차원 탐색\n",
    "   - 익은 토마토 좌표를 큐에 입력한 후, 4가지 방향 탐색\n",
    "   - 4가지 방향 탐색 중 익지 않은 토마토가 있으면, 익게 만들기 위해 1로 변경\n",
    "- dis리스트에는 토마토가 익는 데 며칠걸리는지 입력(날짜)\n",
    "   - 기본적으로 0으로 초기화된 상태"
   ]
  },
  {
   "cell_type": "markdown",
   "metadata": {},
   "source": [
    "▣ 출력예제 1 <br>\n",
    "4"
   ]
  },
  {
   "cell_type": "code",
   "execution_count": 2,
   "metadata": {},
   "outputs": [
    {
     "name": "stdout",
     "output_type": "stream",
     "text": [
      "6 4\n",
      "0 0 -1 0 0 0\n",
      "0 0 1 0 -1 0\n",
      "0 0 -1 0 0 0\n",
      "0 0 0 0 -1 1\n",
      "4\n"
     ]
    }
   ],
   "source": [
    "from collections import deque\n",
    "\n",
    "# 4가지 방향 탐색\n",
    "dx=[-1, 0, 1, 0]\n",
    "dy=[0, 1, 0, -1]\n",
    "\n",
    "n, m=map(int, input().split()) # 열번호 6과, 행번호 4 입력\n",
    "board=[list(map(int, input().split())) for _ in range(m)] # m이 행번호니까 m만큼 반복\n",
    "Q=deque()\n",
    "dis=[[0]*n for _ in range(m)] # 날짜 리스트\n",
    "\n",
    "\n",
    "## 익은 토마토인 1을 먼저 찾아 큐에 입력\n",
    "for i in range(m):\n",
    "    for j in range(n):\n",
    "        if board[i][j]==1: # 1일때 익은 토마토\n",
    "            Q.append((i, j)) # 익은 토마토 좌표 큐에 입력, 이 좌표를 기준점으로 가지 뻗어나감\n",
    "\n",
    "            \n",
    "## 큐가 비어있지 않으면 돌고, 비면 멈춤            \n",
    "while Q:\n",
    "    x, y=Q.popleft() # 큐에서 좌표 하나 pop\n",
    "    \n",
    "    ## 4가지 방향 탐색\n",
    "    for i in range(4):\n",
    "        xx=x+dx[i]\n",
    "        yy=y+dy[i]\n",
    "        \n",
    "        if 0<=nx<m and 0<=ny<n and board[nx][ny]==0: # x와 y경계선 설정, 0인 안익은 토마토여야 가지가 뻗어나감\n",
    "            board[nx][ny]=1 # 0인 안익은 토마토를 방문했으니 1인 익은 토마토로 변경\n",
    "            dis[nx][ny]=dis[x][y]+1 # 날짜계산은 현재지점 + 1\n",
    "            Q.append((nx, ny)) # 큐에 입력\n",
    "            \n",
    "            \n",
    "## board에 0이 존재하면 안익은 토마토가 있다는 것, 그 좌표까지 미치지 못한 것(토마토가 익지 못했을 때 -1을 출력)\n",
    "flag=1  # 익지 않은 토마토를 찾기 위한 변수\n",
    "for i in range(m):\n",
    "    for j in range(n):\n",
    "        if board[i][j]==0: # 1로 바꿨는데 혹시나 0인 안익은 토마토가 발견되면\n",
    "            flag=0 # flag변수를 0으로 변경\n",
    "      \n",
    "    \n",
    "result=0     # 최대값 찾기위한 변수\n",
    "if flag==1:  # 0인게 발견되지 않고 모든 토마토가 익은 경우 최대값을 찾기위해 이중 for문 돌아야 함\n",
    "    \n",
    "    ## 최대값 찾기위한 이중 for문\n",
    "    for i in range(m): \n",
    "        for j in range(n):\n",
    "            if dis[i][j]>result: # result보다 크면\n",
    "                result=dis[i][j] # dis[i][j]로 최대값 변경\n",
    "                \n",
    "    print(result) \n",
    "    \n",
    "    \n",
    "else:   # 안익은 토마토가 있다면 -1 출력\n",
    "    print(-1)"
   ]
  },
  {
   "cell_type": "code",
   "execution_count": null,
   "metadata": {},
   "outputs": [],
   "source": []
  }
 ],
 "metadata": {
  "kernelspec": {
   "display_name": "Python 3",
   "language": "python",
   "name": "python3"
  },
  "language_info": {
   "codemirror_mode": {
    "name": "ipython",
    "version": 3
   },
   "file_extension": ".py",
   "mimetype": "text/x-python",
   "name": "python",
   "nbconvert_exporter": "python",
   "pygments_lexer": "ipython3",
   "version": "3.7.4"
  }
 },
 "nbformat": 4,
 "nbformat_minor": 2
}
