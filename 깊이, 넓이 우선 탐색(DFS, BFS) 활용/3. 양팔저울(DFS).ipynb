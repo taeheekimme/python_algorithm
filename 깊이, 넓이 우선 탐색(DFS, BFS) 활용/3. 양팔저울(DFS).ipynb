{
 "cells": [
  {
   "cell_type": "markdown",
   "metadata": {},
   "source": [
    "무게가 서로 다른 K개의 추와 빈 그릇이 있다. <br>\n",
    "모든 추의 무게는 정수이고, 그릇의 무게는 0으로 간주한다.  <br>\n",
    "양팔저울을 한 번만 이용하여 원하는 물의 무게를 그릇에 담고자 한다. <br>\n",
    "주어진 모든 추 무게의 합을 S라 하자.  <br>\n",
    "예를 들어, 추가 3개이고, 각 추의 무게가 {1, 2, 6}이면, S=9이고, 양팔저울을 한 번만 이용하여 1부터 S사이에 대응되는 모든 무게의 물을 다음과 <br>\n",
    "같이 그릇에 담을 수 있다.  <br>\n",
    "X는 그릇에 담는 물의 무게이고, ⎕은 그릇을 나타낸다. <br>\n",
    "만약 추의 무게가 {1, 5, 7}이면 S=13이고, 그릇에 담을 수 있는 물의 무게는 {1, 2, 3, 4, 5, 6, 7, 8, 11, 12, 13}이고, 1부터 S사이에서 무게에 <br>서 9와 10에 대응하는 무게의 물을 담을 수 없다. <br>\n",
    "K(3<=K<=13)개의 추 무게가 주어지면, 1부터 S사이의 정수 중 측정이 불가능한 물의 무게는 몇 가지가 있는 지 출력하는 프로그램을 작성하세요.\n"
   ]
  },
  {
   "cell_type": "markdown",
   "metadata": {},
   "source": [
    "▣ 입력설명 <br>\n",
    "첫 번째 줄에 자연수 K(3<=K<=13)이 주어집니다. <br>\n",
    "두 번째 줄에 K개의 각 추의 무게가 공백을 사이에 두고 주어집니다. 각 추의 무게는 1부터 200,000까지이다.\n"
   ]
  },
  {
   "cell_type": "markdown",
   "metadata": {},
   "source": [
    "▣ 출력설명 <br>\n",
    "첫 번째 측정이 불가능한 가지수를 출력하세요. <br>\n"
   ]
  },
  {
   "cell_type": "markdown",
   "metadata": {},
   "source": [
    "▣ 입력예제 1 <br>\n",
    "3 <br>\n",
    "1 5 7\n",
    "- 추의 무게가 1g, 5g, 7g이라면 S는 총 무게로 13\n",
    "- 총 무게 13에서 그릇에 담을 수 있는 물의 무게 {1, 2, 3, 4, 5, 6, 7, 8, 11, 12, 13} 11개를 빼서 2를 출력\n",
    "- 2는 1g, 5g, 7g을 사용해서 잴 수 없는 경우의 수는 9g과 10g로 2가지라는 뜻\n",
    "- 총합 13개 중 잴 수 있는 무게 11개를 빼면 잴 수 없는 무개 2개가 나옴\n",
    "\n",
    "<br>\n",
    "\n",
    "- 1g을 1,2,3 세가지로 뻗음\n",
    "  - 1은 저울의 왼쪽, 2는 저울의 오른쪽, 3은 아무것도 없음\n",
    "  - 추를 왼쪽에 둘 경우 1추가\n",
    "  - 추를 오른쪽에 둘 경우 물의 무게는 왼쪽에서 재므로 -1 : 왼쪽과 똑같이 1g을 재지만 추와 물의 위치 파악을 위해 -1로 표현\n",
    "  - 3은 아무것도 안하므로 0\n",
    "- 1g의 1에서 5g의 추를 놓아 또 3가지로 뻗음  "
   ]
  },
  {
   "cell_type": "markdown",
   "metadata": {},
   "source": [
    "▣ 출력예제 1 <br>\n",
    "2 <br>"
   ]
  },
  {
   "cell_type": "code",
   "execution_count": 1,
   "metadata": {},
   "outputs": [
    {
     "name": "stdout",
     "output_type": "stream",
     "text": [
      "3\n",
      "1 5 7\n",
      "2\n"
     ]
    }
   ],
   "source": [
    "def DFS(L, sum):\n",
    "    global res\n",
    "    \n",
    "    if L==n:  # 종료지점 도착\n",
    "        if 0<sum<=s: # 총합은 0보다 크고 총무게보다는 작거나 같을 것\n",
    "            res.add(sum) # res에 sum 추가\n",
    "            \n",
    "    else:\n",
    "        DFS(L+1, sum+G[L]) # 다음 추로 넘어감, L번째 추를 왼쪽에 놓음\n",
    "        DFS(L+1, sum-G[L]) # 다음 추로 넘어감, L번째 추를 오른쪽에 놓음\n",
    "        DFS(L+1, sum)      # 다음 추로 넘어가고, L번째 추를 무게를 재는데 사용하지 않고 넘어감\n",
    "\n",
    "if __name__==\"__main__\":\n",
    "    n=int(input())  # 추의 개수\n",
    "    G=list(map(int, input().split())) # 각 추의 무게들\n",
    "    s=sum(G)  # 추 무게 총합\n",
    "    res=set() # 중복을 제거하며 값을 추가(측정될 수 있는 물의 무게 입력)\n",
    "    DFS(0, 0) # L: G에 접근하는 인덱스(추에 접근하는 인덱스), 측정할 수 있는 물의 무게(왼쪽에 두면 1, 오른쪽에 두면 -1) \n",
    "    print(s-len(res))\n",
    "  \n"
   ]
  },
  {
   "cell_type": "code",
   "execution_count": null,
   "metadata": {},
   "outputs": [],
   "source": []
  }
 ],
 "metadata": {
  "kernelspec": {
   "display_name": "Python 3",
   "language": "python",
   "name": "python3"
  },
  "language_info": {
   "codemirror_mode": {
    "name": "ipython",
    "version": 3
   },
   "file_extension": ".py",
   "mimetype": "text/x-python",
   "name": "python",
   "nbconvert_exporter": "python",
   "pygments_lexer": "ipython3",
   "version": "3.7.4"
  }
 },
 "nbformat": 4,
 "nbformat_minor": 2
}
