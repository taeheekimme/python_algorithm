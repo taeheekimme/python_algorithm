{
 "cells": [
  {
   "cell_type": "markdown",
   "metadata": {},
   "source": [
    "7*7 격자판 미로를 탈출하는 경로의 가지수를 출력하는 프로그램을 작성하세요. <br>\n",
    "출발점은 격자의 (1, 1) 좌표이고, 탈출 도착점은 (7, 7)좌표이다.  <br>\n",
    "격자판의 1은 벽이고, 0은 통로이다.  <br>\n",
    "격자판의 움직임은 상하좌우로만 움직인다.  <br>\n",
    "미로가 다음과 같다면 위의 지도에서 출발점에서 도착점까지 갈 수 있는 방법의 수는 8가지이다.\n"
   ]
  },
  {
   "cell_type": "markdown",
   "metadata": {},
   "source": [
    "▣ 입력설명 <br>\n",
    "7*7 격자판의 정보가 주어집니다.\n"
   ]
  },
  {
   "cell_type": "markdown",
   "metadata": {},
   "source": [
    "▣ 출력설명 <br>\n",
    "첫 번째 줄에 경로의 가지수를 출력한다.\n"
   ]
  },
  {
   "cell_type": "markdown",
   "metadata": {},
   "source": [
    "▣ 입력예제 1 <br>\n",
    "0 0 0 0 0 0 0 <br>\n",
    "0 1 1 1 1 1 0 <br>\n",
    "0 0 0 1 0 0 0 <br>\n",
    "1 1 0 1 0 1 1 <br>\n",
    "1 1 0 0 0 0 1 <br>\n",
    "1 1 0 1 1 0 0 <br>\n",
    "1 0 0 0 0 0 0 <br>\n",
    "- 출발점에서 도착점까지 가는 경우의 수(최단거리 문제가 아니므로 DFS임)\n",
    "- DFS : 가지를 뻗더라도 한 방향으로만 뻗어나가는 것\n",
    "- BFS : 여러 방향으로 가지를 뻗음"
   ]
  },
  {
   "cell_type": "markdown",
   "metadata": {},
   "source": [
    "▣ 출력예제 1 <br>\n",
    "8"
   ]
  },
  {
   "cell_type": "code",
   "execution_count": 1,
   "metadata": {},
   "outputs": [
    {
     "name": "stdout",
     "output_type": "stream",
     "text": [
      "0 0 0 0 0 0 0\n",
      "0 1 1 1 1 1 0\n",
      "0 0 0 1 0 0 0\n",
      "1 1 0 1 0 1 1 \n",
      "1 1 0 0 0 0 1 \n",
      "1 1 0 1 1 0 0\n",
      "1 0 0 0 0 0 0\n",
      "8\n"
     ]
    }
   ],
   "source": [
    "# 방향 탐색 [12시방향, 3시방향, 6시방향, 9시방향]\n",
    "dx=[-1, 0, 1, 0]\n",
    "dy=[0, 1, 0, -1]\n",
    "\n",
    "def DFS(x, y):\n",
    "    global cnt\n",
    "    \n",
    "    if x==6 and y==6: # x와 y가 6에 도달하면 종료\n",
    "        cnt+=1  # count\n",
    "        \n",
    "    else:\n",
    "        for i in range(4):  # 4방향으로 뻗음\n",
    "            xx=x+dx[i]  # xx는 앞으로 나갈 방향으로 현재 x지점에 dx[i]더해줌\n",
    "            yy=y+dy[i]  # yy는 앞으로 나갈 방향으로 현재 y지점에 dy[i]더해줌\n",
    "            \n",
    "            if 0<=xx<=6 and 0<=yy<=6 and board[xx][yy]==0: # x와 y가 경계를 넘어가지 않도록 설정, board[xx][yy]==0는 방문하지 않은 곳인지 확인\n",
    "                board[xx][yy]=1 # 방문한 곳 체크\n",
    "                DFS(xx, yy)     # 가지 뻗어나감\n",
    "                board[xx][yy]=0 # back할 때 다시 0으로 체크\n",
    "\n",
    "                \n",
    "if __name__==\"__main__\":\n",
    "    board=[list(map(int, input().split())) for _ in range(7)]\n",
    "    cnt=0\n",
    "    board[0][0]=1  # 출발점(방문한 곳) 1로 체크\n",
    "    DFS(0, 0)   \n",
    "    print(cnt)\n"
   ]
  },
  {
   "cell_type": "code",
   "execution_count": null,
   "metadata": {},
   "outputs": [],
   "source": []
  }
 ],
 "metadata": {
  "kernelspec": {
   "display_name": "Python 3",
   "language": "python",
   "name": "python3"
  },
  "language_info": {
   "codemirror_mode": {
    "name": "ipython",
    "version": 3
   },
   "file_extension": ".py",
   "mimetype": "text/x-python",
   "name": "python",
   "nbconvert_exporter": "python",
   "pygments_lexer": "ipython3",
   "version": "3.7.4"
  }
 },
 "nbformat": 4,
 "nbformat_minor": 2
}
