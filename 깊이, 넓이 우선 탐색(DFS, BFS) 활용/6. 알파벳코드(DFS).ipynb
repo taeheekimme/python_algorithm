{
 "cells": [
  {
   "cell_type": "markdown",
   "metadata": {},
   "source": [
    "철수와 영희는 서로의 비밀편지를 암호화해서 서로 주고받기로 했다. 그래서 서로 어떻게 암호화를 할 것인지 의논을 하고 있다.<br>\n",
    "영희 : 우리 알파벳 A에는 1로, B에는 2로 이렇게 해서 Z에는 26을 할당하여 번호로 보내기로 하자.<br>\n",
    "철수 : 정말 바보같은 생각이군!! 생각해 봐!! 만약 내가 “BEAN\"을 너에게 보낸다면 그것을 암호화하면 25114이잖아!! 그러면 이것을 다시 알파벳으로 복원할 때는 많은 방법이 존재하는데 어떻게 할건데... <br>\n",
    "이것을 알파벳으로 바꾸면 BEAAD, YAAD, YAN, YKD 그리고 BEKD로 BEAN말고도 5가지나 더 있군.<br>\n",
    "당신은 위와 같은 영희의 방법으로 암호화된 코드가 주어지면 그것을 알파벳으로 복원하는데 얼마나 많은 방법인 있는지 구하세요.\n"
   ]
  },
  {
   "cell_type": "markdown",
   "metadata": {},
   "source": [
    "▣ 입력설명<br>\n",
    "첫 번째 줄에 숫자로 암호화된 코드가 입력된다. <br>\n",
    "(코드는 0으로 시작하지는 않는다, 코드의 길이는 최대 50이다) 0이 입력되면 입력종료를 의미한다.\n"
   ]
  },
  {
   "cell_type": "markdown",
   "metadata": {},
   "source": [
    "▣ 출력설명<br>\n",
    "입력된 코드를 알파벳으로 복원하는데 몇 가지의 방법이 있는지 각 경우를 출력한다. 그 가지수도 출력한다. <br>\n",
    "단어의 출력은 사전순으로 출력한다.\n"
   ]
  },
  {
   "cell_type": "markdown",
   "metadata": {},
   "source": [
    "▣ 입력예제 1<br>\n",
    "25114\n",
    "- 25114로 암호화된 코드 입력\n",
    "- 25114를 알파벳으로 복원하는 경우의 수와 경우 출력\n",
    "- 단어출력은 알파벳순으로"
   ]
  },
  {
   "cell_type": "markdown",
   "metadata": {},
   "source": [
    "▣ 출력예제 1<br>\n",
    "BEAAD<br>\n",
    "BEAN<br>\n",
    "BEKD<br>\n",
    "YAAD<br>\n",
    "YAN<br>\n",
    "YKD<br>\n",
    "6"
   ]
  },
  {
   "cell_type": "code",
   "execution_count": 1,
   "metadata": {},
   "outputs": [
    {
     "name": "stdout",
     "output_type": "stream",
     "text": [
      "25114\n",
      "BEAAD\n",
      "BEAN\n",
      "BEKD\n",
      "YAAD\n",
      "YAN\n",
      "YKD\n",
      "6\n"
     ]
    }
   ],
   "source": [
    "def DFS(L, P):\n",
    "    global cnt\n",
    "    \n",
    "    if L==n:   # 둘이 같아지면 종착점 도착\n",
    "        cnt+=1 # 개수 증가\n",
    "        \n",
    "        for j in range(P):  # P를 알파벳으로 출력\n",
    "            print(chr(res[j]+64), end='') # chr은 숫자를 문자로 바꿔주는 함수, 65가 A이므로 64를 더해주면 1일때 +64해서 65됨\n",
    "        print()\n",
    "        \n",
    "    else:   # 가지뻗음\n",
    "        for i in range(1, 27): # 1~26까지 반복\n",
    "            \n",
    "            if code[L]==i:    # code의 인덱스 번호가 i인지 확인\n",
    "                res[P]=i      # res p지점에 i를 입력함\n",
    "                DFS(L+1, P+1) # L은 1증가, P도 1증가\n",
    "                \n",
    "            elif i>=10 and code[L]==i//10 and code[L+1]==i%10: # i가 10이상인 두자리 수인지 확인, i가 23이면 2는 L로 i를 10으로 나눈 몫, 3은 L+1로 i를 10으로 나눈 나머지\n",
    "                res[P]=i      # 위의 3가지 조건이 같으면 res의 P에 i입력\n",
    "                DFS(L+2, P+1) # 두자리 숫자이므로 L+2, P는 1증가\n",
    "\n",
    "                \n",
    "if __name__==\"__main__\":\n",
    "    code=list(map(int, input()))  # 25114입력받을 리스트\n",
    "    n=len(code)        # n일 때 종료\n",
    "    code.insert(n, -1) # 마지막에 -1을 추가함(마지막 인덱스 값이 12 두자리 수면 L과 L+1을 입력받아야 하므로 뒤에 자리가 있는지 확인 )\n",
    "    res=[0]*(n+3)      # 찾은 i를 입력하는 리스트(25여도 한 칸에 입력)\n",
    "    cnt=0              # 개수 출력\n",
    "    DFS(0, 0)\n",
    "    print(cnt)\n",
    "    \n",
    "    \n",
    "# code라는 리스트로 25114를 하나씩 입력받음\n",
    "# DFS(L, P) : L은 code리스트의 인덱스번호, res리스트에 값을 입력하기 위한 res인덱스 번호\n",
    "\n",
    "# DFS(0, 0)에서 출발하되 L은 1~26가지임(알파벳 개수)\n",
    "# code리스트의 0번 인덱스에 있는 숫자가 i인지 확인 -> i는 2번째 가지임 \n",
    "\n",
    "# 2번째 가지에서 1~26까지 가지를 뻗음 -> DFS(1, P)로 증가 -> code리스트의 2번째 인덱스번호로 이동 \n",
    "# 이때는 0, 1번의 인덱스 값을 함께 봐야하므로 i가 25숫자인지 확인 -> DFS(2, P)로 증가하면서 25에서 1~26까지 가지 뻗음\n"
   ]
  },
  {
   "cell_type": "code",
   "execution_count": null,
   "metadata": {},
   "outputs": [],
   "source": []
  }
 ],
 "metadata": {
  "kernelspec": {
   "display_name": "Python 3",
   "language": "python",
   "name": "python3"
  },
  "language_info": {
   "codemirror_mode": {
    "name": "ipython",
    "version": 3
   },
   "file_extension": ".py",
   "mimetype": "text/x-python",
   "name": "python",
   "nbconvert_exporter": "python",
   "pygments_lexer": "ipython3",
   "version": "3.7.4"
  }
 },
 "nbformat": 4,
 "nbformat_minor": 2
}
