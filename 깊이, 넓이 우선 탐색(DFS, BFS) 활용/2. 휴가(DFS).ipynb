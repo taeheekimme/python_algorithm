{
 "cells": [
  {
   "cell_type": "markdown",
   "metadata": {},
   "source": [
    "카운셀러로 일하고 있는 현수는 오늘부터 N+1일째 되는 날 휴가를 가기 위해서, <BR>\n",
    "남은 N일 동안 최대한 많은 상담을 해서 휴가비를 넉넉히 만들어 휴가를 떠나려 한다.<BR>\n",
    "현수가 다니는 회사에 하루에 하나씩 서로 다른 사람의 상담이 예약되어 있다.<BR>\n",
    "각각의 상담은 상담을 완료하는데 걸리는 날수 T와 상담을 했을 때 받을 수 있는 금액 P로 이루어져 있다."
   ]
  },
  {
   "cell_type": "markdown",
   "metadata": {},
   "source": [
    "1일에 잡혀있는 상담은 총 4일이 걸리며, 상담했을 때 받을 수 있는 금액은 20이다. <BR>\n",
    "만약 1일에 예약된 상담을 하면 4일까지는 상담을 할 수가 없다.<BR>\n",
    "하나의 상담이 하루를 넘어가는 경우가 많기 때문에 현수는 예약된 모든 상담을 혼자 할 수 없어 최대 이익이 나는 상담 스케쥴을 짜기로 했다.<BR>\n",
    "휴가를 떠나기 전에 할 수 있는 상담의 최대 이익은 1일, 5일, 7일에 있는 상담을 하는 것이며, 이때의 이익은 20+30+10=60이다.<BR>\n",
    "현수가 휴가를 가기 위해 얻을 수 있는 최대 수익을 구하는 프로그램을 작성하시오.\n"
   ]
  },
  {
   "cell_type": "markdown",
   "metadata": {},
   "source": [
    "▣ 입력설명<BR>\n",
    "첫째 줄에 N (1 ≤ N ≤ 15)이 주어진다.<BR>\n",
    "둘째 줄부터 1일부터 N일까지 순서대로 주어진다. (1 ≤ T ≤ 7, 1 ≤ P ≤ 100)\n"
   ]
  },
  {
   "cell_type": "markdown",
   "metadata": {},
   "source": [
    "▣ 출력설명<BR>\n",
    "첫째 줄에 현수가 얻을 수 있는 최대 이익을 출력한다.\n"
   ]
  },
  {
   "cell_type": "markdown",
   "metadata": {},
   "source": [
    "▣ 입력예제 1<BR>\n",
    "7<BR>\n",
    "4 20<BR>\n",
    "2 10<BR>\n",
    "3 15<BR>\n",
    "3 20<BR>\n",
    "2 30<BR>\n",
    "2 20<BR>\n",
    "1 10<BR>\n",
    "- 7개의 상담일정이 잡히고, 8일 째 휴가를 떠남\n",
    "    - 4일의 상담이 걸리고 20을 보상받음\n",
    "- 1일상담\n",
    "    - 했을 경우, 그 다음 상담은 5일, 그 다음 상담은 7일, 8일째는 종료하고 휴가\n",
    "    - 안했을 경우, 그 다음 상담은 2일"
   ]
  },
  {
   "cell_type": "markdown",
   "metadata": {},
   "source": [
    "▣ 출력예제 1<BR>\n",
    "60"
   ]
  },
  {
   "cell_type": "code",
   "execution_count": 3,
   "metadata": {},
   "outputs": [
    {
     "name": "stdout",
     "output_type": "stream",
     "text": [
      "7\n",
      "4 20\n",
      "2 10\n",
      "3 15\n",
      "3 20\n",
      "2 30\n",
      "2 20\n",
      "1 10\n",
      "60\n"
     ]
    }
   ],
   "source": [
    "def DFS(L, sum):  # 날짜이자 인덱스, 금액\n",
    "    global res\n",
    "    \n",
    "    if L==n+1:      # 종료지점은 n+1되는 날\n",
    "        if sum>res: # 걸리는 시간이 > res이면\n",
    "            res=sum  # res는 걸리는 시간 총합으로 갱신\n",
    "            \n",
    "    else:\n",
    "        \n",
    "        # 상담할 경우\n",
    "        if L+T[L]<=n+1: # L+T[L] : 현재날짜 + 앞으로 상담할 날짜에 걸리는 시간 < n+1이어야 함\n",
    "            DFS(L+T[L], sum+P[L])  # 현재날짜 + 앞으로 상담할 날짜에 걸리는 시간, 금액에 새로 들어온 금액 더함\n",
    "        # 상담안할 경우\n",
    "        DFS(L+1, sum) # 다음날짜로 가되, 상담안했으므로 금액은 더하지 않음\n",
    "        \n",
    "\n",
    "if __name__==\"__main__\":\n",
    "    n=int(input())   # 날짜\n",
    "    T=list()  # 걸리는 시간 \n",
    "    P=list()  # 얻을 수 있는 금액\n",
    "    \n",
    "    for i in range(n):\n",
    "        a, b=map(int, input().split())\n",
    "        T.append(a)  # 걸리는 시간 추가해 나감\n",
    "        P.append(b)  # 얻을 수 있는 금액 추가해 나감\n",
    "    res=-2147000000\n",
    "    \n",
    "    # 인덱스 번호를 날짜로 사용\n",
    "    T.insert(0, 0)   # 인덱스 번호는 0부터 시작하는데 날짜는 1,2,3으로 시작하므로 0번 인덱스 값을 뒤로 미룸\n",
    "    P.insert(0, 0)\n",
    "    DFS(1, 0)\n",
    "    print(res)\n"
   ]
  },
  {
   "cell_type": "code",
   "execution_count": null,
   "metadata": {},
   "outputs": [],
   "source": []
  }
 ],
 "metadata": {
  "kernelspec": {
   "display_name": "Python 3",
   "language": "python",
   "name": "python3"
  },
  "language_info": {
   "codemirror_mode": {
    "name": "ipython",
    "version": 3
   },
   "file_extension": ".py",
   "mimetype": "text/x-python",
   "name": "python",
   "nbconvert_exporter": "python",
   "pygments_lexer": "ipython3",
   "version": "3.7.4"
  }
 },
 "nbformat": 4,
 "nbformat_minor": 2
}
