{
 "cells": [
  {
   "cell_type": "markdown",
   "metadata": {},
   "source": [
    "현수와 친구들은 과자를 사먹기 위해 사다리 타기를 합니다. <br>\n",
    "사다리 표현은 2차원 평면은 0으로 채워지고, 사다리는 1로 표현합니다.  <br>\n",
    "현수는 특정도착지점으로 도착하기 위해서는 몇 번째 열에서 출발해야 하는지 알고싶습니다. <br>\n",
    "특정 도착지점은 2로 표기됩니다.<br>\n",
    "특정목적지인 2에 도착하려면 7번 열 출발지에서 출발하면 됩니다.\n"
   ]
  },
  {
   "cell_type": "markdown",
   "metadata": {},
   "source": [
    "▣ 입력설명 <br>\n",
    "10*10의 사다리 지도가 주어집니다.\n",
    "- 현수가 특정 도착지점인 2로 도착하기 위해 0~9번 열 중 몇 번째에서 출발해야 하는가?\n",
    "- 7번열에서 1숫자가 적힌 길을 타고 2에 도착하면 답은 7\n",
    "- 0~9까지 모든 열을 하나씩 확인하는 것은 비효율적\n",
    "- 도착 지점인 2가 속한 행이 9번 행이므로 9번 행의 열만 탐색해 봄 \n",
    "   - 역으로 사다리를 타는 것임\n",
    "   - 행은 X 열은 Y로 정의\n",
    "   - X가 0이 될 때 역으로 올라가 도착한 지점의 Y를 출력\n",
    "   - 사다리 타는 것은 DFS로 탐\n",
    "      - DFS는 열을 1씩 증가하면서 9행을 탐색\n",
    "      - 2에 도달하면 2의 왼쪽과 오른쪽을 보고 1이 아니면 위가 1인지 확인\n",
    "      - 1방향으로 전진\n",
    "      - 이때 체크리스트에 체크\n",
    "      "
   ]
  },
  {
   "cell_type": "markdown",
   "metadata": {},
   "source": [
    "▣ 출력설명 <br>\n",
    "출발지 열 번호를 출력하세요.\n",
    "\n"
   ]
  },
  {
   "cell_type": "markdown",
   "metadata": {},
   "source": [
    "▣ 입력예제 1 <br>\n",
    "1 0 1 0 0 1 0 1 0 1 <br>\n",
    "1 0 1 1 1 1 0 1 0 1 <br> \n",
    "1 0 1 0 0 1 0 1 0 1 <br>\n",
    "1 0 1 0 0 1 0 1 1 1 <br>\n",
    "1 0 1 0 0 1 0 1 0 1 <br>\n",
    "1 0 1 1 1 1 0 1 0 1 <br>\n",
    "1 0 1 0 0 1 0 1 1 1 <br>\n",
    "1 1 1 0 0 1 0 1 0 1 <br>\n",
    "1 0 1 0 0 1 1 1 0 1 <br>\n",
    "1 0 1 0 0 2 0 1 0 1"
   ]
  },
  {
   "cell_type": "markdown",
   "metadata": {},
   "source": [
    "▣ 출력예제 1 <br>\n",
    "7"
   ]
  },
  {
   "cell_type": "code",
   "execution_count": 1,
   "metadata": {},
   "outputs": [
    {
     "name": "stdout",
     "output_type": "stream",
     "text": [
      "1 0 1 0 0 1 0 1 0 1\n",
      "1 0 1 1 1 1 0 1 0 1\n",
      "1 0 1 0 0 1 0 1 0 1\n",
      "1 0 1 0 0 1 0 1 1 1\n",
      "1 0 1 0 0 1 0 1 0 1\n",
      "1 0 1 1 1 1 0 1 0 1\n",
      "1 0 1 0 0 1 0 1 1 1\n",
      "1 1 1 0 0 1 0 1 0 1\n",
      "1 0 1 0 0 1 1 1 0 1\n",
      "1 0 1 0 0 2 0 1 0 1\n",
      "7\n"
     ]
    }
   ],
   "source": [
    "def DFS(x, y):\n",
    "    ch[x][y]=1 # 방문한 격자판 체크\n",
    "    \n",
    "    if x==0:  # 행번호가 0이 되면 사다리 역으로 끝까지 탔으므로 종료\n",
    "        print(y)\n",
    "        \n",
    "    else:\n",
    "        # 왼쪽과 확인\n",
    "        if y-1>=0 and board[x][y-1]==1 and ch[x][y-1]==0: # 왼쪽은 0보다 커야 함, 행은 그대로이며 1인지 확인, 가려는 지점이 방문안한 0인지 확인  \n",
    "            DFS(x, y-1)\n",
    "       \n",
    "       # 오른쪽 확인\n",
    "        elif y+1<10 and board[x][y+1]==1 and ch[x][y+1]==0: # 오른쪽은 10보다 작아야 함, 행은 그대로이며 1인지 확인, 방문안한 곳인지 확인 \n",
    "            DFS(x, y+1)\n",
    "      \n",
    "       # 위쪽 확인     \n",
    "        else:\n",
    "            DFS(x-1, y) # 위로 올라가므로 행번호 1감소\n",
    "\n",
    "\n",
    "board=[list(map(int, input().split())) for _ in range(10)]\n",
    "ch=[[0]*10 for _ in range(10)] # 방문확인 위한 체크리스트\n",
    "\n",
    "for y in range(10):\n",
    "    if board[9][y]==2:  # 행번호는 9로 고정되고, 열번호 y는 변경됨, 2를 발견하면 DFS호출해 사다리 역으로 탐\n",
    "        DFS(9, y)\n",
    "        "
   ]
  },
  {
   "cell_type": "code",
   "execution_count": null,
   "metadata": {},
   "outputs": [],
   "source": []
  }
 ],
 "metadata": {
  "kernelspec": {
   "display_name": "Python 3",
   "language": "python",
   "name": "python3"
  },
  "language_info": {
   "codemirror_mode": {
    "name": "ipython",
    "version": 3
   },
   "file_extension": ".py",
   "mimetype": "text/x-python",
   "name": "python",
   "nbconvert_exporter": "python",
   "pygments_lexer": "ipython3",
   "version": "3.7.4"
  }
 },
 "nbformat": 4,
 "nbformat_minor": 2
}
