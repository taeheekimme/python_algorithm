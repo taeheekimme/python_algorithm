{
 "cells": [
  {
   "cell_type": "markdown",
   "metadata": {},
   "source": [
    "N명의 학생의 수학성적이 주어집니다.<br>\n",
    "N명의 학생들의 평균(소수 첫째자리 반올림)을 구하고, N명의 학생 중 평균에 가장 가까운 학생은 몇 번째 학생인지 출력하는 프로그램을 작성하세요.<br>\n",
    "답이 2개일 경우 성적이 높은 학생의 번호를 출력하세요. <br>\n",
    "만약 답이 되는 점수가 여러 개일경우 번호가 빠른 학생의 번호를 답으로 한다.<br>\n",
    "- n명 학생의 수학 성적 평균을 구함\n",
    "- 평균과 가장 가까운 성적을 가진 학생의 번호를 출력\n"
   ]
  },
  {
   "cell_type": "markdown",
   "metadata": {},
   "source": [
    "**입력설명**<br>\n",
    "첫줄에 자연수 N(5<=N<=100)이 주어지고, 두 번째 줄에는 N개의 자연수가 주어진다.<br>\n",
    "학생의 번호는 앞에서부터 1로 시작해서 N까지이다.\n"
   ]
  },
  {
   "cell_type": "markdown",
   "metadata": {},
   "source": [
    "**출력설명**<br>\n",
    "첫줄에 평균과 평균에 가장 가까운 학생의 번호를 출력한다.<br>\n",
    "평균은 소수 첫째 자리에서 반올림합니다.\n"
   ]
  },
  {
   "cell_type": "markdown",
   "metadata": {},
   "source": [
    "\n",
    "**입력예제**<br>\n",
    "10<br>\n",
    "45 73 66 87 92 67 75 79 75 80\n",
    "- 10명의 학생\n",
    "- 10명의 수학 성적"
   ]
  },
  {
   "cell_type": "markdown",
   "metadata": {},
   "source": [
    "**출력예제**<br>\n",
    "74 7\n",
    "- 수학 성적 평균 74\n",
    "- 평균과 가장 가까운 73,75가 선택될 수 있음\n",
    "- 75가 2명이면 번호(인덱스)가 빠른 학생 선택"
   ]
  },
  {
   "cell_type": "code",
   "execution_count": 3,
   "metadata": {},
   "outputs": [
    {
     "name": "stdout",
     "output_type": "stream",
     "text": [
      "10\n",
      "45 73 66 87 92 67 75 79 75 80\n",
      "74 7\n"
     ]
    }
   ],
   "source": [
    "# n명의 학생\n",
    "n=int(input())\n",
    "\n",
    "# 수학 성적\n",
    "a=list(map(int, input().split()))\n",
    "\n",
    "# 평균\n",
    "ave=round(sum(a)/n)   # sum(a): a리스트의 모든 값을 더함\n",
    "\n",
    "# 큰 값으로 최소화\n",
    "min=214700000\n",
    "\n",
    "# 평균과 가장 가까운 값을 구하기 위한 for문\n",
    "for idx, x in enumerate(a):  # idx(인덱스), x(인덱스에 해당하는 성적), enumerate(a): 인덱스와 인덱스에 해당하는 값을 매핑\n",
    "\n",
    "    \n",
    "    # 평균과 성적사이 거리 절댓값\n",
    "    tmp=abs(x-ave)\n",
    "    \n",
    "     \n",
    "    if tmp<min:   # tmp=73일 경우 \n",
    "        min=tmp   # 73이 최솟값이 됨\n",
    "        score=x   # 73 점수 저장\n",
    "        rs=idx+1  # 73의 인덱스 저장(0번부터 시작하므로 +1해줘서 1부터 시작하도록)\n",
    "        \n",
    "\n",
    "    # tmp=75일 경우(거리 값이 같은 73,75 2가지 됬을 경우) \n",
    "    elif tmp==min:        \n",
    "         if x>score:       # 75 > 73\n",
    "                score=x    # 75 저장\n",
    "                res=idx+1  # 75의 인덱스 저장\n",
    "                \n",
    "    # 이후 또 75가 있더라도 > 했으므로 첫번째 75가 선택됨 \n",
    "    # >= 했다면 그 다음 75가 선택될 것\n",
    "    \n",
    "    \n",
    "print(ave, res)"
   ]
  },
  {
   "cell_type": "code",
   "execution_count": null,
   "metadata": {},
   "outputs": [],
   "source": []
  }
 ],
 "metadata": {
  "kernelspec": {
   "display_name": "Python 3",
   "language": "python",
   "name": "python3"
  },
  "language_info": {
   "codemirror_mode": {
    "name": "ipython",
    "version": 3
   },
   "file_extension": ".py",
   "mimetype": "text/x-python",
   "name": "python",
   "nbconvert_exporter": "python",
   "pygments_lexer": "ipython3",
   "version": "3.7.4"
  }
 },
 "nbformat": 4,
 "nbformat_minor": 2
}
