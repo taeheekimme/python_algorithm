{
 "cells": [
  {
   "cell_type": "markdown",
   "metadata": {},
   "source": [
    "N개의 자연수가 입력되면 각 자연수를 뒤집은 후 그 뒤집은 수가 소수이면 그 수를 출력하는 프로그램을 작성하세요. <br>\n",
    "예를 들어 32를 뒤집으면 23이고, 23은 소수이다. <br>\n",
    "그러면 23을 출력한다. <br>\n",
    "단 910를 뒤집으면 19로 숫자화 해야 한다. <br>\n",
    "첫 자리부터의 연속된 0은 무시한다.<br>\n",
    "뒤집는 함수인 def reverse(x) 와 소수인지를 확인하는 함수 def isPrime(x)를 반드시 작성하여 프로그래밍 한다.\n",
    "\n",
    "- n개의 숫자를 역순으로 뒤집었을 때 reverse(x)\n",
    "- 소수이면 출력 isprime(x)"
   ]
  },
  {
   "cell_type": "markdown",
   "metadata": {},
   "source": [
    "**입력설명**<br>\n",
    "첫 줄에 자연수의 개수 N(3<=N<=100)이 주어지고, 그 다음 줄에 N개의 자연수가 주어진다.<br>\n",
    "각 자연수의 크기는 100,000를 넘지 않는다.\n",
    "\n"
   ]
  },
  {
   "cell_type": "markdown",
   "metadata": {},
   "source": [
    "**출력설명**<br>\n",
    "첫 줄에 뒤집은 소수를 출력합니다. 출력순서는 입력된 순서대로 출력합니다."
   ]
  },
  {
   "cell_type": "markdown",
   "metadata": {},
   "source": [
    "**입력예제**<br>\n",
    "5<br>\n",
    "32 55 62 3700 250\n"
   ]
  },
  {
   "cell_type": "markdown",
   "metadata": {},
   "source": [
    "**출력예제**<br>\n",
    "23 73"
   ]
  },
  {
   "cell_type": "code",
   "execution_count": 5,
   "metadata": {},
   "outputs": [
    {
     "name": "stdout",
     "output_type": "stream",
     "text": [
      "5\n",
      "32 55 62 3700 250\n",
      "2373"
     ]
    }
   ],
   "source": [
    "n=int(input())\n",
    "a=list(map(int, input().split()))\n",
    "\n",
    "\n",
    "\n",
    "def reverse(x):\n",
    "    res=0 \n",
    "    \n",
    "    while x>0: # x가 0이되면 while문 종료\n",
    "        \n",
    "        t=x%10       # 9010을 10으로 나눈 나머지 0\n",
    "        res=res*10+t # 0*10+0 = 0 = res\n",
    "        x=x//10      # 901 (9010을 역순으로 하면 0109이고 0을 지우기 위함)\n",
    "        \n",
    "                     # 901을 10으로 나눈 나머지 1\n",
    "                     # 0*10+1 = 1 = res\n",
    "                     # 901을 10으로 나눈 몫 90\n",
    "                    \n",
    "                    # 90을 10으로 나눈 나머지 0\n",
    "                    # 1*10+0 = 10 =res\n",
    "                    # 90을 10으로 나눈 몫 9\n",
    "                    \n",
    "                    # 9를 10으로 나눈 나머지 9\n",
    "                    # 10*10+0 = 109 = res\n",
    "                    # 9를 10으로 나눈 몫 0 -> while문 종료\n",
    "                    \n",
    "    return res  # 9010의 역순 109출력\n",
    "\n",
    "\n",
    "def isprime(x):\n",
    "   \n",
    "    if x==1:           # 1은 소수가 될 수 없음 (100의 역순은 1이고 1은 소수가 아님)\n",
    "        return False   # x가 1이면 종료\n",
    "    \n",
    "    for i in range(2, x//2+1):   # 16의 약수는 1*16 제외, 2*8 (절반'까지' 존재해야하므로 +1)\n",
    "        if x%i==0:               # 나머지가 0이면 i는 x의 약수\n",
    "            return False         # 약수이면 false를 출력하고 종료\n",
    "        \n",
    "    else:     # 약수가 발견되지 않은 경우\n",
    "        return True\n",
    "\n",
    "    \n",
    "    \n",
    "for x in a:         # a는 입력받는 숫자들 \n",
    "    tmp=reverse(x)  # x를 역순으로 변환\n",
    "    \n",
    "    # 소수인지 확인해서 참이면 해당 숫자 출력\n",
    "    if isprime(tmp):\n",
    "         print(tmp, end='')"
   ]
  },
  {
   "cell_type": "code",
   "execution_count": null,
   "metadata": {},
   "outputs": [],
   "source": []
  }
 ],
 "metadata": {
  "kernelspec": {
   "display_name": "Python 3",
   "language": "python",
   "name": "python3"
  },
  "language_info": {
   "codemirror_mode": {
    "name": "ipython",
    "version": 3
   },
   "file_extension": ".py",
   "mimetype": "text/x-python",
   "name": "python",
   "nbconvert_exporter": "python",
   "pygments_lexer": "ipython3",
   "version": "3.7.4"
  }
 },
 "nbformat": 4,
 "nbformat_minor": 2
}
