{
 "cells": [
  {
   "cell_type": "code",
   "execution_count": 4,
   "metadata": {},
   "outputs": [
    {
     "name": "stdout",
     "output_type": "stream",
     "text": [
      "2\n"
     ]
    }
   ],
   "source": [
    "arr=[5,3,7,9,2,5,2,6]\n",
    "\n",
    "# 가장 작은 값이 기록될 변수 arrmin\n",
    "arrmin=float('inf')         # 가장 큰값 무한대로 초기화\n",
    "\n",
    "for i in range(len(arr)):   # len(arr)의 길이는 8이므로 8번 반복\n",
    "     if arr[i]<arrmin:      # arr[i]에는 5,3,~6까지의 숫자가 하나씩 들어감\n",
    "            arrmin=arr[i]\n",
    "print(arrmin)"
   ]
  },
  {
   "cell_type": "markdown",
   "metadata": {},
   "source": [
    "arrmin에 inf 무한대로 초기화한 이유<br>\n",
    "- arr의 첫번째 숫자로 어떤 숫자가 들어가도 참이 되게 하기 위해<br><br>\n",
    "\n",
    "5      < inf<br>\n",
    "arr[i] < arrmin<br>"
   ]
  },
  {
   "cell_type": "markdown",
   "metadata": {},
   "source": [
    "2     < 2<br>에\n",
    "arr[i] < arrmin<br>\n",
    "\n",
    "- <를 하면 앞의 5번째 2가 선택되고, <=하면 7번째 2까지 도달하게 됨<br>\n"
   ]
  },
  {
   "cell_type": "code",
   "execution_count": null,
   "metadata": {},
   "outputs": [],
   "source": []
  }
 ],
 "metadata": {
  "kernelspec": {
   "display_name": "Python 3",
   "language": "python",
   "name": "python3"
  },
  "language_info": {
   "codemirror_mode": {
    "name": "ipython",
    "version": 3
   },
   "file_extension": ".py",
   "mimetype": "text/x-python",
   "name": "python",
   "nbconvert_exporter": "python",
   "pygments_lexer": "ipython3",
   "version": "3.7.4"
  }
 },
 "nbformat": 4,
 "nbformat_minor": 2
}
