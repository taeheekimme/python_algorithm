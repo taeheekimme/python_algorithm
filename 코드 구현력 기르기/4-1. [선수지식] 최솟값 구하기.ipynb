{
 "cells": [
  {
   "cell_type": "code",
   "execution_count": 4,
   "metadata": {},
   "outputs": [
    {
     "name": "stdout",
     "output_type": "stream",
     "text": [
      "2\n"
     ]
    }
   ],
   "source": [
    "arr=[5,3,7,9,2,5,2,6]\n",
    "\n",
    "arrmin=float('inf')         # 가장 큰 값인 무한대로 초기화\n",
    "\n",
    "for i in range(len(arr)):   # len(arr)의 길이는 8이므로 8번 반복\n",
    "    \n",
    "     if arr[i]<arrmin:      # arr[i]에는 arr의 숫자가 하나씩 입력됨\n",
    "            arrmin=arr[i]\n",
    "            \n",
    "print(arrmin)"
   ]
  },
  {
   "cell_type": "markdown",
   "metadata": {},
   "source": [
    "arrmin을 무한대로 초기화한 이유<br>\n",
    "- arr의 어떤 숫자가 들어가도 참이 되게 하기 위해<br><br>\n",
    "\n",
    "    - 5      < inf<br>\n",
    "    - arr[i] < arrmin<br>"
   ]
  },
  {
   "cell_type": "markdown",
   "metadata": {},
   "source": [
    "2     < 2<br>\n",
    "arr[i] < arrmin<br>\n",
    "\n",
    "- < 를 하면 앞의 5번째 2가 선택되고, <= 하면 7번째 2까지 for문이 반복되어 7번째 2를 선택하게 됨<br>\n",
    "- 이 문제에서는 몇 번째 2를 선택하라는 언급이 없었으므로 < 사용\n"
   ]
  },
  {
   "cell_type": "code",
   "execution_count": null,
   "metadata": {},
   "outputs": [],
   "source": []
  }
 ],
 "metadata": {
  "kernelspec": {
   "display_name": "Python 3",
   "language": "python",
   "name": "python3"
  },
  "language_info": {
   "codemirror_mode": {
    "name": "ipython",
    "version": 3
   },
   "file_extension": ".py",
   "mimetype": "text/x-python",
   "name": "python",
   "nbconvert_exporter": "python",
   "pygments_lexer": "ipython3",
   "version": "3.7.4"
  }
 },
 "nbformat": 4,
 "nbformat_minor": 2
}
