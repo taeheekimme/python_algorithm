{
 "cells": [
  {
   "cell_type": "markdown",
   "metadata": {},
   "source": [
    "OX 문제는 맞거나 틀린 두 경우의 답을 가지는 문제를 말한다. <br>\n",
    "여러 개의 OX 문제로 만들어진 시험에서 연속적으로 답을 맞히는 경우에는 가산점을 주기 위해서 다음과 같이 점수 계산을 하기로 하였다. <br>\n",
    "1번 문제가 맞는 경우에는 1점으로 계산한다. <br>\n",
    "앞의 문제에 대해서는 답을 틀리다가 답이 맞는 처음 문제는 1점으로 계산한다. <br>\n",
    "또한, 연속으로 문제의 답이 맞는 경우에서 두 번째 문제는 2점, 세 번째 문제는 3점, ..., K번째 문제는 K점으로 계산한다. <br>\n",
    "틀린 문제는 0점으로 계산한다.<br>\n",
    "예를 들어, 아래와 같이 10 개의 OX 문제에서 답이 맞은 문제의 경우에는 1로 표시하고, 틀린 경우에는 0으로 표시하였을 때, <br>\n",
    "점수 계산은 아래 표와 같이 계산되어, 총 점수는 1+1+2+3+1+2=10 점이다.<br><br>\n",
    "1 0 1 1 1 0 0 1 1 0<br>\n",
    "채점 1 0 1 1 1 0 0 1 1 0<br>\n",
    "점수 1 0 1 2 3 0 0 1 2 0<br>.<br>\n",
    "시험문제의 채점 결과가 주어졌을 때, 총 점수를 계산하는 프로그램을 작성하시오.\n"
   ]
  },
  {
   "cell_type": "markdown",
   "metadata": {},
   "source": [
    "**입력설명**<br>\n",
    "첫째 줄에 문제의 개수 N (1 ≤ N ≤ 100)이 주어진다. <br>\n",
    "둘째 줄에는 N개 문제의 채점 결과를 나타내는 0 혹은 1이 빈 칸을 사이에 두고 주어진다. <br>\n",
    "0은 문제의 답이 틀린 경우이고, 1은 문제의 답이 맞는 경우이다.\n"
   ]
  },
  {
   "cell_type": "markdown",
   "metadata": {},
   "source": [
    "**출력설명**<br>\n",
    "첫째 줄에 입력에서 주어진 채점 결과에 대하여 가산점을 고려한 총 점수를 출력한다.<br>\n"
   ]
  },
  {
   "cell_type": "markdown",
   "metadata": {},
   "source": [
    "**입력예제**<br>\n",
    "10<br>\n",
    "1 0 1 1 1 0 0 1 1 0\n"
   ]
  },
  {
   "cell_type": "markdown",
   "metadata": {},
   "source": [
    "**출력예제**<br>\n",
    "10<br>"
   ]
  },
  {
   "cell_type": "code",
   "execution_count": 5,
   "metadata": {},
   "outputs": [
    {
     "name": "stdout",
     "output_type": "stream",
     "text": [
      "10\n",
      "1 0 1 1 1 0 0 1 1 0\n",
      "10\n"
     ]
    }
   ],
   "source": [
    "# 문제 개수\n",
    "n=int(input())\n",
    "\n",
    "# 0과 1로 ox 표시\n",
    "a=list(map(int, input().split()))\n",
    "\n",
    "# 점수 합하기 위한 변수\n",
    "sum=0\n",
    "\n",
    "# 가중치\n",
    "cnt=0\n",
    "\n",
    "for x in a:  # x는 0과 1의 반복\n",
    "    \n",
    "    if x==1:      # 답을 맞추면\n",
    "        cnt+=1    # 가중치 증가\n",
    "        sum+=cnt  # sum에 가중치 누적\n",
    "        \n",
    "    else:         # 답을 틀리면 \n",
    "        cnt=0     # 가중치 없음\n",
    "\n",
    "print(sum)"
   ]
  },
  {
   "cell_type": "code",
   "execution_count": null,
   "metadata": {},
   "outputs": [],
   "source": []
  }
 ],
 "metadata": {
  "kernelspec": {
   "display_name": "Python 3",
   "language": "python",
   "name": "python3"
  },
  "language_info": {
   "codemirror_mode": {
    "name": "ipython",
    "version": 3
   },
   "file_extension": ".py",
   "mimetype": "text/x-python",
   "name": "python",
   "nbconvert_exporter": "python",
   "pygments_lexer": "ipython3",
   "version": "3.7.4"
  }
 },
 "nbformat": 4,
 "nbformat_minor": 2
}
