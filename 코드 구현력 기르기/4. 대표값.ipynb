{
 "cells": [
  {
   "cell_type": "markdown",
   "metadata": {},
   "source": [
    "N명의 학생의 수학성적이 주어집니다. N명의 학생들의 평균(소수 첫째자리 반올림)을 구하고,\n",
    "N명의 학생 중 평균에 가장 가까운 학생은 몇 번째 학생인지 출력하는 프로그램을 작성하세\n",
    "요.\n",
    "답이 2개일 경우 성적이 높은 학생의 번호를 출력하세요. 만약 답이 되는 점수가 여러 개일\n",
    "경우 번호가 빠른 학생의 번호를 답으로 한다.\n",
    "- n명의 학생의 수학성적의 평균을 구함\n",
    "- 평균과 가장 가까운 성적을 가진 학생의 번호를 출력\n"
   ]
  },
  {
   "cell_type": "markdown",
   "metadata": {},
   "source": [
    "**입력설명**<br>\n",
    "첫줄에 자연수 N(5<=N<=100)이 주어지고, 두 번째 줄에는 N개의 자연수가 주어진다.<br>\n",
    "학생의 번호는 앞에서부터 1로 시작해서 N까지이다.\n"
   ]
  },
  {
   "cell_type": "markdown",
   "metadata": {},
   "source": [
    "**출력설명**<br>\n",
    "첫줄에 평균과 평균에 가장 가까운 학생의 번호를 출력한다.<br>\n",
    "평균은 소수 첫째 자리에서 반올림합니다.\n"
   ]
  },
  {
   "cell_type": "markdown",
   "metadata": {},
   "source": [
    "\n",
    "**입력예제**<br>\n",
    "10<br>\n",
    "45 73 66 87 92 67 75 79 75 80\n",
    "- 10명의 학생\n",
    "- 10명의 수학 성적"
   ]
  },
  {
   "cell_type": "markdown",
   "metadata": {},
   "source": [
    "**출력예제**<br>\n",
    "74 7\n",
    "- 수학 성적 평균 74\n",
    "- 평균과 가장 가까운 73,75가 선택될 수 있음\n",
    "- 75가 2명이면 번호가 빠른 학생 선택"
   ]
  },
  {
   "cell_type": "code",
   "execution_count": null,
   "metadata": {},
   "outputs": [],
   "source": [
    "# n명의 학생\n",
    "n=int(input())\n",
    "\n",
    "# 수학성적\n",
    "a=list(map(int, input().split()))\n",
    "\n",
    "# 평균\n",
    "ave=round(sum(a)/n)   # sum(a): a리스트의 모든 값을 더함\n",
    "\n",
    "# 정수형크기의 큰 값으로 최소화\n",
    "min=214700000\n",
    "\n",
    "# 평균과 가장 가까운 값을 구하기 위한 for문\n",
    "for idx, x in enumerate(a)  # idx(인덱스번호), x(인덱스에 해당하는 성적), enumerate(a): 인덱스와 인덱스에 해당하는 값을 연결해 줌\n",
    "    \n",
    "    # 평균과 성적사이 거리 절댓값\n",
    "    tmp=abs(x-ave)\n",
    "    \n",
    "    # 73을 만났을 때\n",
    "    if tmp<min:  \n",
    "        min=tmp  # 거리가 min보다 작으면 그것이 최소값이 됨\n",
    "        score=x  # 73인 점수 저장 \n",
    "        rs=idx+1 # 73일 때 번호도 저장(0번부터 시작하므로 +1해줘서 1부터 시작하도록)\n",
    "    \n",
    "    # 75를 만났을 때\n",
    "    elif tmp==min:        # 거리 값이 같은 게 생겼을 경우(73, 75개가 생겼을 경우)\n",
    "         if x>score:      # 75>73\n",
    "                score=x   # 75를 저장\n",
    "                res=idx+1  # 75의 번호 저장\n",
    "                \n",
    "                # 또 75를 만나더라도 >했으므로 그냥 첫번째 75 채택\n",
    "                # >=했다면 그 다음 75가 선택될 것\n",
    "print(ave, res)"
   ]
  }
 ],
 "metadata": {
  "kernelspec": {
   "display_name": "Python 3",
   "language": "python",
   "name": "python3"
  },
  "language_info": {
   "codemirror_mode": {
    "name": "ipython",
    "version": 3
   },
   "file_extension": ".py",
   "mimetype": "text/x-python",
   "name": "python",
   "nbconvert_exporter": "python",
   "pygments_lexer": "ipython3",
   "version": "3.7.4"
  }
 },
 "nbformat": 4,
 "nbformat_minor": 2
}
