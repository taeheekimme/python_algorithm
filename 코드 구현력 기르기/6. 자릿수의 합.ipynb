{
 "cells": [
  {
   "cell_type": "markdown",
   "metadata": {},
   "source": [
    "N개의 자연수가 입력되면 각 자연수의 자릿수의 합을 구하고, 그 합이 최대인 자연수를 출력하는 프로그램을 작성하세요. <br>\n",
    "각 자연수의 자릿수의 합을 구하는 함수를 def digit_sum(x)를 꼭 작성해서 프로그래밍 하세요.\n"
   ]
  },
  {
   "cell_type": "markdown",
   "metadata": {},
   "source": [
    "\n",
    "**입력설명**<br>\n",
    "첫 줄에 자연수의 개수 N(3<=N<=100)이 주어지고, 그 다음 줄에 N개의 자연수가 주어진다.\n",
    "각 자연수의 크기는 10,000,000를 넘지 않는다.\n"
   ]
  },
  {
   "cell_type": "markdown",
   "metadata": {},
   "source": [
    "**출력설명**<br>\n",
    "자릿수의 합이 최대인 자연수를 출력한다.\n"
   ]
  },
  {
   "cell_type": "markdown",
   "metadata": {},
   "source": [
    "**입력예제**<br>\n",
    "3<br>\n",
    "125 15232 97<br>\n"
   ]
  },
  {
   "cell_type": "markdown",
   "metadata": {},
   "source": [
    "**출력예제**<br>\n",
    "97"
   ]
  },
  {
   "cell_type": "markdown",
   "metadata": {},
   "source": [
    "- 각 숫자의 자릿수를 더해서 3개 중 가장 큰 숫자가 나오는 값을 출력"
   ]
  },
  {
   "cell_type": "markdown",
   "metadata": {},
   "source": [
    "#### 1. 몫과 나머지를 이용한 방법"
   ]
  },
  {
   "cell_type": "code",
   "execution_count": 1,
   "metadata": {},
   "outputs": [
    {
     "name": "stdout",
     "output_type": "stream",
     "text": [
      "3\n",
      "125 15232 97\n",
      "97\n"
     ]
    }
   ],
   "source": [
    "# 입력할 숫자 개수\n",
    "n=int(input())\n",
    "\n",
    "# 입력받을 숫자 3개\n",
    "a=list(map(int, input().split()))\n",
    "\n",
    "\n",
    "# 각 자리수를 더하는 함수 생성\n",
    "def digit_sum(x):  \n",
    "    \n",
    "    sum=0 \n",
    "    while x>0:     # 1. 125가 입력되면 참\n",
    "        sum+=x%10  # 2. 125를 10으로 나눈 나머지 5가 sum에 입력\n",
    "        x=x//10    # 3. 125를 10으로 나눈 몫 12\n",
    "        \n",
    "                   # 4 .12는 0보다 큼\n",
    "                   # 5. 12를 10으로 나눈 나머지 2를 +5 해서 7이 sum에 입력\n",
    "                   # 6. 12를 10으로 나눈 몫 1\n",
    "                    \n",
    "                   # 7. 1을 10으로 나눈 나머지 1을 +7해서 8이 sum에 입력\n",
    "                   # 8. 1을 10으로 나눈 몫 0\n",
    "                   # 9. 0은 x>0을 만족하지 못하므로 while문 종료하고 break\n",
    "                \n",
    "        return sum  # sum은 8로 x숫자 자릿수의 합이 됨\n",
    "    \n",
    "    \n",
    "max=-2147000000   \n",
    "\n",
    "for x in a:   # a 리스트에 입력된 숫자에 접근\n",
    "\n",
    "   \n",
    "    tot=digit_sum(x)  # tot변수에 각 자릿수의 합을 더하는 함수 입력\n",
    "    if tot>max:\n",
    "        max=tot\n",
    "        res=x     # 각 자릿수의 합이 가장 큰 x숫자 출력\n",
    "        \n",
    "print(res)"
   ]
  },
  {
   "cell_type": "markdown",
   "metadata": {},
   "source": [
    "#### 2. str로 변환 후 처리하는 방법"
   ]
  },
  {
   "cell_type": "code",
   "execution_count": 2,
   "metadata": {},
   "outputs": [
    {
     "name": "stdout",
     "output_type": "stream",
     "text": [
      "3\n",
      "125 15232 97\n",
      "97\n"
     ]
    }
   ],
   "source": [
    "# 입력할 숫자 개수\n",
    "n=int(input())\n",
    "\n",
    "# 입력받을 숫자 3개\n",
    "a=list(map(int, input().split()))\n",
    "\n",
    "# 각 자리수를 더하는 함수 생성\n",
    "def digit_sum(x): \n",
    "    sum=0 \n",
    "    \n",
    "    for i in str(x):  # x숫자를 문자형으로 변환\n",
    "        sum+=int(i)  \n",
    "        \n",
    "    return sum\n",
    "        \n",
    "    \n",
    "max=-2147000000   \n",
    "\n",
    "for x in a:   # a 리스트에 입력된 숫자에 접근\n",
    "\n",
    "   \n",
    "    tot=digit_sum(x)  # tot변수에 각 자릿수의 합을 더하는 함수 입력\n",
    "    if tot>max:\n",
    "        max=tot\n",
    "        res=x     # 각 자릿수의 합이 가장 큰 x숫자 출력\n",
    "        \n",
    "print(res)"
   ]
  },
  {
   "cell_type": "code",
   "execution_count": null,
   "metadata": {},
   "outputs": [],
   "source": []
  }
 ],
 "metadata": {
  "kernelspec": {
   "display_name": "Python 3",
   "language": "python",
   "name": "python3"
  },
  "language_info": {
   "codemirror_mode": {
    "name": "ipython",
    "version": 3
   },
   "file_extension": ".py",
   "mimetype": "text/x-python",
   "name": "python",
   "nbconvert_exporter": "python",
   "pygments_lexer": "ipython3",
   "version": "3.7.4"
  }
 },
 "nbformat": 4,
 "nbformat_minor": 2
}
