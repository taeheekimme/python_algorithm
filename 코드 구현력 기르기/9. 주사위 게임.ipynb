{
 "cells": [
  {
   "cell_type": "markdown",
   "metadata": {},
   "source": [
    "1에서부터 6까지의 눈을 가진 3개의 주사위를 던져서 다음과 같은 규칙에 따라 상금을 받는 게임이 있다.<br><br>\n",
    "규칙(1) 같은 눈이 3개가 나오면 10,000원+(같은 눈)*1,000원의 상금을 받게 된다.<br>\n",
    "규칙(2) 같은 눈이 2개만 나오는 경우에는 1,000원+(같은 눈)*100원의 상금을 받게 된다.<br>\n",
    "규칙(3) 모두 다른 눈이 나오는 경우에는 (그 중 가장 큰 눈)*100원의 상금을 받게 된다.<br><br>\n",
    "예를 들어, 3개의 눈 3, 3, 6이 주어지면 상금은 1,000+3*100으로 계산되어 1,300원을 받게 된다. <br>\n",
    "또 3개의 눈이 2, 2, 2로 주어지면 10,000+2*1,000 으로 계산되어 12,000원을 받게 된다.<br>\n",
    "3개의 눈이 6, 2, 5로 주어지면 그 중 가장 큰 값이 6이므로 6*100으로 계산되어 600원을 상금으로 받게 된다.<br>\n",
    "N 명이 주사위 게임에 참여하였을 때, 가장 많은 상금을 받은 사람의 상금을 출력하는 프로그램을 작성하시오<br>\n"
   ]
  },
  {
   "cell_type": "markdown",
   "metadata": {},
   "source": [
    "**입력설명**<br>\n",
    "첫째 줄에는 참여하는 사람 수 N(2<=N<=1,000)이 주어지고 <br>\n",
    "그 다음 줄부터 N개의 줄에 사람들이 주사위를 던진 3개의 눈이 빈칸을 사이에 두고 각각 주어진다.\n"
   ]
  },
  {
   "cell_type": "markdown",
   "metadata": {},
   "source": [
    "**출력설명**<br>\n",
    "첫째 줄에 가장 많은 상금을 받은 사람의 상금을 출력한다.<br>\n"
   ]
  },
  {
   "cell_type": "markdown",
   "metadata": {},
   "source": [
    "**입력예제**<br>\n",
    "3<br>\n",
    "3 3 6<br>\n",
    "2 2 2<br>\n",
    "6 2 5\n"
   ]
  },
  {
   "cell_type": "markdown",
   "metadata": {},
   "source": [
    "**출력예제**<br>\n",
    "12000"
   ]
  },
  {
   "cell_type": "code",
   "execution_count": 6,
   "metadata": {},
   "outputs": [
    {
     "name": "stdout",
     "output_type": "stream",
     "text": [
      "3\n",
      "3 3 6\n",
      "2 2 2\n",
      "6 2 5\n",
      "12000\n"
     ]
    }
   ],
   "source": [
    "# 사람 수\n",
    "n=int(input())\n",
    "\n",
    "# 상금\n",
    "res = 0\n",
    "\n",
    "for i in range(n):\n",
    "  \n",
    "    tmp=input().split()      # 3 3 6처럼 띄어쓰기로 구분되어 입력되도록(현재 str형)\n",
    "    \n",
    "    tmp.sort()               # 다른 눈이 나오는 경우 큰 숫자를 출력해야 하므로 오름차순 정렬\n",
    "    \n",
    "    a, b, c = map(int, tmp)  # 리스트의 숫자가 문자가 되어 abc와 매핑됨 \n",
    "    \n",
    "    \n",
    "    # 규칙 1) 3개 눈이 같을 경우\n",
    "    if a==b and b==c:\n",
    "        money=10000+a*1000\n",
    "    \n",
    "    # 규칙 2) 2개 눈이 같을 경우\n",
    "    elif a==b or a==c:    # b=c라고 하면 상금 계산시 변수 2가지를 이용해야 하므로 복잡해짐\n",
    "        money=1000+(a*100)\n",
    "        \n",
    "    elif b==c:\n",
    "        money=1000+(b*100)       \n",
    "        \n",
    "    # 규칙 3) 모두 다른 눈이 나올 경우\n",
    "    else:\n",
    "          money=c*100\n",
    "    \n",
    "    # 가장 큰 상금 찾음\n",
    "    if money>res:\n",
    "        res=money\n",
    "        \n",
    "print(res)"
   ]
  },
  {
   "cell_type": "code",
   "execution_count": null,
   "metadata": {},
   "outputs": [],
   "source": []
  }
 ],
 "metadata": {
  "kernelspec": {
   "display_name": "Python 3",
   "language": "python",
   "name": "python3"
  },
  "language_info": {
   "codemirror_mode": {
    "name": "ipython",
    "version": 3
   },
   "file_extension": ".py",
   "mimetype": "text/x-python",
   "name": "python",
   "nbconvert_exporter": "python",
   "pygments_lexer": "ipython3",
   "version": "3.7.4"
  }
 },
 "nbformat": 4,
 "nbformat_minor": 2
}
