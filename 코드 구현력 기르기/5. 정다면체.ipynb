{
 "cells": [
  {
   "cell_type": "markdown",
   "metadata": {},
   "source": [
    "두 개의 정 N면체와 정 M면체의 두 개의 주사위를 던져서 나올 수 있는 눈의 합 중 가장 확\n",
    "률이 높은 숫자를 출력하는 프로그램을 작성하세요.\n",
    "정답이 여러 개일 경우 오름차순으로 출력합니다.\n",
    "- 주사위 2개 동시에 던져서 나온 두개의 합 중 가장 많이 나올 수"
   ]
  },
  {
   "cell_type": "markdown",
   "metadata": {},
   "source": [
    "**입력설명**<br>\n",
    "첫 번째 줄에는 자연수 N과 M이 주어집니다. N과 M은 4, 6, 8, 12, 20 중의 하나입니다.\n"
   ]
  },
  {
   "cell_type": "markdown",
   "metadata": {},
   "source": [
    "**출력설명**<br>\n",
    "첫 번째 줄에 답을 출력합니다.\n"
   ]
  },
  {
   "cell_type": "markdown",
   "metadata": {},
   "source": [
    "**입력예제**<br>\n",
    "4 6"
   ]
  },
  {
   "cell_type": "markdown",
   "metadata": {},
   "source": [
    "\n",
    "**출력예제**<br>\n",
    "5 6 7 "
   ]
  },
  {
   "cell_type": "markdown",
   "metadata": {},
   "source": [
    "- cnt리스트 \n",
    "- 리스트의 인덱스 1,2 3,4,5,6 ~이 합의 값\n",
    "- 합의 값이 증가할 때마다 해당 인덱스의 값을 1씩 증가시킴\n",
    "- 5번 인덱스의 값이 6이라면 두 눈의 값인 5가 6번 나왔다는 뜻\n",
    "- 즉, cnt에서 값이 가장 큰 걸 찾으면 그것이 확률이 가장 높은 두 눈의 값이 됨"
   ]
  },
  {
   "cell_type": "code",
   "execution_count": 4,
   "metadata": {},
   "outputs": [
    {
     "name": "stdout",
     "output_type": "stream",
     "text": [
      "4 6\n",
      "567"
     ]
    }
   ],
   "source": [
    "n, m=map(int,input().split())\n",
    "\n",
    "# cnt는 0으로 초기화, 개수는 n+m+3개(3은 그냥 좀 더 더해줌)\n",
    "cnt=[0]*(n+m+3)\n",
    "max=-2147000000 # 작은 값으로 초기화\n",
    "\n",
    "for i in range(1, n+1):\n",
    "    for j in range(1, m+1):  # 주사위는 같은 수가 나올 수 있으므로 똑같이 1부터 시작\n",
    "        cnt[i+j]+=1  # 주사위 눈의 합을 1씩 증가\n",
    "\n",
    "# cnt에서 최댓값 찾음\n",
    "for i in range(n+m+1): # n+m+1까지 해야 n+m까지 돔\n",
    "    if cnt[i]>max:  # cnt가 크면\n",
    "        max=cnt[i]  # cnt값으로 변경\n",
    "        \n",
    "# 답 출력\n",
    "for i in range(n+m+1):    # 최대값 3을 만나면 인덱스 번호 4출력, 다음칸에서 최대값 3을 또 만나면 인덱스 5출력\n",
    "    if cnt[i]==max:       # i가 최대값이 되면 출력\n",
    "        print(i, end='')"
   ]
  },
  {
   "cell_type": "code",
   "execution_count": null,
   "metadata": {},
   "outputs": [],
   "source": []
  }
 ],
 "metadata": {
  "kernelspec": {
   "display_name": "Python 3",
   "language": "python",
   "name": "python3"
  },
  "language_info": {
   "codemirror_mode": {
    "name": "ipython",
    "version": 3
   },
   "file_extension": ".py",
   "mimetype": "text/x-python",
   "name": "python",
   "nbconvert_exporter": "python",
   "pygments_lexer": "ipython3",
   "version": "3.7.4"
  }
 },
 "nbformat": 4,
 "nbformat_minor": 2
}
