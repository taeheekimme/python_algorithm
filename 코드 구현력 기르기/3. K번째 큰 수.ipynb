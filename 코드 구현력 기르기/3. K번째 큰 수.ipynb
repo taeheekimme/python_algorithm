{
 "cells": [
  {
   "cell_type": "markdown",
   "metadata": {},
   "source": [
    "현수는 1부터 100사이의 자연수가 적힌 N장의 카드를 가지고 있습니다. 같은 숫자의 카드가\n",
    "여러장 있을 수 있습니다. 현수는 이 중 3장을 뽑아 각 카드에 적힌 수를 합한 값을 기록하려\n",
    "고 합니다. 3장을 뽑을 수 있는 모든 경우를 기록합니다. 기록한 값 중 K번째로 큰 수를 출력\n",
    "하는 프로그램을 작성하세요.\n",
    "만약 큰 수부터 만들어진 수가 25 25 23 23 22 20 19......이고 K값이 3이라면 K번째 큰 값\n",
    "은 22입니다."
   ]
  },
  {
   "cell_type": "markdown",
   "metadata": {},
   "source": [
    "**입력설명**<br>\n",
    "첫 줄에 자연수 N(3<=N<=100)과 K(1<=K<=50) 입력되고, 그 다음 줄에 N개의 카드값이 입력\n",
    "된다.\n"
   ]
  },
  {
   "cell_type": "markdown",
   "metadata": {},
   "source": [
    "**입력예제**<br>\n",
    "10 3<br>\n",
    "13 15 34 23 45 65 33 11 26 42\n"
   ]
  },
  {
   "cell_type": "markdown",
   "metadata": {},
   "source": [
    "**출력예제**<br>\n",
    "143"
   ]
  },
  {
   "cell_type": "code",
   "execution_count": null,
   "metadata": {},
   "outputs": [],
   "source": [
    "n, k = map(int, input().split())\n",
    "a=list(map(int, input().split()))\n",
    "\n",
    "rse=set()  # set하면 중복을 제거해 줌\n",
    "\n",
    "for i in range(n):                   # i는 n-1까지 돔\n",
    "    for j in range(i+1, n):          # j는 i다음번부터 돌아야 함\n",
    "        for m in range(j+1, n):      # k는 위에서 썼으므로 m사용, m은 j다음 부터 돔\n",
    "            res.add(a[i]+a[j]+a[m])  #  뽑은 숫자를 리스트로 더해줌(set은 add로 합함)\n",
    "            \n",
    "res=list(res)            # set은 정렬기능이 없으므로 합한 리스트를 다시 리스트화 해줌\n",
    "res.sort(reverse=True)   # 내림차순\n",
    "print(res[k-1])          # k번째 출력"
   ]
  },
  {
   "cell_type": "markdown",
   "metadata": {},
   "source": [
    "중복 방지를 위해<br><br>\n",
    "i j m (m이 한칸 씩 오른쪽으로)<br>\n",
    "1 2 3<br>\n",
    "1 2 4<br>\n",
    "1 2 5<br>\n",
    "\n",
    "1 3 4 (j가 한칸 씩 오른쪽으로)<br>\n",
    "1 3 5<br>"
   ]
  },
  {
   "cell_type": "code",
   "execution_count": null,
   "metadata": {},
   "outputs": [],
   "source": []
  }
 ],
 "metadata": {
  "kernelspec": {
   "display_name": "Python 3",
   "language": "python",
   "name": "python3"
  },
  "language_info": {
   "codemirror_mode": {
    "name": "ipython",
    "version": 3
   },
   "file_extension": ".py",
   "mimetype": "text/x-python",
   "name": "python",
   "nbconvert_exporter": "python",
   "pygments_lexer": "ipython3",
   "version": "3.7.4"
  }
 },
 "nbformat": 4,
 "nbformat_minor": 2
}
