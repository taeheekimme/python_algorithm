{
 "cells": [
  {
   "cell_type": "markdown",
   "metadata": {},
   "source": [
    "자연수 N이 입력되면 1부터 N까지의 소수의 개수를 출력하는 프로그램을 작성하세요.<br>\n",
    "만약 20이 입력되면 1부터 20까지의 소수는 2, 3, 5, 7, 11, 13, 17, 19로 총 8개입니다.<br>\n",
    "제한시간은 1초입니다.\n"
   ]
  },
  {
   "cell_type": "markdown",
   "metadata": {},
   "source": [
    "**입력설명**<br>\n",
    "첫 줄에 자연수의 개수 N(2<=N<=200,000)이 주어집니다.\n"
   ]
  },
  {
   "cell_type": "markdown",
   "metadata": {},
   "source": [
    "**출력설명**<br>\n",
    "첫 줄에 소수의 개수를 출력합니다.\n"
   ]
  },
  {
   "cell_type": "markdown",
   "metadata": {},
   "source": [
    "**입력예제**<br>\n",
    "20\n"
   ]
  },
  {
   "cell_type": "markdown",
   "metadata": {},
   "source": [
    "**출력예제**<br>\n",
    "8"
   ]
  },
  {
   "cell_type": "code",
   "execution_count": 11,
   "metadata": {},
   "outputs": [
    {
     "name": "stdout",
     "output_type": "stream",
     "text": [
      "20\n",
      "8\n"
     ]
    }
   ],
   "source": [
    "n=int(input())\n",
    "\n",
    "# ch리스트의 인덱스가 소수를 나타냄\n",
    "ch=[0]*(n+1)  # 리스트의 초기값은 0\n",
    "\n",
    "# 소수의 개수\n",
    "cnt=0\n",
    "\n",
    "for i in range(2, n+1):   # 소수에는 1이 포함되지 않으므로 2부터 n까지 반복\n",
    "        \n",
    "    # 소수인지 아닌지 확인    \n",
    "    if ch[i]==0:           # ch리스트 인덱스 값이 0이면 (인덱스 2가 현재 0이면)\n",
    "        cnt+=1             # 소수라는 의미로 인덱스 값 1표기 \n",
    "           \n",
    "        for j in range(i ,n+1, i):       # j는 i의 배수씩 반복 (i가 2이므로 2의 배수 2,4,6으로 반복)\n",
    "            ch[j]=1                      # 2의 배수 2,4,6,8에 1로 표기되고, 소수가 아닌것들로 걸러냄(에라토스테네스 체)\n",
    "            \n",
    "             # i에 4가 들어가면 이미 2의 배수로 1이 표기가 되있으므로 for문이 돌 필요 없음\n",
    "print(cnt)   # 리스트의 1로 표기된 것들이 출력됨"
   ]
  },
  {
   "cell_type": "code",
   "execution_count": null,
   "metadata": {},
   "outputs": [],
   "source": []
  }
 ],
 "metadata": {
  "kernelspec": {
   "display_name": "Python 3",
   "language": "python",
   "name": "python3"
  },
  "language_info": {
   "codemirror_mode": {
    "name": "ipython",
    "version": 3
   },
   "file_extension": ".py",
   "mimetype": "text/x-python",
   "name": "python",
   "nbconvert_exporter": "python",
   "pygments_lexer": "ipython3",
   "version": "3.7.4"
  }
 },
 "nbformat": 4,
 "nbformat_minor": 2
}
