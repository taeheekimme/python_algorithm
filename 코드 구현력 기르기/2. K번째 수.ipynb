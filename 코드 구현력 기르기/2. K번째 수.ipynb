{
 "cells": [
  {
   "cell_type": "markdown",
   "metadata": {},
   "source": [
    "N개의 숫자로 이루어진 숫자열이 주어지면 해당 숫자열 중에서 s번째부터 e번째까지의 수를 오름차순 정렬했을 때 K번째로 나타나는 숫자를 출력하는 프로그램 작성"
   ]
  },
  {
   "cell_type": "markdown",
   "metadata": {},
   "source": [
    "**입력설명**<br>\n",
    "첫 번째 줄에 테스트 케이스 T(1<=T<=10)이 주어진다.<br>\n",
    "각 케이스별<br>\n",
    "첫 번째 줄은 자연수 N(5<=N<=500), s, e, k가 차례로 주어진다.<br>\n",
    "두 번째 줄에 N개의 숫자가 차례로 주어진다."
   ]
  },
  {
   "cell_type": "markdown",
   "metadata": {},
   "source": [
    "**출력설명**<br>\n",
    "각 케이스별 k번째 수를 아래 출력예제와 같이 출력하시오.<br>\n"
   ]
  },
  {
   "cell_type": "markdown",
   "metadata": {},
   "source": [
    "**입력예제**<br>\n",
    "2    \n",
    "- 테스트 케이스가 2개<Br>\n",
    "    \n",
    "#1<br>\n",
    "6 2 5 3<br>\n",
    "5 2 7 3 8 9\n",
    "- 6개의 숫자로 이뤄지고, 2~5번째 숫자가 2,7,3,8이며, 이를 오름차순 했을 때 3번째인 숫자는 7<br>\n",
    "\n",
    "#2<br>\n",
    "15 3 10 3<br>\n",
    "4 15 8 16 6 6 17 3 10 11 18 7 14 7 15"
   ]
  },
  {
   "cell_type": "markdown",
   "metadata": {},
   "source": [
    "**출력예제**<br>\n",
    "#1 7<br>\n",
    "#2 6"
   ]
  },
  {
   "cell_type": "code",
   "execution_count": null,
   "metadata": {},
   "outputs": [
    {
     "name": "stdout",
     "output_type": "stream",
     "text": [
      "6253\n"
     ]
    }
   ],
   "source": [
    "# 케이스 개수\n",
    "T=int(input())   # input은 기본으로 str형이므로 int로 변경해줘야 함\n",
    "\n",
    "for t in range(T):  # 케이스 개수 T만큼 for문 돌아야 함\n",
    "    \n",
    "    # 케이스 구현\n",
    "    n, s, e, k=map(int, input().split())  # 4개 숫자 읽어옴\n",
    "    a = list(map(int, input().split()))   # 527389를 적기 위해 리스트 생성\n",
    "    \n",
    "    # s~e의 범위 설정(리스트의 인덱스 번호로 설정)\n",
    "    a=a[s-1:e]   # s가 2번이라면 a에서는 1번 : e가 5라면 a에서는 4번 (e까지라고 하면 e-1이므로 e까지 해주면 됨)\n",
    "   \n",
    "    # a에서 추출한 값들 정렬\n",
    "    a.sort()\n",
    "    \n",
    "    print(\"#%d %d\" %(t+1, a[k-1]))  # k번째 수는 k-1번째에 있음 \n",
    "    "
   ]
  }
 ],
 "metadata": {
  "kernelspec": {
   "display_name": "Python 3",
   "language": "python",
   "name": "python3"
  },
  "language_info": {
   "codemirror_mode": {
    "name": "ipython",
    "version": 3
   },
   "file_extension": ".py",
   "mimetype": "text/x-python",
   "name": "python",
   "nbconvert_exporter": "python",
   "pygments_lexer": "ipython3",
   "version": "3.7.4"
  }
 },
 "nbformat": 4,
 "nbformat_minor": 2
}
