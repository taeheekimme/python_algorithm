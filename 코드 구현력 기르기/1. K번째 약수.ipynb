{
 "cells": [
  {
   "cell_type": "markdown",
   "metadata": {},
   "source": [
    " 두 개의 자연수 N과 K가 주어졌을 때, N의 약수들 중 K번째로 작은 수를 출력하는 프로그램 작성"
   ]
  },
  {
   "cell_type": "markdown",
   "metadata": {},
   "source": [
    "**입력설명**<br>\n",
    "첫째 줄에 N과 K가 빈칸을 사이에 두고 주어진다. N은 1이상 10,000이하이다. K는 1이상 N이하이다."
   ]
  },
  {
   "cell_type": "markdown",
   "metadata": {},
   "source": [
    "**출력설명**<br>\n",
    "첫째 줄에 N의 약수들 중 K번째로 작은 수를 출력한다. 만일 N의 약수의 개수가 K개보다 적어서 K번째 약수가 존재하지 않을 경우에는 -1을 출력하시오."
   ]
  },
  {
   "cell_type": "markdown",
   "metadata": {},
   "source": [
    "**입력예제**<br>\n",
    "6 3<br><br>\n",
    "**출력예제**<br>\n",
    "3<br>\n",
    "\n",
    "- 6의 약수는 1,2,3,6이므로 6의 약수들 중 3번째로 작은 수인 3 출력"
   ]
  },
  {
   "cell_type": "code",
   "execution_count": 6,
   "metadata": {},
   "outputs": [
    {
     "name": "stdout",
     "output_type": "stream",
     "text": [
      "10 3\n",
      "5\n"
     ]
    }
   ],
   "source": [
    "n, k = map(int, input().split())  # 1. input().split(): 6 3 처럼 띄어쓰기로 구분해 출력되도록\n",
    "                                  # 2. input().split()하면 str형이므로 int형으로 변환해 줌\n",
    "                                  # 3. map: 6이 n에 들어가고, 3이 k에 들어가도록 매핑\n",
    "\n",
    "cnt = 0  # 약수 개수 (k와 같음)\n",
    "\n",
    "\n",
    "for i in range(1, n+1):   # 약수는 1부터 시작하고, n+1해야 n까지 반복함\n",
    "    \n",
    "    if n%i==0:       # 나머지가 0이면 약수임\n",
    "        cnt+=1       # 약수이면 개수를 증가시킴\n",
    "        \n",
    "    if cnt==k:       # cnt개수가 약수 개수인 k와 같아지면 \n",
    "        print(i)     # k번째 약수는 i이므로 출력\n",
    "        break        # 답을 찾으면 break가 걸려 else가 실행되지 않음\n",
    "        \n",
    "\n",
    "else:     # 1~n까지 정상적으로 for문이 돌면 약수를 찾지 못한 것이므로 이때는 else문 실행\n",
    "          # n인 6의 약수 개수는 4개로 k인 5개보다 적어서 5번째 약수가 존재하지 않을 경우 \n",
    "   \n",
    "     print(-1)  #  -1출력"
   ]
  },
  {
   "cell_type": "markdown",
   "metadata": {},
   "source": [
    "- 10의 약수 1,2,5,10 중 3번째 약수는 5"
   ]
  },
  {
   "cell_type": "code",
   "execution_count": null,
   "metadata": {},
   "outputs": [],
   "source": []
  }
 ],
 "metadata": {
  "kernelspec": {
   "display_name": "Python 3",
   "language": "python",
   "name": "python3"
  },
  "language_info": {
   "codemirror_mode": {
    "name": "ipython",
    "version": 3
   },
   "file_extension": ".py",
   "mimetype": "text/x-python",
   "name": "python",
   "nbconvert_exporter": "python",
   "pygments_lexer": "ipython3",
   "version": "3.7.4"
  }
 },
 "nbformat": 4,
 "nbformat_minor": 2
}
