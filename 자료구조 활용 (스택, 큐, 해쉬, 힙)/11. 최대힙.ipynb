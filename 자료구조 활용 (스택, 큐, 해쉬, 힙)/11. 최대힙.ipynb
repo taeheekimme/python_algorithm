{
 "cells": [
  {
   "cell_type": "markdown",
   "metadata": {},
   "source": [
    "- 최대힙(최소힙에서 일부만 반대로 변경)\n",
    "   - 부모노드 > 자식노드\n",
    "   - 최상단 부모노드는 최대값\n",
    "   - 힙은 기본적으로 최소힙으로 작동됨\n",
    "   - 최대힙은 최소힙과 반대로 작동시키기 위해 3,4에 -를 붙여 -3, -4로 입력하면 됨\n",
    "   - 출력할 때는 -를 뗀 원래 부호로 변경해서 출력하면 됨"
   ]
  },
  {
   "cell_type": "markdown",
   "metadata": {},
   "source": [
    "최대힙은 완전이진트리로 구현된 자료구조입니다. <br>\n",
    "그 구성은 부모 노드값이 왼쪽자식과 오른쪽 자식노드의 값보다 크게 트리를 구성하는 것입니다. <br>\n",
    "그렇게 하면 트리의 루트(root)노드는 입력된 값들 중 가장 큰 값이 저장되어 있습니다. <br>\n",
    "예를 들어 5 3 2 1 4 6 7순으로 입력되면 최대힙 트리는 아래와 같이 구성됩니다.<br>\n",
    "최대힙 자료를 이용하여 다음과 같은 연산을 하는 프로그램을 작성하세요.<br>\n",
    "1) 자연수가 입력되면 최대힙에 입력한다.<br>\n",
    "2) 숫자 0 이 입력되면 최대힙에서 최댓값을 꺼내어 출력한다.<br>\n",
    "(출력할 자료가 없으면 -1를 출력한다.)<br>\n",
    "3) -1이 입력되면 프로그램 종료한다.\n"
   ]
  },
  {
   "cell_type": "markdown",
   "metadata": {},
   "source": [
    "▣ 입력설명<br>\n",
    "첫 번째 줄부터 숫자가 입력된다. <br>\n",
    "입력되는 숫자는 100,000개 이하이며 각 숫자의 크기는 정수형 범위에 있다.\n"
   ]
  },
  {
   "cell_type": "markdown",
   "metadata": {},
   "source": [
    "▣ 출력설명<br>\n",
    "2) 연산을 한 결과를 보여준다.\n"
   ]
  },
  {
   "cell_type": "markdown",
   "metadata": {},
   "source": [
    "▣ 입력예제 1<br>\n",
    "5<br>\n",
    "3<br>\n",
    "6<br>\n",
    "0<br>\n",
    "5<br>\n",
    "0<br>\n",
    "2<br>\n",
    "4<br>\n",
    "0<br>\n",
    "-1\n"
   ]
  },
  {
   "cell_type": "markdown",
   "metadata": {},
   "source": [
    "▣ 출력예제 1<br>\n",
    "6<br>\n",
    "5<br>\n",
    "5"
   ]
  },
  {
   "cell_type": "code",
   "execution_count": 5,
   "metadata": {},
   "outputs": [
    {
     "name": "stdout",
     "output_type": "stream",
     "text": [
      "5\n",
      "3\n",
      "6\n",
      "0\n",
      "6\n",
      "5\n",
      "0\n",
      "5\n",
      "2\n",
      "4\n",
      "0\n",
      "5\n",
      "-1\n"
     ]
    }
   ],
   "source": [
    "import heapq as hq  # 파이썬에서 힙 불러오기(기본적으로 최소힙으로 작동함)\n",
    "\n",
    "# 빈 리스트에 자료 입력받음(heappop,heappush하면 자동으로 힙 자료구조로 저장됨)\n",
    "a=[]\n",
    "\n",
    "\n",
    "while True:\n",
    "    n=int(input())\n",
    "    \n",
    "    if n==-1:\n",
    "        break\n",
    "        \n",
    "    if n==0:\n",
    "        \n",
    "        if len(a)==0:\n",
    "            print(-1)\n",
    "            \n",
    "        else:\n",
    "            print(-hq.heappop(a))  # 출력할 때 -붙여서 원래 부호로 출력\n",
    "            \n",
    "    else:\n",
    "        hq.heappush(a, -n)   # 입력할 때 -를 붙여서 반대 부호로 입력 \n"
   ]
  },
  {
   "cell_type": "code",
   "execution_count": null,
   "metadata": {},
   "outputs": [],
   "source": []
  }
 ],
 "metadata": {
  "kernelspec": {
   "display_name": "Python 3",
   "language": "python",
   "name": "python3"
  },
  "language_info": {
   "codemirror_mode": {
    "name": "ipython",
    "version": 3
   },
   "file_extension": ".py",
   "mimetype": "text/x-python",
   "name": "python",
   "nbconvert_exporter": "python",
   "pygments_lexer": "ipython3",
   "version": "3.7.4"
  }
 },
 "nbformat": 4,
 "nbformat_minor": 2
}
