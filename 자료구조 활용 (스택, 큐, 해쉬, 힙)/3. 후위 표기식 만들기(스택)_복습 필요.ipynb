{
 "cells": [
  {
   "cell_type": "markdown",
   "metadata": {},
   "source": [
    "중위표기식이 입력되면 후위표기식으로 변환하는 프로그램을 작성하세요.<br>\n",
    "중위표기식은 우리가 흔히 쓰은 표현식입니다. 즉 3+5 와 같이 연산자가 피연산자 사이에 있으면 중위표기식입니다.<br>\n",
    "후위표기식은 35+ 와 같이 연산자가 피연산자 뒤에 있는 표기식입니다.<br>\n",
    "예를 들어 중위표기식이 3+5*2 를 후위표기식으로 표현하면 352*+ 로 표현됩니다.<br>\n",
    "만약 다음과 같이 연산 최우선인 괄호가 표현된 식이라면 (3+5)*2 이면 35+2* 로 바꾸어야 합니다.<br>\n",
    "※후위 표기식이 이해가 안되면 구글링으로 공부해보는 것도 좋습니다.\n"
   ]
  },
  {
   "cell_type": "markdown",
   "metadata": {},
   "source": [
    "▣ 입력설명<br>\n",
    "첫 줄에 중위표기식이 주어진다. 길이는 100을 넘지 않는다.<br>\n",
    "식은 1~9의 숫자와 +, -, *, /, (, ) 연산자로만 이루어진다.\n"
   ]
  },
  {
   "cell_type": "markdown",
   "metadata": {},
   "source": [
    "▣ 출력설명<br>\n",
    "후위표기식을 출력한다.\n"
   ]
  },
  {
   "cell_type": "markdown",
   "metadata": {},
   "source": [
    "▣ 입력예제 1<br>\n",
    "3+5*2/(7-2) : 중위표기식\n",
    "- 컴퓨터는 순서대로 계산하므로 중위표기식을 쓰면 답이 다르게 나옴\n",
    "- 후위표기식으로 변경하여 (), *, / 을 먼저 계산하도록 함\n",
    "   "
   ]
  },
  {
   "cell_type": "markdown",
   "metadata": {},
   "source": [
    "▣ 출력예제 1<br>\n",
    "352*72-/+ : 후위표기식"
   ]
  },
  {
   "cell_type": "markdown",
   "metadata": {},
   "source": [
    "▣ 입력예제 2<br>\n",
    "3*(5+2)-9\n"
   ]
  },
  {
   "cell_type": "markdown",
   "metadata": {},
   "source": [
    "▣ 출력예제 2<br>\n",
    "352+*9-"
   ]
  },
  {
   "cell_type": "code",
   "execution_count": 1,
   "metadata": {},
   "outputs": [
    {
     "name": "stdout",
     "output_type": "stream",
     "text": [
      "3+5*2/(7-2)\n",
      "352*72-/+\n"
     ]
    }
   ],
   "source": [
    "# 중위표기식 입력\n",
    "a=input()\n",
    "\n",
    "# 빈 리스트 생성\n",
    "stack=[]\n",
    "\n",
    "# 출력\n",
    "res=''\n",
    "\n",
    "\n",
    "for x in a:     # 중위표기식의 문자 하나씩 입력\n",
    "    \n",
    "    \n",
    "    ### 연산자인지 피연산자인지 확인\n",
    "    if x.isdecimal():  # x가 연산자이면\n",
    "        res+=x         # 출력\n",
    "        \n",
    "    else:              # x가 피연산자이면\n",
    "    \n",
    "    \n",
    "        ### 피연산자의 우선순위를 따짐\n",
    "        if x=='(':          # x가 여는 괄호일 때\n",
    "            stack.append(x) # 닫는 괄호 나올때까지 append\n",
    "            \n",
    "        elif x=='*' or x=='/':    # x가 * or /일 때\n",
    "            while stack and (stack[-1]=='*' or stack[-1]=='/'):  # stack은 비어있지 않고, 스택의 마지막 자료가 * or /이면\n",
    "                res+=stack.pop()  # 스택에 들어간 것을 먼저 처리하므로 스택의 * or /를 pop하여 출력\n",
    "            stack.append(x)       # x append\n",
    "            \n",
    "        elif x=='+' or x=='-':    # x가 + or -일 때\n",
    "            while stack and stack[-1]!='(':  # stack이 비어있고, 스택의 마지막 자료가 ( 전이라면 (+와 -가 괄호 안에 있다는 뜻) \n",
    "                res+=stack.pop()  \n",
    "            stack.append(x)\n",
    "            \n",
    "        elif x==')':             # x가 닫는 괄호일 때\n",
    "            while stack and stack[-1]!='(':  # 여는 괄호까지 가야 함\n",
    "                res+=stack.pop()\n",
    "            stack.pop()  # 여는 괄호를 출력하지 않고 제거해야 함\n",
    "            \n",
    "### for문 처리해 스택에 남아있는 것 처리            \n",
    "while stack:          # 스택이 비어있을 때까지 반복\n",
    "    res+=stack.pop()  # 남아있는 것들 모두 출력\n",
    "print(res)\n"
   ]
  },
  {
   "cell_type": "code",
   "execution_count": null,
   "metadata": {},
   "outputs": [],
   "source": []
  }
 ],
 "metadata": {
  "kernelspec": {
   "display_name": "Python 3",
   "language": "python",
   "name": "python3"
  },
  "language_info": {
   "codemirror_mode": {
    "name": "ipython",
    "version": 3
   },
   "file_extension": ".py",
   "mimetype": "text/x-python",
   "name": "python",
   "nbconvert_exporter": "python",
   "pygments_lexer": "ipython3",
   "version": "3.7.4"
  }
 },
 "nbformat": 4,
 "nbformat_minor": 2
}
