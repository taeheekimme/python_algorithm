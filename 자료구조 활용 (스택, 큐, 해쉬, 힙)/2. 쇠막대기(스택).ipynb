{
 "cells": [
  {
   "cell_type": "markdown",
   "metadata": {},
   "source": [
    "여러 개의 쇠막대기를 레이저로 절단하려고 한다. <br>\n",
    "효율적인 작업을 위해서 쇠막대기를 아래에서 위로 겹쳐 놓고, 레이저를 위에서 수직으로 발사하여 쇠막대기들을 자른다. <br>\n",
    "쇠막대기와 레이저의 배치는 다음 조건을 만족한다.<br>\n",
    "• 쇠막대기는 자신보다 긴 쇠막대기 위에만 놓일 수 있다. - 쇠막대기를 다른 쇠막대기 위에 놓는 경우 완전히 포함되도록 놓되, <br>\n",
    "끝점은 겹치지 않도록 놓는다.<br>\n",
    "• 각 쇠막대기를 자르는 레이저는 적어도 하나 존재한다.<br>\n",
    "• 레이저는 어떤 쇠막대기의 양 끝점과도 겹치지 않는다.<br>\n",
    "아래 그림은 위 조건을 만족하는 예를 보여준다. 수평으로 그려진 굵은 실선은 쇠막대기이고,<br>\n",
    "점은 레이저의 위치, 수직으로 그려진 점선 화살표는 레이저의 발사 방향이다.<br>\n",
    "이러한 레이저와 쇠막대기의 배치는 다음과 같이 괄호를 이용하여 왼쪽부터 순서대로 표현할 수 있다.<br>\n",
    "1. 레이저는 여는 괄호와 닫는 괄호의 인접한 쌍 ‘( ) ’ 으로 표현된다. 또한, 모든 ‘( ) ’는 반드시 레이저를 표현한다.<br>\n",
    "2. 쇠막대기의 왼쪽 끝은 여는 괄호 ‘ ( ’ 로, 오른쪽 끝은 닫힌 괄호 ‘) ’ 로 표현된다.<br>\n",
    "위 예의 괄호 표현은 그림 위에 주어져 있다.<br>\n",
    "쇠막대기는 레이저에 의해 몇 개의 조각으로 잘려지는데, 위 예에서 가장 위에 있는 두 개의 쇠막대기는 각각 3개와 2개의 조각으로 잘려지고, <br>\n",
    "이와 같은 방식으로 주어진 쇠막대기들은 총 17개의 조각으로 잘려진다.<br>\n",
    "쇠막대기와 레이저의 배치를 나타내는 괄호 표현이 주어졌을 때, 잘려진 쇠막대기 조각의 총 개수를 구하는 프로그램을 작성하시오."
   ]
  },
  {
   "cell_type": "markdown",
   "metadata": {},
   "source": [
    "▣ 입력설명<br>\n",
    "한 줄에 쇠막대기와 레이저의 배치를 나타내는 괄호 표현이 공백없이 주어진다. 괄호 문자의 개수는 최대 100,000이다.\n"
   ]
  },
  {
   "cell_type": "markdown",
   "metadata": {},
   "source": [
    "\n",
    "▣ 출력설명<br>\n",
    "잘려진 조각의 총 개수를 나타내는 정수를 한 줄에 출력한다.\n"
   ]
  },
  {
   "cell_type": "markdown",
   "metadata": {},
   "source": [
    "▣ 입력예제 1<br>\n",
    "()(((()())(())()))(())\n",
    "- 쇠막대기와 레이저의 배치를 나타내는 괄호 표현\n",
    "- 레이저를 쏘아 쇠막대기를 자름\n",
    "- 레이저는 ()으로 표현\n",
    "- 쇠막대기의 처음 부분 (, 끝 부분 )<br><br>\n",
    "\n",
    "- 여는 괄호는 append\n",
    "- 닫는 괄호는 pop\n",
    "- stack에 남아있는 여는괄호 개수가 쇠막대기의 잘려진 조각 개수\n",
    "    - 즉, 스택의 길이를 누적\n",
    "    - sum +=len(stack)"
   ]
  },
  {
   "cell_type": "markdown",
   "metadata": {},
   "source": [
    "▣ 출력예제 1<br>\n",
    "17\n",
    "- 잘려진 쇠막대기 조각의 총 개수\n"
   ]
  },
  {
   "cell_type": "markdown",
   "metadata": {},
   "source": [
    "▣ 입력예제 2<br>\n",
    "(((()(()()))(())()))(()())\n"
   ]
  },
  {
   "cell_type": "markdown",
   "metadata": {},
   "source": [
    "▣ 출력예제 2<br>\n",
    "24"
   ]
  },
  {
   "cell_type": "code",
   "execution_count": 1,
   "metadata": {},
   "outputs": [
    {
     "name": "stdout",
     "output_type": "stream",
     "text": [
      "()(((()())(())()))(())\n",
      "17\n"
     ]
    }
   ],
   "source": [
    "# 괄호 입력\n",
    "s=input()\n",
    "\n",
    "# 빈 리스트 생성\n",
    "stack=[]\n",
    "\n",
    "# 쇠막대기 조각 개수 저장\n",
    "cnt=0\n",
    "\n",
    "\n",
    "for i in range(len(s)):     # 스택의 길이만큼 반복하면 모든 괄호 탐색가능\n",
    "    \n",
    "    if s[i]=='(':           # 여는 괄호일 때\n",
    "        stack.append(s[i])  # append\n",
    "        \n",
    "    else:                   # 닫는 괄호일 때\n",
    "        \n",
    "        \n",
    "        ### 닫는 괄호면 앞의 괄호가 여는 괄호인지 아닌지 확인\n",
    "        if s[i-1]=='(':      # 앞이 여는 괄호일 때 ()쌍을 이룸 -> 레이저\n",
    "            stack.pop()      # 레이저의 여는 것 pop\n",
    "            cnt+=len(stack)  # 스택길이를 누적(남아있는 여는 괄호는 쇠막대기 개수)\n",
    "            \n",
    "        else:                # 앞이 닫는 괄호일 때 -> 쇠막대기 끝부분\n",
    "            stack.pop()      # 쇠막대기 끝이니 pop\n",
    "            cnt+=1           \n",
    "                            \n",
    "print(cnt)"
   ]
  },
  {
   "cell_type": "code",
   "execution_count": null,
   "metadata": {},
   "outputs": [],
   "source": []
  }
 ],
 "metadata": {
  "kernelspec": {
   "display_name": "Python 3",
   "language": "python",
   "name": "python3"
  },
  "language_info": {
   "codemirror_mode": {
    "name": "ipython",
    "version": 3
   },
   "file_extension": ".py",
   "mimetype": "text/x-python",
   "name": "python",
   "nbconvert_exporter": "python",
   "pygments_lexer": "ipython3",
   "version": "3.7.4"
  }
 },
 "nbformat": 4,
 "nbformat_minor": 2
}
