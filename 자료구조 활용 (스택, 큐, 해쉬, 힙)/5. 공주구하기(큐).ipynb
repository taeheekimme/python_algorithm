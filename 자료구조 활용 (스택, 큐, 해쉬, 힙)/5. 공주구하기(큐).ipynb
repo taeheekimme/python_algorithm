{
 "cells": [
  {
   "cell_type": "markdown",
   "metadata": {},
   "source": [
    "- 큐\n",
    "   - 들어간 순서대로 출력됨\n",
    "   - FIFO\n",
    "   - deque 자료구조로 사용 (파이썬에서 제공하는 큐 라이브러리)\n",
    "      - append, pop\n",
    "      - 앞에서도 출력할 수 있고, 뒤에서도 출력할 수 있음\n",
    "      - 왼쪽에서 입력 : append left\n",
    "      - 왼쪽에서 출력 : pop left\n",
    "      - 큐를 사용해 문제를 풀려면 오른쪽에서 입력 append, 왼쪽에서 출력 pop left"
   ]
  },
  {
   "cell_type": "markdown",
   "metadata": {},
   "source": [
    "정보 왕국의 이웃 나라 외동딸 공주가 숲속의 괴물에게 잡혀갔습니다.<br>\n",
    "정보 왕국에는 왕자가 N명이 있는데 서로 공주를 구하러 가겠다고 합니다. <br>\n",
    "정보왕국의 왕은 다음과 같은 방법으로 공주를 구하러 갈 왕자를 결정하기로 했습니다.<br>\n",
    "왕은 왕자들을 나이 순으로 1번부터 N번까지 차례로 번호를 매긴다. <br>\n",
    "그리고 1번 왕자부터 N번 왕자까지 순서대로 시계 방향으로 돌아가며 동그랗게 앉게 한다. <br>\n",
    "그리고 1번 왕자부터 시계방향으로 돌아가며 1부터 시작하여 번호를 외치게 한다. <br>\n",
    "한 왕자가 K(특정숫자)를 외치면 그왕자는 공주를 구하러 가는데서 제외되고 원 밖으로 나오게 된다. <br>\n",
    "그리고 다음 왕자부터 다시 1부터 시작하여 번호를 외친다.<br>\n",
    "이렇게 해서 마지막까지 남은 왕자가 공주를 구하러 갈 수 있다.<br>\n",
    "예를 들어 총 8명의 왕자가 있고, 3을 외친 왕자가 제외된다고 하자. <br>\n",
    "처음에는 3번 왕자가 3을 외쳐 제외된다. 이어 6, 1, 5, 2, 8, 4번 왕자가 차례대로 제외되고 마지막까지 남게 된 7번 왕자에게 공주를 구하러갑니다.<br>\n",
    "N과 K가 주어질 때 공주를 구하러 갈 왕자의 번호를 출력하는 프로그램을 작성하시오.\n"
   ]
  },
  {
   "cell_type": "markdown",
   "metadata": {},
   "source": [
    "▣ 입력설명<br>\n",
    "첫 줄에 자연수 N(5<=N<=1,000)과 K(2<=K<=9)가 주어진다.\n"
   ]
  },
  {
   "cell_type": "markdown",
   "metadata": {},
   "source": [
    "▣ 출력설명<br>\n",
    "첫 줄에 마지막 남은 왕자의 번호를 출력합니다.\n"
   ]
  },
  {
   "cell_type": "markdown",
   "metadata": {},
   "source": [
    "▣ 입력예제 1<br>\n",
    "8 3\n",
    "\n",
    "- 3을 외치는 사람이 출력되는 것\n",
    "- 왕자 1명만 남을 때 까지\n",
    "  - 1, 2, 3, 4, 5, 6, 7, 8 로 8명의 왕자가 일렬로 있음\n",
    "  - 1번 출력 후 마지막에 append\n",
    "  - 2번 출력 후 마지막에 append\n",
    "  - 3번 출력 후 3번이므로 pop\n",
    "  - k-1개를 pop한 후 마지막부분에 append, k번째는 pop하는 패턴\n",
    "- 계속 순환하다보면 원형으로 도는 것과 같게 됨"
   ]
  },
  {
   "cell_type": "markdown",
   "metadata": {},
   "source": [
    "▣ 출력예제 1<br>\n",
    "7"
   ]
  },
  {
   "cell_type": "code",
   "execution_count": 2,
   "metadata": {},
   "outputs": [
    {
     "name": "stdout",
     "output_type": "stream",
     "text": [
      "8 3\n",
      "7\n"
     ]
    }
   ],
   "source": [
    "from collections import deque   # deque 자료구조 사용하기 위함 \n",
    "\n",
    "# 왕자 수, 특정 숫자\n",
    "n, k=map(int, input().split())\n",
    "\n",
    "# 1~n까지 리스트 생성(왕자 수와 같도록 n까지)\n",
    "q=list(range(1, n+1))\n",
    "\n",
    "# 생성한 리스트를 큐 자료구조로 변경\n",
    "dq=deque(q)\n",
    "\n",
    "### k-1번째는 pop한 후 마지막부분에 append, k번째는 pop\n",
    "while dq:  # 큐 자료구조가 비게 될 때 종료됨\n",
    "    for _ in range(k-1):  # k-1번 반복\n",
    "        cur=dq.popleft()  # pop\n",
    "        dq.append(cur)    # pop한 것을 마지막부분에 append\n",
    "        \n",
    "        \n",
    "    ### for문이 끝나면 k에 해당되는 사람이 선택됨\n",
    "    dq.popleft()     # pop해서 삭제\n",
    "    \n",
    "    \n",
    "    ### 큐에 왕자가 1명 남은 경우를 찾아 출력\n",
    "    if len(dq)==1:   # 큐 자료구조에 자료가 1개 있는 경우\n",
    "        print(dq[0]) # 1개 있으므로 인덱스 0번에 존재할 것\n",
    "        dq.popleft() # pop해서 삭제되어 빈 자료구조가 되므로 while문 종료\n"
   ]
  },
  {
   "cell_type": "code",
   "execution_count": null,
   "metadata": {},
   "outputs": [],
   "source": []
  }
 ],
 "metadata": {
  "kernelspec": {
   "display_name": "Python 3",
   "language": "python",
   "name": "python3"
  },
  "language_info": {
   "codemirror_mode": {
    "name": "ipython",
    "version": 3
   },
   "file_extension": ".py",
   "mimetype": "text/x-python",
   "name": "python",
   "nbconvert_exporter": "python",
   "pygments_lexer": "ipython3",
   "version": "3.7.4"
  }
 },
 "nbformat": 4,
 "nbformat_minor": 2
}
