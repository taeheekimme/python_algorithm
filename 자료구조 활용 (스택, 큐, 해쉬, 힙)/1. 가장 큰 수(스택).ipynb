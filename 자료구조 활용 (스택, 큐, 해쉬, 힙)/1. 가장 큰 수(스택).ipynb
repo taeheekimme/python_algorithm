{
 "cells": [
  {
   "cell_type": "markdown",
   "metadata": {},
   "source": [
    "- 스택\n",
    "  - LIFO\n",
    "  - 마지막으로 들어간게 먼저 나옴\n",
    "  - 하수구에 빠진 공으로 생각\n",
    "  - 리스트를 이용하여 pop, append 사용\n",
    "  - 파이썬에서 따로 스택 자료구조를 갖고있지 않음"
   ]
  },
  {
   "cell_type": "markdown",
   "metadata": {},
   "source": [
    "선생님은 현수에게 숫자 하나를 주고, 해당 숫자의 자릿수들 중 m개의 숫자를 제거하여 가장 큰 수를 만들라고 했습니다. <br>\n",
    "여러분이 현수를 도와주세요.(단 숫자의 순서는 유지해야 합니다) <br>\n",
    "만약 5276823 이 주어지고 3개의 자릿수를 제거한다면 7823이 가장 큰 숫자가 됩니다. <br>\n"
   ]
  },
  {
   "cell_type": "markdown",
   "metadata": {},
   "source": [
    "▣ 입력설명 <br>\n",
    "첫째 줄에 숫자(길이는 1000을 넘지 않습니다)와 제가해야할 자릿수의 개수가 주어집니다.\n"
   ]
  },
  {
   "cell_type": "markdown",
   "metadata": {},
   "source": [
    "▣ 출력설명 <br>\n",
    "가장 큰 수를 출력합니다. <br>\n"
   ]
  },
  {
   "cell_type": "markdown",
   "metadata": {},
   "source": [
    "▣ 입력예제 1 <br>\n",
    "5276823 3\n",
    "- 5276823에서 3개 숫자를 제거 후, 남은 숫자로 순서를 유지하면서 만든 제일 큰 수\n",
    "- 해당 숫자의 앞 숫자는 해당 숫자보다 작은 숫자여야 함\n",
    "    - 해당 숫자가 작은 수를 지우고 앞으로 갈 수 있음\n",
    "    - 큰 숫자가 앞으로 가야 큰 수를 만들 수 있으므로 \n"
   ]
  },
  {
   "cell_type": "markdown",
   "metadata": {},
   "source": [
    "▣ 출력예제 1 <br>\n",
    "7823\n"
   ]
  },
  {
   "cell_type": "markdown",
   "metadata": {},
   "source": [
    "▣ 입력예제 2 <br>\n",
    "9977252641 5\n",
    "- 99772에서 5보다 작은 수 2가 있으므로 2 pop\n",
    "- 9977에서 5보다 작은 수는 없으므로 5 append <br><br>\n",
    "\n",
    "- 99775에서 2보다 작은 수는 없으므로 2 append<br><br>\n",
    "\n",
    "- 997752에서 6보다 작은 수 2가 있으므로 2 pop\n",
    "- 99775에서 6보다 작은 수 5가 있으므로 5 pop\n",
    "- 9977에서 6보다 작은 수는 없으므로 5 append<br><br>\n",
    "\n",
    "- 99776에서 4보다 작은 수는 없으므로 4 append <br><br>\n",
    "\n",
    "- 99774에서 1보다 작은 수는 없으므로 1 append<br><br>\n",
    "\n",
    "- 5개를 제거해야 하므로 2개 더 제거해야 함\n",
    "    - 큰 수를 만들어야하므로 맨 뒤의 2개를 제거\n",
    "    - 9977641에서 맨 뒤의 4,1을 제거하려면 -1,-2인덱스를 지워주면 됨"
   ]
  },
  {
   "cell_type": "markdown",
   "metadata": {},
   "source": [
    "▣ 출력예제 2 <br>\n",
    "99776"
   ]
  },
  {
   "cell_type": "code",
   "execution_count": 2,
   "metadata": {},
   "outputs": [
    {
     "name": "stdout",
     "output_type": "stream",
     "text": [
      "5276823 3\n",
      "7823\n"
     ]
    }
   ],
   "source": [
    "# 입력받을 숫자, 삭제가능횟수\n",
    "num, m=map(int, input().split())\n",
    "\n",
    "# 입력받을 숫자는 하나의 숫자가 아닌 개별 숫자이므로 분리시켜야 함 -> str처리하여 문자로 처리하면 됨\n",
    "num=list(map(int, str(num)))\n",
    "\n",
    "# 빈 리스트 생성\n",
    "stack=[]\n",
    "\n",
    "for x in num:  # 5,2,7 순서로 입력됨\n",
    "    \n",
    "    \n",
    "    ### 내 앞의 숫자가 작으면 지우고 앞으로 전진\n",
    "    while stack and m>0 and stack[-1]<x:        # stack : stack이 비어있으면 while문 거짓, 비어있지 않으면 while문 참\n",
    "                                                # m>0 : m은 삭제횟수이니 0보다 커야 함\n",
    "                                                # stack[-1]<x : stack의 맨 마지막 자료가 현재 숫자보다 작음\n",
    "                \n",
    "        stack.pop()         # 마지막 자료가 현재 숫자보다 작으니 pop\n",
    "        m-=1                # 1개 pop했으니 삭제가능횟수 1감소\n",
    "    stack.append(x)         # 현재 숫자보다 작은숫자가 없으면 현재숫자 추가\n",
    "    \n",
    "    \n",
    "    \n",
    "### 삭제가능횟수를 다 채우지 못한 경우(5개 지워야하는데 3개만 지워진 경우)\n",
    "if m!=0:              # m이 0이 안된 경우(2번 더 지워야하는 경우)\n",
    "    stack=stack[:-m]  # 뒤의 2개를 제거\n",
    "    \n",
    "res=''.join(map(str, stack))  # 출력될 숫자를 붙여서 출력\n",
    "print(res)\n"
   ]
  },
  {
   "cell_type": "code",
   "execution_count": null,
   "metadata": {},
   "outputs": [],
   "source": []
  }
 ],
 "metadata": {
  "kernelspec": {
   "display_name": "Python 3",
   "language": "python",
   "name": "python3"
  },
  "language_info": {
   "codemirror_mode": {
    "name": "ipython",
    "version": 3
   },
   "file_extension": ".py",
   "mimetype": "text/x-python",
   "name": "python",
   "nbconvert_exporter": "python",
   "pygments_lexer": "ipython3",
   "version": "3.7.4"
  }
 },
 "nbformat": 4,
 "nbformat_minor": 2
}
