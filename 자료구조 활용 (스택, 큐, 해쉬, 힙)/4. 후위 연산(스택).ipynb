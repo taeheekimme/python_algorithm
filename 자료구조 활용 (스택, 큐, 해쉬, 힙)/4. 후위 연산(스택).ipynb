{
 "cells": [
  {
   "cell_type": "markdown",
   "metadata": {},
   "source": [
    "후위연산식이 주어지면 연산한 결과를 출력하는 프로그램을 작성하세요.<br>\n",
    "만약 3*(5+2)-9 을 후위연산식으로 표현하면 352+*9- 로 표현되며 그 결과는 21입니다.<br>\n"
   ]
  },
  {
   "cell_type": "markdown",
   "metadata": {},
   "source": [
    "▣ 입력설명<br>\n",
    "첫 줄에 후위연산식이 주어집니다. 연산식의 길이는 50을 넘지 않습니다.<br>\n",
    "식은 1~9의 숫자와 +, -, *, /, (, ) 연산자로만 이루어진다.\n"
   ]
  },
  {
   "cell_type": "markdown",
   "metadata": {},
   "source": [
    "▣ 출력설명<br>\n",
    "연산한 결과를 출력합니다.\n"
   ]
  },
  {
   "cell_type": "markdown",
   "metadata": {},
   "source": [
    "▣ 입력예제 1<br>\n",
    "352+*9-\n",
    "- 후위연산식\n",
    "- 연산자를 만나게 되면 앞의 2개 숫자와 계산\n",
    "   - +를 만나 앞의 5,2계산 \n",
    "      - 37 * 9 -\n",
    "   - *를 만나 앞의 3,7계산\n",
    "      - 21 9 -\n",
    "   - -를 만나 21,9계산(순서대로 - 계산)\n",
    "      - 12<br><br>\n",
    "      \n",
    "- 숫자를 만나면 append\n",
    "- 연산자를 만나면 스택에서 숫자 2개 pop\n",
    "   - 먼저 나온게 나중에 계산됨\n",
    "- 계산결과 append"
   ]
  },
  {
   "cell_type": "markdown",
   "metadata": {},
   "source": [
    "▣ 출력예제 1<br>\n",
    "12\n",
    "- 후위연산식 계산 결과"
   ]
  },
  {
   "cell_type": "code",
   "execution_count": 1,
   "metadata": {},
   "outputs": [
    {
     "name": "stdout",
     "output_type": "stream",
     "text": [
      "352+*9-\n",
      "12\n"
     ]
    }
   ],
   "source": [
    "# 후위연산식 입력\n",
    "a=input()\n",
    "\n",
    "# 빈 리스트\n",
    "stack=[]\n",
    "\n",
    "### 연산자인지 피연산자인지 확인\n",
    "for x in a:  \n",
    "    if x.isdecimal():        # 입력된 x가 숫자라면\n",
    "        stack.append(int(x)) # append\n",
    "    else:  \n",
    "        \n",
    "        ### 피연사자일 경우\n",
    "        if x=='+':               # x가 +라면\n",
    "            n1=stack.pop()       # 숫자 1개 pop\n",
    "            n2=stack.pop()       # 또다른 숫자 1개 pop\n",
    "            stack.append(n2+n1)  # 숫자 2개와 +로 연산한 결과를 스택에 append\n",
    "            \n",
    "        elif x=='-':        \n",
    "            n1=stack.pop()\n",
    "            n2=stack.pop()\n",
    "            stack.append(n2-n1)\n",
    "            \n",
    "        elif x=='*':\n",
    "            n1=stack.pop()\n",
    "            n2=stack.pop()\n",
    "            stack.append(n2*n1)\n",
    "            \n",
    "        elif x=='/':\n",
    "            n1=stack.pop()\n",
    "            n2=stack.pop()\n",
    "            stack.append(n2/n1)\n",
    "            \n",
    "print(stack[0])  # 스택에는 마지막 연산한 결과 1개만 남음\n"
   ]
  },
  {
   "cell_type": "code",
   "execution_count": null,
   "metadata": {},
   "outputs": [],
   "source": []
  }
 ],
 "metadata": {
  "kernelspec": {
   "display_name": "Python 3",
   "language": "python",
   "name": "python3"
  },
  "language_info": {
   "codemirror_mode": {
    "name": "ipython",
    "version": 3
   },
   "file_extension": ".py",
   "mimetype": "text/x-python",
   "name": "python",
   "nbconvert_exporter": "python",
   "pygments_lexer": "ipython3",
   "version": "3.7.4"
  }
 },
 "nbformat": 4,
 "nbformat_minor": 2
}
