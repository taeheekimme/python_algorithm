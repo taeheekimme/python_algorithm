{
 "cells": [
  {
   "cell_type": "markdown",
   "metadata": {},
   "source": [
    "현수는 1년 과정의 수업계획을 짜야 합니다.<br>\n",
    "수업중에는 필수과목이 있습니다. 이 필수과목은 반드시 이수해야 하며, 그 순서도 정해져 있습니다.<br>\n",
    "만약 총 과목이 A, B, C, D, E, F, G가 있고, 여기서 필수과목이 CBA로 주어지면 필수과목은 C, B, A과목이며 이 순서대로 꼭 수업계획을 짜야 합니다.<br>\n",
    "여기서 순서란 B과목은 C과목을 이수한 후에 들어야 하고, A과목은 C와 B를 이수한 후에 들어야 한다는 것입니다.<br>\n",
    "현수가 C, B, D, A, G, E로 수업계획을 짜면 제대로 된 설계이지만 C, G, E, A, D, B 순서로 짰다면 잘 못 설계된 수업계획이 됩니다.<br>\n",
    "수업계획은 그 순서대로 앞에 수업이 이수되면 다음 수업을 시작하다는 것으로 해석합니다.<br>\n",
    "수업계획서상의 각 과목은 무조건 이수된다고 가정합니다.<br>\n",
    "필수과목순서가 주어지면 현수가 짠 N개의 수업설계가 잘된 것이면 “YES\", 잘못된 것이면 ”NO“를 출력하는 프로그램을 작성하세요.\n"
   ]
  },
  {
   "cell_type": "markdown",
   "metadata": {},
   "source": [
    "▣ 입력설명<br>\n",
    "첫 줄에 한 줄에 필수과목의 순서가 주어집니다. 모든 과목은 영문 대문자입니다.<br>\n",
    "두 번째 줄에 N(1<=N<=10)이 주어집니다.<br>\n",
    "세 번 째 줄부터 현수가 짠 N개의 수업설계가 주어집니다.(수업설계의 길이는 30이하이다)<br>\n",
    "수업설계는 같은 과목을 여러 번 이수하도록 설계해도 됩니다.\n"
   ]
  },
  {
   "cell_type": "markdown",
   "metadata": {},
   "source": [
    "▣ 출력설명<br>\n",
    "수업설계가 잘된 것이면 “YES\", 잘못된 것이면 ”NO“를 출력합니다."
   ]
  },
  {
   "cell_type": "markdown",
   "metadata": {},
   "source": [
    "▣ 입력예제 1<br>\n",
    "CBA<br>\n",
    "3<br>\n",
    "CBDAGE<br>\n",
    "FGCDAB<br>\n",
    "CTSBDEA<br>\n",
    "- 필수과목 CBA는 순서대로 들어야 함\n",
    "- 3개 플랜\n",
    "  - 각자의 플랜에서 해당 과목이 필수과목인지 확인\n",
    "- 1번 플랜\n",
    "   - 큐에서 C를 pop하여 CBDAGE의 C와 일치하는지 확인 \n",
    "      - 일치하므로 통과\n",
    "   - 큐에서 B를 pop하여 CBDAGE의 B와 일치하는지 확인 \n",
    "      - 일치하므로 통과\n",
    "   - 큐에서 A를 pop하여 CBDAGE의 A와 일치하는지 확인 \n",
    "      - 불일치\n",
    "   - 큐에서 A를 pop하여 CBDAGE의 A와 일치하는지 확인 \n",
    "      - 일치하므로 통과\n",
    "   - E는 불일치"
   ]
  },
  {
   "cell_type": "markdown",
   "metadata": {},
   "source": [
    "▣ 출력예제 1<br>\n",
    "#1 YES<br>\n",
    "#2 NO<br>\n",
    "#3 YES"
   ]
  },
  {
   "cell_type": "markdown",
   "metadata": {},
   "source": [
    "▣ 입력예제 2<br>\n",
    "AFC<br>\n",
    "1<br>\n",
    "AFFDCCFF\n"
   ]
  },
  {
   "cell_type": "markdown",
   "metadata": {},
   "source": [
    "▣ 출력예제 2<br>\n",
    "#1 YES"
   ]
  },
  {
   "cell_type": "code",
   "execution_count": 1,
   "metadata": {},
   "outputs": [
    {
     "name": "stdout",
     "output_type": "stream",
     "text": [
      "CBA\n",
      "3\n",
      "CBDAGE\n",
      "#1 YES\n",
      "FGCDAB\n",
      "#2 NO\n",
      "CTSBDEA\n",
      "#3 YES\n"
     ]
    }
   ],
   "source": [
    "from collections import deque  # 큐 자료구조 불러옴\n",
    "\n",
    "# 필수과목 \n",
    "need=input()\n",
    "\n",
    "# 플랜 개수\n",
    "n=int(input())\n",
    "\n",
    "#### 1. 필수과목이 순서대로 짜여졌는지 확인\n",
    "#### 2. 필수과목을 플랜에 다 넣었는지 확인\n",
    "\n",
    "\n",
    "### 플랜3개 하나씩 입력\n",
    "for i in range(n):\n",
    "    plan=input()     # plan에 플랜 3개를 하나씩 입력받음\n",
    "    dq=deque(need)   # 큐를 필수과목으로 초기화\n",
    "    \n",
    "    ### 플랜1 의 과목을 x로 하나씩 입력받음\n",
    "    for x in plan:\n",
    "        \n",
    "        ### x과목이 필수과목인지 확인\n",
    "        if x in dq:\n",
    "            \n",
    "            ### 플랜1의 x과목이 필수과목인지 확인\n",
    "            if x!=dq.popleft():        # x과목이 필수과목의 첫번째 과목과 다른경우\n",
    "                print(\"#%d NO\" %(i+1)) # NO 출력\n",
    "                break\n",
    "                \n",
    "                          \n",
    "    else:    # x과목이 필수과목의 첫번째 과목가 같은경우  \n",
    "        \n",
    "        \n",
    "        ### 필수과목을 플랜1에 다 넣었는지 확인\n",
    "        if len(dq)==0:     # 필수과목 큐에 아무것도 남아있지 않아야 모두 이수한 것\n",
    "            print(\"#%d YES\" %(i+1))\n",
    "            \n",
    "        else:              # 필수괌고 큐에 과목이 남아있는 경우(모두 이수하지 않음)\n",
    "            print(\"#%d NO\" %(i+1))\n"
   ]
  },
  {
   "cell_type": "markdown",
   "metadata": {},
   "source": []
  }
 ],
 "metadata": {
  "kernelspec": {
   "display_name": "Python 3",
   "language": "python",
   "name": "python3"
  },
  "language_info": {
   "codemirror_mode": {
    "name": "ipython",
    "version": 3
   },
   "file_extension": ".py",
   "mimetype": "text/x-python",
   "name": "python",
   "nbconvert_exporter": "python",
   "pygments_lexer": "ipython3",
   "version": "3.7.4"
  }
 },
 "nbformat": 4,
 "nbformat_minor": 2
}
