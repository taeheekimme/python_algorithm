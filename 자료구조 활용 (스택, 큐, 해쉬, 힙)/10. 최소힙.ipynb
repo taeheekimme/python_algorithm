{
 "cells": [
  {
   "cell_type": "markdown",
   "metadata": {},
   "source": [
    "- 최소힙\n",
    "  - 이진트리를 가지고 만들어짐\n",
    "  - 부모노드 < 자식노드여야 함\n",
    "  - 순서대로 숫자를 입력하고, 부모와 자식노드 비교를 통해 swap하여 자리 교체\n",
    "  - heappop을 하면 최소값인 최상단의 부모노드가 출력됨\n",
    "  - 출력된 자리는 오른쪽 마지막 자식노드의 값을 입력\n",
    "  - 다시 부모와 자식노드 비교하여 swap\n",
    "  - heappush하면 새로운 노드를 생성해 자료 추가할 수 있음"
   ]
  },
  {
   "cell_type": "markdown",
   "metadata": {},
   "source": [
    "최소힙은 완전이진트리로 구현된 자료구조입니다. 그 구성은 부모 노드값이 왼쪽자식과 오른쪽 자식노드의 값보다 작게 트리를 구성하는 것입니다.<br> 그렇게 하면 트리의 루트(root)노드는 입력된 값들 중 가장 작은 값이 저장되어 있습니다. <br> \n",
    "최소힙 자료를 이용하여 다음과 같은 연산을 하는 프로그램을 작성하세요.<br> \n",
    "1) 자연수가 입력되면 최소힙에 입력한다.<br> \n",
    "2) 숫자 0 이 입력되면 최소힙에서 최솟값을 꺼내어 출력한다.<br> \n",
    "(출력할 자료가 없으면 -1를 출력한다.)<br> \n",
    "3) -1이 입력되면 프로그램 종료한다."
   ]
  },
  {
   "cell_type": "markdown",
   "metadata": {},
   "source": [
    "▣ 입력설명<br> \n",
    "첫 번째 줄부터 숫자가 입력된다. <br> \n",
    "입력되는 숫자는 100,000개 이하이며 각 숫자의 크기는 정수형 범위에 있다.\n"
   ]
  },
  {
   "cell_type": "markdown",
   "metadata": {},
   "source": [
    "▣ 출력설명<br> \n",
    "2) 연산을 한 결과를 보여준다.\n"
   ]
  },
  {
   "cell_type": "markdown",
   "metadata": {},
   "source": [
    "▣ 입력예제 1<br> \n",
    "5<br> \n",
    "3<br> \n",
    "6<br> \n",
    "0<br> \n",
    "5<br> \n",
    "0<br> \n",
    "2<br> \n",
    "4<br> \n",
    "0<br> \n",
    "-1\n"
   ]
  },
  {
   "cell_type": "markdown",
   "metadata": {},
   "source": [
    "▣ 출력예<br>\n",
    "3<br>\n",
    "5<br>\n",
    "2<br>"
   ]
  },
  {
   "cell_type": "code",
   "execution_count": 1,
   "metadata": {},
   "outputs": [
    {
     "name": "stdout",
     "output_type": "stream",
     "text": [
      "5\n",
      "3\n",
      "6\n",
      "0\n",
      "3\n",
      "5\n",
      "0\n",
      "5\n",
      "2\n",
      "4\n",
      "0\n",
      "2\n",
      "-1\n"
     ]
    }
   ],
   "source": [
    "import heapq as hq    # 파이썬에서 힙 불러오기\n",
    "\n",
    "# 빈 리스트에 자료를 push, pop할 예정\n",
    "# heappush, heappop하면 힙 자료구조로 저장됨\n",
    "a=[]\n",
    "\n",
    "\n",
    "while True:  # 무한 반복\n",
    "    n=int(input())  # 값 비교를 위해 int형으로 입력\n",
    "    \n",
    "    #### n에 -1이 입력되면 종료\n",
    "    if n==-1:\n",
    "        break\n",
    "        \n",
    "    ### n에 0이 입력되면 최소힙에서 최소값 출력\n",
    "    if n==0:\n",
    "        \n",
    "        ## 출력할 자료가 없을 때, 있을 때\n",
    "        if len(a)==0:   # 노드가 비어 출력할 자료가 없을 때 리스트의 길이는 0\n",
    "            print(-1)   # -1 출력\n",
    "            \n",
    "        else:           # 노드에서 출력할 자료가 있을 때\n",
    "            print(hq.heappop(a))  # 제일 작은 값인 최상단 부모노드 값을 pop\n",
    "            \n",
    "    ### n이 0이 아닌 다른 숫자일 때 push        \n",
    "    else:    \n",
    "        hq.heappush(a, n)  # a리스트에 n값 입력하여 새로운 노드 생성\n"
   ]
  },
  {
   "cell_type": "code",
   "execution_count": null,
   "metadata": {},
   "outputs": [],
   "source": []
  }
 ],
 "metadata": {
  "kernelspec": {
   "display_name": "Python 3",
   "language": "python",
   "name": "python3"
  },
  "language_info": {
   "codemirror_mode": {
    "name": "ipython",
    "version": 3
   },
   "file_extension": ".py",
   "mimetype": "text/x-python",
   "name": "python",
   "nbconvert_exporter": "python",
   "pygments_lexer": "ipython3",
   "version": "3.7.4"
  }
 },
 "nbformat": 4,
 "nbformat_minor": 2
}
