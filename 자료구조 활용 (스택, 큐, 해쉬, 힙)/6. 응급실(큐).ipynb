{
 "cells": [
  {
   "cell_type": "markdown",
   "metadata": {},
   "source": [
    "메디컬 병원 응급실에는 의사가 한 명밖에 없습니다.<br>\n",
    "응급실은 환자가 도착한 순서대로 진료를 합니다. <br>\n",
    "하지만 위험도가 높은 환자는 빨리 응급조치를 의사가 해야 합니다. <br>\n",
    "이런 문제를 보완하기 위해 응급실은 다음과 같은 방법으로 환자의 진료순서를 정합니다.<br>\n",
    "• 환자가 접수한 순서대로의 목록에서 제일 앞에 있는 환자목록을 꺼냅니다.<br>\n",
    "• 나머지 대기 목록에서 꺼낸 환자 보다 위험도가 높은 환자가 존재하면 대기목록 제일 뒤로 다시 넣습니다. <br>\n",
    "그렇지 않으면 진료를 받습니다.<br>\n",
    "현재 N명의 환자가 대기목록에 있습니다.<br>\n",
    "N명의 대기목록 순서의 환자 위험도가 주어지면, 대기목록상의 M번째 환자는 몇 번째로 진료를 받는지 출력하는 프로그램을 작성하세요.<br>\n",
    "대기목록상의 M번째는 대기목록의 제일 처음 환자를 0번째로 간주하여 표현한 것입니다.\n"
   ]
  },
  {
   "cell_type": "markdown",
   "metadata": {},
   "source": [
    "▣ 입력설명<br>\n",
    "첫 줄에 자연수 N(5<=N<=100)과 M(0<=M<N) 주어집니다.<br>\n",
    "두 번째 줄에 접수한 순서대로 환자의 위험도(50<=위험도<=100)가 주어집니다.<br>\n",
    "위험도는 값이 높을 수록 더 위험하다는 뜻입니다. 같은 값의 위험도가 존재할 수 있습니다.\n"
   ]
  },
  {
   "cell_type": "markdown",
   "metadata": {},
   "source": [
    "▣ 출력설명<br>\n",
    "M번째 환자의 몇 번째로 진료받는지 출력하세요.\n"
   ]
  },
  {
   "cell_type": "markdown",
   "metadata": {},
   "source": [
    "▣ 입력예제 1<br>\n",
    "5 2<br>\n",
    "60 50 70 80 90\n",
    "- 60 50 70 80 90은 위험도로 높을수록 먼저 진료받음\n",
    "- 5명의 환자가 60 50 70 80 90로 대기목록이 되어있고, 위험도가 70인 2번째 환자가 몇번째로 진료받을지 찾기\n",
    "- 내림차순 정렬할 경우 같은 위험도일 경우 구할 수 없음"
   ]
  },
  {
   "cell_type": "markdown",
   "metadata": {},
   "source": [
    "▣ 출력예제 1<br>\n",
    "3\n"
   ]
  },
  {
   "cell_type": "markdown",
   "metadata": {},
   "source": [
    "▣ 입력예제 2<br>\n",
    "6 0<br>\n",
    "60 60 90 60 60 60\n"
   ]
  },
  {
   "cell_type": "markdown",
   "metadata": {},
   "source": [
    "▣ 출력예제 2<br>\n",
    "5"
   ]
  },
  {
   "cell_type": "code",
   "execution_count": 1,
   "metadata": {},
   "outputs": [
    {
     "name": "stdout",
     "output_type": "stream",
     "text": [
      "5 2\n",
      "60 50 70 80 90\n",
      "3\n"
     ]
    }
   ],
   "source": [
    "from collections import deque   # deque 자료구조 사용하기 위함\n",
    "\n",
    "# n번째 사람중 m번째 사람의 진료 순서\n",
    "n, m=map(int, input().split())\n",
    "\n",
    "# pos는 인덱스, val은 위험도를 튜플형태로 입력받음(인덱스 번호를 알아야 하므로)\n",
    "Q=[(pos, val) for pos, val in enumerate(list(map(int, input().split())))]  # list(map(int, input().split()) : 60, 50, 70으로 입력받음\n",
    "                                                                           # (pos, val) for pos, val in enumerate : (0,60),(1,50),(2,70)\n",
    "# 리스트를 큐로 변경\n",
    "Q=deque(Q)\n",
    "\n",
    "# 몇번째인지 알기위해 진료받는 사람 추가\n",
    "cnt=0\n",
    "\n",
    "### m번째 사람이 진료를 받는 순간 출력하고 break\n",
    "while True:\n",
    "    cur=Q.popleft()  # 큐에서 첫번째 자료 pop \n",
    "    \n",
    "    \n",
    "    ### 출력한 자료가 위험도가 높은지 낮은지 확인\n",
    "    if any(cur[1]<x[1] for x in Q):   # (0,60)에서 위험도는 [1]인덱스\n",
    "                                      # 큐의 자료는 x에 (0,60)튜플 형태로 입력됨\n",
    "                                      # 현재 위험도 < 비교할 위험도 (현재 사람보다 위험도가 높은 사람이 있다면) \n",
    "        Q.append(cur)                 # 진료를 받으면 안되므로 뒤로 보냄\n",
    "        \n",
    "        \n",
    "    else:                 # 현재 사람이 위험도가 제일 높다면\n",
    "        cnt+=1            # 진료받아야 하므로 1명 추가\n",
    "        \n",
    "        \n",
    "        ### 진료받는 사람이 몇번째인지 출력\n",
    "        if cur[0]==m:\n",
    "            print(cnt)\n",
    "            break\n"
   ]
  },
  {
   "cell_type": "code",
   "execution_count": null,
   "metadata": {},
   "outputs": [],
   "source": []
  }
 ],
 "metadata": {
  "kernelspec": {
   "display_name": "Python 3",
   "language": "python",
   "name": "python3"
  },
  "language_info": {
   "codemirror_mode": {
    "name": "ipython",
    "version": 3
   },
   "file_extension": ".py",
   "mimetype": "text/x-python",
   "name": "python",
   "nbconvert_exporter": "python",
   "pygments_lexer": "ipython3",
   "version": "3.7.4"
  }
 },
 "nbformat": 4,
 "nbformat_minor": 2
}
