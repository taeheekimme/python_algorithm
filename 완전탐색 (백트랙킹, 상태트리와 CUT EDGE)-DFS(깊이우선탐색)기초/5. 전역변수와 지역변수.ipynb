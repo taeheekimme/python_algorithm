{
 "cells": [
  {
   "cell_type": "code",
   "execution_count": null,
   "metadata": {},
   "outputs": [],
   "source": [
    "def DFS1():\n",
    "    print(cnt)  # DFS1은 cnt변수가 자기의 지역변수인지 확인\n",
    "                # 자기 지역변수가 아니면 전역변수인지 확인\n",
    "                # 둘 다 아니면 정의되지 않은 변수로 에러 발생\n",
    "            \n",
    "                # DFS1은 cnt가 지역변수 아니므로 전역변수로 작동되어 5출력\n",
    "            \n",
    "\n",
    "def DFS2():\n",
    "    if cnt==5:  # DFS2도 cnt가 지역변수 아니므로 전역변수로 작동되어 5출력\n",
    "        print(cnt)\n",
    "\n",
    "        \n",
    "if __name__==\"__main__\":\n",
    "    cnt=5:   # 전역변수 : = 하는 순간 변수가 생성되고 5가 할당됨, DFS1, DFS2 등 모든 함수가 접근해 값을 변경할 수 있음\n",
    "    DFS1()\n",
    "    DFS2()\n",
    "    print(cnt)"
   ]
  },
  {
   "cell_type": "code",
   "execution_count": null,
   "metadata": {},
   "outputs": [],
   "source": [
    "def DFS1():\n",
    "    cnt=3       # DFS1에 지역변수 만듬\n",
    "    print(cnt)  # DFS1은 자기 지역변수인 3을 출력"
   ]
  },
  {
   "cell_type": "code",
   "execution_count": null,
   "metadata": {},
   "outputs": [],
   "source": [
    "def DFS2():\n",
    "    cnt=5          # 지역변수 설정해줘야 새로운 지역변수 작동됨\n",
    "    if cnt==5:   \n",
    "        cnt=cnt+1  # 새로운 지역변수 생성\n",
    "        print(cnt)"
   ]
  },
  {
   "cell_type": "code",
   "execution_count": null,
   "metadata": {},
   "outputs": [],
   "source": [
    "def DFS2():\n",
    "    global cnt      # cnt는 전역변수임을 알려줌\n",
    "    if cnt==5:   \n",
    "        cnt=cnt+1   # 전역변수로 작동됨\n",
    "        print(cnt)  # 6출력"
   ]
  },
  {
   "cell_type": "markdown",
   "metadata": {},
   "source": [
    "#### 리스트의 전역변수"
   ]
  },
  {
   "cell_type": "code",
   "execution_count": 5,
   "metadata": {},
   "outputs": [
    {
     "name": "stdout",
     "output_type": "stream",
     "text": [
      "[7, 2, 3]\n",
      "[7, 2, 3]\n"
     ]
    }
   ],
   "source": [
    "def DFS():\n",
    "    a[0]=7    # a의 0번 인덱스 값인 1을 7로 변경\n",
    "              # a[0]= : 새로운 리스트를 생성하는 것 아님 -> 전역변수로 자동으로 인식\n",
    "    print(a)  # 전역변수의 1을 7로 변경해 출력\n",
    "             \n",
    "        \n",
    "if __name__==\"__main__\":\n",
    "    a=[1,2,3]  # a리스트를 전역변수로 선언\n",
    "    DFS()\n",
    "    print(a)"
   ]
  },
  {
   "cell_type": "markdown",
   "metadata": {},
   "source": [
    "#### 리스트의 전역변수"
   ]
  },
  {
   "cell_type": "code",
   "execution_count": 3,
   "metadata": {},
   "outputs": [
    {
     "name": "stdout",
     "output_type": "stream",
     "text": [
      "[7, 8]\n",
      "[1, 2, 3]\n"
     ]
    }
   ],
   "source": [
    "def DFS():\n",
    "    a=[7,8]    # a라는 새로운 리스트를 생성 -> 지역변수로 작동\n",
    "    print(a)   # 7, 8 출력\n",
    "            \n",
    "        \n",
    "if __name__==\"__main__\":\n",
    "    a=[1,2,3]  # a리스트를 전역변수로 선언\n",
    "    DFS()\n",
    "    print(a)"
   ]
  },
  {
   "cell_type": "markdown",
   "metadata": {},
   "source": [
    "#### 리스트 지역변수 에러"
   ]
  },
  {
   "cell_type": "code",
   "execution_count": 4,
   "metadata": {},
   "outputs": [
    {
     "ename": "UnboundLocalError",
     "evalue": "local variable 'a' referenced before assignment",
     "output_type": "error",
     "traceback": [
      "\u001b[1;31m---------------------------------------------------------------------------\u001b[0m",
      "\u001b[1;31mUnboundLocalError\u001b[0m                         Traceback (most recent call last)",
      "\u001b[1;32m<ipython-input-4-c38b7482cb84>\u001b[0m in \u001b[0;36m<module>\u001b[1;34m\u001b[0m\n\u001b[0;32m      6\u001b[0m \u001b[1;32mif\u001b[0m \u001b[0m__name__\u001b[0m\u001b[1;33m==\u001b[0m\u001b[1;34m\"__main__\"\u001b[0m\u001b[1;33m:\u001b[0m\u001b[1;33m\u001b[0m\u001b[1;33m\u001b[0m\u001b[0m\n\u001b[0;32m      7\u001b[0m     \u001b[0ma\u001b[0m\u001b[1;33m=\u001b[0m\u001b[1;33m[\u001b[0m\u001b[1;36m1\u001b[0m\u001b[1;33m,\u001b[0m\u001b[1;36m2\u001b[0m\u001b[1;33m,\u001b[0m\u001b[1;36m3\u001b[0m\u001b[1;33m]\u001b[0m  \u001b[1;31m# a리스트를 전역변수로 선언\u001b[0m\u001b[1;33m\u001b[0m\u001b[1;33m\u001b[0m\u001b[0m\n\u001b[1;32m----> 8\u001b[1;33m     \u001b[0mDFS\u001b[0m\u001b[1;33m(\u001b[0m\u001b[1;33m)\u001b[0m\u001b[1;33m\u001b[0m\u001b[1;33m\u001b[0m\u001b[0m\n\u001b[0m\u001b[0;32m      9\u001b[0m     \u001b[0mprint\u001b[0m\u001b[1;33m(\u001b[0m\u001b[0ma\u001b[0m\u001b[1;33m)\u001b[0m\u001b[1;33m\u001b[0m\u001b[1;33m\u001b[0m\u001b[0m\n",
      "\u001b[1;32m<ipython-input-4-c38b7482cb84>\u001b[0m in \u001b[0;36mDFS\u001b[1;34m()\u001b[0m\n\u001b[0;32m      1\u001b[0m \u001b[1;32mdef\u001b[0m \u001b[0mDFS\u001b[0m\u001b[1;33m(\u001b[0m\u001b[1;33m)\u001b[0m\u001b[1;33m:\u001b[0m\u001b[1;33m\u001b[0m\u001b[1;33m\u001b[0m\u001b[0m\n\u001b[1;32m----> 2\u001b[1;33m     \u001b[0ma\u001b[0m\u001b[1;33m=\u001b[0m\u001b[0ma\u001b[0m\u001b[1;33m+\u001b[0m\u001b[1;33m[\u001b[0m\u001b[1;36m4\u001b[0m\u001b[1;33m]\u001b[0m    \u001b[1;31m# a= 했으므로 지역변수를 만들겠다는 뜻 -> a는 지역변수인데 아무 값도 없음, 연산불가\u001b[0m\u001b[1;33m\u001b[0m\u001b[1;33m\u001b[0m\u001b[0m\n\u001b[0m\u001b[0;32m      3\u001b[0m     \u001b[0mprint\u001b[0m\u001b[1;33m(\u001b[0m\u001b[0ma\u001b[0m\u001b[1;33m)\u001b[0m   \u001b[1;31m# 에러 발생\u001b[0m\u001b[1;33m\u001b[0m\u001b[1;33m\u001b[0m\u001b[0m\n\u001b[0;32m      4\u001b[0m \u001b[1;33m\u001b[0m\u001b[0m\n\u001b[0;32m      5\u001b[0m \u001b[1;33m\u001b[0m\u001b[0m\n",
      "\u001b[1;31mUnboundLocalError\u001b[0m: local variable 'a' referenced before assignment"
     ]
    }
   ],
   "source": [
    "def DFS():\n",
    "    a=a+[4]    # a= 했으므로 지역변수를 만들겠다는 뜻 -> a는 지역변수인데 아무 값도 없음, 연산불가\n",
    "    print(a)   # 에러 발생\n",
    "            \n",
    "        \n",
    "if __name__==\"__main__\":\n",
    "    a=[1,2,3]  # a리스트를 전역변수로 선언\n",
    "    DFS()\n",
    "    print(a)"
   ]
  },
  {
   "cell_type": "markdown",
   "metadata": {},
   "source": [
    "#### 리스트 지역변수 에러 해결"
   ]
  },
  {
   "cell_type": "code",
   "execution_count": 2,
   "metadata": {},
   "outputs": [
    {
     "name": "stdout",
     "output_type": "stream",
     "text": [
      "[1, 2, 3, 4]\n",
      "[1, 2, 3, 4]\n"
     ]
    }
   ],
   "source": [
    "def DFS():\n",
    "    global a\n",
    "    a=a+[4]    # a= 했으므로 지역변수를 만들겠다는 뜻 -> a는 전역변수인 a=[1,2,3]에 4추가\n",
    "    print(a)   # 1,2,3,4 출력\n",
    "            \n",
    "        \n",
    "if __name__==\"__main__\":\n",
    "    a=[1,2,3]  # a리스트를 전역변수로 선언\n",
    "    DFS()\n",
    "    print(a)"
   ]
  },
  {
   "cell_type": "code",
   "execution_count": null,
   "metadata": {},
   "outputs": [],
   "source": []
  }
 ],
 "metadata": {
  "kernelspec": {
   "display_name": "Python 3",
   "language": "python",
   "name": "python3"
  },
  "language_info": {
   "codemirror_mode": {
    "name": "ipython",
    "version": 3
   },
   "file_extension": ".py",
   "mimetype": "text/x-python",
   "name": "python",
   "nbconvert_exporter": "python",
   "pygments_lexer": "ipython3",
   "version": "3.7.4"
  }
 },
 "nbformat": 4,
 "nbformat_minor": 2
}
