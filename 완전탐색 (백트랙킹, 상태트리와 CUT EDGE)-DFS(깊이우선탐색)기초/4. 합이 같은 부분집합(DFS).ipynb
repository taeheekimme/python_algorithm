{
 "cells": [
  {
   "cell_type": "markdown",
   "metadata": {},
   "source": [
    "N개의 원소로 구성된 자연수 집합이 주어지면, 이 집합을 두 개의 부분집합으로 나누었을 때 <BR>\n",
    "두 부분집합의 원소의 합이 서로 같은 경우가 존재하면 “YES\"를 출력하고, <BR>\n",
    "그렇지 않으면 ”NO\"를 출력하는 프로그램을 작성하세요.<BR>\n",
    "둘로 나뉘는 두 부분집합은 서로소 집합이며, 두 부분집합을 합하면 입력으로 주어진 원래의 집합이 되어 합니다.<BR>\n",
    "예를 들어 {1, 3, 5, 6, 7, 10}이 입력되면 {1, 3, 5, 7} = {6, 10} 으로 두 부분집합의 합이 16으로 같은 경우가 존재하는 것을 알 수 있다.\n"
   ]
  },
  {
   "cell_type": "markdown",
   "metadata": {},
   "source": [
    "▣ 입력설명<BR>\n",
    "첫 번째 줄에 자연수 N(1<=N<=10)이 주어집니다.<BR>\n",
    "두 번째 줄에 집합의 원소 N개가 주어진다. 각 원소는 중복되지 않는다.\n"
   ]
  },
  {
   "cell_type": "markdown",
   "metadata": {},
   "source": [
    "▣ 출력설명<BR>\n",
    "첫 번째 줄에 “YES\" 또는 ”NO\"를 출력한다.\n"
   ]
  },
  {
   "cell_type": "markdown",
   "metadata": {},
   "source": [
    "▣ 입력예제 1<BR>\n",
    "6<BR>\n",
    "1 3 5 6 7 10\n",
    "- 6개의 원소를 갖는 집합이 주어지고 2개의 부분집합을 만들어 2개 부분집합의 합이 같으면 YES, 다르면 NO\n",
    "- 1을 포함할지 말지로 부분집합 선택\n",
    "- 부분집합을 2개 만드는 것이 아니라 1개를 만들면 나머지 1개는 나머지로 만들면 됨\n",
    "     - 전체에서 내가 만든 첫번째 부분집합의 합을 빼주면 됨"
   ]
  },
  {
   "cell_type": "markdown",
   "metadata": {},
   "source": [
    "▣ 출력예제 1<BR>\n",
    "YES"
   ]
  },
  {
   "cell_type": "code",
   "execution_count": null,
   "metadata": {},
   "outputs": [],
   "source": [
    "def DFS(L, sum):   # L은 리스트의 인덱스 번호\n",
    "    \n",
    "    if sum>total//2:  # 합이 12라면 > 절반인 6을 넘어 7인경우 이미 합이 같은 경우가 존재하지 않으므로 종료\n",
    "        return        \n",
    "    \n",
    "    if L==n: # 6이되면 종료\n",
    "        if sum==(total-sum):  # 내가 만든 부분집합의 합 = 전체 - 나머지원소 합\n",
    "            print(\"YES\")      # 같으므로 YES\n",
    "            sys.exit(0)       # 프로그램 자체를 종료\n",
    "            \n",
    "            \n",
    "    else:   # 해당 원소를 부분집합으로 사용할지 말지\n",
    "        DFS(L+1, sum+a[L])  # 사용 : 인덱스 번호 1씩 증가, a리스트의 L값을 더해줌\n",
    "        DFS(L+1, sum)       # 사용안함 : 합은 그대로 유지\n",
    "\n",
    "        \n",
    "if __name__==\"__main__\":\n",
    "    n=int(input())    # 원소 개수\n",
    "    a=list(map(int, input().split()))  # 6개 원소 입력\n",
    "    total=sum(a)   # 부분집합의 총합\n",
    "    DFS(0, 0)      # (0번 인덱스의 원소를 부분집합으로 사용한다는 뜻, 합)\n",
    "    \n",
    "    print(\"NO\")    # else가 작동된 후 NO출력\n",
    "    \n",
    "    "
   ]
  }
 ],
 "metadata": {
  "kernelspec": {
   "display_name": "Python 3",
   "language": "python",
   "name": "python3"
  },
  "language_info": {
   "codemirror_mode": {
    "name": "ipython",
    "version": 3
   },
   "file_extension": ".py",
   "mimetype": "text/x-python",
   "name": "python",
   "nbconvert_exporter": "python",
   "pygments_lexer": "ipython3",
   "version": "3.7.4"
  }
 },
 "nbformat": 4,
 "nbformat_minor": 2
}
