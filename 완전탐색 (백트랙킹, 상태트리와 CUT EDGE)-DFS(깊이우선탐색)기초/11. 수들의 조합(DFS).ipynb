{
 "cells": [
  {
   "cell_type": "markdown",
   "metadata": {},
   "source": [
    "N개의 정수가 주어지면 그 숫자들 중 K개를 뽑는 조합의 합이 임의의 정수 M의 배수인 개수는 몇 개가 있는지 출력하는 프로그램을 작성하세요.<br>\n",
    "예를 들면 5개의 숫자 2 4 5 8 12가 주어지고, 3개를 뽑은 조합의 합이 6의 배수인 조합을 찾으면 4+8+12 2+4+12로 2가지가 있습니다.\n"
   ]
  },
  {
   "cell_type": "markdown",
   "metadata": {},
   "source": [
    "▣ 입력설명<br>\n",
    "첫줄에 정수의 개수 N(3<=N<=20)과 임의의 정수 K(2<=K<=N)가 주어지고, 두 번째 줄에는 N개의 정수가 주어진다.<br>\n",
    "세 번째 줄에 M이 주어집니다.\n"
   ]
  },
  {
   "cell_type": "markdown",
   "metadata": {},
   "source": [
    "▣ 출력설명<br>\n",
    "총 가지수를 출력합니다.\n"
   ]
  },
  {
   "cell_type": "markdown",
   "metadata": {},
   "source": [
    "▣ 입력예제 1<br>\n",
    "5 3<br>\n",
    "2 4 5 8 12<br>\n",
    "6\n",
    "- 2 4 5 8 12의 5개 정수가 주어지고 이 중 3개를 뽑는 경우의 수\n",
    "- 5c3 =10가지\n",
    "- 10가지 중 합이 6의 배수인 경우의 수\n"
   ]
  },
  {
   "cell_type": "markdown",
   "metadata": {},
   "source": [
    "▣ 출력예제 1<br>\n",
    "2"
   ]
  },
  {
   "cell_type": "code",
   "execution_count": null,
   "metadata": {},
   "outputs": [],
   "source": [
    "def DFS(L, s, sum):\n",
    "    global cnt\n",
    "    \n",
    "    if L==k:   ## 종착지점에 도달하면\n",
    "        if sum%m==0:  # sum이 6으로 나눠지면\n",
    "            cnt+=1    # 경우의 수 증가\n",
    "            \n",
    "    else:     ## 가지 뻗어나감\n",
    "        for i in range(s, n):        # a리스트에 있는 원소를 다뤄야 하므로 (0 ~ n-1까지 들어있음)\n",
    "            DFS(L+1, i+1, sum+a[i])  # 레벨은 다음레벨로, s는 +1, sum은 원소값 더해감\n",
    " \n",
    "\n",
    "\n",
    " if __name__==\"__main__\":\n",
    "    n, k=map(int, input().split())     # 5,3을 입력\n",
    "    a=list(map(int, input().split()))  # 5개 원소 입력\n",
    "    m=int(input())  # 6의 배수\n",
    "    cnt=0           # 개수 count\n",
    "    DFS(0, 0, 0)\n",
    "    print(cnt)\n",
    "    \n",
    "    \n",
    "# a리스트에 5개의 정수 입력\n",
    "# D(0,0,0)은 레벨L, 시작하는 숫자S, SUM\n",
    "# for문이 인덱스 번호 0~4까지 돔\n",
    "# D(0,0,0) -> 0,1,2,3,4에서 0을 선택\n",
    "# D(1,1,2) sum+a[i]인 a리스트의 원소값 2 더하기"
   ]
  }
 ],
 "metadata": {
  "kernelspec": {
   "display_name": "Python 3",
   "language": "python",
   "name": "python3"
  },
  "language_info": {
   "codemirror_mode": {
    "name": "ipython",
    "version": 3
   },
   "file_extension": ".py",
   "mimetype": "text/x-python",
   "name": "python",
   "nbconvert_exporter": "python",
   "pygments_lexer": "ipython3",
   "version": "3.7.4"
  }
 },
 "nbformat": 4,
 "nbformat_minor": 2
}
