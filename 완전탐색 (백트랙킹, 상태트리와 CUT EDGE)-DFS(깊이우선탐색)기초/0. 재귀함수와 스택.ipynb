{
 "cells": [
  {
   "cell_type": "markdown",
   "metadata": {},
   "source": [
    "- 재귀함수\n",
    "   - 자기자신을 호출하는 함수\n",
    "   - 스택 자료구조를 사용\n",
    "   - 3이 입력되면 1,2,3이 출력\n",
    "     - 반복문의 효과를 내는것이 재귀함수\n",
    "     - 반복문의 대체재 -> for, while문의 중첩으로 코드 유연성이 떨어질 경우 사용"
   ]
  },
  {
   "cell_type": "markdown",
   "metadata": {},
   "source": [
    "### 3이 입력되면 3,2,1 순서로 출력"
   ]
  },
  {
   "cell_type": "code",
   "execution_count": 4,
   "metadata": {},
   "outputs": [
    {
     "name": "stdout",
     "output_type": "stream",
     "text": [
      "3\n",
      "3\n",
      "2\n",
      "1\n"
     ]
    }
   ],
   "source": [
    "def DFS(x):       # n값을 x로 받음(3 출력)\n",
    "    if x>0: \n",
    "        print(x)\n",
    "        DFS(x-1)  # 자기자신을 호출, x-1값이 새로운 x로 입력되게 함(2가 새로운 x값이 됨)\n",
    "    \n",
    "    \n",
    "n=int(input())\n",
    "DFS(n)        # 재귀함수 이름은 DFS\n",
    "    "
   ]
  },
  {
   "cell_type": "markdown",
   "metadata": {},
   "source": [
    "### 3이 입력되면 1,2,3 순서로 출력\n",
    "1. n=int(input())에서 n에 3입력됨\n",
    "2. DFS(n)호출되어 DFS(x)로 이동\n",
    "3. DFS(3)호출\n",
    "   - 스택에 매개변수 x=3, 지역변수 없음, 복기주소 DFS(n) 3개가 기록됨 -> 스택 프레임\n",
    "3. x>0\n",
    "4. DFS(x-1)로 DFS(2)호출\n",
    "   - 스택에 DFS(2)기록\n",
    "   - x=2, 지역변수 없음, 복기주소 DFS(x-1)\n",
    "5. x>0\n",
    "6. DFS(x-1)로 DFS(1)호출\n",
    "   - 스택에 DFS(1)기록\n",
    "   - x=1, 지역변수 없음, 복기주소 DFS(x-1)\n",
    "7. x>0\n",
    "8. DFS(x-1)로 DFS(0)호출\n",
    "   - 스택에 DFS(0)기록\n",
    "   - x=0, 지역변수 없음, 복기주소 DFS(x-1)\n",
    "   - x>0이 거짓이라 DFS(0)은 pop\n",
    "9.  print(x)하여 가장 상단에 있는 DFS(1)출력후 DFS(1) pop\n",
    "10. print(x)하여 가장 상단에 있는 DFS(2)출력후 DFS(3) pop\n",
    "11. print(x)하여 가장 상단에 있는 DFS(3)출력후 DFS(3) pop\n",
    "12. DFS(n)로 컴백"
   ]
  },
  {
   "cell_type": "code",
   "execution_count": 5,
   "metadata": {},
   "outputs": [
    {
     "name": "stdout",
     "output_type": "stream",
     "text": [
      "3\n",
      "1\n",
      "2\n",
      "3\n"
     ]
    }
   ],
   "source": [
    "def DFS(x):       # n값을 x로 받음(3 출력)\n",
    "    if x>0: \n",
    "        DFS(x-1)  # 자기자신을 호출, x-1값이 새로운 x로 입력되게 함(2가 새로운 x값이 됨)\n",
    "        \n",
    "        ## x<0이면 이부분 실행하여 \n",
    "        print(x)\n",
    "    \n",
    "    \n",
    "n=int(input())\n",
    "DFS(n)        # 재귀함수 이름은 DFS\n",
    "    "
   ]
  },
  {
   "cell_type": "code",
   "execution_count": null,
   "metadata": {},
   "outputs": [],
   "source": []
  }
 ],
 "metadata": {
  "kernelspec": {
   "display_name": "Python 3",
   "language": "python",
   "name": "python3"
  },
  "language_info": {
   "codemirror_mode": {
    "name": "ipython",
    "version": 3
   },
   "file_extension": ".py",
   "mimetype": "text/x-python",
   "name": "python",
   "nbconvert_exporter": "python",
   "pygments_lexer": "ipython3",
   "version": "3.7.4"
  }
 },
 "nbformat": 4,
 "nbformat_minor": 2
}
