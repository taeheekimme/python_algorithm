{
 "cells": [
  {
   "cell_type": "markdown",
   "metadata": {},
   "source": [
    "\n",
    "다음과 같이 여러 단위의 동전들이 주어져 있을때 거스름돈을 가장 적은 수의 동전으로 교환해주려면 어떻게 주면 되는가? <BR>\n",
    "각 단위의 동전은 무한정 쓸 수 있다.\n"
   ]
  },
  {
   "cell_type": "markdown",
   "metadata": {},
   "source": [
    "▣ 입력설명<BR>\n",
    "첫 번째 줄에는 동전의 종류개수 N(1<=N<=12)이 주어진다. <BR>\n",
    "두 번째 줄에는 N개의 동전의 종류가 주어지고, 그 다음줄에 거슬러 줄 금액 M(1<=M<=500)이 주어진다.<BR>\n",
    "각 동전의 종류는 100원을 넘지 않는다.\n"
   ]
  },
  {
   "cell_type": "markdown",
   "metadata": {},
   "source": [
    "▣ 출력설명<BR>\n",
    "첫 번째 줄에 거슬러 줄 동전의 최소개수를 출력한다.\n"
   ]
  },
  {
   "cell_type": "markdown",
   "metadata": {},
   "source": [
    "▣ 입력예제 1<BR>\n",
    "3<BR>\n",
    "1 2 5<BR>\n",
    "15\n",
    "\n",
    "- 동전 종류는 3개이며 개수는 무한정\n",
    "- 1원, 2원, 5원\n",
    "- 동전 개수 최소로해서 15원 만들기"
   ]
  },
  {
   "cell_type": "markdown",
   "metadata": {},
   "source": [
    "▣ 출력예제 1<BR>\n",
    "3<BR>\n",
    "- 5 5 5 동전 3개로 거슬러 줄 수 있다."
   ]
  },
  {
   "cell_type": "code",
   "execution_count": null,
   "metadata": {},
   "outputs": [],
   "source": [
    "def DFS(L, sum):\n",
    "    global res  # res=2147000000를 참조할 수 있도록 전역변수로 변경\n",
    "    \n",
    "    if L>=res:  # 동전 3개로 15 답이 나오면 동전 4,5 ~개로 진행할 필요 없음 -> 동전개수가 답보다 크면 진행할 필요없음\n",
    "        return\n",
    "    \n",
    "    if sum>m:   # sum이 15보다 커지면 \n",
    "        return  # 종료\n",
    "     \n",
    "    if sum==m:  ## sum이 15가 되면 \n",
    "        if L<res:  # 동전개수가 답보다 작음 -> res를 여기서 초기화하지 않았는데  res=L에서 이 부분을 참조하여 지역변수가 됨\n",
    "            res=L  # 동전개수를 답으로 누적 \n",
    "            \n",
    "    else:       ## sum이 15가 안되면 \n",
    "        for i in range(n):  # 동전 종류 개수 3개만큼 반복\n",
    "            DFS(L+1, sum+a[i])  # L+1 : 동전개수는 1씩 증가, sum+a[i] : 추가된 동전개수값도 더해줌\n",
    "            \n",
    "            \n",
    "\n",
    "if __name__==\"__main__\":2\n",
    "    n=int(input())   # 동전 종류 개수 3개\n",
    "    a=list(map(int, input().split()))  # 1,2,5 동전 종류들\n",
    "    m=int(input())   # 만들고자 하는 값 15\n",
    "    res=2147000000   # res는 답, 최소가 발견되면 바뀌어야 하므로 최대값을 입력해 둠\n",
    "    a.sort(reverse=True)  # 가지를 뻗을 때 내림차순으로 가야 효율적, 오름차순이면 가지가 깊이 내려감\n",
    "    DFS(0, 0)   # DFS 호출\n",
    "    print(res)\n",
    "    \n",
    "    \n",
    "# D(0)은 D(1)의 1,2,5로 분기됨 -> D(1)에서 1은 L로 사용한 동전 개수(동전 레벨이 동전 개수)\n",
    "# D(1)의 1은 D(2)의 1,2,5로 분기됨\n",
    "# D(2)의 2는 D(3)의 1,2,5로 분기됨\n",
    "# D(3)의 1을 선택하면 1원 2개, 2원 1개로 총 동전 3개 사용한 것 "
   ]
  }
 ],
 "metadata": {
  "kernelspec": {
   "display_name": "Python 3",
   "language": "python",
   "name": "python3"
  },
  "language_info": {
   "codemirror_mode": {
    "name": "ipython",
    "version": 3
   },
   "file_extension": ".py",
   "mimetype": "text/x-python",
   "name": "python",
   "nbconvert_exporter": "python",
   "pygments_lexer": "ipython3",
   "version": "3.7.4"
  }
 },
 "nbformat": 4,
 "nbformat_minor": 2
}
