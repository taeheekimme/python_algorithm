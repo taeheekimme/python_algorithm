{
 "cells": [
  {
   "cell_type": "markdown",
   "metadata": {},
   "source": [
    "자연수 N이 주어지면 1부터 N까지의 원소를 갖는 집합의 부분집합을 모두 출력하는 프로그램을 작성하세요.<br>\n"
   ]
  },
  {
   "cell_type": "markdown",
   "metadata": {},
   "source": [
    "▣ 입력설명<br>\n",
    "첫 번째 줄에 자연수 N(1<=N<=10)이 주어집니다.\n"
   ]
  },
  {
   "cell_type": "markdown",
   "metadata": {},
   "source": [
    "▣ 출력설명<br>\n",
    "첫 번째 줄부터 각 줄에 하나씩 부분집합을 아래와 출력예제와 같은 순서로 출력한다.<br>\n",
    "단 공집합은 출력하지 않습니다.\n"
   ]
  },
  {
   "cell_type": "markdown",
   "metadata": {},
   "source": [
    "▣ 입력예제 1<br>\n",
    "3\n",
    "- 1,2,3을 원소로 갖는 부분집합 구하기\n",
    "- D(1)로 원소 1을 부분집합에 넣을지, 말지 선택\n",
    "- D(2)로 원소 2을 부분집합에 넣을지, 말지 선택\n",
    "- D(3)로 원소 3을 부분집합에 넣을지, 말지 선택"
   ]
  },
  {
   "cell_type": "markdown",
   "metadata": {},
   "source": [
    "▣ 출력예제 1<br>\n",
    "1 2 3<br>\n",
    "1 2<br>\n",
    "1 3<br>\n",
    "1<br>\n",
    "2 3<br>\n",
    "2<br>\n",
    "3"
   ]
  },
  {
   "cell_type": "code",
   "execution_count": 1,
   "metadata": {},
   "outputs": [
    {
     "name": "stdout",
     "output_type": "stream",
     "text": [
      "3\n",
      "1 2 3 \n",
      "1 2 \n",
      "1 3 \n",
      "1 \n",
      "2 3 \n",
      "2 \n",
      "3 \n",
      "\n"
     ]
    }
   ],
   "source": [
    "def DFS(v):\n",
    "    if v==n+1:   # 원소가 4일때 종료(3까지 이므로)\n",
    "        \n",
    "        ## 부분집합 원소 출력\n",
    "        for i in range(1, n+1):  \n",
    "            if ch[i]==1:   # 원소가 사용되면 출력\n",
    "                print(i, end=' ')\n",
    "        print()\n",
    "        \n",
    "        \n",
    "    ## 원소를 사용한다, 안한다 체크\n",
    "    else:\n",
    "        ch[v]=1  # 사용하면 1\n",
    "        DFS(v+1) # 다음 원소로 넘어감\n",
    "        ch[v]=0  # 사용하지 않으면 0\n",
    "        DFS(v+1) # 다음 원소로 넘어감\n",
    "\n",
    "if __name__==\"__main__\":\n",
    "    n=int(input())   # 3입력\n",
    "    ch=[0]*(n+1)     # 원소를 사용한다 안한다라는 체크 변수\n",
    "    DFS(1)           # DFS함수 호출\n",
    "    "
   ]
  },
  {
   "cell_type": "code",
   "execution_count": null,
   "metadata": {},
   "outputs": [],
   "source": []
  }
 ],
 "metadata": {
  "kernelspec": {
   "display_name": "Python 3",
   "language": "python",
   "name": "python3"
  },
  "language_info": {
   "codemirror_mode": {
    "name": "ipython",
    "version": 3
   },
   "file_extension": ".py",
   "mimetype": "text/x-python",
   "name": "python",
   "nbconvert_exporter": "python",
   "pygments_lexer": "ipython3",
   "version": "3.7.4"
  }
 },
 "nbformat": 4,
 "nbformat_minor": 2
}
