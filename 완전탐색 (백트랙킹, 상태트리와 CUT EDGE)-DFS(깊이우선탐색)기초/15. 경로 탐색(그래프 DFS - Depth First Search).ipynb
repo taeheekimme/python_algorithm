{
 "cells": [
  {
   "cell_type": "markdown",
   "metadata": {},
   "source": [
    "방향그래프가 주어지면 1번 정점에서 N번 정점으로 가는 모든 경로의 가지 수를 출력하는 프로그램을 작성하세요. <br>\n",
    "아래 그래프에서 1번 정점에서 5번 정점으로 가는 가지 수는<br>\n",
    "1 2 3 4 5<br>\n",
    "1 2 5<br>\n",
    "1 3 4 2 5<br>\n",
    "1 3 4 5<br>\n",
    "1 4 2 5<br>\n",
    "1 4 5<br>\n",
    "총 6 가지입니다.\n"
   ]
  },
  {
   "cell_type": "markdown",
   "metadata": {},
   "source": [
    "▣ 입력설명<br>\n",
    "첫째 줄에는 정점의 수 N(2<=N<=20)와 간선의 수 M가 주어진다. <br>\n",
    "그 다음부터 M줄에 걸쳐 연결정보가 주어진다.\n"
   ]
  },
  {
   "cell_type": "markdown",
   "metadata": {},
   "source": [
    "▣ 출력설명<br>\n",
    "총 가지수를 출력한다.\n"
   ]
  },
  {
   "cell_type": "markdown",
   "metadata": {},
   "source": [
    "▣ 입력예제 1<br>\n",
    "5 9<br>\n",
    "1 2<br>\n",
    "1 3<br>\n",
    "1 4<br>\n",
    "2 1<br>\n",
    "2 3<br>\n",
    "2 5<br>\n",
    "3 4<br>\n",
    "4 2<br>\n",
    "4 5<br>\n",
    "- 노드번호 1~5, 9개 간선개수"
   ]
  },
  {
   "cell_type": "markdown",
   "metadata": {},
   "source": [
    "▣ 출력예제 1<br>\n",
    "6"
   ]
  },
  {
   "cell_type": "markdown",
   "metadata": {},
   "source": [
    "### 경로 개수만 체크"
   ]
  },
  {
   "cell_type": "code",
   "execution_count": null,
   "metadata": {},
   "outputs": [],
   "source": [
    "def DFS(v): # v는 노드번호\n",
    "    global cnt # cnt 지역변수이므로 전역변수로 변환\n",
    "    \n",
    "    if v==n:   # 같은면 종착지점\n",
    "        cnt+=1 # count\n",
    "        \n",
    "    \n",
    "    else:\n",
    "        for i in range(1, n+1):  # 1번 노드부터 n까지 갈래뻗음\n",
    "            if g[v][i]==1 and ch[i]==0:  # v에서 i노드로 갈수 있는지 확인(1이면 갈수 있는 것), i가 방문하지 않은 노드여야 하므로 0인지 확인\n",
    "                ch[i]=1  # 방문하면 1로 체크\n",
    "                path.append(i) # i대입\n",
    "                DFS(i)      # v에서 i로 가니까 D(i)방문\n",
    "                path.pop()  # back하듯이 pop해줌\n",
    "                ch[i]=0     # back해야하므로 체크 풀어줌\n",
    "            \n",
    "        \n",
    "if __name__==\"__main__\":\n",
    "    n, m=map(int, input().split()      # 1,2,3,4,5 5개 노드번호, 간선개수 9개\n",
    "    g=[[0]*(n+1) for _ in range(n+1)]  # 그래프 1~n까지 돌아야 함\n",
    "    ch=[0]*(n+1)  # 체크리스트는 n까지 0으로 초기화\n",
    "             \n",
    "    for i in range(m):\n",
    "        a, b=map(int, input().split())\n",
    "        g[a][b]=1  # 1에서 2로 이동한다는 뜻\n",
    "    cnt=0   # 개수\n",
    "    ch[1]=1 # 1번노드 방문했다고 체크\n",
    "    DFS(1)\n",
    "    print(cnt)\n",
    "    \n",
    "# D(1)에서 뻗을 수 있는 갈래 1,2,3,4,5 \n",
    "# i가 1,2,3,4,5로 for문이 됨\n",
    "\n",
    "# D(1)과 2는 그림에서 연결되어있으므로 D(2)로 방문하고 체크\n",
    "# D(2)의 1,2,3,4,5갈래 확인\n",
    "\n",
    "# back을 할땐 체크를 풀어줘야 함"
   ]
  },
  {
   "cell_type": "markdown",
   "metadata": {},
   "source": [
    "### 경로 내용도 체크"
   ]
  },
  {
   "cell_type": "code",
   "execution_count": null,
   "metadata": {},
   "outputs": [],
   "source": [
    "def DFS(v): # v는 노드번호\n",
    "    global cnt, path # cnt 지역변수이므로 전역변수로 변환\n",
    "    \n",
    "    if v==n:   # 같은면 종착지점\n",
    "        cnt+=1 # count\n",
    "        \n",
    "        for x in path: # 경로\n",
    "            print(x, end=' ')\n",
    "        print()\n",
    "        \n",
    "    else:\n",
    "        for i in range(1, n+1):  # 1번 노드부터 n까지 갈래뻗음\n",
    "            if g[v][i]==1 and ch[i]==0:  # v에서 i노드로 갈수 있는지 확인(1이면 갈수 있는 것), i가 방문하지 않은 노드여야 하므로 0인지 확인\n",
    "                ch[i]=1      # 방문하면 1로 체크\n",
    "                path.append(i) # i대입\n",
    "                DFS(i)      # v에서 i로 가니까 D(i)방문\n",
    "                path.pop()  # back하듯이 pop해줌\n",
    "                ch[i]=0     # back해야하므로 체크 풀어줌\n",
    "            \n",
    "        \n",
    "if __name__==\"__main__\":\n",
    "    n, m=map(int, input().split()      # 1,2,3,4,5 5개 노드번호, 간선개수 9개\n",
    "    g=[[0]*(n+1) for _ in range(n+1)]  # 그래프 1~n까지 돌아야 함\n",
    "    ch=[0]*(n+1)  # 체크리스트는 n까지 0으로 초기화\n",
    "             \n",
    "    for i in range(m):\n",
    "        a, b=map(int, input().split())\n",
    "        g[a][b]=1  # 1에서 2로 이동한다는 뜻\n",
    "    cnt=0          # 개수\n",
    "    ch[1]=1        # 1번노드 방문했다고 체크\n",
    "    path=list()    # 경로입력하는 리스트 생성\n",
    "    path.append(1) # 1번에서 출발하므로 1대입\n",
    "    DFS(1)\n",
    "    print(cnt)\n",
    "    \n",
    "# D(1)에서 뻗을 수 있는 갈래 1,2,3,4,5 \n",
    "# i가 1,2,3,4,5로 for문이 됨\n",
    "\n",
    "# D(1)과 2는 그림에서 연결되어있으므로 D(2)로 방문하고 체크\n",
    "# D(2)의 1,2,3,4,5갈래 확인\n",
    "\n",
    "# back을 할땐 체크를 풀어줘야 함"
   ]
  }
 ],
 "metadata": {
  "kernelspec": {
   "display_name": "Python 3",
   "language": "python",
   "name": "python3"
  },
  "language_info": {
   "codemirror_mode": {
    "name": "ipython",
    "version": 3
   },
   "file_extension": ".py",
   "mimetype": "text/x-python",
   "name": "python",
   "nbconvert_exporter": "python",
   "pygments_lexer": "ipython3",
   "version": "3.7.4"
  }
 },
 "nbformat": 4,
 "nbformat_minor": 2
}
