{
 "cells": [
  {
   "cell_type": "markdown",
   "metadata": {},
   "source": [
    "1부터 N까지 번호가 적힌 구슬이 있습니다. <bR>\n",
    "이 중 M개를 뽑아 일렬로 나열하는 방법을 모두 출력합니다.\n"
   ]
  },
  {
   "cell_type": "markdown",
   "metadata": {},
   "source": [
    "▣ 입력설명<bR>\n",
    "첫 번째 줄에 자연수 N(3<=N<=10)과 M(2<=M<=N) 이 주어집니다.\n"
   ]
  },
  {
   "cell_type": "markdown",
   "metadata": {},
   "source": [
    "▣ 출력설명<bR>\n",
    "첫 번째 줄에 결과를 출력합니다. 맨 마지막 총 경우의 수를 출력합니다.<bR>\n",
    "출력순서는 사전순으로 오름차순으로 출력합니다.\n"
   ]
  },
  {
   "cell_type": "markdown",
   "metadata": {},
   "source": [
    "▣ 입력예제 1<bR>\n",
    "3 2\n",
    "- 3까지 적힌 구슬 3개, 3개 구슬 중 2개를 뽑아 일렬로 나열\n",
    "- 중복을 허용하지 않는 체크리스트 만듬"
   ]
  },
  {
   "cell_type": "markdown",
   "metadata": {},
   "source": [
    "▣ 출력예제 1<bR>\n",
    "1 2<bR>\n",
    "1 3<bR>\n",
    "2 1<bR>\n",
    "2 3<bR>\n",
    "3 1<bR>\n",
    "3 2<bR>\n",
    "6"
   ]
  },
  {
   "cell_type": "code",
   "execution_count": 1,
   "metadata": {},
   "outputs": [
    {
     "name": "stdout",
     "output_type": "stream",
     "text": [
      "3 2\n",
      "1 2 \n",
      "1 3 \n",
      "2 1 \n",
      "2 3 \n",
      "3 1 \n",
      "3 2 \n",
      "6\n"
     ]
    }
   ],
   "source": [
    "def DFS(L):\n",
    "    global cnt  # 전역변수로 변환\n",
    "    \n",
    "    if L==m:  # D(0)에서 0인 L이 m이 될 때 출력하면 됨\n",
    "        \n",
    "        for i in range(m):  # 1,2까지 반복\n",
    "            print(res[i], end=' ')\n",
    "        print()\n",
    "        cnt+=1  \n",
    "        \n",
    "        \n",
    "    else:\n",
    "        \n",
    "        for i in range(1, n+1):  # 1 ~  n까지 가지 뻗어감\n",
    "            if ch[i]==0:  # 체크리스트가 0일 때\n",
    "                ch[i]=1   # 1로 체크\n",
    "                res[L]=i  # 답 리스트에 1입력\n",
    "                DFS(L+1)  # 레벨 증가\n",
    "                ch[i]=0   # 체크한 것을 해제하고, 다음 숫자 입력(2개만 선택가능하므로)\n",
    "\n",
    "if __name__==\"__main__\":\n",
    "    n, m=map(int, input().split())  # 3까지 구슬 3개, 2개 뽑음\n",
    "    res=[0]*n     # 답 입력될 리스트\n",
    "    ch=[0]*(n+1)  # 중복 체크리스트, 0으로 초기화\n",
    "    cnt=0\n",
    "    DFS(0)\n",
    "    print(cnt)\n",
    "\n",
    "    \n",
    "### D(0)의 1,2,3중 1을 선택\n",
    "### res리스트에 1입력되고, 1이 사용됬으므로 ch리스트에서 1번 인덱스에 체크\n",
    "\n",
    "# D(1)의 1,2,3 중 1을 선택할 수 없음 -> 1은 이미 ch리스트에 선택됬으므로\n",
    "# 2를 선택하고, res리스트에 2가 입력되고, ch리스트 2번인덱스에 체크\n",
    "# 3개 구슬 중 1과 2 2개 선택되었으므로 완료 (1,2)\n",
    "\n",
    "# D(1)에서 ch리스트 2체크한 것 지우고, 3선택하고 ch리스트에 3체크 (1,3)\n",
    "# D(1)의 1,2,3 다 진행됬으므로 ch리스트에서 2체크 해제\n",
    "\n",
    "### D(0)으로 이동해 1,2,3중 2를 선택\n",
    "### 반복"
   ]
  },
  {
   "cell_type": "code",
   "execution_count": null,
   "metadata": {},
   "outputs": [],
   "source": []
  }
 ],
 "metadata": {
  "kernelspec": {
   "display_name": "Python 3",
   "language": "python",
   "name": "python3"
  },
  "language_info": {
   "codemirror_mode": {
    "name": "ipython",
    "version": 3
   },
   "file_extension": ".py",
   "mimetype": "text/x-python",
   "name": "python",
   "nbconvert_exporter": "python",
   "pygments_lexer": "ipython3",
   "version": "3.7.4"
  }
 },
 "nbformat": 4,
 "nbformat_minor": 2
}
