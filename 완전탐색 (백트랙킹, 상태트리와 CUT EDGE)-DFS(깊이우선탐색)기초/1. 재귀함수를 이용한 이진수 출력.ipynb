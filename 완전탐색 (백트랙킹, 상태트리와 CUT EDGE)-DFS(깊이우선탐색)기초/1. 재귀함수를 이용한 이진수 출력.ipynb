{
 "cells": [
  {
   "cell_type": "markdown",
   "metadata": {},
   "source": [
    "10진수 N이 입력되면 2진수로 변환하여 출력하는 프로그램을 작성하세요. <BR>\n",
    "단 재귀함수를 이용해서 출력해야 합니다.\n",
    "- 10진수를 2진수로 출력"
   ]
  },
  {
   "cell_type": "markdown",
   "metadata": {},
   "source": [
    "▣ 입력설명<BR>\n",
    "첫 번째 줄에 10진수 N(1<=N<=1,000)이 주어집니다.\n"
   ]
  },
  {
   "cell_type": "markdown",
   "metadata": {},
   "source": [
    "▣ 출력설명<BR>\n",
    "첫 번째 줄에 이진수를 출력하세요.\n"
   ]
  },
  {
   "cell_type": "markdown",
   "metadata": {},
   "source": [
    "▣ 입력예제 1<BR>\n",
    "11\n"
   ]
  },
  {
   "cell_type": "markdown",
   "metadata": {},
   "source": [
    "▣ 출력예제 1<BR>\n",
    "1011"
   ]
  },
  {
   "cell_type": "code",
   "execution_count": 1,
   "metadata": {},
   "outputs": [
    {
     "name": "stdout",
     "output_type": "stream",
     "text": [
      "11\n",
      "1011"
     ]
    }
   ],
   "source": [
    "def DFS(x):\n",
    "    if x==0:       # x가 0이되면 DFS 종료\n",
    "        return\n",
    "    \n",
    "    else:          # x가 0이 아니면 DFS 실행\n",
    "        DFS(x//2)  # x를 2로 나눈 몫 5가 다음 DFS(5)로 입력\n",
    "        \n",
    "        ## x가 0이 되면 이부분 실행하면서 출력\n",
    "        print(x%2, end='')  # 2진수는 x를 2로 나눈 나머지 (11을 2로 나눈 나머지 1)\n",
    "\n",
    "        \n",
    "\n",
    "n=int(input())  # 10진수 입력    \n",
    "DFS(n)          # DFS함수로 이동\n"
   ]
  },
  {
   "cell_type": "markdown",
   "metadata": {},
   "source": [
    "1. n=int(input())에서 n에 11입력됨\n",
    "2. DFS(n)호출되어 DFS(x)로 이동\n",
    "3. DFS(11)호출\n",
    "   - x=11, 복기주소 DFS(x//2)\n",
    "4. DFS(x//2)로 DFS(5)호출\n",
    "   - x=5, 복기주소 DFS(x//2)\n",
    "5. DFS(x//2)로 DFS(2)호출\n",
    "   - x=2, 복기주소 DFS(x//2)\n",
    "6. DFS(x//2)로 DFS(1)호출\n",
    "   - x=1, 복기주소 DFS(x//2)\n",
    "7. DFS(x//2)로 DFS(0)호출\n",
    "   - x==0으로 DFS(0) pop\n",
    "8. print하여 가장 상단에 있는 DFS(1)출력후 DFS(1) pop   \n",
    "9. print하여 가장 상단에 있는 DFS(2)출력후 DFS(1) pop  \n",
    "10. print하여 가장 상단에 있는 DFS(5)출력후 DFS(1) pop  \n",
    "11. print하여 가장 상단에 있는 DFS(7)출력후 DFS(1) pop  "
   ]
  },
  {
   "cell_type": "code",
   "execution_count": null,
   "metadata": {},
   "outputs": [],
   "source": []
  }
 ],
 "metadata": {
  "kernelspec": {
   "display_name": "Python 3",
   "language": "python",
   "name": "python3"
  },
  "language_info": {
   "codemirror_mode": {
    "name": "ipython",
    "version": 3
   },
   "file_extension": ".py",
   "mimetype": "text/x-python",
   "name": "python",
   "nbconvert_exporter": "python",
   "pygments_lexer": "ipython3",
   "version": "3.7.4"
  }
 },
 "nbformat": 4,
 "nbformat_minor": 2
}
