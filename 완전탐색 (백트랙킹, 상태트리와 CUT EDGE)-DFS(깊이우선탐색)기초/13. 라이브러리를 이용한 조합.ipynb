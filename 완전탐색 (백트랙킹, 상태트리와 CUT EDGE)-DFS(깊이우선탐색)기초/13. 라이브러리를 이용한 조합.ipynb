{
 "cells": [
  {
   "cell_type": "markdown",
   "metadata": {},
   "source": [
    "N개의 정수가 주어지면 그 숫자들 중 K개를 뽑는 조합의 합이 임의의 정수 M의 배수인 개수는 몇 개가 있는지 출력하는 프로그램을 작성하세요.<BR>\n",
    "예를 들면 5개의 숫자 2 4 5 8 12가 주어지고, 3개를 뽑은 조합의 합이 6의 배수인 조합을 찾으면 4+8+12 2+4+12로 2가지가 있습니다.<BR>\n"
   ]
  },
  {
   "cell_type": "markdown",
   "metadata": {},
   "source": [
    "▣ 입력설명<BR>\n",
    "첫줄에 정수의 개수 N(3<=N<=20)과 임의의 정수 K(2<=K<=N)가 주어지고, 두 번째 줄에는 N개의 정수가 주어진다.<BR>\n",
    "세 번째 줄에 M이 주어집니다.\n"
   ]
  },
  {
   "cell_type": "markdown",
   "metadata": {},
   "source": [
    "▣ 출력설명<BR>\n",
    "총 가지수를 출력합니다.<BR>\n"
   ]
  },
  {
   "cell_type": "markdown",
   "metadata": {},
   "source": [
    "▣ 입력예제 1<BR>\n",
    "5 3<BR>\n",
    "2 4 5 8 12<BR>\n",
    "6\n",
    "- 2,4,5,8,12 5개의 정수 중 3개를 뽑음\n",
    "- 3개의 합이 6의 배수인 경우의 수   "
   ]
  },
  {
   "cell_type": "markdown",
   "metadata": {},
   "source": [
    "▣ 출력예제 1<BR>\n",
    "2"
   ]
  },
  {
   "cell_type": "code",
   "execution_count": 1,
   "metadata": {},
   "outputs": [
    {
     "name": "stdout",
     "output_type": "stream",
     "text": [
      "5 3\n",
      "2 4 5 8 12\n",
      "6\n",
      "2\n"
     ]
    }
   ],
   "source": [
    "import sys\n",
    "import itertools as it\n",
    "\n",
    "n, k=map(int, input().split())    # 5개 정수, 뽑을 개수 3개\n",
    "a=list(map(int, input().split())) # 5개 정수 리스트\n",
    "m=int(input())                    # 합은 6의 배수가 되도록\n",
    "cnt=0  # 개수 count\n",
    "\n",
    "for x in it.combinations(a, k):  # a리스트에서 k를 뽑아 조합을 만들어주는 경우가 x에 대응됨\n",
    "    if sum(x)%m==0: # x의 합이 6의 배수이면\n",
    "        cnt+=1      # 개수 count\n",
    "print(cnt)   # 출력"
   ]
  }
 ],
 "metadata": {
  "kernelspec": {
   "display_name": "Python 3",
   "language": "python",
   "name": "python3"
  },
  "language_info": {
   "codemirror_mode": {
    "name": "ipython",
    "version": 3
   },
   "file_extension": ".py",
   "mimetype": "text/x-python",
   "name": "python",
   "nbconvert_exporter": "python",
   "pygments_lexer": "ipython3",
   "version": "3.7.4"
  }
 },
 "nbformat": 4,
 "nbformat_minor": 2
}
