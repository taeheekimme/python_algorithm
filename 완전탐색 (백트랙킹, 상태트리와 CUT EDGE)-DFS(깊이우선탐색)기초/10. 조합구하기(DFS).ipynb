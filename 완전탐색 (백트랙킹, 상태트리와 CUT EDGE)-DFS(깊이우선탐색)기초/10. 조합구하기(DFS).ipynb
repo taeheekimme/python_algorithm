{
 "cells": [
  {
   "cell_type": "markdown",
   "metadata": {},
   "source": [
    "1부터 N까지 번호가 적힌 구슬이 있습니다. <br>\n",
    "이 중 M개를 뽑는 방법의 수를 출력하는 프로그램을 작성하세요.\n"
   ]
  },
  {
   "cell_type": "markdown",
   "metadata": {},
   "source": [
    "▣ 입력설명<br>\n",
    "첫 번째 줄에 자연수 N(3<=N<=10)과 M(2<=M<=N) 이 주어집니다.\n"
   ]
  },
  {
   "cell_type": "markdown",
   "metadata": {},
   "source": [
    "▣ 출력설명<br>\n",
    "첫 번째 줄에 결과를 출력합니다. <br>\n",
    "맨 마지막 총 경우의 수를 출력합니다.<br>\n",
    "출력순서는 사전순으로 오름차순으로 출력합니다.\n"
   ]
  },
  {
   "cell_type": "markdown",
   "metadata": {},
   "source": [
    "▣ 입력예제 1<br>\n",
    "4 2\n",
    "\n",
    "- 4까지 적힌 구슬 4개\n",
    "- 2개를 뽑는 경우의 수 출력"
   ]
  },
  {
   "cell_type": "markdown",
   "metadata": {},
   "source": [
    "▣ 출력예제 1<br>\n",
    "1 2<br>\n",
    "1 3<br>\n",
    "1 4<br>\n",
    "2 3<br>\n",
    "2 4<br>\n",
    "3 4<br>\n",
    "6<br>"
   ]
  },
  {
   "cell_type": "code",
   "execution_count": 1,
   "metadata": {},
   "outputs": [
    {
     "name": "stdout",
     "output_type": "stream",
     "text": [
      "4 2\n",
      "1 2 \n",
      "1 3 \n",
      "1 4 \n",
      "2 3 \n",
      "2 4 \n",
      "3 4 \n",
      "6\n"
     ]
    }
   ],
   "source": [
    "def DFS(L, s):\n",
    "    global cnt  # 전역변수로 변환\n",
    "    \n",
    "    if L==m:  \n",
    "        \n",
    "        for i in range(m):  # 출력값은 res에 있으므로 res값 출력\n",
    "            print(res[i], end=' ')\n",
    "        print()\n",
    "        cnt+=1  # 개수 count\n",
    "        \n",
    "    else:  # 가지 뻗어나감 \n",
    "        for i in range(s, n+1):  # s부터 가지를 뻗어나가 n까지\n",
    "            res[L]=i       # 레벨지점마다 i입력\n",
    "            DFS(L+1, i+1)  # 레벨은 1증가하고, 가지도 +1(2번가지는 3부터 가지를 뽑도록)\n",
    "           \n",
    "\n",
    "n, m=map(int, input().split())  # 4, 2 입력\n",
    "res=[0]*(n+1)  # 생성할 조합 입력할 리스트\n",
    "cnt=0          # 개수 count\n",
    "DFS(0, 1)\n",
    "print(cnt)\n",
    "\n",
    "\n",
    "# D(0,1) : 레벨 L은 0과 가지를 뻗는 첫번째 숫자 S는 1 -> res리스트는 res[0]일 때 1입력\n",
    "# for문은 s값부터 시작\n",
    "# D(0,1) -> 1,2,3,4 -> res[0]=1\n",
    "# D(1,2) -> 2,3,4 -> res[1]=2\n",
    "# D(2,3) -> L이 2개가 되었으므로 값 1,2 출력\n",
    "# back해서 res[1]=2값을 지우고 res[1]=3입력해 1,3 출력"
   ]
  },
  {
   "cell_type": "code",
   "execution_count": null,
   "metadata": {},
   "outputs": [],
   "source": []
  }
 ],
 "metadata": {
  "kernelspec": {
   "display_name": "Python 3",
   "language": "python",
   "name": "python3"
  },
  "language_info": {
   "codemirror_mode": {
    "name": "ipython",
    "version": 3
   },
   "file_extension": ".py",
   "mimetype": "text/x-python",
   "name": "python",
   "nbconvert_exporter": "python",
   "pygments_lexer": "ipython3",
   "version": "3.7.4"
  }
 },
 "nbformat": 4,
 "nbformat_minor": 2
}
