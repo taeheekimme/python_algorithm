{
 "cells": [
  {
   "cell_type": "markdown",
   "metadata": {},
   "source": [
    "1부터 N까지 번호가 적힌 구슬이 있습니다.<br>\n",
    "이 중 중복을 허락하여 M번을 뽑아 일렬로 나열하는 방법을 모두 출력합니다.\n"
   ]
  },
  {
   "cell_type": "markdown",
   "metadata": {},
   "source": [
    "▣ 입력설명<br>\n",
    "첫 번째 줄에 자연수 N(3<=N<=10)과 M(2<=M<=N) 이 주어집니다.\n"
   ]
  },
  {
   "cell_type": "markdown",
   "metadata": {},
   "source": [
    "▣ 출력설명<br>\n",
    "첫 번째 줄에 결과를 출력합니다. <br>\n",
    "맨 마지막 총 경우의 수를 출력합니다.<br>\n",
    "출력순서는 사전순으로 오름차순으로 출력합니다.\n"
   ]
  },
  {
   "cell_type": "markdown",
   "metadata": {},
   "source": [
    "▣ 입력예제 1<br>\n",
    "3 2\n",
    "- 1,2,3이 적힌 3개 구슬\n",
    "- 2개를 뽑아 일렬로 나열해 중복 허락"
   ]
  },
  {
   "cell_type": "markdown",
   "metadata": {},
   "source": [
    "▣ 출력예제 1<br>\n",
    "1 1<br>  \n",
    "1 2<br>  \n",
    "1 3<br>\n",
    "2 1<br>\n",
    "2 2<br>\n",
    "2 3<br>\n",
    "3 1<br>\n",
    "3 2<br>\n",
    "3 3<br>\n",
    "9\n",
    "- 1번 구슬 2번 뽑음\n",
    "- 1,2 구슬 뽑음"
   ]
  },
  {
   "cell_type": "code",
   "execution_count": 1,
   "metadata": {},
   "outputs": [
    {
     "name": "stdout",
     "output_type": "stream",
     "text": [
      "3 2\n",
      "1 1 \n",
      "1 2 \n",
      "1 3 \n",
      "2 1 \n",
      "2 2 \n",
      "2 3 \n",
      "3 1 \n",
      "3 2 \n",
      "3 3 \n",
      "9\n"
     ]
    }
   ],
   "source": [
    "def DFS(L):  # L은 res의 인덱스 번호\n",
    "    global cnt\n",
    "    \n",
    "    if L==m:  # 2개 뽑을 때 0,1번 인덱스 2개 모두 값이 입력되면 종료\n",
    "        \n",
    "        for i in range(m):  # 2까지 도달한 후 출력\n",
    "            print(res[i], end=' ')\n",
    "        print()\n",
    "        cnt+=1  # 경우의 수 누적 -> 지역변수로 인식되므로 global cnt로 전역변수로 변환해 cnt=0로 인식하게 해줌\n",
    "        \n",
    "    else:\n",
    "        for i in range(1, n+1):  # DFS(0)이 호출되면 i가 1,2,3 돌면서 값 선택\n",
    "            res[L]=i    # DFS(0)일 때 0번 인덱스에 1입력\n",
    "            DFS(L+1)    # DFS(1)호출\n",
    "            \n",
    "        \n",
    "\n",
    "if __name__==\"__main__\":\n",
    "    n, m=map(int, input().split())   # 구슬 개수, 뽑을 횟수\n",
    "    res=[0]*n  # res배열\n",
    "    cnt=0      # 경우의 수 0으로 초기화\n",
    "    DFS(0)\n",
    "    print(cnt) # 총 경우의 수 출력\n",
    "\n",
    "    \n",
    "    \n",
    "# res배열의 0번 인덱스 자리에 들어갈 값은 D(0)\n",
    "# D(0)에 들어갈 값은 1,2,3 중 하나\n",
    "# D(0)에서 0은 L로 인덱스 번호\n",
    "\n",
    "## D(0) = 1로 정해지면\n",
    "## D(1)은 또 1,2,3 중 하나 선택\n",
    "## D(1) = 1로 정해지면\n",
    "## 1,1 2가지 구슬 선택했으므로 종료 "
   ]
  },
  {
   "cell_type": "code",
   "execution_count": null,
   "metadata": {},
   "outputs": [],
   "source": []
  }
 ],
 "metadata": {
  "kernelspec": {
   "display_name": "Python 3",
   "language": "python",
   "name": "python3"
  },
  "language_info": {
   "codemirror_mode": {
    "name": "ipython",
    "version": 3
   },
   "file_extension": ".py",
   "mimetype": "text/x-python",
   "name": "python",
   "nbconvert_exporter": "python",
   "pygments_lexer": "ipython3",
   "version": "3.7.4"
  }
 },
 "nbformat": 4,
 "nbformat_minor": 2
}
