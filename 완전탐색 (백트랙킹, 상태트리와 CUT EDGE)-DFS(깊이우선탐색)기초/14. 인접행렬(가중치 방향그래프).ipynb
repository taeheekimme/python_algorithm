{
 "cells": [
  {
   "cell_type": "markdown",
   "metadata": {},
   "source": [
    "▣ 입력설명\n",
    "첫째 줄에는 정점의 수 N(2<=N<=20)와 간선의 수 M가 주어진다. <BR>\n",
    "그 다음부터 M줄에 걸쳐 연결정보와 거리비용이 주어진다.\n"
   ]
  },
  {
   "cell_type": "markdown",
   "metadata": {},
   "source": [
    "▣ 출력설명 <BR>\n",
    "인접행렬을 출력하세요.\n"
   ]
  },
  {
   "cell_type": "markdown",
   "metadata": {},
   "source": [
    "▣ 입력예제 1 <BR>\n",
    "6 9 <BR>\n",
    "1 2 7 <BR>\n",
    "1 3 4 <BR>\n",
    "2 1 2 <BR>\n",
    "2 3 5 <BR>\n",
    "2 5 5 <BR>\n",
    "3 4 5 <BR>\n",
    "4 2 2 <BR>\n",
    "4 5 5 <BR>\n",
    "6 4 5 <BR>\n",
    "- 1에서 2로 가는데 가중치 7\n",
    "- 1에서 3으로 가는데 가중치 4"
   ]
  },
  {
   "cell_type": "markdown",
   "metadata": {},
   "source": [
    "▣ 출력예제 1 <BR>\n",
    "0 7 4 0 0 0 : 1에서 2로 가는 가중치 7, 1에서 3으로 가는 가중치 4<BR>\n",
    "2 0 5 0 5 0 <BR>\n",
    "0 0 0 5 0 0 <BR>\n",
    "0 2 0 0 5 0 <BR>\n",
    "0 0 0 0 0 0 <BR>\n",
    "0 0 0 5 0 0"
   ]
  },
  {
   "cell_type": "code",
   "execution_count": null,
   "metadata": {},
   "outputs": [],
   "source": [
    "n=int(input()) # 노드 번호 1~6\n",
    "m=int(input()) # 간선 정보 9바퀴\n",
    "g=[[0]*(n+1) for _ in range(n+1)]  # 인접행렬 그래프 설정 0~n까지 인덱스 번호 갖도록 생성해 n바퀴 돔\n",
    "                                   # 0으로 초기화\n",
    "\n",
    "for i in range(m): # 9개 간선정보 입력\n",
    "    a, b, c=map(int, input().split())  # 1(a)에서 2(b)까지 가중치 7(c)\n",
    "    g[a][b]=c\n",
    "    \n",
    "    \n",
    "for i in range(1, n+1):\n",
    "    for j in range(1, n+1):\n",
    "        print(g[i][j], end=' ')\n",
    "    print()"
   ]
  }
 ],
 "metadata": {
  "kernelspec": {
   "display_name": "Python 3",
   "language": "python",
   "name": "python3"
  },
  "language_info": {
   "codemirror_mode": {
    "name": "ipython",
    "version": 3
   },
   "file_extension": ".py",
   "mimetype": "text/x-python",
   "name": "python",
   "nbconvert_exporter": "python",
   "pygments_lexer": "ipython3",
   "version": "3.7.4"
  }
 },
 "nbformat": 4,
 "nbformat_minor": 2
}
