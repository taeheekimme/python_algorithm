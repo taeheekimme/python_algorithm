{
 "cells": [
  {
   "cell_type": "markdown",
   "metadata": {},
   "source": [
    "### 트리 탐색 방법\n",
    "1. 깊이우선탐색 DFS(재귀) \n",
    "  - 밑으로 계속 내려가다가 말단 노드에 도달하면 되돌아감<BR><BR>\n",
    "     - 트리 순회 방식\n",
    "       - 전위 순회 출력 : 1 2 3 5 3 6 7 (부모 -> 왼쪽자식 -> 오른쪽자식)\n",
    "       - 중위 순회 출력 : 4 2 5 1 6 3 7 (왼쪽자식 -> 부모 -> 오른쪽자식)\n",
    "       \n",
    "       - 후위 순회 출력 : 4 5 2 6 7 3 1 (왼쪽자식 -> 오른쪽자식 -> 부모)<BR><BR>\n",
    "      \n",
    "      \n",
    "      \n",
    "2. 넓이우선탐색 BFS(큐) \n",
    "   - 0레벨, 1레벨 등 레벨순으로 탐색\n",
    "      \n",
    "### 트리 기본 구조\n",
    "   - 부모노드\n",
    "   - 왼쪽 자식노드\n",
    "   - 오른쪽 자식노드"
   ]
  },
  {
   "cell_type": "code",
   "execution_count": 1,
   "metadata": {},
   "outputs": [
    {
     "name": "stdout",
     "output_type": "stream",
     "text": [
      "1 2 4 5 3 6 7 "
     ]
    }
   ],
   "source": [
    "def DFS(v):     # v는 노드 값\n",
    "    \n",
    "    if v>7:     # 노드 값이 1 ~ 7이므로 7이상은 종료\n",
    "        return\n",
    "    \n",
    "    else:       # 노드 값이 1 ~ 7인 경우 출력\n",
    "        print(v, end=' ')\n",
    "        DFS(v*2)          # 왼쪽자식노드 값 = 부모노드 값 *2\n",
    "        DFS(v*2+1)        # 오른쪽자식노드 값 = 부모노드 값 *2 +1\n",
    "                          # 보통 전위 순회 방식으로 작성함\n",
    "        \n",
    "if __name__==\"__main__\":\n",
    "    DFS(1)  # 1번 루트에서 출발"
   ]
  },
  {
   "cell_type": "markdown",
   "metadata": {},
   "source": [
    "### 스택 과정\n",
    "DFS(1)로 D(1)<BR>\n",
    "DFS(v*2)로 D(2)<BR>\n",
    "DFS(v*2)로 D(4)<BR>\n",
    "DFS(v*2)로 D(8)후, v>7이므로 pop되고, 최상단 DFS(v*2)로 D(4) 작동<BR>\n",
    "DFS(v*2+1)로 D(9)후, v>7이므로 pop되고, 최상단 DFS(v*2)로 D(4)인 상태에서 print(v, end=' ')에서 4 출력<BR>\n",
    "최상단 DFS(v*2)로 D(2)인 상태에서  DFS(v*2+1)로 D(5)<BR>\n",
    "DFS(v*2)로 D(10)후 함수 종료, 최상단 D(5)<BR>\n",
    "DFS(v*2+1)로 D(11)후 함수 종료, 최상단 D(5)로 back하여 5출력<BR>\n",
    "최상단  D(2)에서 2출력<BR>\n",
    "최상단 D(1)에 DFS(v*2+1)로 D(3)<BR>\n",
    "\n",
    "\n",
    "\n"
   ]
  },
  {
   "cell_type": "code",
   "execution_count": null,
   "metadata": {},
   "outputs": [],
   "source": [
    "# 전위 순회 방식\n",
    "print(v, end=' ')\n",
    "DFS(v*2)         \n",
    "DFS(v*2+1)"
   ]
  },
  {
   "cell_type": "code",
   "execution_count": null,
   "metadata": {},
   "outputs": [],
   "source": [
    "# 중위 순회 방식       \n",
    "DFS(v*2)          \n",
    "print(v, end=' ')\n",
    "DFS(v*2+1)  "
   ]
  },
  {
   "cell_type": "code",
   "execution_count": null,
   "metadata": {},
   "outputs": [],
   "source": [
    "# 후위 순회 방식\n",
    "DFS(v*2)        \n",
    "DFS(v*2+1)  \n",
    "print(v, end=' ')"
   ]
  }
 ],
 "metadata": {
  "kernelspec": {
   "display_name": "Python 3",
   "language": "python",
   "name": "python3"
  },
  "language_info": {
   "codemirror_mode": {
    "name": "ipython",
    "version": 3
   },
   "file_extension": ".py",
   "mimetype": "text/x-python",
   "name": "python",
   "nbconvert_exporter": "python",
   "pygments_lexer": "ipython3",
   "version": "3.7.4"
  }
 },
 "nbformat": 4,
 "nbformat_minor": 2
}
