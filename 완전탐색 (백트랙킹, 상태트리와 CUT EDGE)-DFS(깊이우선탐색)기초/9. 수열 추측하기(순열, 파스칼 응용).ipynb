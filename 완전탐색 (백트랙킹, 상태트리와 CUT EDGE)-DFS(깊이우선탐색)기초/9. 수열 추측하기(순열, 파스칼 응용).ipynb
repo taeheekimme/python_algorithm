{
 "cells": [
  {
   "cell_type": "markdown",
   "metadata": {},
   "source": [
    "가장 윗줄에 1부터 N까지의 숫자가 한 개씩 적혀 있다. <br>\n",
    "그리고 둘째 줄부터 차례대로 파스칼의 삼각형처럼 위의 두개를 더한 값이 저장되게 된다. <br>\n",
    "예를 들어 N이 4 이고 가장 윗 줄에 <br>\n",
    "31 2 4 가 있다고 했을 때, 다음과 같은 삼각형이 그려진다.<br>\n",
    "3 1 2 4<br>\n",
    "4 3 6<br>\n",
    "7 9<br>\n",
    "16<br>\n",
    "N과 가장 밑에 있는 숫자가 주어져 있을 때 가장 윗줄에 있는 숫자를 구하는 프로그램을 작성하시오. <br>\n",
    "단, 답이 여러가지가 나오는 경우에는 사전순으로 가장 앞에 오는 것을 출력하여야 한다."
   ]
  },
  {
   "cell_type": "markdown",
   "metadata": {},
   "source": [
    "\n",
    "▣ 입력설명<br>\n",
    "첫째 줄에 두개의 정수 N(1≤N≤10)과 F가 주어진다. <br>\n",
    "N은 가장 윗줄에 있는 숫자의 개수를 의미하며 F는 가장 밑에 줄에 있는 수로 1,000,000 이하이다.\n"
   ]
  },
  {
   "cell_type": "markdown",
   "metadata": {},
   "source": [
    "▣ 출력설명<br>\n",
    "첫째 줄에 삼각형에서 가장 위에 들어갈 N개의 숫자를 빈 칸을 사이에 두고 출력한다. <br>\n",
    "답이 존재하지 않는 경우는 입력으로 주어지지 않는다.\n"
   ]
  },
  {
   "cell_type": "markdown",
   "metadata": {},
   "source": [
    "▣ 입력예제 1<br>\n",
    "4 16\n",
    "- 1,2,3,4 4개의 숫자가 일렬로 나열되어 있음\n",
    "- 1+2, 2+3, 3+4\n",
    "- 1+2+2+3, 2+3+3+4\n",
    "- 1+2+2+3+2+3+3+4 했을 때 16이 나오는 경우는 3124 순으로 정렬했을 때임<br><br>\n",
    "\n",
    "- n이 10이면 10!이고 이때마다 경우의 수 구하기는 너무 많음\n",
    "- 규칙을 찾아 계산\n",
    "- 마지막 합을 구할 때\n",
    "  - 1은 1번 \n",
    "  - 2는 3번\n",
    "  - 3은 3번\n",
    "  - 4는 1번 더해짐\n",
    "  - (첫번째 숫자 * 1) + (두번째숫자 * 2) + (세번째숫자 * 3) + (네번째숫자 *1)<br><br>\n",
    "\n",
    "- n이 3일 때 1,2,1번\n",
    "- n이 4일 때 1,3,3,1번\n",
    "- 즉, a^3 + 3a^2b + 3ab^2 + b^3에서 계수를 나타냄\n",
    "- 3c0, 3c1, 3c2, 3c3\n",
    "- binary리스트에 1,3,3,1로 초기화\n",
    "- 내가 만든 순열 리스트 p에 1,2,3,4순으로 정렬한 뒤 b리스트랑 곱해서 확인하면 됨"
   ]
  },
  {
   "cell_type": "markdown",
   "metadata": {},
   "source": [
    "▣ 출력예제 1<br>\n",
    "3 1 2 4"
   ]
  },
  {
   "cell_type": "code",
   "execution_count": null,
   "metadata": {},
   "outputs": [],
   "source": [
    "def DFS(L, sum):\n",
    "    if L==n and sum==f:  # L은 n까지가면 종료, sum이 최종값이 나오면 종료\n",
    "        \n",
    "        for x in p:   \n",
    "            print(x, end=' ')\n",
    "        sys.exit(0)   # 답을 출력하고 프로그램 전체 종료\n",
    "        \n",
    "        \n",
    "    else:   \n",
    "        for i in range(1, n+1):  # 순열 만들기 1~4까지\n",
    "            if ch[i]==0:  # 0일때 중복방지\n",
    "                ch[i]=1   # 1로 체크하여 중복방지\n",
    "                p[L]=i    # 순열 생성\n",
    "                DFS(L+1, sum+(p[L]*b[L]))  # 레벨은 12증가, 내가 생성한 순열과 b리스트의 이항계수를 곱함\n",
    "                ch[i]=0   # 초기화하여 나중에 숫자 쓸수있도록 0으로 변경\n",
    "\n",
    "                \n",
    "if __name__ == \"__main__\":\n",
    "    n, f=map(int, input().split())  # 4개 숫자, 결과값 16\n",
    "    p=[0]*n       # 내가 만든 순열 숫자 입력할 리스트 0으로 초기화\n",
    "    b=[1]*n       # 이항계수 입력할 리스트 1로 초기화 -> 맨 앞과 맨끝은 1로 고정되어 변경되지 않고, 2와 3번 인덱스값만 변경해 나가면 됨\n",
    "    ch=[0]*(n+1)  # 순열만들 때 중복방지위한 체크리스트\n",
    "    \n",
    "    \n",
    "    ## b리스트 초기화\n",
    "    for i in range(1, n):    # 맨끝은 고정이라 3까지 해도 됨\n",
    "        b[i]=b[i-1]*(n-i)//i # n이 4일 때 3c0 :1*3/1, 3c1 : 3/1, 3c2 : 3*2/2*1, 3c3 : 3*2*1/3*2*1 \n",
    "                             # b[i-1]*(n-i)//i : 앞의 숫자 * 3 /1\n",
    "    DFS(0, 0)\n"
   ]
  }
 ],
 "metadata": {
  "kernelspec": {
   "display_name": "Python 3",
   "language": "python",
   "name": "python3"
  },
  "language_info": {
   "codemirror_mode": {
    "name": "ipython",
    "version": 3
   },
   "file_extension": ".py",
   "mimetype": "text/x-python",
   "name": "python",
   "nbconvert_exporter": "python",
   "pygments_lexer": "ipython3",
   "version": "3.7.4"
  }
 },
 "nbformat": 4,
 "nbformat_minor": 2
}
