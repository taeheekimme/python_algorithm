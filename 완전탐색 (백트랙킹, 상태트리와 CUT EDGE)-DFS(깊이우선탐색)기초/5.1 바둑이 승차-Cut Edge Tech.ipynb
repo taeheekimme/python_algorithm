{
 "cells": [
  {
   "cell_type": "markdown",
   "metadata": {},
   "source": [
    "철수는 그의 바둑이들을 데리고 시장에 가려고 한다. 그런데 그의 트럭은 C킬로그램 넘게 태울수가 없다. <BR>\n",
    "철수는 C를 넘지 않으면서 그의 바둑이들을 가장 무겁게 태우고 싶다.<BR>\n",
    "N마리의 바둑이와 각 바둑이의 무게 W가 주어지면, 철수가 트럭에 태울 수 있는 가장 무거운 무게를 구하는 프로그램을 작성하세요.<BR>\n"
   ]
  },
  {
   "cell_type": "markdown",
   "metadata": {},
   "source": [
    "▣ 입력설명<BR>\n",
    "첫 번째 줄에 자연수 C(1<=C<=100,000,000)와 N(1<=N<=30)이 주어집니다.<BR>\n",
    "둘째 줄부터 N마리 바둑이의 무게가 주어진다.\n"
   ]
  },
  {
   "cell_type": "markdown",
   "metadata": {},
   "source": [
    "▣ 출력설명<BR>\n",
    "첫 번째 줄에 가장 무거운 무게를 출력한다.\n"
   ]
  },
  {
   "cell_type": "markdown",
   "metadata": {},
   "source": [
    "▣ 입력예제 1<BR>\n",
    "259 5<BR>\n",
    "81<BR>\n",
    "58<BR>\n",
    "42<BR>\n",
    "33<BR>\n",
    "61<BR>\n",
    "- 259는 트럭 제한 무게, 5는 바둑이 마리 수\n",
    "- 5마리 각각의 무게 주어짐\n",
    "- 총 몇마리를 트럭에 태울 수 있는가\n",
    "   - 부분집합 사용해 풀이\n",
    "     - 5마리가 전체 집합\n",
    "     - 트럭에 태울 수 있는 무게가 부분집합\n",
    "     - 부분집합의 최대가 259를 넘지않는 최대값을 구하면 됨"
   ]
  },
  {
   "cell_type": "markdown",
   "metadata": {},
   "source": [
    "▣ 출력예제 1<BR>\n",
    "242"
   ]
  },
  {
   "cell_type": "code",
   "execution_count": 3,
   "metadata": {},
   "outputs": [
    {
     "name": "stdout",
     "output_type": "stream",
     "text": [
      "259 5\n",
      "81\n",
      "58\n",
      "42\n",
      "33\n",
      "61\n",
      "242\n"
     ]
    }
   ],
   "source": [
    "def DFS(L, sum, tsum):   # (a리스트 인덱스, 내가 만든 부분집합 합, 부분집합 적용한 원소까지의 합)\n",
    "    global result        # result가 result=-2147000000 라는 것을 지정해줘야 함\n",
    "    \n",
    "    if sum+(total-tsum)<result:  # sum + (total-tsum) : 앞으로 부분집합 적용할 무게들 + (전체 마리 무게 - 부분집합 적용한 합)\n",
    "        return                   # result보다 작으면 실행할 필요 없음\n",
    "    \n",
    "    if sum>c:   # 부분집합 합이 무게 259를 넘으면 안됨\n",
    "        return\n",
    "    \n",
    "    if L==n:            # 부분집합 완성됬을 경우\n",
    "        if sum>result:  # 내가 만든 부분집합 합이 result보다 큰 경우\n",
    "            result=sum  # result는 sum으로 변경\n",
    "            \n",
    "    else:               # a리스트의 원소를 부분집합에 포함할지 말지\n",
    "        DFS(L+1, sum+a[L], tsum+a[L])  # sum+a[L] : a리스트 L번째 원소를 부분집합에 포함\n",
    "        DFS(L+1, sum, tsum+a[L])       # sum : a의 리스트 L번째 원소를 부분집합에 포함안함\n",
    "\n",
    "        \n",
    "if __name__==\"__main__\":\n",
    "    c, n=map(int, input().split())   # c는 무게제한, n은 바둑이 마리수\n",
    "    a=[0]*n                          # 바둑이 각각의 무게 리스트에 저장\n",
    "    result=-2147000000               # 최종답 저장(초기화는 아주 작은 값으로)\n",
    "    \n",
    "    for i in range(n):   # 줄바꿈으로 하나씩 입력되므로 하나씩 읽어 리스트에 저장\n",
    "        a[i]=int(input())\n",
    "        \n",
    "    total=sum(a)  # 5마리 총 무게를 구함\n",
    "    DFS(0, 0, 0)   \n",
    "    print(result)\n"
   ]
  },
  {
   "cell_type": "code",
   "execution_count": null,
   "metadata": {},
   "outputs": [],
   "source": []
  }
 ],
 "metadata": {
  "kernelspec": {
   "display_name": "Python 3",
   "language": "python",
   "name": "python3"
  },
  "language_info": {
   "codemirror_mode": {
    "name": "ipython",
    "version": 3
   },
   "file_extension": ".py",
   "mimetype": "text/x-python",
   "name": "python",
   "nbconvert_exporter": "python",
   "pygments_lexer": "ipython3",
   "version": "3.7.4"
  }
 },
 "nbformat": 4,
 "nbformat_minor": 2
}
