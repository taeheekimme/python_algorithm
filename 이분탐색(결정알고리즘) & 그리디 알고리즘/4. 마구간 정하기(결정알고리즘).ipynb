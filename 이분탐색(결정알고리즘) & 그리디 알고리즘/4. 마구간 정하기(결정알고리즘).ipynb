{
 "cells": [
  {
   "cell_type": "markdown",
   "metadata": {},
   "source": [
    "N개의 마구간이 수직선상에 있습니다. 각 마구간은 x1, x2, x3, ......, xN의 좌표를 가지며, 마구간간에 좌표가 중복되는 일은 없습니다.<br>\n",
    "현수는 C마리의 말을 가지고 있는데, 이 말들은 서로 가까이 있는 것을 좋아하지 않습니다.<br>\n",
    "각 마구간에는 한 마리의 말만 넣을 수 있고, 가장 가까운 두 말의 거리가 최대가 되게 말을 마구간에 배치하고 싶습니다.<br>\n",
    "C마리의 말을 N개의 마구간에 배치했을 때 가장 가까운 두 말의 거리가 최대가 되는 그 최대값을 출력하는 프로그램을 작성하세요.\n"
   ]
  },
  {
   "cell_type": "markdown",
   "metadata": {},
   "source": [
    "▣ 입력설명<br>\n",
    "첫 줄에 자연수 N(3<=N<=200,000)과 C(2<=C<=N)이 공백을 사이에 두고 주어집니다.<br>\n",
    "둘째 줄부터 N개의 줄에 걸쳐 마구간의 좌표 xi(0<=xi<=1,000,000,000)가 한 줄에 하나씩 주어집니다.\n"
   ]
  },
  {
   "cell_type": "markdown",
   "metadata": {},
   "source": [
    "▣ 출력설명<br>\n",
    "첫 줄에 가장 가까운 두 말의 최대 거리를 출력하세요.\n"
   ]
  },
  {
   "cell_type": "markdown",
   "metadata": {},
   "source": [
    "▣ 입력예제 1<br>\n",
    "5 3<br>\n",
    "1<br>\n",
    "2<br>\n",
    "8<br>\n",
    "4<br>\n",
    "9\n",
    "\n",
    "- 5개의 마구간 좌표, 3마리의 말\n",
    "- 마구간 좌표를 1,2,8,4,9로 입력받아서 1,3,4,8,9로 정렬\n",
    "- 말 3마리 모두를 배치했을 때 각 말들의 서로 거리가 최대가 되도록 배치\n",
    "   - lt는 1과 2의 거리인 최소 1부터 시작\n",
    "   - rt는 최대인 9\n",
    "   - mid인 5가 답이 되는지 확인 -> 모든 말들의 거리는 5보다 크거나 같아야 함\n",
    "   - 말이 1과 2에 있다면 차이가 1로 5보다 작아 불가능\n",
    "   - 말이 1과 4에 있다면 차이가 3으로 5보다 작아 불가능\n",
    "   - 말이 1과 8에 있다면 차이가 7로 5보다 커서 가능\n",
    "   - 두마리의 말이 이미 1과 8에 위치해 있으니, 세번째 말을 9에 배치하면 두번째 말과 세번째 말의 거리 차가 8-9=1로 5보다 작아 불가능\n",
    "   - mid가 5일 때는 말을 2마리 밖에 배치못함\n",
    "   - rt를 줄이면서 구간 조정"
   ]
  },
  {
   "cell_type": "markdown",
   "metadata": {},
   "source": [
    "▣ 출력예제 1<br>\n",
    "3"
   ]
  },
  {
   "cell_type": "code",
   "execution_count": 1,
   "metadata": {},
   "outputs": [
    {
     "name": "stdout",
     "output_type": "stream",
     "text": [
      "5 3\n",
      "1\n",
      "2\n",
      "8\n",
      "4\n",
      "9\n",
      "3\n"
     ]
    }
   ],
   "source": [
    "def Count(len):  # 배치할 수 있는 말의 마리 수를 리턴\n",
    "    cnt=1        # 말 1마리 배치\n",
    "    ep=Line[0]   # ep는 end point로 말이 마지막에 배치된 지점\n",
    "    \n",
    "    for i in range(1, n):\n",
    "        \n",
    "        if Line[i]-ep>=len:  # 현재 말을 배치하려는 지점 - 마지막에 말을 배치한 지점 >= len이면 다음 말 배치 가능\n",
    "            cnt+=1\n",
    "            ep=Line[i]  # 마지막 말의 배치지점이 Line[i]지점\n",
    "            \n",
    "    return cnt  # 배치한 말의 마리 수를 리턴\n",
    "\n",
    "\n",
    "# 마구간 좌표, 말 마리 수\n",
    "n, c=map(int, input().split())\n",
    "\n",
    "# 입력받을 마구간 좌표\n",
    "Line=[]\n",
    "\n",
    "### 마구간 좌표\n",
    "for _ in range(n):\n",
    "    tmp=int(input())  # 마구간 좌표는 줄바뀜하여 출력되야 하므로 input사용\n",
    "    Line.append(tmp)  # 좌표 하나씩 입력받아 append로 연결\n",
    "Line.sort()           # 좌표 정렬\n",
    "\n",
    "\n",
    "lt=1  # 최소 거리\n",
    "rt=Line[n-1]  # 최대 거리(마구간 마지막 좌표)\n",
    "\n",
    "### 이분 검색\n",
    "while lt<=rt:\n",
    "    mid=(lt+rt)//2\n",
    "    \n",
    "    if Count(mid)>=c:\n",
    "        res=mid    # 답을 찾음\n",
    "        lt=mid+1   # 답을 찾더라도 최대거리를 찾아야 하므로 lt로 거리를 늘림\n",
    "         \n",
    "    else:          # 거리가 너무 길어 원하는 마리 수를 배치못할 경우\n",
    "        rt=mid-1   # 거리를 좁히기 위해 거리가 긴 rt를 줄여줌\n",
    "\n",
    "print(res)\n",
    "\n"
   ]
  },
  {
   "cell_type": "code",
   "execution_count": null,
   "metadata": {},
   "outputs": [],
   "source": []
  }
 ],
 "metadata": {
  "kernelspec": {
   "display_name": "Python 3",
   "language": "python",
   "name": "python3"
  },
  "language_info": {
   "codemirror_mode": {
    "name": "ipython",
    "version": 3
   },
   "file_extension": ".py",
   "mimetype": "text/x-python",
   "name": "python",
   "nbconvert_exporter": "python",
   "pygments_lexer": "ipython3",
   "version": "3.7.4"
  }
 },
 "nbformat": 4,
 "nbformat_minor": 2
}
