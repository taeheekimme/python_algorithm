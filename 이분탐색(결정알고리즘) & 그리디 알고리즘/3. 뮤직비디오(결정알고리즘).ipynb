{
 "cells": [
  {
   "cell_type": "markdown",
   "metadata": {},
   "source": [
    "지니레코드에서는 불세출의 가수 조영필의 라이브 동영상을 DVD로 만들어 판매하려 한다.<br>\n",
    "DVD에는 총 N개의 곡이 들어가는데, DVD에 녹화할 때에는 라이브에서의 순서가 그대로 유지되어야 한다. <br>\n",
    "순서가 바뀌는 것을 우리의 가수 조영필씨가 매우 싫어한다. <br>\n",
    "즉, 1번 노래와 5번 노래를 같은 DVD에 녹화하기 위해서는 1번과 5번 사이의 모든 노래도 같은 DVD에 녹화해야 한다. <br>\n",
    "또한 한 노래를 쪼개서 두 개의 DVD에 녹화하면 안된다.<br>\n",
    "지니레코드 입장에서는 이 DVD가 팔릴 것인지 확신할 수 없기 때문에 이 사업에 낭비되는 DVD를 가급적 줄이려고 한다. <br>\n",
    "고민 끝에 지니레코드는 M개의 DVD에 모든 동영상을 녹화하기로 하였다. 이 때 DVD의 크기(녹화 가능한 길이)를 최소로 하려고 한다. <br>\n",
    "그리고 M개의 DVD는 모두 같은 크기여야 제조원가가 적게 들기 때문에 꼭 같은 크기로 해야 한다.\n"
   ]
  },
  {
   "cell_type": "markdown",
   "metadata": {},
   "source": [
    "▣ 입력설명<br>\n",
    "첫째 줄에 자연수 N(1≤N≤1,000), M(1≤M≤N)이 주어진다. <br>\n",
    "다음 줄에는 조영필이 라이브에서 부른 순서대로 부른 곡의 길이가 분 단위로(자연수) 주어진다. <br>\n",
    "부른 곡의 길이는 10,000분을 넘지 않는다고 가정하자.\n"
   ]
  },
  {
   "cell_type": "markdown",
   "metadata": {},
   "source": [
    "▣ 출력설명<br>\n",
    "첫 번째 줄부터 DVD의 최소 용량 크기를 출력하세요.\n"
   ]
  },
  {
   "cell_type": "markdown",
   "metadata": {},
   "source": [
    "▣ 입력예제 1<br>\n",
    "9 3<br>\n",
    "1 2 3 4 5 6 7 8 9\n",
    "- 9곡을 DVD 3장에 담아야 함\n",
    "- 곡들의 시간 (1분, 2분, 3분 ~ 9분)\n",
    "- DVD 1장의 용량이 최소화되야 함\n",
    "  - 답의 범위는 lt(DVD 1장의 최소용량 1) ~ rt(9곡을 1장에 담는게 최대이므로 45분)\n",
    "- mid(DVD 1장의 용량)인 23용량으로 9곡을 3장에 담을 수 있는지 확인\n",
    "   - 1~6까지 더하면 21분이므로 23을 넘지않아 1장에 담을 수 있음\n",
    "   - 7,8더하면 15분으로 23을 넘지 않아 2장에 담음\n",
    "   - 3장에는 9분짜리 노래 하나 담음\n",
    "   - 총 3장에 9곡을 담음\n",
    "- 만약 2장으로도 9곡을 담을 수 있다면 가능한 것임\n",
    "   - 2장에 9곡이 가능하면 3장도 당연히 가능하므로"
   ]
  },
  {
   "cell_type": "markdown",
   "metadata": {},
   "source": [
    "▣ 출력예제 1<br>\n",
    "17"
   ]
  },
  {
   "cell_type": "code",
   "execution_count": 1,
   "metadata": {},
   "outputs": [
    {
     "name": "stdout",
     "output_type": "stream",
     "text": [
      "9 3\n",
      "1 2 3 4 5 6 7 8 9\n",
      "17\n"
     ]
    }
   ],
   "source": [
    "def Count(capacity):  # 9곡을 저장하기위해 DVD가 몇장이 필요한지 개수를 셈\n",
    "    cnt=1             # 일단 DVD 1장 필요\n",
    "    sum=0             # DVD에 저장되는 곡들의 시간 합\n",
    "    \n",
    "    for x in Music:   # 9곡을 하나씩 X로 입력받음\n",
    "        \n",
    "        if sum+x>capacity:  # 곡 누적 시간 + 새로운 x곡의 시간 > 용량이면 DVD에 더이상 저장 못함\n",
    "            cnt+=1          # 새로운 DVD 1장이 필요하므로 1장 증가\n",
    "            sum=x           # 새로운 DVD에 x곡을 저장\n",
    "            \n",
    "        else:               # 용량을 초과하지 않아 저장이 가능하다면 \n",
    "            sum+=x          # x곡을 입력받아 시간 누적\n",
    "            \n",
    "    return cnt              # 필요한 DVD 개수 반환\n",
    "\n",
    "\n",
    "\n",
    "# 곡의수, DVD 수\n",
    "n, m=map(int, input().split())\n",
    "\n",
    "# 9곡 입력받음\n",
    "Music=list(map(int, input().split()))\n",
    "\n",
    "lt=1          # DVD 1장의 최소 용량\n",
    "rt=sum(Music) # 9곡들의 시간 합 45\n",
    "\n",
    "res=0\n",
    "\n",
    "### 이분검색\n",
    "while lt<=rt:\n",
    "    \n",
    "    mid=(lt+rt)//2  # DVD 1장의 용량인 mid구함\n",
    "    \n",
    "    if  Count(mid)<=m:  # 필요한 DVD의 개수가 3장 이하여야 함\n",
    "        res=mid         # res는 답인 mid가 됨\n",
    "        rt=mid-1        # 더 큰 용량도 당연히 답이 됨  \n",
    "                        # 큰 쪽을 버림\n",
    "        \n",
    "    else:               # 3장 이상인 경우\n",
    "        lt=mid+1        # 용량을 키워야 하므로 더해서 구간을 늘림\n",
    "        \n",
    "print(res)\n"
   ]
  },
  {
   "cell_type": "code",
   "execution_count": null,
   "metadata": {},
   "outputs": [],
   "source": []
  }
 ],
 "metadata": {
  "kernelspec": {
   "display_name": "Python 3",
   "language": "python",
   "name": "python3"
  },
  "language_info": {
   "codemirror_mode": {
    "name": "ipython",
    "version": 3
   },
   "file_extension": ".py",
   "mimetype": "text/x-python",
   "name": "python",
   "nbconvert_exporter": "python",
   "pygments_lexer": "ipython3",
   "version": "3.7.4"
  }
 },
 "nbformat": 4,
 "nbformat_minor": 2
}
