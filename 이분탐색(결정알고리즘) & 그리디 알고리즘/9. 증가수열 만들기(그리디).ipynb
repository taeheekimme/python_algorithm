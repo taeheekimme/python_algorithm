{
 "cells": [
  {
   "cell_type": "markdown",
   "metadata": {},
   "source": [
    "1부터 N까지의 자연수로 구성된 길이 N의 수열이 주어집니다.<br>\n",
    "이 수열의 왼쪽 맨 끝 숫자 또는 오른쪽 맨 끝 숫자 중 하나를 가져와 나열하여 가장 긴 증가수열을 만듭니다. <br>\n",
    "이때 수열에서 가져온 숫자(왼쪽 맨 끝 또는 오른쪽 맨 끝)는 그 수열에서 제거됩니다.<br>\n",
    "예를 들어 2 4 5 1 3 이 주어지면 만들 수 있는 가장 긴 증가수열의 길이는 4입니다.<br>\n",
    "맨 처음 왼쪽 끝에서 2를 가져오고, 그 다음 오른쪽 끝에서 3을 가져오고, 왼쪽 끝에서 4, 왼쪽 끝에서 5를 가져와 2 3 4 5 증가수열을 만들 수 있습니다.\n"
   ]
  },
  {
   "cell_type": "markdown",
   "metadata": {},
   "source": [
    "▣ 입력설명<br>\n",
    "첫째 줄에 자연수 N(3<=N<=100)이 주어집니다.<br>\n",
    "두 번째 줄에 N개로 구성된 수열이 주어집니다.<br>\n"
   ]
  },
  {
   "cell_type": "markdown",
   "metadata": {},
   "source": [
    "<br>▣ 출력설명\n",
    "첫째 줄에 최대 증가수열의 길이를 출력합니다.<br>\n",
    "두 번째 줄에 가져간 순서대로 왼쪽 끝에서 가져갔으면 ‘L', 오른쪽 끝에서 가져갔으면 ’R'를 써 간 문자열을 출력합니다.<br>\n",
    "(단 마지막에 남은 값은 왼쪽 끝으로 생각합니다.)\n"
   ]
  },
  {
   "cell_type": "markdown",
   "metadata": {},
   "source": [
    "▣ 입력예제 1<br>\n",
    "5<br>\n",
    "2 4 5 1 3\n",
    "- lt와 rt 포인터 생성\n",
    "- lt와 rt 중 작은 값을 가져옴\n",
    "- 수열의 마지막 항을 last로 기억해놔야 함\n",
    "  - 그 다음 숫자가 마지막 항보다 커야 하므로\n",
    "- last=0으로 초기화됬을 때 lt 2와 rt 3 모두 0보다 큼\n",
    "  - 빈 리스트에 (2,l)과 (3,r)로 입력 후 정렬\n",
    "  - 2와 l출력 후 pop하여 삭제\n",
    "  - lt와 rt로 구간 이동\n",
    "- lt > rt 이면 종료\n",
    "- lt와 rt < last 이면 종료"
   ]
  },
  {
   "cell_type": "markdown",
   "metadata": {},
   "source": [
    "▣ 출력예제 1<br>\n",
    "4<br>\n",
    "LRLL\n"
   ]
  },
  {
   "cell_type": "markdown",
   "metadata": {},
   "source": [
    "▣ 입력예제 2<br>\n",
    "10<br>\n",
    "3 2 10 1 5 4 7 8 9 6\n"
   ]
  },
  {
   "cell_type": "markdown",
   "metadata": {},
   "source": [
    "▣ 출력예제 2<br>\n",
    "3<br>\n",
    "LRR"
   ]
  },
  {
   "cell_type": "code",
   "execution_count": 1,
   "metadata": {},
   "outputs": [
    {
     "name": "stdout",
     "output_type": "stream",
     "text": [
      "5\n",
      "2 4 5 1 3\n",
      "4\n",
      "LRLL\n"
     ]
    }
   ],
   "source": [
    "# 수열길이\n",
    "n=int(input())\n",
    "\n",
    "# a리스트에 수열 입력\n",
    "a=list(map(int, input().split()))\n",
    "\n",
    "# lt는 맨 왼쪽, rt는 맨 오른쪽\n",
    "lt=0\n",
    "rt=n-1\n",
    "\n",
    "# 수열의 마지막 항 0으로 초기화\n",
    "last=0\n",
    "\n",
    "# left와 right 중 어느 쪽에서 문자열을 가져왔는지 출력하기 위해 \"\"로 초기화\n",
    "res=\"\"\n",
    "\n",
    "# 두 숫자를 넣어 정렬하기 위한 빈 리스트 생성\n",
    "tmp=[]\n",
    "\n",
    "\n",
    "while lt<=rt:\n",
    "    \n",
    "    ### 입력받은 a리스트에서 lt,rt 출력\n",
    "    if a[lt]>last:\n",
    "        tmp.append((a[lt], 'L'))  # tmp 리스트에 튜플형태로 (값, 방향) 입력\n",
    "        \n",
    "    if a[rt]>last:\n",
    "        tmp.append((a[rt], 'R'))  # tmp 리스트에 튜플형태로 (값, 방향) 입력\n",
    "        \n",
    "    tmp.sort()                    # 입력된 값 중 작은 값을 증가수열의 다음 항으로 선택\n",
    "    \n",
    "    ### 정렬된 자료에서 첫번째 자료를 그 다음 수열의 항으로 가져옴\n",
    "    if len(tmp)==0:  # 길이가 0이면 리스트에 아무것도 안들어 간 것이므로 종료\n",
    "        break\n",
    "        \n",
    "    else:            \n",
    "        res=res+tmp[0][1]   # tmp 리스트 0번 자료의 1번(첫번째 자료의 방향)\n",
    "        last=tmp[0][0]      # tmp 리스트 첫번째 자료의 값\n",
    "        \n",
    "        ### 방향에 따라 lt와 rt이동\n",
    "        if tmp[0][1]=='L':  # 왼쪽일 때 오른쪽으로 이동\n",
    "            lt=lt+1\n",
    "        else:               # 오른쪽일 때 왼쪽으로 이동\n",
    "            rt=rt-1 \n",
    "            \n",
    "    tmp.clear()   # 새로운 두가지 값과 방향을 입력해야하므로 리스트 리셋\n",
    "\n",
    "print(len(res))  \n",
    "print(res)       "
   ]
  },
  {
   "cell_type": "code",
   "execution_count": null,
   "metadata": {},
   "outputs": [],
   "source": []
  }
 ],
 "metadata": {
  "kernelspec": {
   "display_name": "Python 3",
   "language": "python",
   "name": "python3"
  },
  "language_info": {
   "codemirror_mode": {
    "name": "ipython",
    "version": 3
   },
   "file_extension": ".py",
   "mimetype": "text/x-python",
   "name": "python",
   "nbconvert_exporter": "python",
   "pygments_lexer": "ipython3",
   "version": "3.7.4"
  }
 },
 "nbformat": 4,
 "nbformat_minor": 2
}
