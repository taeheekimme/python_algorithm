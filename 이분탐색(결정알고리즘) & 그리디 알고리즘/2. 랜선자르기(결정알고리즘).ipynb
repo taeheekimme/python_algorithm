{
 "cells": [
  {
   "cell_type": "markdown",
   "metadata": {},
   "source": [
    "- 이분검색은 결정알고리즘에서 사용\n",
    "- 결정알고리즘으로 풀 수 있는 문제는 찾고자 하는 답이 특정 범위안에 있는 경우\n",
    "- 이분검색을 통해 구간을 이동하면서 mid값이 정답이 될 수 있는지 없는지 확인하는 것"
   ]
  },
  {
   "cell_type": "markdown",
   "metadata": {},
   "source": [
    "엘리트 학원은 자체적으로 K개의 랜선을 가지고 있다. 그러나 K개의 랜선은 길이가 제각각이다. <br>\n",
    "선생님은 랜선을 모두 N개의 같은 길이의 랜선으로 만들고 싶었기 때문에 K개의 랜선을 잘라서 만들어야 한다.  <br>\n",
    "예를 들어 300cm 짜리 랜선에서 140cm 짜리 랜선을 두 개 잘라내면 20cm 은 버려야 한다. (이미 자른 랜선은 붙일 수 없다.) <br>\n",
    "편의를 위해 랜선을 자를때 손실되는 길이는 없다고 가정하며, 기존의 K개의 랜선으로 N개의 랜선을 만들 수 없는 경우는 없다고 가정하자.  <br>\n",
    "그리고 자를 때는 항상 센티미터 단위로 정수 길이만큼 자른다고 가정하자.  <br>\n",
    "N개보다 많이 만드는 것도 N개를 만드는 것에 포함된다.  <br>\n",
    "이때 만들 수 있는 최대 랜선의 길이를 구하는 프로그램을 작성하시오. <br>\n",
    "- k개의 랜선을 잘라 길이가 같은 n개의 랜선을 만듬\n",
    "- 이때 길이가 최대가 되도록 랜선을 만들어야 함"
   ]
  },
  {
   "cell_type": "markdown",
   "metadata": {},
   "source": [
    "▣ 입력설명 <br>\n",
    "첫째 줄에는 엘리트학원이 이미 가지고 있는 랜선의 개수 K, 그리고 필요한 랜선의 개수 N이 입력된다. <br> \n",
    "K는 1이상 10,000이하의 정수이고, N은 1이상 1,000,000이하의 정수이다.  <br>\n",
    "그리고 항상 K ≦ N 이다.  <br>\n",
    "그 후 K줄에 걸쳐 이미 가지고 있는 각 랜선의 길이가 센티미터 단위의 정수로 입력된다."
   ]
  },
  {
   "cell_type": "markdown",
   "metadata": {},
   "source": [
    "▣ 출력설명 <br>\n",
    "첫째 줄에 N개를 만들 수 있는 랜선의 최대 길이를 센티미터 단위의 정수로 출력한다."
   ]
  },
  {
   "cell_type": "markdown",
   "metadata": {},
   "source": [
    "▣ 입력예제 1 <br>\n",
    "4 11 <br>\n",
    "802 <br>\n",
    "743 <br>\n",
    "457 <br>\n",
    "539\n",
    "- 4개의 랜선으로 11개의 랜선을 만들 때 최대 길이는 몇인가\n",
    "  - 11개의 랜선에서 각 랜선의 길이는 1cm ~ 802cm 사이일 것\n",
    "- 만약 1~1000이라면 이분검색해서 mid가 500이 나옴\n",
    "- 500을 1개 랜선 길이로 적합한지 따지는 작업을 함\n",
    "  - 802//500 =1개\n",
    "  - 743//500 =1개\n",
    "  - 457//500 =0개\n",
    "  - 539//300 =1개\n",
    "  - 총 3개밖에 못 만듬 \n",
    "  - 500이상의 길이는 더더욱 안되므로 500보다 작은 수로 길이를 조정해나감"
   ]
  },
  {
   "cell_type": "markdown",
   "metadata": {},
   "source": [
    "▣ 출력예제 1<br>\n",
    "200\n",
    "- 11개 랜선 만들 때 최대 길이는 200까지 가능함"
   ]
  },
  {
   "cell_type": "code",
   "execution_count": 2,
   "metadata": {},
   "outputs": [
    {
     "name": "stdout",
     "output_type": "stream",
     "text": [
      "4 11 \n",
      "802 \n",
      "743\n",
      "457\n",
      "539\n",
      "200\n"
     ]
    }
   ],
   "source": [
    "def Count(len):\n",
    "    cnt=0\n",
    "    for x in Line:     # 랜선 길이가 x에 입력됨\n",
    "        cnt+=(x//len)  # 랜선 길이 x를 len길이로 나눈 몫이 개수임(802//500 =1개)\n",
    "    return cnt         # 누적된 개수 반환\n",
    "\n",
    "# 4와 11입력받을 변수\n",
    "k, n=map(int, input().split())\n",
    "\n",
    "# k개 숫자를 입력받을 리스트\n",
    "Line=[]\n",
    "\n",
    "res=0\n",
    "\n",
    "# k개 랜선 중 가장 긴 랜선의 길이\n",
    "largest=0\n",
    "\n",
    "for i in range(k):  \n",
    "    tmp=int(input())   # k개 숫자들이 줄바꿈으로 입력되야 하므로 input 사용\n",
    "    Line.append(tmp)   # append하면 Line리스트에 추가됨\n",
    "    largest=max(largest, tmp)  # 답의 범위는 1~k개의 랜선 중 가장 긴 길이 # largest와 tmp 중 큰 값을 선택\n",
    "\n",
    "### 이분검색    \n",
    "lt=1\n",
    "rt=largest\n",
    "\n",
    "while lt<=rt:\n",
    "    mid=(lt+rt)//2\n",
    "    \n",
    "    # 답이 되는지 안되는지 판정\n",
    "    if Count(mid)>=n:  # 누적된 개수가 n보다 크거나 같으면 답임\n",
    "        res=mid\n",
    "        lt=mid+1       # 답을 찾은 뒤 더 좋은 답을 찾기위해 구간 이동\n",
    "        \n",
    "    else:             # 길이가 길어서 답이 되지 않는 경우\n",
    "        rt=mid-1      # 길이가 긴 부분을 삭제\n",
    "        \n",
    "print(res)\n"
   ]
  },
  {
   "cell_type": "code",
   "execution_count": null,
   "metadata": {},
   "outputs": [],
   "source": []
  }
 ],
 "metadata": {
  "kernelspec": {
   "display_name": "Python 3",
   "language": "python",
   "name": "python3"
  },
  "language_info": {
   "codemirror_mode": {
    "name": "ipython",
    "version": 3
   },
   "file_extension": ".py",
   "mimetype": "text/x-python",
   "name": "python",
   "nbconvert_exporter": "python",
   "pygments_lexer": "ipython3",
   "version": "3.7.4"
  }
 },
 "nbformat": 4,
 "nbformat_minor": 2
}
