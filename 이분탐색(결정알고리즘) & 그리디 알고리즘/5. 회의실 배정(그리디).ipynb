{
 "cells": [
  {
   "cell_type": "markdown",
   "metadata": {},
   "source": [
    "그리디 알고리즘\n",
    "- 단계에서 가장 좋은 것을 선택하는 것\n",
    "  - 정렬을 통해 좋은 것을 판별"
   ]
  },
  {
   "cell_type": "markdown",
   "metadata": {},
   "source": [
    "한 개의 회의실이 있는데 이를 사용하고자 하는 n개의 회의들에 대하여 회의실 사용표를 만들려고 한다. <br>\n",
    "각 회의에 대해 시작시간과 끝나는 시간이 주어져 있고, 각 회의가 겹치지 않게 하면서 회의실을 사용할 수 있는 최대수의 회의를 찾아라. <br>\n",
    "단, 회의는 한번 시작하면 중간에 중단될 수 없으며 한 회의가 끝나는 것과 동시에 다음 회의가 시작될 수 있다.\n"
   ]
  },
  {
   "cell_type": "markdown",
   "metadata": {},
   "source": [
    "▣ 입력설명<br>\n",
    "첫째 줄에 회의의 수 n(1<=n<=100,000)이 주어진다. <br>\n",
    "둘째 줄부터 n+1 줄까지 각 회의의 정보가 주어지는데 이것은 공백을 사이에 두고 회의의 시작시간과 끝나는 시간이 주어진다.\n"
   ]
  },
  {
   "cell_type": "markdown",
   "metadata": {},
   "source": [
    "▣ 출력설명<br>\n",
    "첫째 줄에 최대 사용할 수 있는 회의 수를 출력하여라.\n"
   ]
  },
  {
   "cell_type": "markdown",
   "metadata": {},
   "source": [
    "▣ 입력예제 1<br>\n",
    "5<br>\n",
    "1 4<br>\n",
    "2 3<br>\n",
    "3 5<br>\n",
    "4 6<br>\n",
    "5 7\n",
    "- 시작시간과 끝시간을 가진 n개의 회의가 주어짐\n",
    "- 회의실 1개에서 최대한 회의를 많이 해야 함\n",
    "- 회의가 끝나는 시간을 기준으로 정렬해야 함\n",
    "   - 2시에 시작해 3시에 끝\n",
    "   - 1시에 시작해 4시에 끝\n",
    "   - 3시에 시작해 5시에 끝\n",
    "   - 4시에 시작해 6시에 끝\n",
    "   - 5시에 시작해 7시에 끝\n",
    "     - 회의가 빨리 끝나야 회의를 많이 할 수 있으므로 끝나는 시간으로 정렬\n",
    "- 회의가 시작하는 시간으로 정렬한다면?\n",
    "  - 시작시간이 빠르다고 해서 끝나는 시간이 빨리 끝나는 것이 아니므로 회의를 최대로 할 수 없음\n",
    "\n",
    "- 첫번째 회의의 끝나는 시간 <= 두번째 회의의 시작하는 시간\n",
    "  - 첫번째 회의가 3시에 끝나므로 두번째 회의가 3시이후여야 회의 가능"
   ]
  },
  {
   "cell_type": "markdown",
   "metadata": {},
   "source": [
    "▣ 출력예제 1<br>\n",
    "3\n",
    "- 3개의 회의를 할 수 있음"
   ]
  },
  {
   "cell_type": "markdown",
   "metadata": {},
   "source": [
    "예제설명<br>\n",
    "(2, 3) , (3, 5), (5, 7)이 회의실을 이용할 수 있다."
   ]
  },
  {
   "cell_type": "code",
   "execution_count": 6,
   "metadata": {},
   "outputs": [
    {
     "name": "stdout",
     "output_type": "stream",
     "text": [
      "5\n",
      "1 4\n",
      "2 3\n",
      "3 5\n",
      "4 6\n",
      "5 7\n",
      "3\n"
     ]
    }
   ],
   "source": [
    "# 회의 수\n",
    "n=int(input())\n",
    "\n",
    "# 회의 시작시간과 끝나는시간 담을 리스트 생성\n",
    "meeting=[]\n",
    "\n",
    "\n",
    "for i in range(n):\n",
    "    s, e=map(int, input().split())  # 시작시간 s, 끝나는시간 e 입력\n",
    "    meeting.append((s, e))          # 시작시간과 끝나는시간을 튜플 형태로 리스트에 삽입\n",
    "meeting.sort(key=lambda x : (x[1], x[0]))   # lambda x: meeting 자료 중 하나를 입력 받음\n",
    "                                            # x[1], x[0] : x의 1번은 e로 끝나는시간을 1순위, 0번은 s로 시작시간을 2순위로 정렬\n",
    "                                          \n",
    "        \n",
    "et=0    # 끝나는시간 기록\n",
    "cnt=0   # 회의 개수\n",
    "\n",
    "\n",
    "for s, e in meeting:    # 정렬된 회의의 시작시간과 끝나는시간이 차례로 입력됨\n",
    "    if s>=et:           # 다음 시작시간이 전 회의의 끝나는시간보다 늦어야 함\n",
    "        et=e            # 끝나는 시간 기록\n",
    "        cnt+=1          # 회의 수 기록\n",
    "        \n",
    "print(cnt)"
   ]
  },
  {
   "cell_type": "code",
   "execution_count": null,
   "metadata": {},
   "outputs": [],
   "source": []
  }
 ],
 "metadata": {
  "kernelspec": {
   "display_name": "Python 3",
   "language": "python",
   "name": "python3"
  },
  "language_info": {
   "codemirror_mode": {
    "name": "ipython",
    "version": 3
   },
   "file_extension": ".py",
   "mimetype": "text/x-python",
   "name": "python",
   "nbconvert_exporter": "python",
   "pygments_lexer": "ipython3",
   "version": "3.7.4"
  }
 },
 "nbformat": 4,
 "nbformat_minor": 2
}
