{
 "cells": [
  {
   "cell_type": "markdown",
   "metadata": {},
   "source": [
    "창고에 상자가 가로방향으로 일렬로 쌓여 있습니다.<br>\n",
    "만약 가로의 길이가 7이라면1열은 높이가 6으로 6개의 상자가 쌓여 있고, 2열은 3개의 상자, 3열은 9개의 상자가 쌓여 있으며 높이는 9라고 읽는다.<br>\n",
    "창고 높이 조정은 가장 높은 곳에 상자를 가장 낮은 곳으로 이동하는 것을 말한다.<br>\n",
    "가장 높은 곳이나 가장 낮은 곳이 여러곳이면 그 중 아무거나 선택하면 된다.<br>\n",
    "위에 그림을 1회 높이 조정을 하면 다음과 같아진다.<br>\n",
    "창고의 가로 길이와 각 열의 상자 높이가 주어집니다. m회의 높이 조정을 한 후 가장 높은 곳과 가장 낮은 곳의 차이를 출력하는 프로그램을 작성하세요.\n",
    "- 가장 높은 곳과 가장 낮은 곳의 차를 최소화하는 것\n",
    "   - 가장 높은 곳의 상자를 가장 낮은 곳으로 이동시킴\n",
    "   - 가장 높은 곳은 1감소시키고, 가장 낮은 곳은 1증가시킨 후 차이를 구하면 됨"
   ]
  },
  {
   "cell_type": "markdown",
   "metadata": {},
   "source": [
    "▣ 입력설명<br>\n",
    "첫 번째 줄에 창고 가로의 길이인 자연수 L(1<=L<=100)이 주어집니다.<br>\n",
    "두 번째 줄에 L개의 자연수가 공백을 사이에 두고 입력됩니다. 각 자연수는 100을 넘지 않습니다<br>\n",
    "세 번째 줄에 높이 조정 횟수인 M(1<=M<=1,000)이 주어집니다.\n"
   ]
  },
  {
   "cell_type": "markdown",
   "metadata": {},
   "source": [
    "▣ 출력설명<br>\n",
    "M회의 높이 조정을 마친 후 가장 높은곳과 가장 낮은 곳의 차이를 출력하세요.\n"
   ]
  },
  {
   "cell_type": "markdown",
   "metadata": {},
   "source": [
    "▣ 입력예제 1<br>\n",
    "10<br>\n",
    "69 42 68 76 40 87 14 65 76 81<br>\n",
    "50\n",
    "- 가로의 길이는 10이며, 10개의 데이터를 받음\n",
    "- 오름차순 정렬을 하면 맨 앞 자료가 가장 낮은 값, 맨 뒤 자료가 가장 높은 값\n",
    "  - 맨 앞 자료를 1증가, 맨 뒤 자료를 1감소\n",
    "- 이 작업을 50번 반복 -> 50번 정렬"
   ]
  },
  {
   "cell_type": "markdown",
   "metadata": {},
   "source": [
    "▣ 출력예제 1<br>\n",
    "20"
   ]
  },
  {
   "cell_type": "code",
   "execution_count": 1,
   "metadata": {},
   "outputs": [
    {
     "name": "stdout",
     "output_type": "stream",
     "text": [
      "10\n",
      "69 42 68 76 40 87 14 65 76 81\n",
      "50\n",
      "20\n"
     ]
    }
   ],
   "source": [
    "# 창고길이\n",
    "L=int(input())\n",
    "\n",
    "# 창고길이만큼 따라 입력될 데이터\n",
    "a=list(map(int, input().split()))\n",
    "\n",
    "# 조정횟수 m회\n",
    "m=int(input())\n",
    "\n",
    "# a리스트를 먼저 오름차순 정렬\n",
    "a.sort()\n",
    "\n",
    "### 높이 조정\n",
    "for _ in range(m):   # m회만 반복되면 됨\n",
    "    a[0]+=1          # 맨 앞의 자료는 1증가\n",
    "    a[L-1]-=1        # 맨 뒤 자료는 1감소\n",
    "    \n",
    "    ### 높이 조정 후 다시 오름차순 정렬\n",
    "    a.sort()       \n",
    "    \n",
    "print(a[L-1]-a[0])  # 큰 값 - 작은 값"
   ]
  },
  {
   "cell_type": "code",
   "execution_count": null,
   "metadata": {},
   "outputs": [],
   "source": []
  }
 ],
 "metadata": {
  "kernelspec": {
   "display_name": "Python 3",
   "language": "python",
   "name": "python3"
  },
  "language_info": {
   "codemirror_mode": {
    "name": "ipython",
    "version": 3
   },
   "file_extension": ".py",
   "mimetype": "text/x-python",
   "name": "python",
   "nbconvert_exporter": "python",
   "pygments_lexer": "ipython3",
   "version": "3.7.4"
  }
 },
 "nbformat": 4,
 "nbformat_minor": 2
}
