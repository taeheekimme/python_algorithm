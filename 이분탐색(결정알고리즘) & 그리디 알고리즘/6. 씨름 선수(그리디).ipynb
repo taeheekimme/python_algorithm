{
 "cells": [
  {
   "cell_type": "markdown",
   "metadata": {},
   "source": [
    "현수는 씨름 감독입니다. <br>\n",
    "현수는 씨름 선수를 선발공고를 냈고, N명의 지원자가 지원을 했습니다. <br>\n",
    "현수는 각 지원자의 키와 몸무게 정보를 알고 있습니다.<br>\n",
    "현수는 씨름 선수 선발 원칙을 다음과 같이 정했습니다.<br>\n",
    "“다른 모든 지원자와 일대일 비교하여 키와 몸무게 중 적어도 하나는 크거나, 무거운 지원자만 뽑기로 했습니다.”<br>\n",
    "만약 A라는 지원자보다 키도 크고 몸무게도 무거운 지원자가 존재한다면 A지원자는 탈락입니다.<br>\n"
   ]
  },
  {
   "cell_type": "markdown",
   "metadata": {},
   "source": [
    "▣ 입력설명<br>\n",
    "첫째 줄에 지원자의 수 N(5<=N<=50)이 주어집니다.<br>\n",
    "두 번째 줄부터 N명의 키와 몸무게 정보가 차례로 주어집니다. 각 선수의 키와 몸무게는 모두 다릅니다.\n"
   ]
  },
  {
   "cell_type": "markdown",
   "metadata": {},
   "source": [
    "▣ 출력설명<br>\n",
    "첫째 줄에 씨름 선수로 뽑히는 최대 인원을 출력하세요.\n"
   ]
  },
  {
   "cell_type": "markdown",
   "metadata": {},
   "source": [
    "▣ 입력예제 1<br>\n",
    "5<br>\n",
    "172 67<br>\n",
    "183 65<br>\n",
    "180 70<br>\n",
    "170 72<br>\n",
    "181 60\n",
    "- 키와 몸무게를 가지고 5명의 지원자 중 뽑음\n",
    "- A가 B보다 키에서 밀렸다면, A는 무조건 몸무게로 B를 이겨야 함\n",
    "- A가 몸무게와 키 둘다 밀렸다면 뽑히지 않음<BR><BR>\n",
    "\n",
    "- 키 순으로 내림차순 정렬했을 때 1등은 키로 이미 이겼으므로 몸무게는 따질 필요 없음\n",
    "  - 2등은 1등하고만 비교하면 됨\n",
    "  - 3등은 1등, 2등하고 비교하면 됨\n",
    "- 즉, 나보다 높은 등수의 사람들만 고려하면 됨\n",
    "- 하지만 이 경우 이중 for문을 돌려야 하므로 시간복잡도가 크게 나옴\n",
    "- 키 순으로 내림차순 정렬하면 키는 확인할 필요가 없으니 몸무게만 확인하면 됨\n",
    "  - 몸무게를 서로 비교하며 전의 최대값보다 클 때만 개수를 세주면 됨"
   ]
  },
  {
   "cell_type": "markdown",
   "metadata": {},
   "source": [
    "▣ 출력예제 1<br>\n",
    "3<br>\n"
   ]
  },
  {
   "cell_type": "markdown",
   "metadata": {},
   "source": [
    "출력설명<br>\n",
    "(183, 65), (180, 70), (170, 72)가 선발됩니다. (181, 60)은 (183, 65) 때문에 탈락하고, (172, 67)은 (180, 70)때문에 탈락합니다."
   ]
  },
  {
   "cell_type": "code",
   "execution_count": 1,
   "metadata": {},
   "outputs": [
    {
     "name": "stdout",
     "output_type": "stream",
     "text": [
      "5\n",
      "172 67\n",
      "183 65\n",
      "180 70\n",
      "170 72\n",
      "181 60\n",
      "3\n"
     ]
    }
   ],
   "source": [
    "# 지원자 수\n",
    "n=int(input())\n",
    "\n",
    "# 키와 몸무게 입력할 리스트 생성\n",
    "body=[]\n",
    "\n",
    "\n",
    "for i in range(n):\n",
    "    a, b=map(int, input().split())  # 키 a, 몸무게 b 입력\n",
    "    body.append((a, b))             # 키와 몸무게를 튜플 형태로 연결하여 리스트에 입력\n",
    "body.sort(reverse=True)   # reverse사용하여 키 기준으로 내림차순 정렬(자동으로 첫번째 자료 a에 대해 실행됨)\n",
    "\n",
    "\n",
    "# 최대값 저장\n",
    "largest=0   \n",
    "\n",
    "# 지원자 수 저장\n",
    "cnt=0\n",
    "\n",
    "\n",
    "for x, y in body:   # 키 x, 몸무게 y로 받음\n",
    "    if y>largest:   # 현재 몸무게가 전의 몸무게보다 크다면\n",
    "        largest=y   # 현재 몸무게가 최대값이 됨\n",
    "        cnt+=1      # 합격할 지원자 1명 증가\n",
    "        \n",
    "print(cnt)"
   ]
  },
  {
   "cell_type": "code",
   "execution_count": null,
   "metadata": {},
   "outputs": [],
   "source": []
  }
 ],
 "metadata": {
  "kernelspec": {
   "display_name": "Python 3",
   "language": "python",
   "name": "python3"
  },
  "language_info": {
   "codemirror_mode": {
    "name": "ipython",
    "version": 3
   },
   "file_extension": ".py",
   "mimetype": "text/x-python",
   "name": "python",
   "nbconvert_exporter": "python",
   "pygments_lexer": "ipython3",
   "version": "3.7.4"
  }
 },
 "nbformat": 4,
 "nbformat_minor": 2
}
