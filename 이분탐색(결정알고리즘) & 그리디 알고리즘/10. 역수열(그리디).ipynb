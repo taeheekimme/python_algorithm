{
 "cells": [
  {
   "cell_type": "markdown",
   "metadata": {},
   "source": [
    "1부터 n까지의 수를 한 번씩만 사용하여 이루어진 수열이 있을 때, 1부터 n까지 각각의 수 앞에 놓여 있는 자신보다 큰 수들의 개수를 수열로 표현한 것을 역수열이라 한다.<br>\n",
    "예를 들어 다음과 같은 수열의 경우 4 8 6 2 5 1 3 7<br>\n",
    "1앞에 놓인 1보다 큰 수는 4, 8, 6, 2, 5. 이렇게 5개이고,<br>\n",
    "2앞에 놓인 2보다 큰 수는 4, 8, 6. 이렇게 3개,<br>\n",
    "3앞에 놓인 3보다 큰 수는 4, 8, 6, 5 이렇게 4개......<br>\n",
    "따라서 4 8 6 2 5 1 3 7의 역수열은 5 3 4 0 2 1 1 0 이 된다.<br>\n",
    "n과 1부터 n까지의 수를 사용하여 이루어진 수열의 역수열이 주어졌을 때, 원래의 수열을 출력하는 프로그램을 작성하세요.\n",
    "- 역수열이 주어지면 원수열을 찾는 문제\n"
   ]
  },
  {
   "cell_type": "markdown",
   "metadata": {},
   "source": [
    "▣ 입력설명<br>\n",
    "첫 번째 줄에 자연수 N(3<=N<100)이 주어지고, 두 번째 줄에는 역수열이 숫자 사이에 한 칸의 공백을 두고 주어진다.\n"
   ]
  },
  {
   "cell_type": "markdown",
   "metadata": {},
   "source": [
    "▣ 출력설명<br>\n",
    "원래 수열을 출력합니다.\n"
   ]
  },
  {
   "cell_type": "markdown",
   "metadata": {},
   "source": [
    "▣ 입력예제 1<br>\n",
    "8<br>\n",
    "5 3 4 0 2 1 1 0\n",
    "- 5 : 1앞에는 나보다 큰 숫자가 5개 있다\n",
    "- 3 : 2앞에는 나보다 큰 숫자가 3개 있다\n",
    "- 어떤 자료가 1,2,3,4처럼 오름차순으로 정렬되어 있다고 생각\n",
    "  - 1은 자기 앞에 5개가 있어야 하므로 6번째에 삽입\n",
    "  - 2는 자기 앞에 3개가 있어야 하므로 4번째에 삽입\n",
    "  - 3은 자기 앞에 4개가 있어야 하므로 7번째에 삽입\n",
    "     - 4번째 자리는 2가 삽입되어 있으므로 자리로 세지 않음\n",
    "     - 6번째 자리는 1이 삽입되어 있으므로 1다음 자리인 7번째 자리에 삽입\n",
    "         - 이미 들어간 숫자들은 오름차순 정렬순서로 삽입했으므로 다음 자리에 삽입해도 문제없음\n",
    " - 4는 자기 앞에 0개가 있어야 하므로 빈 공간을 만나는 순간 삽입\n",
    " - 5는 자기 앞에 2개가 있어야 하므로 5번째에 삽입\n",
    "     - 2가 이미 4번째에 삽입되어 있으므로"
   ]
  },
  {
   "cell_type": "markdown",
   "metadata": {},
   "source": [
    "▣ 출력예제 1<br>\n",
    "4 8 6 2 5 1 3 7"
   ]
  },
  {
   "cell_type": "code",
   "execution_count": 1,
   "metadata": {},
   "outputs": [
    {
     "name": "stdout",
     "output_type": "stream",
     "text": [
      "8\n",
      "5 3 4 0 2 1 1 0\n",
      "4 8 6 2 5 1 3 7 "
     ]
    }
   ],
   "source": [
    "# 역수열 길이\n",
    "n=int(input())\n",
    "\n",
    "# 역수열 입력받음\n",
    "a=list(map(int, input().split()))\n",
    "\n",
    "# 0으로 초기화된 1차원 리스트 -> 원수열을 만들어 나갈 것\n",
    "seq=[0]*n\n",
    "\n",
    "\n",
    "### i는 정렬된 자료 처리\n",
    "for i in range(n): \n",
    "    \n",
    "    ### 빈공간을 찾음\n",
    "    for j in range(n):\n",
    "        \n",
    "        #### 자리 찾아 숫자 삽입된 상태\n",
    "        if(a[i]==0 and seq[j]==0):  # a의 i값이 0이고(자기 앞에 빈공간을 확보한 상태), j자리가 빈자리라면(다른 숫자가 이미 들어와있으면 안됨)\n",
    "            seq[j]=i+1              # j자리의 인덱스 i+1(i가 0부터 시작하므로 1을 더해야 1번부터 시작하게 됨)\n",
    "            break                   # 자리를 찾았으므로 break\n",
    "            \n",
    "        #### 자리 못찾은 상태\n",
    "        elif seq[j]==0:             # j자리가 빈자리라면(자기 자리를 찾아 들어가지 않은 상태)\n",
    "            a[i]-=1                 # 자기 앞의 빈자리가 4개 있어야 한다면 숫자를 줄이면서 4자리가 비어있는지 확인\n",
    "\n",
    "for x in seq:  \n",
    "    print(x, end=' ')"
   ]
  },
  {
   "cell_type": "code",
   "execution_count": null,
   "metadata": {},
   "outputs": [],
   "source": []
  }
 ],
 "metadata": {
  "kernelspec": {
   "display_name": "Python 3",
   "language": "python",
   "name": "python3"
  },
  "language_info": {
   "codemirror_mode": {
    "name": "ipython",
    "version": 3
   },
   "file_extension": ".py",
   "mimetype": "text/x-python",
   "name": "python",
   "nbconvert_exporter": "python",
   "pygments_lexer": "ipython3",
   "version": "3.7.4"
  }
 },
 "nbformat": 4,
 "nbformat_minor": 2
}
