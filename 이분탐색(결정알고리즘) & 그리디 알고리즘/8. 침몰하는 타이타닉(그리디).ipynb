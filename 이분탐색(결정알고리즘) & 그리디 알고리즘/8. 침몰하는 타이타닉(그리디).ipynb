{
 "cells": [
  {
   "cell_type": "markdown",
   "metadata": {},
   "source": [
    "유럽에서 가장 유명했던 유람선 타이타닉이 침몰하고 있습니다. <br>\n",
    "유람선에는 N명의 승객이 타고 있습니다. <br>\n",
    "구명보트를 타고 탈출해야 하는데 타이타닉에 있는 구명보트는 2명 이하로만 탈 수 있으며, 보트 한 개에 탈 수 있는 총 무게도 M kg 이하로 제한되어 있습니다.<br>\n",
    "N명의 승객 몸무게가 주어졌을 때 승객 모두가 탈출하기 위한 구명보트의 최소개수를 출력하는 프로그램을 작성하세요.\n"
   ]
  },
  {
   "cell_type": "markdown",
   "metadata": {},
   "source": [
    "▣ 입력설명<br>\n",
    "첫째 줄에 자연수 N(5<=N<=1000)과 M(70<=M<=250)이 주어집니다.<br>\n",
    "두 번째 줄에 N개로 구성된 몸무게 수열이 주어집니다. 몸무게는 50이상 150이하입니다.<br>\n",
    "각 승객의 몸무게는 M을 넘지는 않습니다. 즉 탈출을 못하는 경우는 없습니다.\n"
   ]
  },
  {
   "cell_type": "markdown",
   "metadata": {},
   "source": [
    "▣ 출력설명<br>\n",
    "첫째 줄에 구명보트의 최소 개수를 출력합니다.\n"
   ]
  },
  {
   "cell_type": "markdown",
   "metadata": {},
   "source": [
    "▣ 입력예제 1<br>\n",
    "5 140<br>\n",
    "90 50 70 100 60\n",
    "- 구명보트는 2명 이하로 탈 수 있으면 몸무게 제한 있음\n",
    "- 5명의 몸무게, 몸무게 제한 140kg\n",
    "- 승객의 몸무게를 오름차순으로 정렬\n",
    "- 맨 앞의 사람과 맨 뒤 사람의 몸무게를 더해 2명이 탈 수 있는 몸무게인지 확인\n",
    "   - 가장 몸무게가 무거운 사람은 가장 몸무게가 가벼운 사람과 탈 수 있으므로 \n",
    "   - 몸무게가 초과되면 1명만 타고 이 사람은 삭제(pop)\n",
    "   "
   ]
  },
  {
   "cell_type": "markdown",
   "metadata": {},
   "source": [
    "▣ 출력예제 1<br>\n",
    "3"
   ]
  },
  {
   "cell_type": "code",
   "execution_count": 3,
   "metadata": {},
   "outputs": [
    {
     "name": "stdout",
     "output_type": "stream",
     "text": [
      "5 140\n",
      "90 50 70 100 60\n",
      "3\n"
     ]
    }
   ],
   "source": [
    "from collections import deque\n",
    "\n",
    "# 인원수, 제한된 몸무게\n",
    "n, limit=map(int, input().split())\n",
    "\n",
    "# n명의 몸무게 입력받을 리스트\n",
    "p=list(map(int, input().split()))\n",
    "\n",
    "# 몸무게 리스트를 오름차순 정렬\n",
    "p.sort()\n",
    "\n",
    "# 리스트는 자료를 pop하면 위치를 당겨서 빈 자리를 채우는 것을 방지하기 위해 deque 자료구조로 변경\n",
    "p=deque(p) \n",
    "\n",
    "# 구명보트 개수 저장\n",
    "cnt=0\n",
    "\n",
    "\n",
    "while p:\n",
    "    if len(p)==1:          # 인원 수가 홀수라 마지막에 1명이 혼자 남으면 \n",
    "        cnt+=1             # 탈출한 구명보트 1증가\n",
    "        break              # 마지막 1명이므로 pop필요없이 while문 종료\n",
    "        \n",
    "    if p[0]+p[-1]>limit:   # 가장 가벼운 p[0] + 가장 무거운 p[-1] > 몸무게 제한보다 크면 1명만 타고 갈 수 있으므로 \n",
    "        p.pop()            # 1명 태워서 탈출시키고, 리스트에서 삭제\n",
    "        cnt+=1             # 탈출한 구명보트 1증가\n",
    "        \n",
    "    else:                  # 2사람의 몸무게 합 < 제한된 몸무게이면 2명 모두 탈출 가능\n",
    "        p.popleft()       # 맨 앞 사람 탈출했으니 삭제(deque구조에서는 popleft로 사용)\n",
    "        p.pop()            # 맨 뒤 사람 탈출했으니 삭제\n",
    "        cnt+=1             # 탈출한 구명보트 1증가\n",
    "        \n",
    "print(cnt)\n"
   ]
  },
  {
   "cell_type": "code",
   "execution_count": null,
   "metadata": {},
   "outputs": [],
   "source": []
  }
 ],
 "metadata": {
  "kernelspec": {
   "display_name": "Python 3",
   "language": "python",
   "name": "python3"
  },
  "language_info": {
   "codemirror_mode": {
    "name": "ipython",
    "version": 3
   },
   "file_extension": ".py",
   "mimetype": "text/x-python",
   "name": "python",
   "nbconvert_exporter": "python",
   "pygments_lexer": "ipython3",
   "version": "3.7.4"
  }
 },
 "nbformat": 4,
 "nbformat_minor": 2
}
