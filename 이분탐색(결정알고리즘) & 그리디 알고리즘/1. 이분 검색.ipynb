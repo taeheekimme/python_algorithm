{
 "cells": [
  {
   "cell_type": "markdown",
   "metadata": {},
   "source": [
    "임의의 N개의 숫자가 입력으로 주어집니다. <br>\n",
    "N개의 수를 오름차순으로 정렬한 다음 N개의 수 중 한 개의 수인 M이 주어지면 이분검색으로 M이 정렬된 상태에서 몇 번째에 있는지 구하는 프로그램을 작성하세요.  <br>\n",
    "단 중복값은 존재하지 않습니다.\n"
   ]
  },
  {
   "cell_type": "markdown",
   "metadata": {},
   "source": [
    "▣ 입력설명 <br>\n",
    "첫 줄에 한 줄에 자연수 N(3<=N<=1,000,000)과 M이 주어집니다. <br>\n",
    "두 번째 줄에 N개의 수가 공백을 사이에 두고 주어집니다.\n"
   ]
  },
  {
   "cell_type": "markdown",
   "metadata": {},
   "source": [
    "▣ 출력설명 <br>\n",
    "첫 줄에 정렬 후 M의 값의 위치 번호를 출력한다.\n"
   ]
  },
  {
   "cell_type": "markdown",
   "metadata": {},
   "source": [
    "▣ 입력예제 1 <br>\n",
    "8 32 <br>\n",
    "23 87 65 12 57 32 99 81\n",
    "\n",
    "- 8개 숫자가 정렬되지 않은 채로 입력\n",
    "- 8개 숫자를 정렬한 뒤 32라는 숫자는 몇번째에 위치하는 가"
   ]
  },
  {
   "cell_type": "markdown",
   "metadata": {},
   "source": [
    "▣ 출력예제 1 <br>\n",
    "3"
   ]
  },
  {
   "cell_type": "code",
   "execution_count": 1,
   "metadata": {},
   "outputs": [
    {
     "name": "stdout",
     "output_type": "stream",
     "text": [
      "8 32 \n",
      "23 87 65 12 57 32 99 81\n",
      "3\n"
     ]
    }
   ],
   "source": [
    "# 이분검색은 왼쪽을 가리키는 lt와 오른쪽을 가리키는 rt변수가 필요\n",
    "# mid = (lt +rt) //2\n",
    "# a[mid]==32인지 확인했을 때, 52==32이므로 정렬상태이니 32는 왼쪽에 위치하는 것을 알 수 있음(lt~mid 구간에 존재)\n",
    "# rt=mid-1해서 rt포인터를 왼쪽으로 당기면서 구간을 조절\n",
    "# lt=mid+1해서 lt포인터를 오른쪽으로 당기면서 구간을 조절\n",
    "\n",
    "# n은 8, m은 찾고자하는 32\n",
    "n, m=map(int, input().split())\n",
    "\n",
    "# 숫자 입력받을 리스트\n",
    "a=list(map(int, input().split()))\n",
    "\n",
    "# 오름차순 정렬해서 m이 몇번째 인지 찾는것이므로\n",
    "a.sort()\n",
    "\n",
    "lt=0   # 왼쪽은 0번 인덱스부터 시작\n",
    "rt=n-1 # 오른쪽은 마지막 인덱스부터 시작\n",
    "\n",
    "\n",
    "while lt<=rt:\n",
    "    mid=(lt+rt)//2\n",
    "    \n",
    "    ### 비교\n",
    "    if a[mid]==m:  \n",
    "        print(mid+1)  # m이면 답이므로 출력(mid는 인덱스번호라 0부터 시작하므로 1을 더해줘야 1부터 시작하여 몇번째인지 출력함)\n",
    "        break\n",
    "        \n",
    "    elif a[mid]>m:   # m값이 mid보다 작은경우(mid의 왼쪽에 위치)\n",
    "        rt=mid-1     # 오른쪽 포인터를 왼쪽으로 당겨 구간 조정\n",
    "        \n",
    "    else:            # m값이 mid보다 큰 경우(mid의 오른쪽에 위치)\n",
    "        lt=mid+1     # 왼쪽 포인터를 오른쪽으로 당겨 구간 조정"
   ]
  },
  {
   "cell_type": "code",
   "execution_count": null,
   "metadata": {},
   "outputs": [],
   "source": []
  }
 ],
 "metadata": {
  "kernelspec": {
   "display_name": "Python 3",
   "language": "python",
   "name": "python3"
  },
  "language_info": {
   "codemirror_mode": {
    "name": "ipython",
    "version": 3
   },
   "file_extension": ".py",
   "mimetype": "text/x-python",
   "name": "python",
   "nbconvert_exporter": "python",
   "pygments_lexer": "ipython3",
   "version": "3.7.4"
  }
 },
 "nbformat": 4,
 "nbformat_minor": 2
}
