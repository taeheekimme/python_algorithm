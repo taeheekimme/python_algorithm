{
 "cells": [
  {
   "cell_type": "markdown",
   "metadata": {},
   "source": [
    "오름차순으로 정렬이 된 두 리스트가 주어지면 두 리스트를 오름차순으로 합쳐 출력하는 프로그램을 작성하세요.\n"
   ]
  },
  {
   "cell_type": "markdown",
   "metadata": {},
   "source": [
    "▣ 입력설명<br>\n",
    "첫 번째 줄에 첫 번째 리스트의 크기 N(1<=N<=100)이 주어집니다.<br>\n",
    "두 번째 줄에 N개의 리스트 원소가 오름차순으로 주어집니다.<br>\n",
    "세 번째 줄에 두 번째 리스트의 크기 M(1<=M<=100)이 주어집니다.<br>\n",
    "네 번째 줄에 M개의 리스트 원소가 오름차순으로 주어집니다.<br>\n",
    "각 리스트의 원소는 int형 변수의 크기를 넘지 않습니다.<br>\n"
   ]
  },
  {
   "cell_type": "markdown",
   "metadata": {},
   "source": [
    "▣ 출력설명<br>\n",
    "오름차순으로 정렬된 리스트를 출력합니다.\n"
   ]
  },
  {
   "cell_type": "markdown",
   "metadata": {},
   "source": [
    "▣ 입력예제 1<br>\n",
    "3<br>\n",
    "1 3 5<br>\n",
    "5<br>\n",
    "2 3 6 7 9\n",
    "- 135리스트와 23679리스트 오름차순으로 합침\n",
    "- 파이썬의 +사용해서 sort하면 안됨\n",
    "- sort로 호출하면 시간복잡도가 8log8\n",
    "- 이 문제는 이미 정렬이 되어 있는 상태이므로 8번만 반복하면 됨"
   ]
  },
  {
   "cell_type": "markdown",
   "metadata": {},
   "source": [
    "▣ 출력예제 1<br>\n",
    "1 2 3 3 5 6 7 9"
   ]
  },
  {
   "cell_type": "code",
   "execution_count": 6,
   "metadata": {},
   "outputs": [
    {
     "name": "stdout",
     "output_type": "stream",
     "text": [
      "3\n",
      "1 3 5\n",
      "5\n",
      "2 3 6 7 9\n",
      "12335679"
     ]
    }
   ],
   "source": [
    "# 첫번째 리스트 크기\n",
    "n=int(input())\n",
    "\n",
    "# 첫번째 리스트\n",
    "a=list(map(int, input().split()))\n",
    "\n",
    "# 두번째 리스트 크기\n",
    "m=int(input())\n",
    "\n",
    "# 두번째 리스트\n",
    "b=list(map(int,input().split()))\n",
    "\n",
    "# a리스트 0인덱스 포인터 p1, b리스트 0인덱스 포인터 p2를 0으로 초기화\n",
    "p1= p2=0\n",
    "\n",
    "# 새로 입력할 빈 리스트 \n",
    "c=[]\n",
    "\n",
    "\n",
    "while p1<n and p2<m:  # p1<3, p2<5일 때까지 실행 (인덱스는 0부터 시작하니)\n",
    "    \n",
    "    if a[p1]<=b[p2]:          # 두 값이 같다면 아무 리스트에 있는 값이나 들어가면 됨\n",
    "        c.append(a[p1])       # a의 p1위치의 값을 c리스트에 입력\n",
    "        p1+=1                 # a리스트의 p1은 0인덱스에서 1인덱스로 이동\n",
    "        \n",
    "    else:  # a[p1]=>b[p2]라면\n",
    "        c.append(b[p2])       # b의 p2위치의 값을 c리스트에 입력\n",
    "        p2+=1                 # b리스트의 p2는 0인덱스에서 1인덱스로 이동\n",
    "        \n",
    "        \n",
    "# 실행이 끝난 리스트는 종료하고, 아직 안끝난 리스트는 슬라이스 사용하여 남은 데이터를 c리스트에 차례대로 입력        \n",
    "\n",
    "if p1<n:         # p1이 n까지 도달하지 못한것은 남은 데이터가 있다는 것\n",
    "    c=c+a[p1:]   # 남은 데이터는 c리스트에 그대로 입력\n",
    "    \n",
    "if p2<m:\n",
    "    c=c+b[p2:]\n",
    "    \n",
    "for x in c:           # 출력값을 하나씩 출력하기 위함\n",
    "    print(x, end='')  # 옆으로 출력\n"
   ]
  },
  {
   "cell_type": "code",
   "execution_count": null,
   "metadata": {},
   "outputs": [],
   "source": []
  }
 ],
 "metadata": {
  "kernelspec": {
   "display_name": "Python 3",
   "language": "python",
   "name": "python3"
  },
  "language_info": {
   "codemirror_mode": {
    "name": "ipython",
    "version": 3
   },
   "file_extension": ".py",
   "mimetype": "text/x-python",
   "name": "python",
   "nbconvert_exporter": "python",
   "pygments_lexer": "ipython3",
   "version": "3.7.4"
  }
 },
 "nbformat": 4,
 "nbformat_minor": 2
}
