{
 "cells": [
  {
   "cell_type": "markdown",
   "metadata": {},
   "source": [
    "다음과 같이 여러 단위의 동전들이 주어져 있을때 거스름돈을 가장 적은 수의 동전으로 교환해주려면 어떻게 주면 되는가? <br>\n",
    "각 단위의 동전은 무한정 쓸 수 있다.\n"
   ]
  },
  {
   "cell_type": "markdown",
   "metadata": {},
   "source": [
    "▣ 입력설명<br>\n",
    "첫 번째 줄에는 동전의 종류개수 N(1<=N<=100)이 주어진다. <br>\n",
    "두 번째 줄에는 N개의 동전의 종류가 주어지고, 그 다음줄에 거슬러 줄 금액 M(1<=M<=10,000)이 주어진다.<br>\n",
    "각 동전의 종류는 100원을 넘지 않는다.\n"
   ]
  },
  {
   "cell_type": "markdown",
   "metadata": {},
   "source": [
    "▣ 출력설명<br>\n",
    "첫 번째 줄에 거슬러 줄 동전의 최소개수를 출력한다.\n"
   ]
  },
  {
   "cell_type": "markdown",
   "metadata": {},
   "source": [
    "▣ 입력예제 1<br>\n",
    "3<br>\n",
    "1 2 5<br>\n",
    "15<br>\n",
    "- 동전 종류 3개\n",
    "- 1,2,5원 종류\n",
    "- \n",
    "- dy[j] : j원을 거슬러 주는데 사용된 동전의 최소 개수\n",
    "   - dy[9] : 9원을 거슬러 주는데 사용된 동전의 최소 개수<br><br>\n",
    "\n",
    "- dy는 큰 값으로 초기화 되야 함 -> 최소값을 찾는 것이므로\n",
    "- 거슬러 줄 돈이 500원이 최대이므로 500원을 거슬러 주는데 1원으로 거슬러 주면 500개가 사용됨\n",
    "- dy는 1000으로 넉넉하게 초기화<br><br>\n",
    "- 처음엔 1원짜리만 있다고 생각\n",
    "   - dy[j-coin[i]] + 1 : j에서 사용하기로 한 동전을 빼는데 coin리스트에 1,2,5값을 넣어두고 인덱스로 불러와 뺌, 동전 하나 사용했으므로 +1\n",
    "   - dy[1]부터 시작\n",
    "   - dy[0] : 0(기본값임)\n",
    "   - dy[1] : dy[1-1] +1 로 1\n",
    "   - dy[2] : 2\n",
    "   - dy[3] : 3\n",
    "   - dy[4] : 4\n",
    "   - dy[5] : 5\n",
    "   - dy[6] : 6\n",
    "   - dy[7] : 7\n",
    "   - dy[8] : 8\n",
    "   - dy[9] : 9\n",
    "   - dy[10] : 10\n",
    "   - dy[11] : 11\n",
    "   - dy[12] : 12\n",
    "   - dy[13] : 13\n",
    "   - dy[14] : 14\n",
    "   - dy[15] : 15<br><br>\n",
    "- 현재 상태에서 2원짜리 추가\n",
    "   - dy[2]부터 시작\n",
    "   - dy[2] : dy[2-2] +1하면 1이므로 기존 dy[2]값인 2보다 작으므로 1로 변경해 줌\n",
    "   - dy[3] : dy[3-2] +1하면 2이므로 기존 dy[3]값인 3보다 작으므로 2로 변경해 줌<br><br>\n",
    "- 현재 상테에서 5원짜리 추가\n",
    "   - dy[5]부터 시작\n",
    "   - dy[5] : dy[5-5] +1하면 1로 기존 dy[5]값인 3보다 작으므로 1로 변경해 줌\n",
    "   - dy[6] : dy[6-5] +1하면 2로 기존 dy[6]값인 3보다 작으므로 2로 변경해 줌<br><br>\n",
    "   \n",
    "- 15원에 도달했을 때 개수를 출력\n"
   ]
  },
  {
   "cell_type": "markdown",
   "metadata": {},
   "source": [
    "▣ 출력예제 1<br>\n",
    "3"
   ]
  },
  {
   "cell_type": "code",
   "execution_count": 1,
   "metadata": {},
   "outputs": [
    {
     "name": "stdout",
     "output_type": "stream",
     "text": [
      "3\n",
      "1 2 5\n",
      "15\n",
      "3\n"
     ]
    }
   ],
   "source": [
    "if __name__==\"__main__\":\n",
    "    n=int(input()) # 동전 개수 3개\n",
    "    coin=list(map(int, input().split())) # coin리스트에 동전 종류 1,2,5원 입력\n",
    "    m=int(input()) # 15\n",
    "    dy=[1000]*(m+1); # 초기화는 1000, m+1까지 만들어야 인덱스 번호가 m까지 생김\n",
    "    dy[0]=0 # 기본값(0원을 거슬러주는데 사용되는 동전의 개수는 0), 0원을 거슬러주는데 10000은 말이 안되므로 변경해 줌\n",
    "    \n",
    "    for i in range(n): # 동전의 개수대로 n번\n",
    "        for j in range(coin[i], m+1): # coin리스트 순서대로 반복함\n",
    "            dy[j]=min(dy[j], dy[j-coin[i]]+1) # 기존값, 동전을 적용한 값 중 최소값\n",
    "            \n",
    "    print(dy[m])"
   ]
  },
  {
   "cell_type": "code",
   "execution_count": null,
   "metadata": {},
   "outputs": [],
   "source": []
  }
 ],
 "metadata": {
  "kernelspec": {
   "display_name": "Python 3",
   "language": "python",
   "name": "python3"
  },
  "language_info": {
   "codemirror_mode": {
    "name": "ipython",
    "version": 3
   },
   "file_extension": ".py",
   "mimetype": "text/x-python",
   "name": "python",
   "nbconvert_exporter": "python",
   "pygments_lexer": "ipython3",
   "version": "3.7.4"
  }
 },
 "nbformat": 4,
 "nbformat_minor": 2
}
