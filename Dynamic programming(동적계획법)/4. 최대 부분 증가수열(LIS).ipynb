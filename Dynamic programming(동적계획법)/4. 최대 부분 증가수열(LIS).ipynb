{
 "cells": [
  {
   "cell_type": "markdown",
   "metadata": {},
   "source": [
    "N개의 자연수로 이루어진 수열이 주어졌을 때, 그 중에서 가장 길게 증가하는(작은 수에서 큰 수로) 원소들의 집합을 찾는 프로그램을 작성하라. <br>\n",
    "예를 들어, 원소가 2, 7, 5, 8, 6, 4, 7, 12, 3 이면 가장 길게 증가하도록 원소들을 차례대로 뽑아내면 2, 5, 6, 7, 12를 뽑아내어 길이가 5인 최대 부분 증가수열을 만들 수 있다.\n"
   ]
  },
  {
   "cell_type": "markdown",
   "metadata": {},
   "source": [
    "▣ 입력설명<br>\n",
    "첫째 줄은 입력되는 데이터의 수 N(1≤N≤1,000, 자연수)를 의미하고, 둘째 줄은 N개의 입력데이터들이 주어진다.\n"
   ]
  },
  {
   "cell_type": "markdown",
   "metadata": {},
   "source": [
    "▣ 출력설명<br>\n",
    "첫 번째 줄에 부분증가수열의 최대 길이를 출력한다.\n"
   ]
  },
  {
   "cell_type": "markdown",
   "metadata": {},
   "source": [
    "▣ 입력예제 1<br>\n",
    "8<br>\n",
    "5 3 7 8 6 2 9 4\n",
    "- 8개 숫자로 수열의 길이는 8<br>\n",
    "<br>\n",
    "\n",
    "- 5가 첫 항이자 마지막 항일 때\n",
    "     - 5 \n",
    "- 3이 마지막 항일 때\n",
    "  - 3보다 작은 수가 없음\n",
    "    - 3\n",
    "- 7이 마지막 항일 때\n",
    "  - 7보다 작은 수인 3의 경우의 수 1가지\n",
    "    - 3 7\n",
    "  - 7보다 작은 수인 5의 경우의 수 1가지\n",
    "    - 5 7\n",
    "- 8이 마지막 항일 때\n",
    "  - 8보다 작은 수인 7의 경우의 수 2가지\n",
    "    - 3 7 8\n",
    "    - 5 7 8\n",
    "  - 8보다 작은 수인 3의 경우의 수 1가지\n",
    "    - 3 8 \n",
    "  - 8보다 작은 수인 3의 경우의 수 1가지\n",
    "    - 5 8<br><br>\n",
    "\n",
    "\n",
    "- arr은 숫자 8개 입력할 리스트\n",
    "- dy는 arr리스트의 7번 인덱스의 값이 마지막 항일 때, 가장 긴 수열의 길이 입력\n",
    "   - dy[7] : arr의 7번 인덱스 값인 9가 마지막 항이면서 가장 긴 수열의 길이"
   ]
  },
  {
   "cell_type": "markdown",
   "metadata": {},
   "source": [
    "▣ 출력예제 1<br>\n",
    "4"
   ]
  },
  {
   "cell_type": "code",
   "execution_count": 1,
   "metadata": {},
   "outputs": [
    {
     "name": "stdout",
     "output_type": "stream",
     "text": [
      "8\n",
      "5 3 7 8 6 2 9 4\n",
      "4\n"
     ]
    }
   ],
   "source": [
    "n=int(input())  # 수열의 길이 8\n",
    "arr=list(map(int, input().split()))  # 8개 숫자 입력\n",
    "arr.insert(0,0)  # arr리스트가 인덱스 1번부터 시작하도록 앞에 0번 인덱스에 0을 넣어 채워줌\n",
    "dy=[0]*(n+1)     # 인덱스 1부터 시작하도록 n+1까지\n",
    "dy[1]=1 # 초기화, 5가 첫항이자 마지막 항일 때\n",
    "res=0   # 최대길이\n",
    "\n",
    "for i in range(2, n+1): # dy[1]은 1로 초기화했으므로 2부터 순환\n",
    "    max=0 # 최대값 0으로 초기화\n",
    "    \n",
    "    for j in range(i-1, 0, -1):  # (마지막 항의 바로 전 항부터 시작, 1번 인덱스까지 확인해야 하므로 0까지, 뒤로 가야하니까 -1)\n",
    "        if arr[j]<arr[i] and dy[j]>max:  # arr[j]<arr[i] : 마지막 항 i값보다 j값이 작아야 함, dy[j]>max : i값보다 작은 j값들 중에서 max값보다 큰 j값 선택\n",
    "            max=dy[j] # 가장 큰 j값을 max로 업데이트\n",
    "    dy[i]=max+1      # max인 j값에 마지막 항 i값을 더해야 하므로 +1\n",
    "    \n",
    "    if dy[i]>res: # i가 현재 길이보다 길면\n",
    "        res=dy[i] # 현재 길이 i로 업데이트\n",
    "        \n",
    "print(res)"
   ]
  },
  {
   "cell_type": "code",
   "execution_count": null,
   "metadata": {},
   "outputs": [],
   "source": []
  }
 ],
 "metadata": {
  "kernelspec": {
   "display_name": "Python 3",
   "language": "python",
   "name": "python3"
  },
  "language_info": {
   "codemirror_mode": {
    "name": "ipython",
    "version": 3
   },
   "file_extension": ".py",
   "mimetype": "text/x-python",
   "name": "python",
   "nbconvert_exporter": "python",
   "pygments_lexer": "ipython3",
   "version": "3.7.4"
  }
 },
 "nbformat": 4,
 "nbformat_minor": 2
}
