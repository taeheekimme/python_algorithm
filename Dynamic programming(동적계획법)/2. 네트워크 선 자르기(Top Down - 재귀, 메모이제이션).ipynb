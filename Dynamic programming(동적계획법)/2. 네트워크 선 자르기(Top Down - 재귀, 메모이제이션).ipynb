{
 "cells": [
  {
   "cell_type": "markdown",
   "metadata": {},
   "source": [
    "### 메모이제이션\n",
    "- 이미 한번 구해진 값을 배열에 저장해두고 같은 호출이 있을 때, 컷 엣지를 함\n",
    "- 메모를 해놓고 불필요한 재귀호출을 방지\n"
   ]
  },
  {
   "cell_type": "markdown",
   "metadata": {},
   "source": [
    "현수는 네트워크 선을 1m, 2m의 길이를 갖는 선으로 자르려고 합니다.<br>\n",
    "예를 들어 4m의 네트워크 선이 주어진다면<br>\n",
    "1) 1m+1m+1m+1m<br>\n",
    "2) 2m+1m+1m<br>\n",
    "3) 1m+2m+1m<br>\n",
    "4) 1m+1m+2m<br>\n",
    "5) 2m+2m<br>\n",
    "의 5가지 방법을 생각할 수 있습니다. <br>\n",
    "(2)와 (3)과 (4)의 경우 왼쪽을 기준으로 자르는 위치가 다르면 다른 경우로 생각한다.<br>\n",
    "그렇다면 네트워크 선의 길이가 Nm라면 몇 가지의 자르는 방법을 생각할 수 있나요?"
   ]
  },
  {
   "cell_type": "markdown",
   "metadata": {},
   "source": [
    "▣ 입력설명<br>\n",
    "첫째 줄은 네트워크 선의 총 길이인 자연수 N(3≤N≤45)이 주어집니다.\n"
   ]
  },
  {
   "cell_type": "markdown",
   "metadata": {},
   "source": [
    "▣ 출력설명<br>\n",
    "첫 번째 줄에 부분증가수열의 최대 길이를 출력한다.\n"
   ]
  },
  {
   "cell_type": "markdown",
   "metadata": {},
   "source": [
    "▣ 입력예제 1<br>\n",
    "7\n"
   ]
  },
  {
   "cell_type": "markdown",
   "metadata": {},
   "source": [
    "▣ 출력예제 1<br>\n",
    "21"
   ]
  },
  {
   "cell_type": "code",
   "execution_count": 1,
   "metadata": {},
   "outputs": [
    {
     "name": "stdout",
     "output_type": "stream",
     "text": [
      "7\n",
      "21\n"
     ]
    }
   ],
   "source": [
    "def DFS(len):\n",
    "    if dy[len]>0: # 가지자르기, dy[len]값이 있으면 DFS(len)이 구해진 것이므로 else문으로 가지뻗지 말고 바로 dy[len]값 리턴 \n",
    "        return dy[len]\n",
    "    \n",
    "    if len==1 or len==2: # 종착점, DFS(1)이면 len이 1, DFS(2)면 len이 2\n",
    "        return len\n",
    "    \n",
    "    else:\n",
    "        dy[len]=DFS(len-1)+DFS(len-2) # 점화식, dy[len]이 7이면 DFS(7) = DFS(6) + DFS(5)\n",
    "        return dy[len]\n",
    "\n",
    "    \n",
    "    \n",
    "if __name__==\"__main__\":\n",
    "    n=int(input())\n",
    "    dy=[0]*(n+1) # 0번 배제하고 1번부터 사용하기 위해 n+1\n",
    "    print(DFS(n))"
   ]
  },
  {
   "cell_type": "code",
   "execution_count": null,
   "metadata": {},
   "outputs": [],
   "source": []
  }
 ],
 "metadata": {
  "kernelspec": {
   "display_name": "Python 3",
   "language": "python",
   "name": "python3"
  },
  "language_info": {
   "codemirror_mode": {
    "name": "ipython",
    "version": 3
   },
   "file_extension": ".py",
   "mimetype": "text/x-python",
   "name": "python",
   "nbconvert_exporter": "python",
   "pygments_lexer": "ipython3",
   "version": "3.7.4"
  }
 },
 "nbformat": 4,
 "nbformat_minor": 2
}
