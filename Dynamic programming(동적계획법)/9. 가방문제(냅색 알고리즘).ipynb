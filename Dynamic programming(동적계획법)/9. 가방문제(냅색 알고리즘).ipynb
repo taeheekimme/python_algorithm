{
 "cells": [
  {
   "cell_type": "markdown",
   "metadata": {},
   "source": [
    "최고 17kg의 무게를 저장할 수 있는 가방이 있다. <br>\n",
    "그리고 각각 3kg, 4kg, 7kg, 8kg, 9kg의 무게를 가진 5종류의 보석이 있다. <br>\n",
    "이 보석들의 가치는 각각 4, 5, 10, 11, 13이다.<br>\n",
    "이 보석을 가방에 담는데 17kg를 넘지 않으면서 최대의 가치가 되도록 하려면 어떻게 담아야 할까요? <br>\n",
    "각 종류별 보석의 개수는 무한이 많다. <br>\n",
    "한 종류의 보석을 여러 번 가방에 담을 수 있다는 뜻입니다.\n"
   ]
  },
  {
   "cell_type": "markdown",
   "metadata": {},
   "source": [
    "▣ 입력설명<br>\n",
    "첫 번째 줄은 보석 종류의 개수와 가방에 담을 수 있는 무게의 한계값이 주어진다.<br>\n",
    "두 번째 줄부터 각 보석의 무게와 가치가 주어진다.<br>\n",
    "가방의 저장무게는 1000kg을 넘지 않는다. 보석의 개수는 30개 이내이다.\n"
   ]
  },
  {
   "cell_type": "markdown",
   "metadata": {},
   "source": [
    "▣ 출력설명<br>\n",
    "첫 번째 줄에 가방에 담을 수 있는 보석의 최대가치를 출력한다.\n"
   ]
  },
  {
   "cell_type": "markdown",
   "metadata": {},
   "source": [
    "▣ 입력예제 1<br>\n",
    "4 11<br>\n",
    "5 12<br>\n",
    "3 8<br>\n",
    "6 14<br>\n",
    "4 8<br>\n",
    "- 4 11 : 보석이 4종류 있고 가방에 담을 수 있는 무게는 11\n",
    "- 5 12 : 5kg짜리 보석은 12가치\n",
    "- 3 8 : 3kg짜리 보석은 12가치\n",
    "- 6 14 : 6kg짜리 보석은 12가치\n",
    "- 4 8 : 4kg짜리 보석은 12가치<br>\n",
    "\n",
    "- dy[j] : 가방에 j무게 만큼 담았을 때, 보석의 최대가치<br><br>\n",
    "\n",
    "- 일단 보석이 4개있다고 생각하는게 아닌 5kg짜리 1개만 있다고 가정\n",
    "    - dy[5]부터 값을 구할 수 있음\n",
    "    - 5kg은 w, 12가치는 v로 정의\n",
    "    - dy[j-w] + v : 가방에 담을 수 있는 최대 무게 j인 5kg에서 w인 5kg짜리 보석을 담을 수 있도록 여유공간을 빼 둠, 5kg보석을 담아서 얻을 수 있는 가치 v인 12를 더해줌\n",
    "       - dy[5-5] = dy[0] = 0g을 담을 수 있었을 때 최대 가치\n",
    "       - dy[0] = 0에 5kg보석을 담아서 얻을 수 있는 12를 더해줌\n",
    "       - dy[5] = 12가 됨\n",
    "    - dy[5] : dy[6-5] + 12 : 가방에 1kg 담을 수 있을 때 보석의 가치 + 5kg짜리는 담는다고 가정했으므로 +12\n",
    "    - dy[6] : dy[7-5] + 12 = 12\n",
    "    - dy[7] : dy[8-5] + 12 = 12\n",
    "    - dy[8] : dy[9-5] + 12 = 12\n",
    "    - dy[9] : dy[10-5] + 12 = dy[5]의 값 12 + 보석의 가치 12 = 24\n",
    "    - dy[10] : dy[11-5] + 12= dy[5]의 값 12 + 보석의 가치 12 = 24<br><br>\n",
    "    \n",
    "- 현재 테이블에 3kg짜리 보석을 추가\n",
    "    - dy[3]부터 값을 구할 수 있음\n",
    "    - dy[3] : dy[3-3] + 8 = 8 \n",
    "    - dy[4] : dy[4-3] + 8 = 8 \n",
    "    - dy[5] : dy[5-3] + 8 = 8에 기존 dy[5]의 값이 12로 8보다 크므로 그대로 12유지\n",
    "    - dy[6] : dy[6-3] + 8 = dy[3]의 값 8 + 8 = 16은 기존 dy[6]의 값 12보다 크므로 16으로 변경\n",
    "    - dy[7] : dy[7-3] + 8 = dy[4]의 값 8 + 8 = 16은 기존 dy[6]의 값 12보다 크므로 16으로 변경\n",
    "    - dy[8] : dy[8-3] + 8 = dy[5]의 값 12 + 8 = 20은 기존 dy[8]의 값 12보다 크므로 20으로 변경\n",
    "    - dy[9] : dy[9-3] + 8 = dy[6]의 값 16 + 8 = 24는 기존 dy[9]의 값 12보다 크므로 24으로 변경\n",
    "    - dy[10] : dy[10-3] + 8 = dy[7]의 값 16 + 8 = 24은 기존 dy[10]의 값 24와 동일하므로 그대로 유지\n",
    "    - dy[11] : dy[11-3] + 8 = dy[8]의 값 20 + 8 = 28은 기존 dy[10]의 값 24보다 크므로 28로 변경<br><br>\n",
    "\n",
    "- 현재 테이블 6kg, 4kg보석을 적용함\n",
    "- 그때 최대 가치인 값이 답"
   ]
  },
  {
   "cell_type": "markdown",
   "metadata": {},
   "source": [
    "▣ 출력예제 1<br>\n",
    "28"
   ]
  },
  {
   "cell_type": "code",
   "execution_count": 1,
   "metadata": {},
   "outputs": [
    {
     "name": "stdout",
     "output_type": "stream",
     "text": [
      "4 11\n",
      "5 12\n",
      "3 8\n",
      "6 14\n",
      "4 8\n",
      "28\n"
     ]
    }
   ],
   "source": [
    "if __name__==\"__main__\":\n",
    "    n, m=map(int, input().split()) # 보석의 종류, 가방의 무게 제한\n",
    "    dy=[0]*(m+1); # 0으로 m+1까지 초기화 해야 인덱스 번호가 m까지 생김\n",
    "    \n",
    "    for i in range(n): # 보석의 개수만큼 보석의 무게와 가치를 입력\n",
    "        w, v=map(int, input().split())\n",
    "        \n",
    "        for j in range(w, m+1): # j-w를 할 것이므로 0부터 시작하면 음수가 나오게 되니 w부터 시작\n",
    "            dy[j]=max(dy[j], dy[j-w]+v) # dy[j]의 값은 기존 dy[j]값과 w와 v를 갖는 보석을 가방에 담을 때의 값 dy[j-w]+v 증 최대값 입력\n",
    "            \n",
    "    print(dy[m])"
   ]
  },
  {
   "cell_type": "code",
   "execution_count": null,
   "metadata": {},
   "outputs": [],
   "source": []
  }
 ],
 "metadata": {
  "kernelspec": {
   "display_name": "Python 3",
   "language": "python",
   "name": "python3"
  },
  "language_info": {
   "codemirror_mode": {
    "name": "ipython",
    "version": 3
   },
   "file_extension": ".py",
   "mimetype": "text/x-python",
   "name": "python",
   "nbconvert_exporter": "python",
   "pygments_lexer": "ipython3",
   "version": "3.7.4"
  }
 },
 "nbformat": 4,
 "nbformat_minor": 2
}
