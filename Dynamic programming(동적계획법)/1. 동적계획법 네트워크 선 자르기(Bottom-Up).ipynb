{
 "cells": [
  {
   "cell_type": "markdown",
   "metadata": {},
   "source": [
    "Bottom-Up은 전 단계를 바탕으로 최종 답 구하는 것<br>\n"
   ]
  },
  {
   "cell_type": "markdown",
   "metadata": {},
   "source": [
    "현수는 네트워크 선을 1m, 2m의 길이를 갖는 선으로 자르려고 합니다.<br>\n",
    "예를 들어 4m의 네트워크 선이 주어진다면<br>\n",
    "1) 1m+1m+1m+1m<br>\n",
    "2) 2m+1m+1m<br>\n",
    "3) 1m+2m+1m<br>\n",
    "4) 1m+1m+2m<br>\n",
    "5) 2m+2m<br>\n",
    "의 5가지 방법을 생각할 수 있습니다. <br>\n",
    "(2)와 (3)과 (4)의 경우 왼쪽을 기준으로 자르는 위치가다르면 다른 경우로 생각한다.<br>\n",
    "그렇다면 네트워크 선의 길이가 Nm라면 몇 가지의 자르는 방법을 생각할 수 있나요?\n"
   ]
  },
  {
   "cell_type": "markdown",
   "metadata": {},
   "source": [
    "▣ 입력설명<br>\n",
    "첫째 줄은 네트워크 선의 총 길이인 자연수 N(3≤N≤45)이 주어집니다.\n"
   ]
  },
  {
   "cell_type": "markdown",
   "metadata": {},
   "source": [
    "▣ 출력설명<br>\n",
    "첫 번째 줄에 부분증가수열의 최대 길이를 출력한다.\n"
   ]
  },
  {
   "cell_type": "markdown",
   "metadata": {},
   "source": [
    "▣ 입력예제 1<br>\n",
    "7<br>\n",
    "- 7m가 주어짐\n",
    "- dy라는 1차원 리스트\n",
    "   - 1번 인덱스 : 1m를 자르는 방법의 수 1로 1기록\n",
    "   - 2번 인덱스 : 2m를 자르는 방법의 수는 1+1, 2 2가지로 2기록\n",
    "   - 3번 인덱스 : 점화식으로 구함\n",
    "       - 마지막 토막 크기가 1인 경우 -> 앞의 2가지 토막은 1+1로 2번 인덱스에서 구한 값 2에 마지막 토막 +1하면 3m완성\n",
    "       - 마지막 토막 크기가 2인 경우 -> 앞의 1가지 토막 1에 +2하면 3m완성\n",
    "   - 4번 인덱스\n",
    "       - 마지막 토막 크기가 1인 경우 -> 앞의 3가지 토막은 3번 인덱스 값 3에 +1해서 4\n",
    "       - 마지막 토막 크기가 2인 경우 -> 앞의 2가지 토막은 2번 인덱스 값 2\n",
    "       - 4+2=6\n",
    "- 점화식 : f(n)=f(n-2)+f(n-1)"
   ]
  },
  {
   "cell_type": "markdown",
   "metadata": {},
   "source": [
    "▣ 출력예제 1<br>\n",
    "21"
   ]
  },
  {
   "cell_type": "code",
   "execution_count": 1,
   "metadata": {},
   "outputs": [
    {
     "name": "stdout",
     "output_type": "stream",
     "text": [
      "7\n",
      "21\n"
     ]
    }
   ],
   "source": [
    "n=int(input()) # 7m\n",
    "dy=[0]*(n+1)  # 1차원 리스트, 인덱스 1번부터 사용하기 위해 n+1로 설정\n",
    "\n",
    "# 점화식을 위해 초기값 설정\n",
    "dy[1]=1 # 1번 인덱스로 1m를 자르는 방법의 수 1개\n",
    "dy[2]=2 # 2번 인덱스로 2m를 자르는 방법의 수 2개\n",
    "\n",
    "for i in range(3, n+1): # 3m짜리부터 n+1까지 \n",
    "    dy[i]=dy[i-1]+dy[i-2] # 점화식 f(n)=f(n-2)+f(n-1)\n",
    "\n",
    "print(dy[n])\n"
   ]
  },
  {
   "cell_type": "code",
   "execution_count": null,
   "metadata": {},
   "outputs": [],
   "source": []
  }
 ],
 "metadata": {
  "kernelspec": {
   "display_name": "Python 3",
   "language": "python",
   "name": "python3"
  },
  "language_info": {
   "codemirror_mode": {
    "name": "ipython",
    "version": 3
   },
   "file_extension": ".py",
   "mimetype": "text/x-python",
   "name": "python",
   "nbconvert_exporter": "python",
   "pygments_lexer": "ipython3",
   "version": "3.7.4"
  }
 },
 "nbformat": 4,
 "nbformat_minor": 2
}
