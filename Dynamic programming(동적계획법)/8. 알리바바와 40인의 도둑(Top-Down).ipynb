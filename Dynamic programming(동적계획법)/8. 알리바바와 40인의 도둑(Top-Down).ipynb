{
 "cells": [
  {
   "cell_type": "markdown",
   "metadata": {},
   "source": [
    "알리바바는 40인의 도둑으로부터 금화를 훔쳐 도망치고 있습니다.<br>\n",
    "알리바바는 도망치는 길에 평소에 잘 가지 않던 계곡의 돌다리로 도망가고자 한다.<br>\n",
    "계곡의 돌다리는 N×N개의 돌들로 구성되어 있다. 각 돌다리들은 높이가 서로 다릅니다.<br>\n",
    "해당 돌다리를 건널때 돌의 높이 만큼 에너지가 소비됩니다. <br>\n",
    "이동은 최단거리 이동을 합니다.<br>\n",
    "즉 현재 지점에서 오른쪽 또는 아래쪽으로만 이동해야 합니다.<br>\n",
    "N*N의 계곡의 돌다리 격자정보가 주어지면 (1, 1)격자에서 (N, N)까지 가는데 드는 에너지의 최소량을 구하는 프로그램을 작성하세요.<br>\n",
    "만약 N=3이고 (1, 1)좌표에서 (3, 3)좌표까지 가는데 드는 최소 에너지는 3+2+3+4+2=14이다.\n"
   ]
  },
  {
   "cell_type": "markdown",
   "metadata": {},
   "source": [
    "▣ 입력설명<br>\n",
    "첫 번째 줄에는 자연수 N(1<=N<=20)이 주어진다.<br>\n",
    "두 번째 줄부터 계곡의 N*N 격자의 돌다리 높이(10보다 작은 자연수) 정보가 주어진다.\n"
   ]
  },
  {
   "cell_type": "markdown",
   "metadata": {},
   "source": [
    "▣ 출력설명<br>\n",
    "첫 번째 줄에 (1, 1)출발지에서 (N, N)도착지로 가기 위한 최소 에너지를 출력한다.\n"
   ]
  },
  {
   "cell_type": "markdown",
   "metadata": {},
   "source": [
    "▣ 입력예제 1<br>\n",
    "5<br>\n",
    "3 7 2 1 9<br>\n",
    "5 8 3 9 2<br>\n",
    "5 3 1 2 3<br>\n",
    "5 4 3 2 1<br>\n",
    "1 7 5 2 4<br>\n",
    "- D(2,2) : (0,0)에서 출발해서 (2,2)까지 도착하는데 최소 비용\n",
    "- (2,2)에 도달하기 위해 왼쪽과 위쪽에서 온 경우\n",
    "    - 왼쪽 D(2,1)와 위쪽 D(1,2) 중 작은 값에 arr의 (2,2)값을 더해주면 됨\n",
    "       - 왼쪽 D(2,1) 선택 시\n",
    "           - D(2,0)과 D(1,1) 중 작은 값에 arr의 (2,1)값을 더해줌\n",
    "       - 위쪽 D(1,2) 선택 시\n",
    "           - D(1,1)과 D(0,2) 중 작은 값에 arr의 (2,1)값을 더해줌\n",
    "- 메모이제이션 \n",
    "   - 왼쪽 D(2,1)의 D(1,1)에서 구한 값을 위쪽 D(1,2)의 D(1,1)에서 또 구하지 않도록 메모이제이션 해서 리턴해 줌\n",
    "   - DY[1][1]로 메모이제이션"
   ]
  },
  {
   "cell_type": "markdown",
   "metadata": {},
   "source": [
    "▣ 출력예제 1<br>\n",
    "25"
   ]
  },
  {
   "cell_type": "code",
   "execution_count": 1,
   "metadata": {},
   "outputs": [
    {
     "name": "stdout",
     "output_type": "stream",
     "text": [
      "5\n",
      "3 7 2 1 9\n",
      "5 8 3 9 2\n",
      "5 3 1 2 3\n",
      "5 4 3 2 1\n",
      "1 7 5 2 4\n",
      "25\n"
     ]
    }
   ],
   "source": [
    "def DFS(x, y):\n",
    "    if dy[x][y]>0: # 메모이제이션으로 인한 컷엣지\n",
    "        return dy[x][y]; \n",
    "    \n",
    "    if x==0 and y==0: # (0,0)이 출발지점일 경우\n",
    "        return arr[0][0] # 첫번째 돌의 비용이 DFS의 (0,0)이므로\n",
    "    \n",
    "    else:  # (0,0)이 출발지점이 아닐 경우\n",
    "        if y==0: # (2,2)에서 가장 왼쪽지점이 도착지점일 때, 0열일때, 위로만 올라가야 함\n",
    "            dy[x][y]=DFS(x-1, y)+arr[x][y] # y는 그대로 되고 x만 1씩 줄어듬 + 비용\n",
    "        \n",
    "        elif x==0: # (2,2)에서 가장 위쪽지점이 도착지점일 때, 0행일때, 왼쪽으로만 가야함\n",
    "            dy[x][y]=DFS(x, y-1)+arr[x][y] # x는 그대로 되고 y만 1씩 줄어듬 + 비용\n",
    "        \n",
    "        else: # 둘다 아닐 경우 (2,2)의 바로 위쪽 or 왼쪽에서 오게 됨\n",
    "            dy[x][y]=min(DFS(x-1, y), DFS(x, y-1))+arr[x][y] # 위쪽(x-1, y), 왼쪽(x, y-1) 중 작은 값을 선택 + 자기 비용\n",
    "        return dy[x][y]\n",
    "\n",
    "    \n",
    "if __name__==\"__main__\":\n",
    "    n=int(input()) \n",
    "    arr=[list(map(int, input().split())) for _ in range(n)]  # 돌다리의 격자 정보 입력\n",
    "    dy=[[0]*n for _ in range(n)] # 메모이제이션하기 위함\n",
    "    print(DFS(n-1, n-1)) # 출발점을 (0,0)으로 하기위해 n-1로 잡음"
   ]
  },
  {
   "cell_type": "code",
   "execution_count": null,
   "metadata": {},
   "outputs": [],
   "source": []
  }
 ],
 "metadata": {
  "kernelspec": {
   "display_name": "Python 3",
   "language": "python",
   "name": "python3"
  },
  "language_info": {
   "codemirror_mode": {
    "name": "ipython",
    "version": 3
   },
   "file_extension": ".py",
   "mimetype": "text/x-python",
   "name": "python",
   "nbconvert_exporter": "python",
   "pygments_lexer": "ipython3",
   "version": "3.7.4"
  }
 },
 "nbformat": 4,
 "nbformat_minor": 2
}
