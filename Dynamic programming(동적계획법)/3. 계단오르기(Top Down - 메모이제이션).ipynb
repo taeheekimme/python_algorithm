{
 "cells": [
  {
   "cell_type": "markdown",
   "metadata": {},
   "source": [
    "### Bottom-Up \n",
    "- 동적계획법의 진짜 의미\n",
    "\n",
    "\n",
    "### Top-Down \n",
    "- 동적계획법의 넓은 의미\n",
    "- 재귀, 순환 알고리즘 방식이지만 재귀를 사용해 메모이제이션에 기록해서 컷 엣지하는 방식이므로 동적계획법으로 보기도 함\n",
    "- 재귀가 뻗어나가는 방식이 점화식이기도 함\n"
   ]
  },
  {
   "cell_type": "markdown",
   "metadata": {},
   "source": [
    "철수는 계단을 오를 때 한 번에 한 계단 또는 두 계단씩 올라간다. <br>\n",
    "만약 총 4계단을 오른다면 그 방법의 수는 1+1+1+1, 1+1+2, 1+2+1, 2+1+1, 2+2 로 5가지이다. <br>\n",
    "그렇다면 총 N계단일 때 철수가 올라갈 수 있는 방법의 수는 몇 가지인가?"
   ]
  },
  {
   "cell_type": "markdown",
   "metadata": {},
   "source": [
    "▣ 입력설명 <br>\n",
    "첫째 줄은 계단의 개수인 자연수 N(3≤N≤45)이 주어집니다.\n"
   ]
  },
  {
   "cell_type": "markdown",
   "metadata": {},
   "source": [
    "▣ 출력설명 <br>\n",
    "첫 번째 줄에 올라가는 방법의 수를 출력합니다.\n"
   ]
  },
  {
   "cell_type": "markdown",
   "metadata": {},
   "source": [
    "▣ 입력예제 1 <br>\n",
    "7\n"
   ]
  },
  {
   "cell_type": "markdown",
   "metadata": {},
   "source": [
    "▣ 출력예제 1 <br>\n",
    "21"
   ]
  },
  {
   "cell_type": "code",
   "execution_count": null,
   "metadata": {},
   "outputs": [],
   "source": [
    "n=int(input()) \n",
    "dy=[0]*(n+1) # 인덱스 1번부터 시작하도록 초기화\n",
    "\n",
    "# 기본값 초기화\n",
    "dy[1]=1\n",
    "dy[2]=2\n",
    "\n",
    "for i in range(3, n+2):\n",
    "    dy[i]=dy[i-1]+dy[i-2] # 점화식\n",
    "\n",
    "print(dy[n+1])\n"
   ]
  }
 ],
 "metadata": {
  "kernelspec": {
   "display_name": "Python 3",
   "language": "python",
   "name": "python3"
  },
  "language_info": {
   "codemirror_mode": {
    "name": "ipython",
    "version": 3
   },
   "file_extension": ".py",
   "mimetype": "text/x-python",
   "name": "python",
   "nbconvert_exporter": "python",
   "pygments_lexer": "ipython3",
   "version": "3.7.4"
  }
 },
 "nbformat": 4,
 "nbformat_minor": 2
}
