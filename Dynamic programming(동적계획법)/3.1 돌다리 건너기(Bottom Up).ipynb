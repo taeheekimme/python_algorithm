{
 "cells": [
  {
   "cell_type": "markdown",
   "metadata": {},
   "source": [
    "철수는 학교에 가는데 개울을 만났습니다.<br>\n",
    "개울은 N개의 돌로 다리를 만들어 놓았습니다. <br>\n",
    "철수는 돌 다리를 건널 때 한 번에 한 칸 또는 두 칸씩 건너뛰면서 돌다리를 건널 수 있습니다.<br>\n",
    "철수가 개울을 건너는 방법은 몇 가지일까요?\n"
   ]
  },
  {
   "cell_type": "markdown",
   "metadata": {},
   "source": [
    "▣ 입력설명<br>\n",
    "첫째 줄은 돌의 개수인 자연수 N(3≤N≤45)이 주어집니다.\n"
   ]
  },
  {
   "cell_type": "markdown",
   "metadata": {},
   "source": [
    "▣ 출력설명<br>\n",
    "첫 번째 줄에 개울을 건너는 방법의 수를 출력합니다.\n"
   ]
  },
  {
   "cell_type": "markdown",
   "metadata": {},
   "source": [
    "▣ 입력예제 1<br>\n",
    "7\n",
    "- 첫번째 돌까지 도착하는 방법 1가지\n",
    "- 두번째 돌까지 도착하는 방법 2가지(1개씩 건너거나, 2개를 한번에 건너거나)\n"
   ]
  },
  {
   "cell_type": "markdown",
   "metadata": {},
   "source": [
    "▣ 출력예제 1<br>\n",
    "34"
   ]
  },
  {
   "cell_type": "code",
   "execution_count": null,
   "metadata": {},
   "outputs": [],
   "source": [
    "n=int(input())\n",
    "dy=[0]*(n+1)\n",
    "\n",
    "# 초기화 값\n",
    "dy[1]=1\n",
    "dy[2]=2\n",
    "\n",
    "for i in range(3, n+2):\n",
    "    dy[i]=dy[i-1]+dy[i-2]\n",
    "\n",
    "print(dy[n+1])"
   ]
  }
 ],
 "metadata": {
  "kernelspec": {
   "display_name": "Python 3",
   "language": "python",
   "name": "python3"
  },
  "language_info": {
   "codemirror_mode": {
    "name": "ipython",
    "version": 3
   },
   "file_extension": ".py",
   "mimetype": "text/x-python",
   "name": "python",
   "nbconvert_exporter": "python",
   "pygments_lexer": "ipython3",
   "version": "3.7.4"
  }
 },
 "nbformat": 4,
 "nbformat_minor": 2
}
