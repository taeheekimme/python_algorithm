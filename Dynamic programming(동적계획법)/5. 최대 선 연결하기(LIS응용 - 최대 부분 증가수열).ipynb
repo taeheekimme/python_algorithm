{
 "cells": [
  {
   "cell_type": "markdown",
   "metadata": {},
   "source": [
    "왼쪽 막대기 번호와 오른쪽 막대기 번호를 같은 번호끼리 선으로 연결하려고 합니다.<br>\n",
    "왼쪽 번호는 무조건 위에서부터 차례로 1부터 N까지 오름차순으로 나열되어 있습니다.<br>\n",
    "오른쪽 번호는 무작위 순서로 나열되어 있습니다.<br>\n",
    "왼쪽 번호와 오른쪽 번호를 같은 선으로 연결할 때, 서로 선이 겹치지 않고 최대 몇 개의 선을 연결할 수 있는 지 구하는 프로그램을 작성하세요.\n"
   ]
  },
  {
   "cell_type": "markdown",
   "metadata": {},
   "source": [
    "▣ 입력설명<br>\n",
    "첫 줄에 자연수 N(1<=N<=100)이 주어집니다.<br>\n",
    "두 번째 줄에 1부터 N까지의 자연수 N개의 오른쪽 번호 정보가 주어집니다. <br>\n",
    "순서는 위쪽번호부터 아래쪽번호 순으로입니다.\n"
   ]
  },
  {
   "cell_type": "markdown",
   "metadata": {},
   "source": [
    "▣ 출력설명<br>\n",
    "첫 줄에 겹치지 않고 그을 수 있는 최대선의 개수를 출력합니다.\n"
   ]
  },
  {
   "cell_type": "markdown",
   "metadata": {},
   "source": [
    "▣ 입력예제 1<br>\n",
    "10<br>\n",
    "4 1 2 3 9 7 5 6 10 8\n",
    "- 왼쪽 막대기 번호는 오름차순으로 증가수열\n",
    "- 오른쪽 막대기 번호도 증가수열이어야 왼쪽 막대기 번호와 같은 번호를 선으로 이었을 때 교차하지 않음\n",
    "- 증가수열을 최대로 만들기 위해 최대 부분 증가수열의 최대 길이를 구하면 됨\n",
    "    - 가장 긴 증가수열 찾기\n",
    "- 최대 부분 증가수열 응용문제\n",
    "    - 이미 같은 번호끼리 선을 연결한 상태에서 최소 몇 개의 선을 제거해야 교차하지 않는 선을 많이 남길 수 있는가\n",
    "       - 전체 개수 - 최대 부분 증가수열\n",
    "    - 강물에 다리를 만들 때 1번 공사지점끼리 연결하기 위한 최대 다리 개수(교차 불가)"
   ]
  },
  {
   "cell_type": "markdown",
   "metadata": {},
   "source": [
    "▣ 출력예제 1<br>\n",
    "6"
   ]
  },
  {
   "cell_type": "code",
   "execution_count": 1,
   "metadata": {},
   "outputs": [
    {
     "name": "stdout",
     "output_type": "stream",
     "text": [
      "10\n",
      "4 1 2 3 9 7 5 6 10 8\n",
      "6\n"
     ]
    }
   ],
   "source": [
    "n=int(input())\n",
    "arr=list(map(int, input().split()))\n",
    "arr.insert(0,0)\n",
    "dy=[0]*(n+1)\n",
    "dy[1]=1\n",
    "res=0\n",
    "\n",
    "for i in range(2, n+1):\n",
    "    max=0\n",
    "    \n",
    "    for j in range(i-1, 0, -1):\n",
    "        if arr[j]<arr[i] and dy[j]>max:\n",
    "            max=dy[j]\n",
    "    dy[i]=max+1\n",
    "    \n",
    "    if dy[i]>res:\n",
    "        res=dy[i]\n",
    "        \n",
    "print(res)"
   ]
  },
  {
   "cell_type": "code",
   "execution_count": null,
   "metadata": {},
   "outputs": [],
   "source": []
  }
 ],
 "metadata": {
  "kernelspec": {
   "display_name": "Python 3",
   "language": "python",
   "name": "python3"
  },
  "language_info": {
   "codemirror_mode": {
    "name": "ipython",
    "version": 3
   },
   "file_extension": ".py",
   "mimetype": "text/x-python",
   "name": "python",
   "nbconvert_exporter": "python",
   "pygments_lexer": "ipython3",
   "version": "3.7.4"
  }
 },
 "nbformat": 4,
 "nbformat_minor": 2
}
