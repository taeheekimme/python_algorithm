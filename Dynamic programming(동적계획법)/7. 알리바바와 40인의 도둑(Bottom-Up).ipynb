{
 "cells": [
  {
   "cell_type": "markdown",
   "metadata": {},
   "source": [
    "알리바바는 40인의 도둑으로부터 금화를 훔쳐 도망치고 있습니다.<BR>\n",
    "알리바바는 도망치는 길에 평소에 잘 가지 않던 계곡의 돌다리로 도망가고자 한다.<BR>\n",
    "계곡의 돌다리는 N×N개의 돌들로 구성되어 있다. <BR>\n",
    "각 돌다리들은 높이가 서로 다릅니다.<BR>\n",
    "해당 돌다리를 건널때 돌의 높이 만큼 에너지가 소비됩니다. <BR>\n",
    "이동은 최단거리 이동을 합니다.<BR>\n",
    "즉 현재 지점에서 오른쪽 또는 아래쪽으로만 이동해야 합니다.<BR>\n",
    "N*N의 계곡의 돌다리 격자정보가 주어지면 (1, 1)격자에서 (N, N)까지 가는데 드는 에너지의 최소량을 구하는 프로그램을 작성하세요.<BR>\n",
    "만약 N=3이고 (1, 1)좌표에서 (3, 3)좌표까지 가는데 드는 최소 에너지는 3+2+3+4+2=14이다.\n"
   ]
  },
  {
   "cell_type": "markdown",
   "metadata": {},
   "source": [
    "▣ 입력설명<BR><BR>\n",
    "첫 번째 줄에는 자연수 N(1<=N<=20)이 주어진다.<BR>\n",
    "두 번째 줄부터 계곡의 N*N 격자의 돌다리 높이(10보다 작은 자연수) 정보가 주어진다.\n"
   ]
  },
  {
   "cell_type": "markdown",
   "metadata": {},
   "source": [
    "▣ 출력설명<BR>\n",
    "첫 번째 줄에 (1, 1)출발지에서 (N, N)도착지로 가기 위한 최소 에너지를 출력한다.\n"
   ]
  },
  {
   "cell_type": "markdown",
   "metadata": {},
   "source": [
    "▣ 입력예제 1<BR>\n",
    "5<BR>\n",
    "3 7 2 1 9<BR>\n",
    "5 8 3 9 2<BR>\n",
    "5 3 1 2 3<BR>\n",
    "5 4 3 2 1<BR>\n",
    "1 7 5 2 4<BR>\n",
    "- 3*3에서 (0.0)인덱스에 출발해 목표지점까지 도달\n",
    "    - 왼쪽위에서 오른쪽아래로 이동하기 위해 방향은 오른쪽과 아래쪽 2가지 방향으로 이동해야 함\n",
    "- dy는 3*3테이블\n",
    "- arr2차원 리스트\n",
    "- dy[i][j] : (0,0)에서 (i,j)까지 가는 최소 비용\n",
    "    - 이동하면서 비용을 누적해 나감\n",
    "- 0행과 0열은 초기값으로 누적함(한 방향이므로)\n",
    "    -  1행 1열부터 2중 for문 적용해 둘 중에 작은 값을 더함"
   ]
  },
  {
   "cell_type": "markdown",
   "metadata": {},
   "source": [
    "▣ 출력예제 1<BR>\n",
    "25"
   ]
  },
  {
   "cell_type": "code",
   "execution_count": 1,
   "metadata": {},
   "outputs": [
    {
     "name": "stdout",
     "output_type": "stream",
     "text": [
      "5\n",
      "3 7 2 1 9\n",
      "5 8 3 9 2\n",
      "5 3 1 2 3\n",
      "5 4 3 2 1\n",
      "1 7 5 2 4\n",
      "25\n"
     ]
    }
   ],
   "source": [
    "if __name__==\"__main__\":\n",
    "    n=int(input())\n",
    "    arr=[list(map(int, input().split())) for _ in range(n)] # 돌다리의 격자 정보 입력\n",
    "    dy=[[0]*n for _ in range(n)] # 2차원 리스트 테이블\n",
    "    dy[0][0]=arr[0][0] # 초기값, 첫번째 돌 1개 밟았을 때 비용은 자기 자신 값\n",
    "    \n",
    "    for i in range(1, n): # 0행과 0열 초기화\n",
    "        dy[0][i]=dy[0][i-1]+arr[0][i] # 0행 i열은 현재값은 전 값까지 오는데 드는 비용 + 현재 자기 비용\n",
    "        dy[i][0]=dy[i-1][0]+arr[i][0] # i행 0열은 자기 바로 전 값까지 오는데 드는 비용 + 현재 자기 비용\n",
    "        \n",
    "    for i in range(1, n): # 이중 for문으로 dy값 구해나감. 1행 1열부터 시작이므로 (1, n) / 문제에서는 (1,1)이지만 우리 좌표는 (0,0)시작\n",
    "        for j in range(1, n):\n",
    "            dy[i][j]=min(dy[i-1][j], dy[i][j-1])+arr[i][j] # 현재 값 (i,j)기준으로 왼쪽에서 오는 경우 (i, j-1), 위쪽에서 오는 경우 (i-1, j)\n",
    "                                                            # arr 자기 값을 더해주면 됨\n",
    "    print(dy[n-1][n-1])"
   ]
  },
  {
   "cell_type": "code",
   "execution_count": null,
   "metadata": {},
   "outputs": [],
   "source": []
  }
 ],
 "metadata": {
  "kernelspec": {
   "display_name": "Python 3",
   "language": "python",
   "name": "python3"
  },
  "language_info": {
   "codemirror_mode": {
    "name": "ipython",
    "version": 3
   },
   "file_extension": ".py",
   "mimetype": "text/x-python",
   "name": "python",
   "nbconvert_exporter": "python",
   "pygments_lexer": "ipython3",
   "version": "3.7.4"
  }
 },
 "nbformat": 4,
 "nbformat_minor": 2
}
