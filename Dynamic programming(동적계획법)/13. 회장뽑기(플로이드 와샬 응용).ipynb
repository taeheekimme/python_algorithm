{
 "cells": [
  {
   "cell_type": "markdown",
   "metadata": {},
   "source": [
    "월드컵축구의 응원을 위한 모임에서 회장을 선출하려고 한다. <br>\n",
    "이 모임은 만들어진지 얼마 되지 않았기 때문에 회원사이에 서로 모르는 사람도 있지만, 몇 사람을 통하면 서로 모두 알 수 있\n",
    "다. <br>\n",
    "각 회원은 다른 회원들과 가까운 정도에 따라 점수를 받게 된다. <br><br>\n",
    "예를 들어 어느 회원이 다른 모든 회원과 친구이면, 이 회원의 점수는 1점이다.  <br>어느 회원의\n",
    "점수가 2점이면, 다른 모든 회원이 친구이거나, 친구의 친구임을 말한다.  <br><br>\n",
    "또한, 어느 회원의\n",
    "점수가 3점이면, 다른 모든 회원이 친구이거나, 친구의 친구이거나, 친국의 친구의 친구임을\n",
    "말한다.<br>4점, 5점등은 같은 방법으로 정해진다. <br>\n",
    "<br>각 회원의 점수를 정할 때 주의할 점은 어떤 두 회원이 친구 사이이면서 동시에 친구의 친구\n",
    "사이이면, 이 두 사람은 친구사이라고 본다. <br>회장은 회원들 중에서 점수가 가장 작은 사람이\n",
    "된다. <br>\n",
    "회장의 점수와 회장이 될 수 있는 모든 사람을 찾는 프로그램을 작성하시오.\n"
   ]
  },
  {
   "cell_type": "markdown",
   "metadata": {},
   "source": [
    "▣ 입력설명 <br>\n",
    "입력의 첫째 줄에는 회원의 수가 있다. <br>\n",
    "단, 회원의 수는 50명을 넘지 않는다.  <br>\n",
    "둘째 줄 이후로는 한 줄에 두 개의 회원번호가 있는데, 이것은 두 회원이 서로 친구임을 나타낸다.  <br>\n",
    "회원번호는 1부터 회원의 수만큼 번호가 붙어있다. <br>\n",
    "마지막 줄에는 -1이 두 개 들어있다.\n"
   ]
  },
  {
   "cell_type": "markdown",
   "metadata": {},
   "source": [
    "▣ 출력설명 <br>\n",
    "첫째 줄은 회장 후보의 점수와 회장후보 수를 출력하고 두 번째 줄은 회장 후보를 모두 출력한다.\n"
   ]
  },
  {
   "cell_type": "markdown",
   "metadata": {},
   "source": [
    "▣ 입력예제 1 <br>\n",
    "5 <br>\n",
    "1 2 <br>\n",
    "2 3 <br>\n",
    "3 4 <br>\n",
    "4 5 <br>\n",
    "2 4 <br>\n",
    "5 3 <br>\n",
    "\n",
    "-1 -1 <br>\n",
    "- 5명의 회원 정보\n",
    "- 1번과 2번이 친구사이\n",
    "- 입력정보를 그래프로 표현\n",
    "   - 1번 노드와 2번 노드를 연결하여 간선을 그리고, 간선의 가중치는 1로 입력\n",
    "- 2차원 테이블에 입력\n",
    "   - 1번 노드 자기 자신과의 관계는 0 \n",
    "   - 1번 노드와 2번 노드와는 친구 사이이므로 1\n",
    "   - 1번과 3번 노드는 2번을 거쳐가야 하므로 1->2의 가중치 1과 2->3의 가중치 1을 더해 2\n",
    "   - 각 노드별 최대치를 구함\n",
    "- res리스트에 각 노드별 최대치를 입력\n",
    "   - 5개의 숫자 중 최소값을 출력\n",
    "   - 같은 수의 최소값이 몇개인지 출력\n",
    "   - 최소값을 갖는 노드 번호 출력"
   ]
  },
  {
   "cell_type": "markdown",
   "metadata": {},
   "source": [
    "▣ 출력예제 1 <br>\n",
    "2 3 <br>\n",
    "2 3 4"
   ]
  },
  {
   "cell_type": "code",
   "execution_count": 1,
   "metadata": {},
   "outputs": [
    {
     "name": "stdout",
     "output_type": "stream",
     "text": [
      "5\n",
      "1 2\n",
      "2 3\n",
      "3 4\n",
      "4 5\n",
      "2 4\n",
      "5 3\n",
      "-1 -1\n",
      "2 3\n",
      "2 3 4 "
     ]
    }
   ],
   "source": [
    "if __name__==\"__main__\":\n",
    "    n=int(input())\n",
    "    dis=[[100]*(n+1) for _ in range(n+1)] # 플로이드 와샬, 100으로 초기화\n",
    "    \n",
    "    for i in range(1, n+1): \n",
    "        dis[i][i]=0 # 자기 자신의 노드 관계는 0으로 초기화\n",
    "        \n",
    "    while True: # dis테이블에 친구 관계 입력\n",
    "        a, b=map(int, input().split()) # 친구 a, b입력\n",
    "        if a==-1 and b==-1:\n",
    "            break\n",
    "        dis[a][b]=1 # 친구사이면 1\n",
    "        dis[b][a]=1 # 친구사이면 1, 무방향그래프이므로 반대방향도 생각해줘야 함\n",
    "\n",
    "    for k in range(1, n+1): # k가 1일 때 ij로 이중 for문이 돔\n",
    "        for i in range(1, n+1):\n",
    "            for j in range(1, n+1):\n",
    "                dis[i][j]=min(dis[i][j], dis[i][k]+dis[k][j]) # 각 노드별 간선의 가중치를 입력\n",
    "\n",
    "    res=[0]*(n+1) # res리스트 생성\n",
    "    score=100 \n",
    "    \n",
    "    for i in range(1, n+1): # 각 노드별 점수 res에 입력\n",
    "        for j in range(1, n+1):\n",
    "            res[i]=max(res[i], dis[i][j]) # i번 노드의 최대값 입력, 1번 노드의 j값을 돌면서 그 중 최대값 입력\n",
    "        score=min(score, res[i])  # res에 입력된 값들 중 최소값 출력\n",
    "    out=[] # 최소값을 지닌 노드 번호를 출력하기 위한 리스트 생성\n",
    "    \n",
    "    for i in range(1, n+1):\n",
    "        if res[i]==score: # 최소값에 해당하는 노드 번호 출력\n",
    "            out.append(i)\n",
    "    print(\"%d %d\" %(score, len(out)))\n",
    "    \n",
    "    for x in out:\n",
    "        print(x, end=' ')\n",
    "        "
   ]
  },
  {
   "cell_type": "code",
   "execution_count": null,
   "metadata": {},
   "outputs": [],
   "source": []
  }
 ],
 "metadata": {
  "kernelspec": {
   "display_name": "Python 3",
   "language": "python",
   "name": "python3"
  },
  "language_info": {
   "codemirror_mode": {
    "name": "ipython",
    "version": 3
   },
   "file_extension": ".py",
   "mimetype": "text/x-python",
   "name": "python",
   "nbconvert_exporter": "python",
   "pygments_lexer": "ipython3",
   "version": "3.7.4"
  }
 },
 "nbformat": 4,
 "nbformat_minor": 2
}
