{
 "cells": [
  {
   "cell_type": "markdown",
   "metadata": {},
   "source": [
    "### 플로이드 와샬\n",
    "- 그래프에서 모든 종점에서 모든 종점으로 가는 최단 거리 \n",
    "   - 1번에서 다른 정점으로 가는 최단거리 구하기\n",
    "   - 2번에서 다른 정점으로 가는 최단거리 구하기\n"
   ]
  },
  {
   "cell_type": "markdown",
   "metadata": {},
   "source": [
    "N개의 도시가 주어지고, 각 도시들을 연결하는 도로와 해당 도로를 통행하는 비용이 주어질 때 모든 도시에서 모든 도시로 이동하는데 쓰이는 비용의 최소값을 구하는 프로그램을 작성하세요."
   ]
  },
  {
   "cell_type": "markdown",
   "metadata": {},
   "source": [
    "▣ 입력설명<br>\n",
    "첫 번째 줄에는 도시의 수N(N<=100)과 도로수 M(M<=200)가 주어지고, M줄에 걸쳐 도로정보\n",
    "와 비용(20 이하의 자연수)이 주어진다. <br>\n",
    "만약 1번 도시와 2번도시가 연결되고 그 비용이 13이면 “1 2 13”으로 주어진다.\n",
    "- dis[i][j] : i노드에서 j노드에서 가는데 드는 최소 비용\n",
    "- dis테이블의 초기화는 인접행렬로 초기화\n",
    "   - 1번에서 2번으로 다른 노드를 거치지 않고 한번에 가는데 드는 비용\n",
    "   - 그래프에 적혀진 노드별 기본 비용\n",
    "- min(dis[i][j], dis[i][k]+dis[k][j]) \n",
    "    - (직행하는 값, i에서 k로 가는 비용 + k에서 j로 가는 비용 = i -> k -< j로 거쳐가는 값)"
   ]
  },
  {
   "cell_type": "markdown",
   "metadata": {},
   "source": [
    "▣ 출력설명<br>\n",
    "모든 도시에서 모든 도시로 이동하는데 드는 최소 비용을 아래와 같이 출력한다.<br>\n",
    "자기자신으로 가는 비용은 0입니다. <br>\n",
    "i번 정점에서 j번 정점으로 갈 수 없을 때는 비용을 “M\"으로 출력합니다.\n"
   ]
  },
  {
   "cell_type": "markdown",
   "metadata": {},
   "source": [
    "▣ 입력예제 1<br>\n",
    "5 8<br>\n",
    "1 2 6<br>\n",
    "1 3 3<br>\n",
    "3 2 2<br>\n",
    "2 4 1<br>\n",
    "2 5 13<br>\n",
    "3 4 5<br>\n",
    "4 2 3<br>\n",
    "4 5 7<br>\n"
   ]
  },
  {
   "cell_type": "markdown",
   "metadata": {},
   "source": [
    "▣ 출력예제 1<br>\n",
    "0 5 3 6 13 //1번 정점에서 2번정점으로 5, 1에서 3번 정점으로 3, 1에서 4번 정점으로6......\n",
    "M 0 M 1 8 //2번 정점에서 1번 정점으로는 갈수 없으므로 “M\", .......<br>\n",
    "M 2 0 3 10<br>\n",
    "M 3 M 0 7<br>\n",
    "M M M M 0"
   ]
  },
  {
   "cell_type": "code",
   "execution_count": 1,
   "metadata": {},
   "outputs": [
    {
     "name": "stdout",
     "output_type": "stream",
     "text": [
      "5 8\n",
      "1 2 6\n",
      "1 3 3 \n",
      "3 2 2\n",
      "2 4 1\n",
      "2 5 13\n",
      "3 4 5\n",
      "4 2 3\n",
      "4 5 7\n",
      "0 5 3 6 13 \n",
      "M 0 M 1 8 \n",
      "M 2 0 3 10 \n",
      "M 3 M 0 7 \n",
      "M M M M 0 \n"
     ]
    }
   ],
   "source": [
    "if __name__==\"__main__\":\n",
    "    n, m=map(int, input().split()) # 노드 개수, 간선 개수\n",
    "    dis=[[5000]*(n+1) for _ in range(n+1)] # 5000으로 초기화\n",
    "    \n",
    "    for i in range(1, n+1): \n",
    "        dis[i][i]=0    # 자기 자신에서 자기 자신으로 가는 건 0으로 초기화\n",
    "        \n",
    "    for i in range(m): # 인접행렬로 초기화\n",
    "        a, b, c=map(int, input().split())  # 직행으로 가는 값(그래프에 나타난 기본 값 입력)\n",
    "        dis[a][b]=c\n",
    "        \n",
    "    for k in range(1, n+1): # 플로이드 와샬 알고리즘, k=1일 때 j 순화하며 최소값 찾음\n",
    "        for i in range(1, n+1):\n",
    "            for j in range(1, n+1):\n",
    "                dis[i][j]=min(dis[i][j], dis[i][k]+dis[k][j]) # 직행할 때 값, 거쳐갈 때 값\n",
    "                \n",
    "    for i in range(1, n+1):\n",
    "        for j in range(1, n+1):\n",
    "            if dis[i][j]==5000:\n",
    "                print(\"M\", end=' ')\n",
    "            else:\n",
    "                print(dis[i][j], end=' ')\n",
    "                \n",
    "        print()"
   ]
  },
  {
   "cell_type": "code",
   "execution_count": null,
   "metadata": {},
   "outputs": [],
   "source": []
  }
 ],
 "metadata": {
  "kernelspec": {
   "display_name": "Python 3",
   "language": "python",
   "name": "python3"
  },
  "language_info": {
   "codemirror_mode": {
    "name": "ipython",
    "version": 3
   },
   "file_extension": ".py",
   "mimetype": "text/x-python",
   "name": "python",
   "nbconvert_exporter": "python",
   "pygments_lexer": "ipython3",
   "version": "3.7.4"
  }
 },
 "nbformat": 4,
 "nbformat_minor": 2
}
