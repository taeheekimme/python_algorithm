{
 "cells": [
  {
   "cell_type": "markdown",
   "metadata": {},
   "source": [
    "### 위상정렬\n",
    "- 일의 선후관계를 유지하며 전체 일의 순서를 짜는 알고리즘\n",
    "- 1번 작업 후 4번을 해야하므로 방향 그래프가 됨\n",
    "- 노드에 연결된 간선이 차수\n",
    "   - 해당 노드로 들어오는 간선은 진입차수\n",
    "   - 위상정렬에서는 진입차수가 중요함\n",
    "   - 진입차수와 연결된 전 단계의 노드가 완료되야 해당 노드가 실행되므로"
   ]
  },
  {
   "cell_type": "markdown",
   "metadata": {},
   "source": [
    "위상정렬은 어떤 일을 하는 순서를 찾는 알고리즘입니다.<br>\n",
    "각각의 일의 선후관계가 복잡하게 얽혀있을 때 각각 일의 선후관계를 유지하면서 전체 일의 순서를 짜는 알고리즘입니다.<br>\n",
    "만약 아래와 같은 일의 순서를 각각 지키면서 전체 일의 순서를 정한다면<br>\n",
    "1 4 //1번일을 하고 난 후 4번일을 해야한다.<br>\n",
    "5 4<br>\n",
    "4 3<br>\n",
    "2 5<br>\n",
    "2 3<br>\n",
    "6 2<br>\n",
    "전체 일의 순서는 1, 6, 2, 5, 4, 3과 같이 정할 수 있다. 전체 일의 순서는 여러 가지가 있습니다.<br>\n",
    "그 중에 하나입니다."
   ]
  },
  {
   "cell_type": "markdown",
   "metadata": {},
   "source": [
    "▣ 입력설명<br>\n",
    "첫 번째 줄에 전체 일의 개수 N과 일의 순서 정보의 개수 M이 주어집니다.<br>\n",
    "두 번째 줄부터 M개의 정보가 주어집니다.\n"
   ]
  },
  {
   "cell_type": "markdown",
   "metadata": {},
   "source": [
    "▣ 출력설명<br>\n",
    "전체 일의 순서를 출력합니다.\n"
   ]
  },
  {
   "cell_type": "markdown",
   "metadata": {},
   "source": [
    "▣ 입력예제 1<br>\n",
    "6 6<br>\n",
    "1 4<br>\n",
    "5 4<br>\n",
    "4 3<br>\n",
    "2 5<br>\n",
    "2 3<br>\n",
    "6 2<br>\n",
    "- degree리스트\n",
    "   - 1->4에서 4번 1증가 : 1\n",
    "   - 5->4에서 4번 1증가 : 2\n",
    "   - 4->3에서 3번 1증가 : 1\n",
    "   - 2->5에서 5번 1증가 : 1\n",
    "   - 2->3에서 3번 1증가 : 2\n",
    "   - 6->2에서 5번 1증가 : 1\n",
    "   - 1번과 6번은 진입차수가 없으므로 : 0<br><br>\n",
    "- 큐 활용\n",
    "   - 1번과 6번은 선 작업할 것이 없으므로 0으로 큐에 push\n",
    "\n",
    "   - 1번 pop\n",
    "      - **1**\n",
    "      - 1번 다음 작업인 4번 진입차수를 1감소\n",
    "   - 6번 pop \n",
    "      - **6**\n",
    "      - 6번 다음 작업인 2번 진입차수를 1감소\n",
    "      - 2번 진입차수가 1감소하여 0이 되었으므로 큐에 2번 push\n",
    "   \n",
    "   - 2번 pop\n",
    "      - **2**\n",
    "      - 2번 다음 작업인 3번 진입차수 1감소\n",
    "      - 2번 다음 작업인 5번 진입차수 1감소\n",
    "      - 5번 진입차수가 1감소하여 0이 되었으므로 큐에 5번 push\n",
    "      \n",
    "   - 5번 pop\n",
    "     - **5**\n",
    "     - 5번 다음 작업인 4번 진입차수 1감소\n",
    "     - 4번 진입차수가 1감소하여 0이 되었으므로 큐에 4번 push\n",
    "\n",
    "   - 4번 pop\n",
    "     - **4**\n",
    "     - 4번 다음 작업인 3번 진입차수 1 감소\n",
    "     - 3번 진입차수가 1감소하여 0이 되었으므로 큐에 3번 push\n",
    "   - 3번 pop\n",
    "     - **3**\n",
    "     - 3번 다음 작업은 없으므로 종료<br><br>\n",
    "   - **1 6 2 5 4 3**\n",
    "   "
   ]
  },
  {
   "cell_type": "markdown",
   "metadata": {},
   "source": [
    "\n",
    "▣ 출력예제 1<br>\n",
    "1 6 2 5 4 3"
   ]
  },
  {
   "cell_type": "code",
   "execution_count": 1,
   "metadata": {},
   "outputs": [
    {
     "name": "stdout",
     "output_type": "stream",
     "text": [
      "6 6\n",
      "1 4\n",
      "5 4\n",
      "4 3\n",
      "2 5\n",
      "2 3\n",
      "6 2\n",
      "1 6 2 5 4 3 "
     ]
    }
   ],
   "source": [
    "from collections import deque\n",
    "n, m=map(int, input().split())  # 일의 개수, 일의 순서 정보 개수\n",
    "graph=[[0]*(n+1) for _ in range(n+1)]  # 인접행렬 만들기 위한 그래프 0으로 초기화\n",
    "degree=[0]*(n+1) # 진입차수 count위한 리스트\n",
    "dQ=deque()\n",
    "\n",
    "for i in range(m):\n",
    "    a, b=map(int, input().split()) # a, b입력\n",
    "    graph[a][b]=1 # a에서 b로가는 방향 그래프로 1로 체크\n",
    "    degree[b]+=1  # b진입차수 1증가\n",
    "    \n",
    "for i in range(1, n+1):\n",
    "    if degree[i]==0: # 진입차수가 0인 것을 큐에 push(선 작업이 없는 1번과 6번)\n",
    "        dQ.append(i)\n",
    "        \n",
    "while dQ:\n",
    "    x=dQ.popleft()\n",
    "    print(x, end=' ')\n",
    "    \n",
    "    for i in range(1, n+1):\n",
    "        if graph[x][i]==1: # x에서 i로 진입하느냐?(진입하는 것은 1로 표기했음)\n",
    "            degree[i]-=1 # 진입하는 게 있으면 i의 진입차수 1감소\n",
    "            \n",
    "            if degree[i]==0: # i진입차수 1감소한 후 0이 되면\n",
    "                dQ.append(i) # 큐에 i push"
   ]
  },
  {
   "cell_type": "code",
   "execution_count": null,
   "metadata": {},
   "outputs": [],
   "source": []
  }
 ],
 "metadata": {
  "kernelspec": {
   "display_name": "Python 3",
   "language": "python",
   "name": "python3"
  },
  "language_info": {
   "codemirror_mode": {
    "name": "ipython",
    "version": 3
   },
   "file_extension": ".py",
   "mimetype": "text/x-python",
   "name": "python",
   "nbconvert_exporter": "python",
   "pygments_lexer": "ipython3",
   "version": "3.7.4"
  }
 },
 "nbformat": 4,
 "nbformat_minor": 2
}
