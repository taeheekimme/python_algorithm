{
 "cells": [
  {
   "cell_type": "markdown",
   "metadata": {},
   "source": [
    "밑면이 정사각형인 직육면체 벽돌들을 사용하여 탑을 쌓고자 한다. <br>\n",
    "탑은 벽돌을 한 개씩 아래에서 위로 쌓으면서 만들어 간다. <br>\n",
    "아래의 조건을 만족하면서 가장 높은 탑을 쌓을 수 있는 프로그램을 작성하시오.<br>\n",
    "(조건1) 벽돌은 회전시킬 수 없다. 즉, 옆면을 밑면으로 사용할 수 없다.<br>\n",
    "(조건2) 밑면의 넓이가 같은 벽돌은 없으며, 또한 무게가 같은 벽돌도 없다.<br>\n",
    "(조건3) 벽돌들의 높이는 같을 수도 있다.<br>\n",
    "(조건4) 탑을 쌓을 때 밑면이 좁은 벽돌 위에 밑면이 넓은 벽돌은 놓을 수 없다.<br>\n",
    "(조건5) 무게가 무거운 벽돌을 무게가 가벼운 벽돌 위에 놓을 수 없다.\n"
   ]
  },
  {
   "cell_type": "markdown",
   "metadata": {},
   "source": [
    "▣ 입력설명<br>\n",
    "입력 파일의 첫째 줄에는 입력될 벽돌의 수가 주어진다. <br>\n",
    "입력으로 주어지는 벽돌의 수는 최대 100개이다. <br>\n",
    "둘째 줄부터는 각 줄에 한 개의 벽돌에 관한 정보인 벽돌 밑면의 넓이, 벽돌의 높이 그리고 무게가 차례대로 양의 정수로 주어진다. <br>\n",
    "각 벽돌은 입력되는 순서대로 1부터 연속적인 번호를 가진다. <br>\n",
    "벽돌의 넓이, 높이 무게는 10,000보다 작거나 같은 자연수이다.\n"
   ]
  },
  {
   "cell_type": "markdown",
   "metadata": {},
   "source": [
    "▣ 출력설명<br>\n",
    "첫 번째 줄에 가장 높이 쌓을 수 있는 탑의 높이를 출력한다.\n"
   ]
  },
  {
   "cell_type": "markdown",
   "metadata": {},
   "source": [
    "▣ 입력예제 1<br>\n",
    "5<br>\n",
    "25 3 4<br>\n",
    "4 4 6<br>\n",
    "9 2 3<br>\n",
    "16 2 5<br>\n",
    "1 5 2\n",
    "- 벽돌 5개\n",
    "- 밑면 S, 높이 H, 무게 W가 벽돌 1개의 정보로 0 ~ 4번 인덱스까지 5개 벽돌 정보 입력\n",
    "   - 밑면 기준으로 내림차순 정렬되어 있으므로 무게도 내림차순으로 벽돌 쌓아가야 함\n",
    "- dy[a] : 2번 벽돌이 제일 위에 위치할 때, 탑의 최대 높이<br><br>\n",
    "\n",
    "- dy[0] : 0번 벽돌이 제일 위에 위치할 때, 첫 벽돌이라 1개만 있으므로 단독으로 쌓음     \n",
    "    - 높이 3\n",
    "- dy[1] : 1번 벽돌이 제일 위에 위치할 때, 0번 벽돌 무게 < 1번 벽돌 무게이므로 쌓을 수 없으니 1번 벽돌 하나만 쌓음\n",
    "    - 높이 2\n",
    "- dy[2] : 2번 벽돌이 제일 위에 위치할 때, 0,1번 벽돌 무게 > 2번 벽돌이므로 0,1번 중 가장 높은 0번 벽돌 위에 쌓음\n",
    "    - 높이 5\n",
    "- dy[3] : 3번 벽돌이 제일 위에 위치할 때, 0,1,2번 벽돌 무게 < 3번 벽돌이므로 단독으로 쌓음\n",
    "    - 높이 4\n",
    "- dy[4] : 4번 벽돌이 제일 위에 위치할 때, 0,1,2,3번 벽돌 무게 > 4번 벽돌이므로 이 중 현재 누적한 높이가 최대인 2번 벽돌 위에 쌓음\n",
    "    - 높이 10 "
   ]
  },
  {
   "cell_type": "markdown",
   "metadata": {},
   "source": [
    "▣ 출력예제 1<br>\n",
    "10"
   ]
  },
  {
   "cell_type": "code",
   "execution_count": 1,
   "metadata": {},
   "outputs": [
    {
     "name": "stdout",
     "output_type": "stream",
     "text": [
      "5\n",
      "25 3 4\n",
      "4 4 6\n",
      "9 2 3\n",
      "16 2 5\n",
      "1 5 2\n",
      "10\n"
     ]
    }
   ],
   "source": [
    "if __name__==\"__main__\":\n",
    "    n=int(input())\n",
    "    bricks=[]\n",
    "    \n",
    "    \n",
    "    for i in range(n):\n",
    "        a, b, c=map(int, input().split()) # 벽돌의 밑면, 높이, 무게를 a, b, c에 입력\n",
    "        bricks.append((a, b, c)) # 튜플 형태로 a,b,c에 입력\n",
    "    \n",
    "    bricks.sort(reverse=True)   # 벽돌을 첫번째 자료인 a를 기준으로 내림차순 정렬\n",
    "    dy=[0]*n  # dy리스트 0으로 초기화\n",
    "    dy[0]=bricks[0][1] # 0번 벽돌이 첫 벽돌로 벽돌이 1개만 있을 때, [0]번 벽돌이며 [1]은 튜플 순서로 높이를 나타냄 -> 0번 벽돌 높이가 초기값\n",
    "    res=bricks[0][1];  # res도 0번 벽돌의 높이로 입력\n",
    "\n",
    "    \n",
    "    for i in range(1, n): # 1번 벽돌부터 순환(0번벽돌은 초기값으로 설정했으므로)\n",
    "        max_h=0; \n",
    "        \n",
    "        for j in range(i-1, -1, -1): # i번째 벽돌은 제일 상단에 위치한 벽돌, j는 i번째 벽돌 밑의 벽돌\n",
    "            if bricks[j][2]>bricks[i][2] and dy[j]>max_h: # j번째 벽돌 무게 > i번째 벽돌 무게여야 탑을 쌓을 수 있음 and j번째 벽돌 중 가장 큰 값을 찾음\n",
    "                max_h=dy[j]  # j번째 중 큰 값을 최대값으로 변경\n",
    "                \n",
    "        dy[i]=max_h+bricks[i][1] # j번째 벽돌이 위에 있을 때 탑의 높이 + i번째 벽돌의 높이를 더해줘야 함\n",
    "        res=max(res, dy[i]) # res값은 res와 i값 중 max값을 입력\n",
    "        \n",
    "        \n",
    "    print(res)"
   ]
  },
  {
   "cell_type": "code",
   "execution_count": null,
   "metadata": {},
   "outputs": [],
   "source": []
  }
 ],
 "metadata": {
  "kernelspec": {
   "display_name": "Python 3",
   "language": "python",
   "name": "python3"
  },
  "language_info": {
   "codemirror_mode": {
    "name": "ipython",
    "version": 3
   },
   "file_extension": ".py",
   "mimetype": "text/x-python",
   "name": "python",
   "nbconvert_exporter": "python",
   "pygments_lexer": "ipython3",
   "version": "3.7.4"
  }
 },
 "nbformat": 4,
 "nbformat_minor": 2
}
