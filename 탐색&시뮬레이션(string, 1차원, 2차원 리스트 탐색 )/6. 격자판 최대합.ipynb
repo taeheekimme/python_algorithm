{
 "cells": [
  {
   "cell_type": "markdown",
   "metadata": {},
   "source": [
    "N*N의 격자판이 주어지면 각 행의 합, 각 열의 합, 두 대각선의 합 중 가 장 큰 합을 출력합니다.\n"
   ]
  },
  {
   "cell_type": "markdown",
   "metadata": {},
   "source": [
    "▣ 입력설명<br>\n",
    "첫 줄에 자연수 N이 주어진다.(1<=N<=50) <br>\n",
    "두 번째 줄부터 N줄에 걸쳐 각 줄에 N개의 자연수가 주어진다. 각 자연수는 100을 넘지 않는다.\n"
   ]
  },
  {
   "cell_type": "markdown",
   "metadata": {},
   "source": [
    "▣ 출력설명<br>\n",
    "최대합을 출력합니다.\n"
   ]
  },
  {
   "cell_type": "markdown",
   "metadata": {},
   "source": [
    "▣ 입력예제 1<br>\n",
    "5<br>\n",
    "10 13 10 12 15<br>\n",
    "12 39 30 23 11<br>\n",
    "11 25 50 53 15<br>\n",
    "19 27 29 37 27<br>\n",
    "19 13 30 13 19<br>\n",
    "- 격자판을 2차원 리스트로 읽어와야 함\n"
   ]
  },
  {
   "cell_type": "markdown",
   "metadata": {},
   "source": [
    "▣ 출력예제 1<br>\n",
    "155"
   ]
  },
  {
   "cell_type": "code",
   "execution_count": 2,
   "metadata": {},
   "outputs": [
    {
     "name": "stdout",
     "output_type": "stream",
     "text": [
      "5\n",
      "10 13 10 12 15\n",
      "12 39 30 23 11\n",
      "11 25 50 53 15\n",
      "19 27 29 37 27\n",
      "19 13 30 13 19\n",
      "155\n"
     ]
    }
   ],
   "source": [
    "n=int(input())\n",
    "\n",
    "# 격자판\n",
    "a=[list(map(int, input().split())) for _ in range(n)]   # list(map(int, input().split()))을 변수없이 n번 반복 -> 1행, 2행 ~ 가져옴\n",
    "\n",
    "# 최대값 초기화를 가장 작은 값으로 \n",
    "largest=-2147000000\n",
    "\n",
    "### 행과 열의 최대값 \n",
    "for i in range(n):    # 먼저 i가 0이라면\n",
    "    \n",
    "    sum1=sum2=0       # 행의 합 sum1 = 열의 합 sum 2 -> 0으로 초기화\n",
    "    \n",
    "    for j in range(n):\n",
    "        sum1+=a[i][j]  # 0행 0열~4열까지 더함\n",
    "        sum2+=a[j][i]  # 0열 0행~4행까지 더함\n",
    "        \n",
    "    if sum1>largest:\n",
    "        largest=sum1  # 최대값은 sum1으로 변경\n",
    "        \n",
    "    if sum2>largest:\n",
    "        largest=sum2  # 최대값은 sum2로 변경\n",
    "        \n",
    "        \n",
    "# 대각선 합을 구하기 위해 초기화\n",
    "sum1=sum2=0\n",
    "\n",
    "### 대각선 합 \n",
    "for i in range(n):\n",
    "    sum1+=a[i][i]      # 0행 0열\n",
    "    sum2+=a[i][n-i-1]  # sum1과의 반대 대각선\n",
    "    \n",
    "if sum1>largest:\n",
    "    largest=sum1\n",
    "    \n",
    "if sum2>largest:\n",
    "    largest=sum2\n",
    "    \n",
    "print(largest)\n"
   ]
  },
  {
   "cell_type": "code",
   "execution_count": null,
   "metadata": {},
   "outputs": [],
   "source": []
  }
 ],
 "metadata": {
  "kernelspec": {
   "display_name": "Python 3",
   "language": "python",
   "name": "python3"
  },
  "language_info": {
   "codemirror_mode": {
    "name": "ipython",
    "version": 3
   },
   "file_extension": ".py",
   "mimetype": "text/x-python",
   "name": "python",
   "nbconvert_exporter": "python",
   "pygments_lexer": "ipython3",
   "version": "3.7.4"
  }
 },
 "nbformat": 4,
 "nbformat_minor": 2
}
