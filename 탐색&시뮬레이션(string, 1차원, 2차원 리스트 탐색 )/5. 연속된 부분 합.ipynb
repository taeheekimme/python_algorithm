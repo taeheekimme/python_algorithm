{
 "cells": [
  {
   "cell_type": "markdown",
   "metadata": {},
   "source": [
    "N개의 수로 된 수열 A[1], A[2], …, A[N] 이 있다. <br>\n",
    "이 수열의 i번째 수부터 j번째 수까지의합 A[i]+A[i+1]+…+A[j-1]+A[j]가 M이 되는 경우의 수를 구하는 프로그램을 작성하시오.\n",
    "- 연속적인 부분수열의 합이 M이 되는 경우의 수를 구하라\n"
   ]
  },
  {
   "cell_type": "markdown",
   "metadata": {},
   "source": [
    "▣ 입력설명<br>\n",
    "첫째 줄에 N(1≤N≤10,000), M(1≤M≤300,000,000)이 주어진다. <br>\n",
    "다음 줄에는 A[1], A[2], …,A[N]이 공백으로 분리되어 주어진다. 각각의 A[x]는 30,000을 넘지 않는 자연수이다.\n"
   ]
  },
  {
   "cell_type": "markdown",
   "metadata": {},
   "source": [
    "▣ 출력설명<br>\n",
    "첫째 줄에 경우의 수를 출력한다.\n"
   ]
  },
  {
   "cell_type": "markdown",
   "metadata": {},
   "source": [
    "▣ 입력예제 1<br>\n",
    "8 3<br>\n",
    "1 2 1 3 1 1 1 2\n",
    "- 8개의 숫자가 주어지고, 연속적인 부분합이 3이 되는 경우"
   ]
  },
  {
   "cell_type": "markdown",
   "metadata": {},
   "source": [
    "▣ 출력예제 1<br>\n",
    "5"
   ]
  },
  {
   "cell_type": "code",
   "execution_count": 1,
   "metadata": {},
   "outputs": [
    {
     "name": "stdout",
     "output_type": "stream",
     "text": [
      "8 3\n",
      "1 2 1 3 1 1 1 2\n",
      "5\n"
     ]
    }
   ],
   "source": [
    "n, m=map(int, input().split())\n",
    "a=list(map(int, input().split()))   # 수열 입력받을 리스트\n",
    "\n",
    "lt=0      # 왼쪽 포인터: 인덱스0\n",
    "rt=1      # 오른쪽 포인터: 인덱스1\n",
    "tot=a[0]  # 연속 부분의 합(lt~rt-1까지의 합), tot=a[0]은 lt값인 1\n",
    "\n",
    "cnt=0     # m과 같아질 경우 count\n",
    "\n",
    "\n",
    "while True:\n",
    "    \n",
    "    if tot<m:    ### 1 < 3 (tot가 커지기위해 rt를 더해줌)\n",
    "        \n",
    "        if rt<n:     ## rt<n까지만 실행\n",
    "            tot+=a[rt]  # tot = 1(lt) + 2(rt) = 3\n",
    "            rt+=1       # rt 오른쪽으로 한 칸 이동\n",
    "            \n",
    "        else:       ## rt=n인경우\n",
    "            break   ## 종료\n",
    "            \n",
    "    elif tot==m:  ### tot가 3으로 m과 같아짐\n",
    "        cnt+=1         # 같은 경우 count해 둠\n",
    "        tot-=a[lt]     # tot = 1 + 2에서 lt값 1을 빼줌\n",
    "        lt+=1          # lt 오른쪽으로 한칸 이동\n",
    "        \n",
    "    else:         ### tot > m\n",
    "        tot-=a[lt]     # tot = 1 + 3이 되면 lt값 1을 빼줌\n",
    "        lt+=1          # lt 오른쪽으로 한칸 이동\n",
    "        \n",
    "print(cnt)"
   ]
  },
  {
   "cell_type": "code",
   "execution_count": null,
   "metadata": {},
   "outputs": [],
   "source": []
  }
 ],
 "metadata": {
  "kernelspec": {
   "display_name": "Python 3",
   "language": "python",
   "name": "python3"
  },
  "language_info": {
   "codemirror_mode": {
    "name": "ipython",
    "version": 3
   },
   "file_extension": ".py",
   "mimetype": "text/x-python",
   "name": "python",
   "nbconvert_exporter": "python",
   "pygments_lexer": "ipython3",
   "version": "3.7.4"
  }
 },
 "nbformat": 4,
 "nbformat_minor": 2
}
