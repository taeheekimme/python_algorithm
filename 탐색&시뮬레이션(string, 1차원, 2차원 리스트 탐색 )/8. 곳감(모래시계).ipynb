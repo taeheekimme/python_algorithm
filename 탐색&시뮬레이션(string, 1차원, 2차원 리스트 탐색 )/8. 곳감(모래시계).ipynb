{
 "cells": [
  {
   "cell_type": "markdown",
   "metadata": {},
   "source": [
    "현수는 곳감을 만들기 위해 감을 깍아 마당에 말리고 있습니다. <br>\n",
    "현수의 마당은 N*N 격자판으로 이루어져 있으며, 현수는 각 격자단위로 말리는 감의 수를 정합니다.<br>\n",
    "그런데 해의 위치에 따라 특정위치의 감은 잘 마르지 않습니다. <br>\n",
    "그래서 현수는 격자의 행을 기준으로 왼쪽, 또는 오른쪽으로 회전시켜 위치를 변경해 모든 감이 잘 마르게 합니다.<br>\n",
    "만약 회전명령 정보가 2 0 3이면 2번째 행을 왼쪽으로 3만큼 회전시키는 명령입니다.<br>\n",
    "첫 번째 수는 행번호, 두 번째 수는 방향인데 0이면 왼쪽, 1이면 오른쪽이고, 세 번째 수는 회전하는 격자의 수입니다.<br>\n",
    "M개의 회전명령을 실행하고 난 후 아래와 같이 마당의 모래시계 모양의 영역에는 감이 총 몇 개가 있는지 출력하는 프로그램을 작성하세요.<br>"
   ]
  },
  {
   "cell_type": "markdown",
   "metadata": {},
   "source": [
    "▣ 입력설명<br>\n",
    "첫 줄에 자연수 N(3<=N<=20) 이 주어며, N은 홀수입니다.<br>\n",
    "두 번째 줄부터 N줄에 걸쳐 각 줄에 N개의 자연수가 주어진다.<br>\n",
    "이 자연수는 각 격자안에 있는 감의 개수이며, 각 격자안의 감의 개수는 100을 넘지 않는다.<br>\n",
    "그 다음 줄에 회전명령의 개수인 M(1<=M<=10)이 주어지고, 그 다음 줄부터 M개의 회전 명령 정보가 M줄에 걸쳐 주어집니다."
   ]
  },
  {
   "cell_type": "markdown",
   "metadata": {},
   "source": [
    "▣ 출력설명<br>\n",
    "총 감의 개수를 출력합니다."
   ]
  },
  {
   "cell_type": "markdown",
   "metadata": {},
   "source": [
    "▣ 입력예제 1<br>\n",
    "5<br>\n",
    "10 13 10 12 15<br>\n",
    "12 39 30 23 11<br>\n",
    "11 25 50 53 15<br>\n",
    "19 27 29 37 27<br>\n",
    "19 13 30 13 19<br>\n",
    "3<br>\n",
    "2 0 3<br>\n",
    "5 1 2<br>\n",
    "3 1 4\n",
    "- 5행 5열 \n",
    "- 3은 회전명령 정보가 3개 들어왔다는 것\n",
    "- 2 0 3 : 2행을 왼쪽방향으로 3칸 이동\n",
    "- 이동한 후의 모래시계 모양으로 합계를 구함 -> 모래시계와는 s와 e가 반대로 이동"
   ]
  },
  {
   "cell_type": "markdown",
   "metadata": {},
   "source": [
    "▣ 출력예제 1<br>\n",
    "362"
   ]
  },
  {
   "cell_type": "code",
   "execution_count": 1,
   "metadata": {},
   "outputs": [
    {
     "name": "stdout",
     "output_type": "stream",
     "text": [
      "5\n",
      "10 13 10 12 15\n",
      "12 39 30 23 11\n",
      "11 25 50 53 15\n",
      "19 27 29 37 27\n",
      "19 13 30 13 19\n",
      "3\n",
      "2 0 3\n",
      "5 1 2\n",
      "3 1 4\n",
      "362\n"
     ]
    }
   ],
   "source": [
    "# 5\n",
    "n=int(input())\n",
    "\n",
    "# 5행 5열을 2차원 리스트 a에 받음\n",
    "a=[list(map(int, input().split())) for _ in range(n)]\n",
    "\n",
    "# 회전명령 정보\n",
    "m=int(input())\n",
    "\n",
    "for i in range(m):\n",
    "    \n",
    "    h, t, k=map(int, input().split())  # h:행번호, t:방향, k:이동 / 2 0 3 입력\n",
    "    \n",
    "    ### 회전반향\n",
    "    if(t==0): # 왼쪽방향\n",
    "        \n",
    "        for _ in range(k): # k번 시행\n",
    "            a[h-1].append(a[h-1].pop(0))   # a[h-1]해야 2행이 선택됨(1행 인덱스는 0이므로)\n",
    "                                           # pop(0)하면 0번 인덱스 값이 추출됨\n",
    "                                           # a[h-1]에 append하여 나머지 값들 이동\n",
    "    else:  # 오른쪽방향\n",
    "        \n",
    "        for _ in range(k):\n",
    "            a[h-1].insert(0, a[h-1].pop())  # 2행의 마지막값을 추출해 맨 앞으로 이동\n",
    "                                            # pop()에 변수를 안주면 마지막 값 추출                            \n",
    "                                            # insert하여 0번 자리에 추출한 값 삽입\n",
    "\n",
    "### 모래시계 코드와 같음(단, 반대로)                    \n",
    "res=0\n",
    "s=0   # 0부터 \n",
    "e=n-1 # 4까지\n",
    "\n",
    "for i in range(n):\n",
    "    \n",
    "    for j in range(s, e+1):\n",
    "        res+=a[i][j]   # 0~4까지 선택\n",
    "        \n",
    "    if i<n//2: # 1~3까지 선택, 2선택\n",
    "        s+=1  \n",
    "        e-=1\n",
    "        \n",
    "    else:     # 1~3까지 선택, 0~4까지 선택\n",
    "        s-=1\n",
    "        e+=1\n",
    "        \n",
    "print(res)\n"
   ]
  },
  {
   "cell_type": "code",
   "execution_count": null,
   "metadata": {},
   "outputs": [],
   "source": []
  }
 ],
 "metadata": {
  "kernelspec": {
   "display_name": "Python 3",
   "language": "python",
   "name": "python3"
  },
  "language_info": {
   "codemirror_mode": {
    "name": "ipython",
    "version": 3
   },
   "file_extension": ".py",
   "mimetype": "text/x-python",
   "name": "python",
   "nbconvert_exporter": "python",
   "pygments_lexer": "ipython3",
   "version": "3.7.4"
  }
 },
 "nbformat": 4,
 "nbformat_minor": 2
}
