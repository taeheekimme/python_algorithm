{
 "cells": [
  {
   "cell_type": "markdown",
   "metadata": {},
   "source": [
    "스도쿠는 매우 간단한 숫자 퍼즐이다. <br>\n",
    "9×9 크기의 보드가 있을 때, 각 행과 각 열, 그리고 9개의 3×3 크기의 보드에 1부터 9까지의 숫자가 중복 없이 나타나도록 보드를 채우면 된다.<br>\n",
    "예를 들어 다음을 보자.위 그림은 스도쿠를 정확하게 푼 경우이다. <br>\n",
    "각 행에 1부터 9까지의 숫자가 중복 없이 나오고, 각 열에 1부터 9까지의 숫자가 중복 없이 나오고, <br>\n",
    "각 3×3짜리 사각형(9개이며, 위에서 색깔로 표시되었다)에 1부터 9까지의 숫자가 중복 없이 나오기 때문이다.<br>\n",
    "완성된 9×9 크기의 수도쿠가 주어지면 정확하게 풀었으면 “YES\", 잘 못 풀었으면 ”NO\"를 출력하는 프로그램을 작성하세요.\n",
    "- 행과 열에 각각 숫자가 중복되면 NO, 중복안되면 YES"
   ]
  },
  {
   "cell_type": "markdown",
   "metadata": {},
   "source": [
    "▣ 입력설명<br>\n",
    "첫 번째 줄에 완성된 9×9 스도쿠가 주어집니다.\n"
   ]
  },
  {
   "cell_type": "markdown",
   "metadata": {},
   "source": [
    "▣ 출력설명<br>\n",
    "첫째 줄에 “YES\" 또는 ”NO\"를 출력하세요."
   ]
  },
  {
   "cell_type": "markdown",
   "metadata": {},
   "source": [
    "▣ 입력예제 1<br>\n",
    "1 4 3 6 2 8 5 7 9<br>\n",
    "5 7 2 1 3 9 4 6 8<br>\n",
    "9 8 6 7 5 4 2 3 1<br>\n",
    "3 9 1 5 4 2 7 8 6<br>\n",
    "4 6 8 9 1 7 3 5 2<br>\n",
    "7 2 5 8 6 3 9 1 4<br>\n",
    "2 3 7 4 8 1 6 9 5<br>\n",
    "6 1 9 2 7 5 8 4 3<br>\n",
    "8 5 4 3 9 6 1 2 7<br>\n"
   ]
  },
  {
   "cell_type": "markdown",
   "metadata": {},
   "source": [
    "▣ 출력예제 1<br>\n",
    "YES"
   ]
  },
  {
   "cell_type": "code",
   "execution_count": 1,
   "metadata": {},
   "outputs": [
    {
     "name": "stdout",
     "output_type": "stream",
     "text": [
      "1 4 3 6 2 8 5 7 9\n",
      "5 7 2 1 3 9 4 6 8\n",
      "9 8 6 7 5 4 2 3 1\n",
      "3 9 1 5 4 2 7 8 6\n",
      "4 6 8 9 1 7 3 5 2\n",
      "7 2 5 8 6 3 9 1 4\n",
      "2 3 7 4 8 1 6 9 5\n",
      "6 1 9 2 7 5 8 4 3\n",
      "8 5 4 3 9 6 1 2 7\n",
      "YES\n"
     ]
    }
   ],
   "source": [
    "# 행을 체크하는 리스트  \n",
    "# 열을 체크하는 리스트  \n",
    "# 3*3 그룹을 체크하는 리스트\n",
    "\n",
    "def check(a):\n",
    "    \n",
    "    ### 행과 열을 체크하는 리스트\n",
    "    for i in range(9):\n",
    "        ch1=[0]*10         # 행 리스트  # 0으로 채워진 10칸 1차원 리스트 생성\n",
    "        ch2=[0]*10         # 열 리스트\n",
    "    \n",
    "        for j in range(9): \n",
    "            ch1[a[i][j]]=1  # 0행의 1~9열까지 확인(1줄씩 확인)  # [a[0][0]]에 1~9숫자가 적혀 있으면 1로 체크 -> 리스트가 1로 채워짐 \n",
    "            ch2[a[j][i]]=1  # 0열의 1~9행까지 확인(1열씩 확인)\n",
    "            \n",
    "        if sum(ch1)!=9 or sum(ch2)!=9:  # 9칸에 1이 다 적혀서 더한 값이 9가되면 1~9까지 중복없는 것\n",
    "                                        # 9칸을 더해서 9가 아니면 1이 체크되지 않은 빈칸이 존재한다는 것\n",
    "            return False\n",
    "        \n",
    "        \n",
    "        \n",
    "    ### 3*3 그룹을 체크하는 리스트(4중 for문)\n",
    "    ## 9개의 그룹을 확인\n",
    "    for i in range(3):     # i가 0일때 \n",
    "        for j in range(3): # j는 0,1, 2해서 총 3*3해서 9번 반복\n",
    "            ch3=[0]*10 \n",
    "            \n",
    "            ## 9개 그룹 중 한 그룹씩 개별 숫자 확인\n",
    "               \n",
    "            for k in range(3):  # i와 j가 0이라면 첫번째 그룹\n",
    "                for s in range(3):\n",
    "                    ch3[a[i*3+k][j*3+s]]=1  # k(행)가 0일 때 s(열)는 0,1,2 이므로 한줄 모두 1로 체크\n",
    "           \n",
    "           if sum(ch3)!=9:\n",
    "                \n",
    "                return False  # 합이 9가 안되어 중복이 있으므로 False 반환\n",
    "            \n",
    "    return True # 합이 9가 나오면 중복이 없으므로 True 반환\n",
    "\n",
    "\n",
    "\n",
    "a=[list(map(int, input().split())) for _ in range(9)]\n",
    "\n",
    "if check(a):\n",
    "    print(\"YES\")\n",
    "else:\n",
    "    print(\"NO\")"
   ]
  },
  {
   "cell_type": "code",
   "execution_count": null,
   "metadata": {},
   "outputs": [],
   "source": []
  }
 ],
 "metadata": {
  "kernelspec": {
   "display_name": "Python 3",
   "language": "python",
   "name": "python3"
  },
  "language_info": {
   "codemirror_mode": {
    "name": "ipython",
    "version": 3
   },
   "file_extension": ".py",
   "mimetype": "text/x-python",
   "name": "python",
   "nbconvert_exporter": "python",
   "pygments_lexer": "ipython3",
   "version": "3.7.4"
  }
 },
 "nbformat": 4,
 "nbformat_minor": 2
}
