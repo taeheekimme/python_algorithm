{
 "cells": [
  {
   "cell_type": "markdown",
   "metadata": {},
   "source": [
    "현수의 농장은 N*N 격자판으로 이루어져 있으며, 각 격자안에는 한 그루의 사과나무가 심어져 있다. <br>\n",
    "N의 크기는 항상 홀수이다. <br>\n",
    "가을이 되어 사과를 수확해야 하는데 <br>\n",
    "현수는 격자판안의 사과를 수확할 때 다이아몬드 모양의 격자판만 수확하고 나머지 격자안의 사과는 새들을 위해서 남겨놓는다.<br>\n",
    "현수과 수확하는 사과의 총 개수를 출력하세요.\n",
    "\n",
    "- 다이아몬드 모양으로 합해주면 됨"
   ]
  },
  {
   "cell_type": "markdown",
   "metadata": {},
   "source": [
    "▣ 입력설명<br>\n",
    "첫 줄에 자연수 N(홀수)이 주어진다.(3<=N<=20)<br>\n",
    "두 번째 줄부터 N줄에 걸쳐 각 줄에 N개의 자연수가 주어진다.<br>\n",
    "이 자연수는 각 격자안에 있는 사과나무에 열린 사과의 개수이다.<br>\n",
    "각 격자안의 사과의 개수는 100을 넘지 않는다.<br>\n"
   ]
  },
  {
   "cell_type": "markdown",
   "metadata": {},
   "source": [
    "▣ 출력설명<br>\n",
    "수확한 사과의 총 개수를 출력합니다.\n"
   ]
  },
  {
   "cell_type": "markdown",
   "metadata": {},
   "source": [
    "▣ 입력예제 1<br>\n",
    "5<br>\n",
    "10 13 10 12 15<br>\n",
    "12 39 30 23 11<br>\n",
    "11 25 50 53 15<br>\n",
    "19 27 29 37 27<br>\n",
    "19 13 30 13 19\n"
   ]
  },
  {
   "cell_type": "markdown",
   "metadata": {},
   "source": [
    "▣ 출력예제 1<br>\n",
    "379"
   ]
  },
  {
   "cell_type": "code",
   "execution_count": 1,
   "metadata": {},
   "outputs": [
    {
     "name": "stdout",
     "output_type": "stream",
     "text": [
      "5\n",
      "10 13 10 12 15\n",
      "12 39 30 23 11\n",
      "11 25 50 53 15\n",
      "19 27 29 37 27\n",
      "19 13 30 13 19\n",
      "379\n"
     ]
    }
   ],
   "source": [
    "n=int(input())\n",
    "a=[list(map(int, input().split())) for _ in range(n)]\n",
    "\n",
    "# 합계\n",
    "res=0\n",
    "\n",
    "s=e=n//2  # start 변수, end 변수를 n//2로 초기화\n",
    "          # 5//2 = 2로 초기화 -> i가 0일때 j는 2~2까지 돌아서 0행 2열 선택\n",
    "          # 이후 s는 1감소, e는 1증가하여 1열 ~ 3열로 세칸 선택됨\n",
    "\n",
    "for i in range(n):  \n",
    "    \n",
    "    for j in range(s, e+1):  # s~e까지 j가 돔\n",
    "        res+=a[i][j]  \n",
    "        \n",
    "    if i<n//2:  # i<n//2이 되면 s와 e 크기 조절\n",
    "        \n",
    "        s-=1  # 1감소\n",
    "        e+=1  # 1증가\n",
    "              # j가 s~e까지 돌면서 둘째줄 3개 선택, 세번째줄 5개 선택\n",
    "            \n",
    "    else:     # 세번째 줄 5개 선택되면 다시 역으로 돌아가면서 s와 e 크기 줄어듬\n",
    "        s+=1  # 1증가\n",
    "        e-=1  # 1감소\n",
    "              # j가 s~e까지 돌면 네번째 줄 3개선택, 다섯번째 줄 1개 선택\n",
    "print(res)\n"
   ]
  },
  {
   "cell_type": "code",
   "execution_count": null,
   "metadata": {},
   "outputs": [],
   "source": []
  }
 ],
 "metadata": {
  "kernelspec": {
   "display_name": "Python 3",
   "language": "python",
   "name": "python3"
  },
  "language_info": {
   "codemirror_mode": {
    "name": "ipython",
    "version": 3
   },
   "file_extension": ".py",
   "mimetype": "text/x-python",
   "name": "python",
   "nbconvert_exporter": "python",
   "pygments_lexer": "ipython3",
   "version": "3.7.4"
  }
 },
 "nbformat": 4,
 "nbformat_minor": 2
}
