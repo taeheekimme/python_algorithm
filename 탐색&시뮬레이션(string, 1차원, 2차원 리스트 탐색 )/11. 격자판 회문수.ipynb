{
 "cells": [
  {
   "cell_type": "markdown",
   "metadata": {},
   "source": [
    "1부터 9까지의 자연수로 채워진 7*7 격자판이 주어지면 격자판 위에서 가로방향 또는 <br>\n",
    "세로방향으로 길이 5자리 회문수가 몇 개 있는지 구하는 프로그램을 작성하세요. <br>\n",
    "회문수란 121과 같이 앞에서부터 읽으나 뒤에서부터 읽으나 같은 수를 말합니다. <br>\n",
    "- 행과 열로 5자리를 골라 읽었을 때 읽으나 뒤에서부터 읽으나 같은 수"
   ]
  },
  {
   "cell_type": "markdown",
   "metadata": {},
   "source": [
    "▣ 입력설명 <br>\n",
    "1부터 9까지의 자연수로 채워진 7*7격자판이 주어집니다."
   ]
  },
  {
   "cell_type": "markdown",
   "metadata": {},
   "source": [
    "▣ 출력설명 <br>\n",
    "5자리 회문수의 개수를 출력합니다."
   ]
  },
  {
   "cell_type": "markdown",
   "metadata": {},
   "source": [
    "▣ 입력예제 1 <br>\n",
    "2 4 1 5 3 2 6 <br>\n",
    "3 5 1 8 7 1 7 <br>\n",
    "8 3 2 7 1 3 8 <br>\n",
    "6 1 2 3 2 1 1 <br>\n",
    "1 3 1 3 5 3 2 <br>\n",
    "1 1 2 5 6 5 2 <br>\n",
    "1 2 2 2 2 1 5 <br>\n"
   ]
  },
  {
   "cell_type": "markdown",
   "metadata": {},
   "source": [
    "▣ 출력예제 1 <br>\n",
    "3"
   ]
  },
  {
   "cell_type": "code",
   "execution_count": 1,
   "metadata": {},
   "outputs": [
    {
     "name": "stdout",
     "output_type": "stream",
     "text": [
      "2 4 1 5 3 2 6 \n",
      "3 5 1 8 7 1 7\n",
      "8 3 2 7 1 3 8 \n",
      "6 1 2 3 2 1 1 \n",
      "1 3 1 3 5 3 2 \n",
      "1 1 2 5 6 5 2\n",
      "1 2 2 2 2 1 5 \n",
      "3\n"
     ]
    }
   ],
   "source": [
    "# board라는 2차원 리스트로 7자리 수를 입력받음\n",
    "board=[list(map(int, input().split())) for _ in range(7)]\n",
    "\n",
    "# 개수 세기 위함\n",
    "cnt=0\n",
    "\n",
    "### i는 5칸을 나누는 것\n",
    "for i in range(3):      # 0,1,2로 3바퀴 반복하면 됨\n",
    "                        # 0부터 시작해서 5칸, 1부터 시작해서 5칸, 2부터 시작해서 5칸, 3부터는 5칸을 채울 수 없음\n",
    "    ### j는 행\n",
    "    for j in range(7):       # 7행까지 돌아야하므로 7바퀴 반복\n",
    "        tmp=board[j][i:i+5]  # j와 i가 0이면 0행의 0~4까지 5칸\n",
    "        \n",
    "        ### 회문인지 확인\n",
    "        if tmp==tmp[::-1]: # tmp[::-1]:tmp 역순\n",
    "            cnt+=1         # 회문이면 count\n",
    "            \n",
    "            \n",
    "        ### 회문이 행뿐만 아니라 열도 가능하므로 아래로도 5칸인지 확인해야 함  \n",
    "        ### 행은 리스트로 이뤄어져 슬라이스가 가능하지만 열은 리스트가 아니므로 슬라이스 불가능 -> for문 사용\n",
    "        for k in range(2): # 5자리면 5//2 = 2바퀴만 돌면 확인가능 함\n",
    "            \n",
    "            if board[i+k][j]!=board[i+5-k-1][j]:  # i와 j가 0인 경우 1열에서 0칸 = 1열에서 4칸인지 확인 (서로 짝을 이루어 같은지 확인함)\n",
    "                \n",
    "                break # 회문이 아닌 경우 break\n",
    "                \n",
    "        else:       # 회문인 경우 \n",
    "            cnt+=1  #  count\n",
    "        \n",
    "print(cnt)\n"
   ]
  },
  {
   "cell_type": "markdown",
   "metadata": {},
   "source": [
    "#### 회문의 길이가 가변적일 때 코드"
   ]
  },
  {
   "cell_type": "code",
   "execution_count": null,
   "metadata": {},
   "outputs": [],
   "source": [
    "board=[list(map(int, input().split())) for _ in range(7)]\n",
    "cnt=0\n",
    "len=5\n",
    "\n",
    "for i in range(3):\n",
    "    for j in range(7):\n",
    "        tmp=board[j][i:i+len]\n",
    "        \n",
    "        if tmp==tmp[::-1]:\n",
    "            cnt+=1\n",
    "        #tmp=board[i:i+5][j] 앞 행은 리스트가 아니라서 슬라이스가 안된다.\n",
    "        \n",
    "        for k in range(len//2):\n",
    "            if board[i+k][j]!=board[len-k+i-1][j]:\n",
    "                break;\n",
    "        else:\n",
    "            cnt+=1\n",
    "        \n",
    "print(cnt)"
   ]
  }
 ],
 "metadata": {
  "kernelspec": {
   "display_name": "Python 3",
   "language": "python",
   "name": "python3"
  },
  "language_info": {
   "codemirror_mode": {
    "name": "ipython",
    "version": 3
   },
   "file_extension": ".py",
   "mimetype": "text/x-python",
   "name": "python",
   "nbconvert_exporter": "python",
   "pygments_lexer": "ipython3",
   "version": "3.7.4"
  }
 },
 "nbformat": 4,
 "nbformat_minor": 2
}
