{
 "cells": [
  {
   "cell_type": "markdown",
   "metadata": {},
   "source": [
    "1부터 20까지 숫자가 하나씩 쓰인 20장의 카드가 아래 그림과 같이 오름차순으로 한 줄로 놓여있다. <br>\n",
    "각 카드의 위치는 카드 위에 적힌 숫자와 같이 1부터 20까지로 나타낸다. <br><br>\n",
    "이제 여러분은 다음과 같은 규칙으로 카드의 위치를 바꾼다  <br>\n",
    "구간 [a, b] (단, 1 ≤ a ≤ b ≤20)가 주어지면 위치 a부터 위치 b까지의 카드를 현재의 역순으로 놓는다. <br><br>\n",
    "예를 들어, 현재 카드가 놓인 순서가 위의 그림과 같고 구간이 [5, 10]으로 주어진다면,  <br>\n",
    "위치 5부터 위치 10까지의 카드 5, 6, 7, 8, 9, 10을 역순으로 하여 10, 9, 8, 7, 6, 5로 놓는다. <br>\n",
    "이 상태에서 구간 [9, 13]이 다시 주어진다면,  <br>\n",
    "위치 9부터 위치 13까지의 카드 6, 5, 11, 12, 13을 역순으로 하여 13, 12, 11, 5, 6으로 놓는다.  <br><br>\n",
    "오름차순으로 한 줄로 놓여있는 20장의 카드에 대해 10개의 구간이 주어지면,  <br>\n",
    "주어진 구간의 순서대로 위의 규칙에 따라 순서를 뒤집는 작업을 연속해서 처리한 뒤 마지막 카드들의 배치를 구하는 프로그램을 작성하시오."
   ]
  },
  {
   "cell_type": "markdown",
   "metadata": {},
   "source": [
    "▣ 입력설명 <br>\n",
    "총 10개의 줄에 걸쳐 한 줄에 하나씩 10개의 구간이 주어진다.  <br>\n",
    "i번째 줄에는 i번째 구간의 시작 위치 ai와 끝 위치 bi가 차례대로 주어진다.  <br>\n",
    "이때 두 값의 범위는 1 ≤ ai ≤ bi ≤ 20이다."
   ]
  },
  {
   "cell_type": "markdown",
   "metadata": {},
   "source": [
    "▣ 출력설명 <br>\n",
    "1부터 20까지 오름차순으로 놓인 카드들에 대해, 입력으로 주어진 10개의 구간 순서대로 뒤집는 작업을 했을 때 마지막 카드들의 배치를 한 줄에 출력한다."
   ]
  },
  {
   "cell_type": "markdown",
   "metadata": {},
   "source": [
    "▣ 입력예제 1 <br>\n",
    "5 10 <br>\n",
    "9 13 <br>\n",
    "1 2 <br>\n",
    "3 4 <br>\n",
    "5 6 <br>\n",
    "1 2 <br>\n",
    "3 4 <br>\n",
    "5 6 <br>\n",
    "1 20 <br> \n",
    "1 20 <br>\n"
   ]
  },
  {
   "cell_type": "markdown",
   "metadata": {},
   "source": [
    "▣ 출력예제 1 <br>\n",
    "1 2 3 4 10 9 8 7 13 12 11 5 6 14 15 16 17 18 19 20"
   ]
  },
  {
   "cell_type": "code",
   "execution_count": 1,
   "metadata": {},
   "outputs": [
    {
     "name": "stdout",
     "output_type": "stream",
     "text": [
      "5 10\n",
      "9 13\n",
      "1 3\n",
      "3 4 \n",
      "5 6\n",
      "1 2\n",
      "3 4\n",
      "5 6\n",
      "1 20\n",
      "1 20\n",
      "2314109871312115614151617181920"
     ]
    }
   ],
   "source": [
    "# 이 문제는 입력이 따로 주어지지 않고, 구간만 주어짐\n",
    "\n",
    "# 1~20까지는 직접 초기화 시켜야 함\n",
    "a=list(range(21))\n",
    "\n",
    "# for문을 통해 구간을 돌면서 역순으로 변경해 줌\n",
    "for _ in range(10):  # _를 하면 변수가 없는 것 -> 변수에 대입하는 것은 시간이 걸리므로 그냥 반복만 할 수 있도록 해 줌\n",
    "\n",
    "    # 구간을 읽어옴\n",
    "    s, e=map(int, input().split())\n",
    "    \n",
    "    for i in range((e-s+1)//2):      # 2~7구간을 바꾼다면 2와7, 3과6, 4와5로 3바퀴를 돌아야 함\n",
    "                                     # 7-2 // 2: 2가되어 2바퀴 됨\n",
    "                                     # 7-2+1 // 2 : 3이 되어 3바퀴\n",
    "        \n",
    "        # swap\n",
    "        a[s+i],a[e-i] =  a[e-i],a[s+i]   # a[s+i]: 시작지점 +i, a[e-i]: 끝지점 -i (하나씩 작아져야 함)\n",
    "\n",
    "# 1~20까지 수이므로 출력할 때 0은 출력하면 안됨\n",
    "a.pop(0)  # 0이 속한 0번 인덱스의 값을 추출해버림\n",
    "\n",
    "for x in a:\n",
    "    print(x, end='')"
   ]
  },
  {
   "cell_type": "code",
   "execution_count": null,
   "metadata": {},
   "outputs": [],
   "source": []
  }
 ],
 "metadata": {
  "kernelspec": {
   "display_name": "Python 3",
   "language": "python",
   "name": "python3"
  },
  "language_info": {
   "codemirror_mode": {
    "name": "ipython",
    "version": 3
   },
   "file_extension": ".py",
   "mimetype": "text/x-python",
   "name": "python",
   "nbconvert_exporter": "python",
   "pygments_lexer": "ipython3",
   "version": "3.7.4"
  }
 },
 "nbformat": 4,
 "nbformat_minor": 2
}
