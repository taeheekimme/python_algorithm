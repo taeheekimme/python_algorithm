{
 "cells": [
  {
   "cell_type": "markdown",
   "metadata": {},
   "source": [
    "지도 정보가 N*N 격자판에 주어집니다. 각 격자에는 그 지역의 높이가 쓰여있습니다. <br>\n",
    "각 격자판의 숫자 중 자신의 상하좌우 숫자보다 큰 숫자는 봉우리 지역입니다. <br>\n",
    "봉우리 지역이 몇 개 있는 지 알아내는 프로그램을 작성하세요.<br>\n",
    "격자의 가장자리는 0으로 초기화 되었다고 가정한다.<br>\n",
    "만약 N=5 이고, 격자판의 숫자가 다음과 같다면 봉우리의 개수는 10개입니다."
   ]
  },
  {
   "cell_type": "markdown",
   "metadata": {},
   "source": [
    "▣ 입력설명<br>\n",
    "첫 줄에 자연수 N이 주어진다.(1<=N<=50)<br>\n",
    "두 번째 줄부터 N줄에 걸쳐 각 줄에 N개의 자연수가 주어진다. 각 자연수는 100을 넘지 않는다."
   ]
  },
  {
   "cell_type": "markdown",
   "metadata": {},
   "source": [
    "▣ 출력설명<br>\n",
    "봉우리의 개수를 출력하세요."
   ]
  },
  {
   "cell_type": "markdown",
   "metadata": {},
   "source": [
    "▣ 입력예제 1<br>\n",
    "5<br>\n",
    "5 3 7 2 3<br>\n",
    "3 7 1 6 1<br>\n",
    "7 2 5 3 4<br>\n",
    "4 3 6 4 1<br>\n",
    "8 7 3 5 2<br>\n",
    "- 5행 5열\n",
    "- 데이터를 2차원 리스트로 읽음\n",
    "- 가장자리는 0으로 초기화"
   ]
  },
  {
   "cell_type": "markdown",
   "metadata": {},
   "source": [
    "▣ 출력예제 1<br>\n",
    "10"
   ]
  },
  {
   "cell_type": "code",
   "execution_count": 1,
   "metadata": {},
   "outputs": [
    {
     "name": "stdout",
     "output_type": "stream",
     "text": [
      "5\n",
      "5 3 7 2 3\n",
      "3 7 1 6 1\n",
      "7 2 5 3 4\n",
      "4 3 6 4 1\n",
      "8 7 3 5 2\n",
      "10\n"
     ]
    }
   ],
   "source": [
    "### [i,j]의 상하좌우 탐색하기 위한 리스트 생성\n",
    "dx=[-1, 0, 1, 0]   # i\n",
    "dy=[0, 1, 0, -1]   # j\n",
    "                   # i에 -1을 더하고 j에 0을 더하면 위로 한칸 이동한 자리\n",
    "                   # j에 1을 더하면 오른쪽으로 한칸 이동한 자리\n",
    "\n",
    "\n",
    "# 5\n",
    "n=int(input())\n",
    "\n",
    "# 5행 5열을 2차원 a리스트로 받음\n",
    "a=[list(map(int, input().split())) for _ in range(n)]\n",
    "\n",
    "\n",
    "### 가장자리 0으로 초기화\n",
    "a.insert(0, [0]*n)  # [0]*n:0으로 초기화된 n개의 값을 0행에 삽입\n",
    "a.append([0]*n)     # [0]*n:0으로 초기화된 n개의 값을 마지막행에 삽입\n",
    "\n",
    "\n",
    "# 왼쪽, 오른쪽에도 0 삽입\n",
    "# for문 돌면서 각 행의 맨 앞과 뒤에 0을 추가하면 됨\n",
    "for x in a:         # x는 a리스트의 0행, 1행 ~ 즉, 1개의 행임\n",
    "    x.insert(0, 0)  # 0번 인덱스에 0입력\n",
    "    x.append(0)     # 마지막 인덱스에 0입력 \n",
    "\n",
    "    \n",
    "    \n",
    "# 개수\n",
    "cnt=0\n",
    "\n",
    "### 이중 for문을 통해 격자칸마다 데이터 비교해 삽입\n",
    "\n",
    "for i in range(1, n+1):      # 0번은 가장자리이므로 1번부터 반복해야 함\n",
    "    for j in range(1, n+1):  # 1부터 시작\n",
    "        \n",
    "        # a[i][j]의 상하좌우 a[i+dx[k]][j+dy[k]] \n",
    "        if all(a[i][j]>a[i+dx[k]][j+dy[k]] for k in range(4)):    # dx와 dy에서 k는 0~4\n",
    "                                                                  # all을 했으므로 4번 반복해서 모두 참일 때 봉우리인 것\n",
    "            cnt+=1  # 1 증가\n",
    "            \n",
    "print(cnt)"
   ]
  },
  {
   "cell_type": "code",
   "execution_count": null,
   "metadata": {},
   "outputs": [],
   "source": []
  }
 ],
 "metadata": {
  "kernelspec": {
   "display_name": "Python 3",
   "language": "python",
   "name": "python3"
  },
  "language_info": {
   "codemirror_mode": {
    "name": "ipython",
    "version": 3
   },
   "file_extension": ".py",
   "mimetype": "text/x-python",
   "name": "python",
   "nbconvert_exporter": "python",
   "pygments_lexer": "ipython3",
   "version": "3.7.4"
  }
 },
 "nbformat": 4,
 "nbformat_minor": 2
}
