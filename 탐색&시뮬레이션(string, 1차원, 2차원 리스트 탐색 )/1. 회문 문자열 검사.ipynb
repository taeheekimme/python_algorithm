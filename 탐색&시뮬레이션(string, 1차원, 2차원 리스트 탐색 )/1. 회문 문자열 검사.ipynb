{
 "cells": [
  {
   "cell_type": "markdown",
   "metadata": {},
   "source": [
    "N개의 문자열 데이터를 입력받아 앞에서 읽을 때나 뒤에서 읽을 때나 같은 경우(회문 문자열)이면 YES를 출력하고 <br>\n",
    "회문 문자열이 아니면 NO를 출력하는 프로그램을 작성한다. <br>\n",
    "단 회문을 검사할 때 대소문자를 구분하지 않습니다. <br>\n",
    "- 회문 문자열\n",
    "  - 앞이나 뒤에서 읽어서 같을 때 YES출력, 다를 때 NO출력\n",
    "  - 대소문자 구분하지 않음"
   ]
  },
  {
   "cell_type": "markdown",
   "metadata": {},
   "source": [
    "▣ 입력설명 <br>\n",
    "첫 줄에 정수 N(1<=N<=20)이 주어지고, 그 다음 줄부터 N개의 단어가 입력된다. <br>\n",
    "각 단어의 길이는 100을 넘지 않는다.\n"
   ]
  },
  {
   "cell_type": "markdown",
   "metadata": {},
   "source": [
    "▣ 출력설명 <br>\n",
    "각 줄에 해당 문자열의 결과를 YES 또는 NO로 출력한다.\n"
   ]
  },
  {
   "cell_type": "markdown",
   "metadata": {},
   "source": [
    "▣ 입력예제 1 <br>\n",
    "5 <br>\n",
    "level <br>\n",
    "moon <br>\n",
    "abcba <br>\n",
    "soon <br>\n",
    "gooG <br>\n",
    "- 5개의 문자열이 입력됨\n",
    "- level같은 경우 앞이나 뒤에서 읽어도 같으므로 YES 출력\n",
    "- gooG는 대소문자를 구분하지 않으므로 YES 출력"
   ]
  },
  {
   "cell_type": "markdown",
   "metadata": {},
   "source": [
    "▣ 출력예제 1 <br>\n",
    "#1 YES <br>\n",
    "#2 NO <br>\n",
    "#3 YES <br>\n",
    "#4 NO <br>\n",
    "#5 YES <br>"
   ]
  },
  {
   "cell_type": "markdown",
   "metadata": {},
   "source": [
    "### 방법 1"
   ]
  },
  {
   "cell_type": "code",
   "execution_count": null,
   "metadata": {},
   "outputs": [
    {
     "name": "stdout",
     "output_type": "stream",
     "text": [
      "5 \n",
      "level\n",
      "#1 YES\n"
     ]
    }
   ],
   "source": [
    "# 정수(글자 수)\n",
    "n=int(input())\n",
    "\n",
    "# s라는 문자열 level은 인덱스 0~ 4번\n",
    "# 짝을 이뤄서 0 = 4, 2 = 3의 글자가 같은지 확인하면 됨\n",
    "# 5글자면 2번 비교하면 됨 -> 5//2 = 2번\n",
    "\n",
    "for i in range(n):\n",
    "    \n",
    "    s=input()       # s라는 문자열 입력받음 \n",
    "    s=s.upper()     # 문자열의 대소문자 구분하지 않도록 -> 소문자를 모두 대문자\n",
    "    size=len(s)     # 문자열의 길이\n",
    "    \n",
    "    for j in range(size//2):   # j는 인덱스 번호\n",
    "        \n",
    "        if s[j]!=s[-1-j]:      # 0번 = 4번(-1번)이 아니라면 회문이 아니므로 그냥 출력\n",
    "            print(\"#%d NO\" %i)\n",
    "            break\n",
    "            \n",
    "    else:   # 회문인 경우\n",
    "        print(\"#%d YES\" %(i+1))\n",
    "        "
   ]
  },
  {
   "cell_type": "markdown",
   "metadata": {},
   "source": [
    "### 방법 2\n",
    "- 간단하지만 손코딩이나 면접에서는 방법 1로 코드를 짜는 것을 추천"
   ]
  },
  {
   "cell_type": "code",
   "execution_count": null,
   "metadata": {},
   "outputs": [
    {
     "name": "stdout",
     "output_type": "stream",
     "text": [
      "5\n",
      "level\n",
      "#1 YES\n"
     ]
    }
   ],
   "source": [
    "# 정수(글자 수)\n",
    "n=int(input())\n",
    "\n",
    "# s라는 문자열 level은 인덱스 0~ 4번\n",
    "# 짝을 이뤄서 0 = 4, 2 = 3의 글자가 같은지 확인하면 됨\n",
    "# 5글자면 2번 비교하면 됨 -> 5//2 = 2번\n",
    "\n",
    "for i in range(n):\n",
    "    \n",
    "    s=input()       # s라는 문자열 입력받음 \n",
    "    s=s.upper()     # 문자열의 대소문자 구분하지 않도록 -> 소문자를 모두 대문자로 변경\n",
    "    \n",
    "    if s==s[::-1]:  # 맨 뒷자리부터 1단계씩 작아지며 문자열을 거꾸로 바꿈\n",
    "                    # 원본 문자와 역으로 바뀐 문자가 같은지 확인\n",
    "        \n",
    "         print(\"#%d YES\" %(i+1))\n",
    "        \n",
    "    else:\n",
    "         print(\"#%d NO\" %(i+1))  # 같지않은 경우\n"
   ]
  },
  {
   "cell_type": "code",
   "execution_count": null,
   "metadata": {},
   "outputs": [],
   "source": []
  }
 ],
 "metadata": {
  "kernelspec": {
   "display_name": "Python 3",
   "language": "python",
   "name": "python3"
  },
  "language_info": {
   "codemirror_mode": {
    "name": "ipython",
    "version": 3
   },
   "file_extension": ".py",
   "mimetype": "text/x-python",
   "name": "python",
   "nbconvert_exporter": "python",
   "pygments_lexer": "ipython3",
   "version": "3.7.4"
  }
 },
 "nbformat": 4,
 "nbformat_minor": 2
}
