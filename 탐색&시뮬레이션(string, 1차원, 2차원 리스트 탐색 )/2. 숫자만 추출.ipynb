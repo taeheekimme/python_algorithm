{
 "cells": [
  {
   "cell_type": "markdown",
   "metadata": {},
   "source": [
    "문자와 숫자가 섞여있는 문자열이 주어지면 그 중 숫자만 추출하여 그 순서대로 자연수를 만듭니다. <br>\n",
    "만들어진 자연수와 그 자연수의 약수 개수를 출력합니다.<br>\n",
    "만약 “t0e0a1c2h0er”에서 숫자만 추출하면 0, 0, 1, 2, 0이고 이것을 자연수를 만들면 120이 됩니다. <br>\n",
    "즉 첫 자리 0은 자연수화 할 때 무시합니다. <br>\n",
    "출력은 120를 출력하고, 다음 줄에 120의 약수의 개수를 출력하면 됩니다.<br>\n",
    "추출하여 만들어지는 자연수는 100,000,000을 넘지 않습니다.<br>\n",
    "- string형태로 숫자와 문자가 섞인 글자가 입력됨\n",
    "- 0~9까지의 숫자를 순서를 유지한 채 숫자형으로 변환하여 출력\n",
    "- 첫번째 자리에 나오는 0은 무시\n",
    "- 출력된 숫자의 약수 개수도 출력"
   ]
  },
  {
   "cell_type": "markdown",
   "metadata": {},
   "source": [
    "▣ 입력설명<br>\n",
    "첫 줄에 숫자가 썩인 문자열이 주어집니다. 문자열의 길이는 50을 넘지 않습니다."
   ]
  },
  {
   "cell_type": "markdown",
   "metadata": {},
   "source": [
    "▣ 출력설명<br>\n",
    "첫 줄에 자연수를 출력하고, 두 번째 줄에 약수의 개수를 출력합니다."
   ]
  },
  {
   "cell_type": "markdown",
   "metadata": {},
   "source": [
    "▣ 입력예제 1<br>\n",
    "g0en2Ts8eSoft\n",
    "- 028로 출력되고 0은 생략되어 28로 최종 출력\n",
    "- 28의 약수 개수 출력"
   ]
  },
  {
   "cell_type": "markdown",
   "metadata": {},
   "source": [
    "▣ 출력예제 1<br>\n",
    "28<br>\n",
    "6"
   ]
  },
  {
   "cell_type": "code",
   "execution_count": 1,
   "metadata": {},
   "outputs": [
    {
     "name": "stdout",
     "output_type": "stream",
     "text": [
      "g0en2Ts8eSoft\n",
      "28\n",
      "6\n"
     ]
    }
   ],
   "source": [
    "# 문자 입력\n",
    "s=input()\n",
    "\n",
    "res = 0\n",
    "\n",
    "# x가 숫자인지 확인\n",
    "for x in s:   # s의 문자가 하나씩 x로 입력됨\n",
    "    if x.isdecimal():      \n",
    "        res=res*10+int(x)  # 0은 무시됨, x는 문자형이므로 숫자형으로 변환\n",
    "print(res)\n",
    "    \n",
    "    \n",
    "# 약수 개수\n",
    "cnt = 0\n",
    "\n",
    "for i in range(1, res+1):   # 약수는 1부터 시작\n",
    "    if res%i==0:\n",
    "        cnt+=1\n",
    "print(cnt)"
   ]
  },
  {
   "cell_type": "code",
   "execution_count": null,
   "metadata": {},
   "outputs": [],
   "source": []
  }
 ],
 "metadata": {
  "kernelspec": {
   "display_name": "Python 3",
   "language": "python",
   "name": "python3"
  },
  "language_info": {
   "codemirror_mode": {
    "name": "ipython",
    "version": 3
   },
   "file_extension": ".py",
   "mimetype": "text/x-python",
   "name": "python",
   "nbconvert_exporter": "python",
   "pygments_lexer": "ipython3",
   "version": "3.7.4"
  }
 },
 "nbformat": 4,
 "nbformat_minor": 2
}
